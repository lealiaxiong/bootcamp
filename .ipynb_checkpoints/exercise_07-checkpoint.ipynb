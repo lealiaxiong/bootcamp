{
 "cells": [
  {
   "cell_type": "code",
   "execution_count": 69,
   "metadata": {},
   "outputs": [
    {
     "data": {
      "text/html": [
       "\n",
       "    <div class=\"bk-root\">\n",
       "        <a href=\"https://bokeh.org\" target=\"_blank\" class=\"bk-logo bk-logo-small bk-logo-notebook\"></a>\n",
       "        <span id=\"11259\">Loading BokehJS ...</span>\n",
       "    </div>"
      ]
     },
     "metadata": {},
     "output_type": "display_data"
    },
    {
     "data": {
      "application/javascript": [
       "\n",
       "(function(root) {\n",
       "  function now() {\n",
       "    return new Date();\n",
       "  }\n",
       "\n",
       "  var force = true;\n",
       "\n",
       "  if (typeof root._bokeh_onload_callbacks === \"undefined\" || force === true) {\n",
       "    root._bokeh_onload_callbacks = [];\n",
       "    root._bokeh_is_loading = undefined;\n",
       "  }\n",
       "\n",
       "  var JS_MIME_TYPE = 'application/javascript';\n",
       "  var HTML_MIME_TYPE = 'text/html';\n",
       "  var EXEC_MIME_TYPE = 'application/vnd.bokehjs_exec.v0+json';\n",
       "  var CLASS_NAME = 'output_bokeh rendered_html';\n",
       "\n",
       "  /**\n",
       "   * Render data to the DOM node\n",
       "   */\n",
       "  function render(props, node) {\n",
       "    var script = document.createElement(\"script\");\n",
       "    node.appendChild(script);\n",
       "  }\n",
       "\n",
       "  /**\n",
       "   * Handle when an output is cleared or removed\n",
       "   */\n",
       "  function handleClearOutput(event, handle) {\n",
       "    var cell = handle.cell;\n",
       "\n",
       "    var id = cell.output_area._bokeh_element_id;\n",
       "    var server_id = cell.output_area._bokeh_server_id;\n",
       "    // Clean up Bokeh references\n",
       "    if (id != null && id in Bokeh.index) {\n",
       "      Bokeh.index[id].model.document.clear();\n",
       "      delete Bokeh.index[id];\n",
       "    }\n",
       "\n",
       "    if (server_id !== undefined) {\n",
       "      // Clean up Bokeh references\n",
       "      var cmd = \"from bokeh.io.state import curstate; print(curstate().uuid_to_server['\" + server_id + \"'].get_sessions()[0].document.roots[0]._id)\";\n",
       "      cell.notebook.kernel.execute(cmd, {\n",
       "        iopub: {\n",
       "          output: function(msg) {\n",
       "            var id = msg.content.text.trim();\n",
       "            if (id in Bokeh.index) {\n",
       "              Bokeh.index[id].model.document.clear();\n",
       "              delete Bokeh.index[id];\n",
       "            }\n",
       "          }\n",
       "        }\n",
       "      });\n",
       "      // Destroy server and session\n",
       "      var cmd = \"import bokeh.io.notebook as ion; ion.destroy_server('\" + server_id + \"')\";\n",
       "      cell.notebook.kernel.execute(cmd);\n",
       "    }\n",
       "  }\n",
       "\n",
       "  /**\n",
       "   * Handle when a new output is added\n",
       "   */\n",
       "  function handleAddOutput(event, handle) {\n",
       "    var output_area = handle.output_area;\n",
       "    var output = handle.output;\n",
       "\n",
       "    // limit handleAddOutput to display_data with EXEC_MIME_TYPE content only\n",
       "    if ((output.output_type != \"display_data\") || (!output.data.hasOwnProperty(EXEC_MIME_TYPE))) {\n",
       "      return\n",
       "    }\n",
       "\n",
       "    var toinsert = output_area.element.find(\".\" + CLASS_NAME.split(' ')[0]);\n",
       "\n",
       "    if (output.metadata[EXEC_MIME_TYPE][\"id\"] !== undefined) {\n",
       "      toinsert[toinsert.length - 1].firstChild.textContent = output.data[JS_MIME_TYPE];\n",
       "      // store reference to embed id on output_area\n",
       "      output_area._bokeh_element_id = output.metadata[EXEC_MIME_TYPE][\"id\"];\n",
       "    }\n",
       "    if (output.metadata[EXEC_MIME_TYPE][\"server_id\"] !== undefined) {\n",
       "      var bk_div = document.createElement(\"div\");\n",
       "      bk_div.innerHTML = output.data[HTML_MIME_TYPE];\n",
       "      var script_attrs = bk_div.children[0].attributes;\n",
       "      for (var i = 0; i < script_attrs.length; i++) {\n",
       "        toinsert[toinsert.length - 1].firstChild.setAttribute(script_attrs[i].name, script_attrs[i].value);\n",
       "        toinsert[toinsert.length - 1].firstChild.textContent = bk_div.children[0].textContent\n",
       "      }\n",
       "      // store reference to server id on output_area\n",
       "      output_area._bokeh_server_id = output.metadata[EXEC_MIME_TYPE][\"server_id\"];\n",
       "    }\n",
       "  }\n",
       "\n",
       "  function register_renderer(events, OutputArea) {\n",
       "\n",
       "    function append_mime(data, metadata, element) {\n",
       "      // create a DOM node to render to\n",
       "      var toinsert = this.create_output_subarea(\n",
       "        metadata,\n",
       "        CLASS_NAME,\n",
       "        EXEC_MIME_TYPE\n",
       "      );\n",
       "      this.keyboard_manager.register_events(toinsert);\n",
       "      // Render to node\n",
       "      var props = {data: data, metadata: metadata[EXEC_MIME_TYPE]};\n",
       "      render(props, toinsert[toinsert.length - 1]);\n",
       "      element.append(toinsert);\n",
       "      return toinsert\n",
       "    }\n",
       "\n",
       "    /* Handle when an output is cleared or removed */\n",
       "    events.on('clear_output.CodeCell', handleClearOutput);\n",
       "    events.on('delete.Cell', handleClearOutput);\n",
       "\n",
       "    /* Handle when a new output is added */\n",
       "    events.on('output_added.OutputArea', handleAddOutput);\n",
       "\n",
       "    /**\n",
       "     * Register the mime type and append_mime function with output_area\n",
       "     */\n",
       "    OutputArea.prototype.register_mime_type(EXEC_MIME_TYPE, append_mime, {\n",
       "      /* Is output safe? */\n",
       "      safe: true,\n",
       "      /* Index of renderer in `output_area.display_order` */\n",
       "      index: 0\n",
       "    });\n",
       "  }\n",
       "\n",
       "  // register the mime type if in Jupyter Notebook environment and previously unregistered\n",
       "  if (root.Jupyter !== undefined) {\n",
       "    var events = require('base/js/events');\n",
       "    var OutputArea = require('notebook/js/outputarea').OutputArea;\n",
       "\n",
       "    if (OutputArea.prototype.mime_types().indexOf(EXEC_MIME_TYPE) == -1) {\n",
       "      register_renderer(events, OutputArea);\n",
       "    }\n",
       "  }\n",
       "\n",
       "  \n",
       "  if (typeof (root._bokeh_timeout) === \"undefined\" || force === true) {\n",
       "    root._bokeh_timeout = Date.now() + 5000;\n",
       "    root._bokeh_failed_load = false;\n",
       "  }\n",
       "\n",
       "  var NB_LOAD_WARNING = {'data': {'text/html':\n",
       "     \"<div style='background-color: #fdd'>\\n\"+\n",
       "     \"<p>\\n\"+\n",
       "     \"BokehJS does not appear to have successfully loaded. If loading BokehJS from CDN, this \\n\"+\n",
       "     \"may be due to a slow or bad network connection. Possible fixes:\\n\"+\n",
       "     \"</p>\\n\"+\n",
       "     \"<ul>\\n\"+\n",
       "     \"<li>re-rerun `output_notebook()` to attempt to load from CDN again, or</li>\\n\"+\n",
       "     \"<li>use INLINE resources instead, as so:</li>\\n\"+\n",
       "     \"</ul>\\n\"+\n",
       "     \"<code>\\n\"+\n",
       "     \"from bokeh.resources import INLINE\\n\"+\n",
       "     \"output_notebook(resources=INLINE)\\n\"+\n",
       "     \"</code>\\n\"+\n",
       "     \"</div>\"}};\n",
       "\n",
       "  function display_loaded() {\n",
       "    var el = document.getElementById(\"11259\");\n",
       "    if (el != null) {\n",
       "      el.textContent = \"BokehJS is loading...\";\n",
       "    }\n",
       "    if (root.Bokeh !== undefined) {\n",
       "      if (el != null) {\n",
       "        el.textContent = \"BokehJS \" + root.Bokeh.version + \" successfully loaded.\";\n",
       "      }\n",
       "    } else if (Date.now() < root._bokeh_timeout) {\n",
       "      setTimeout(display_loaded, 100)\n",
       "    }\n",
       "  }\n",
       "\n",
       "\n",
       "  function run_callbacks() {\n",
       "    try {\n",
       "      root._bokeh_onload_callbacks.forEach(function(callback) {\n",
       "        if (callback != null)\n",
       "          callback();\n",
       "      });\n",
       "    } finally {\n",
       "      delete root._bokeh_onload_callbacks\n",
       "    }\n",
       "    console.debug(\"Bokeh: all callbacks have finished\");\n",
       "  }\n",
       "\n",
       "  function load_libs(css_urls, js_urls, callback) {\n",
       "    if (css_urls == null) css_urls = [];\n",
       "    if (js_urls == null) js_urls = [];\n",
       "\n",
       "    root._bokeh_onload_callbacks.push(callback);\n",
       "    if (root._bokeh_is_loading > 0) {\n",
       "      console.debug(\"Bokeh: BokehJS is being loaded, scheduling callback at\", now());\n",
       "      return null;\n",
       "    }\n",
       "    if (js_urls == null || js_urls.length === 0) {\n",
       "      run_callbacks();\n",
       "      return null;\n",
       "    }\n",
       "    console.debug(\"Bokeh: BokehJS not loaded, scheduling load and callback at\", now());\n",
       "    root._bokeh_is_loading = css_urls.length + js_urls.length;\n",
       "\n",
       "    function on_load() {\n",
       "      root._bokeh_is_loading--;\n",
       "      if (root._bokeh_is_loading === 0) {\n",
       "        console.debug(\"Bokeh: all BokehJS libraries/stylesheets loaded\");\n",
       "        run_callbacks()\n",
       "      }\n",
       "    }\n",
       "\n",
       "    function on_error() {\n",
       "      console.error(\"failed to load \" + url);\n",
       "    }\n",
       "\n",
       "    for (var i = 0; i < css_urls.length; i++) {\n",
       "      var url = css_urls[i];\n",
       "      const element = document.createElement(\"link\");\n",
       "      element.onload = on_load;\n",
       "      element.onerror = on_error;\n",
       "      element.rel = \"stylesheet\";\n",
       "      element.type = \"text/css\";\n",
       "      element.href = url;\n",
       "      console.debug(\"Bokeh: injecting link tag for BokehJS stylesheet: \", url);\n",
       "      document.body.appendChild(element);\n",
       "    }\n",
       "\n",
       "    const hashes = {\"https://cdn.bokeh.org/bokeh/release/bokeh-2.0.2.min.js\": \"ufR9RFnRs6lniiaFvtJziE0YeidtAgBRH6ux2oUItHw5WTvE1zuk9uzhUU/FJXDp\", \"https://cdn.bokeh.org/bokeh/release/bokeh-widgets-2.0.2.min.js\": \"8QM/PGWBT+IssZuRcDcjzwIh1mkOmJSoNMmyYDZbCfXJg3Ap1lEvdVgFuSAwhb/J\", \"https://cdn.bokeh.org/bokeh/release/bokeh-tables-2.0.2.min.js\": \"Jm8cH3Rg0P6UeZhVY5cLy1WzKajUT9KImCY+76hEqrcJt59/d8GPvFHjCkYgnSIn\", \"https://cdn.bokeh.org/bokeh/release/bokeh-gl-2.0.2.min.js\": \"Ozhzj+SI7ywm74aOI/UajcWz+C0NjsPunEVyVIrxzYkB+jA+2tUw8x5xJCbVtK5I\"};\n",
       "\n",
       "    for (var i = 0; i < js_urls.length; i++) {\n",
       "      var url = js_urls[i];\n",
       "      var element = document.createElement('script');\n",
       "      element.onload = on_load;\n",
       "      element.onerror = on_error;\n",
       "      element.async = false;\n",
       "      element.src = url;\n",
       "      if (url in hashes) {\n",
       "        element.crossOrigin = \"anonymous\";\n",
       "        element.integrity = \"sha384-\" + hashes[url];\n",
       "      }\n",
       "      console.debug(\"Bokeh: injecting script tag for BokehJS library: \", url);\n",
       "      document.head.appendChild(element);\n",
       "    }\n",
       "  };\n",
       "\n",
       "  function inject_raw_css(css) {\n",
       "    const element = document.createElement(\"style\");\n",
       "    element.appendChild(document.createTextNode(css));\n",
       "    document.body.appendChild(element);\n",
       "  }\n",
       "\n",
       "  \n",
       "  var js_urls = [\"https://cdn.bokeh.org/bokeh/release/bokeh-2.0.2.min.js\", \"https://cdn.bokeh.org/bokeh/release/bokeh-widgets-2.0.2.min.js\", \"https://cdn.bokeh.org/bokeh/release/bokeh-tables-2.0.2.min.js\", \"https://cdn.bokeh.org/bokeh/release/bokeh-gl-2.0.2.min.js\"];\n",
       "  var css_urls = [];\n",
       "  \n",
       "\n",
       "  var inline_js = [\n",
       "    function(Bokeh) {\n",
       "      Bokeh.set_log_level(\"info\");\n",
       "    },\n",
       "    function(Bokeh) {\n",
       "    \n",
       "    \n",
       "    }\n",
       "  ];\n",
       "\n",
       "  function run_inline_js() {\n",
       "    \n",
       "    if (root.Bokeh !== undefined || force === true) {\n",
       "      \n",
       "    for (var i = 0; i < inline_js.length; i++) {\n",
       "      inline_js[i].call(root, root.Bokeh);\n",
       "    }\n",
       "    if (force === true) {\n",
       "        display_loaded();\n",
       "      }} else if (Date.now() < root._bokeh_timeout) {\n",
       "      setTimeout(run_inline_js, 100);\n",
       "    } else if (!root._bokeh_failed_load) {\n",
       "      console.log(\"Bokeh: BokehJS failed to load within specified timeout.\");\n",
       "      root._bokeh_failed_load = true;\n",
       "    } else if (force !== true) {\n",
       "      var cell = $(document.getElementById(\"11259\")).parents('.cell').data().cell;\n",
       "      cell.output_area.append_execute_result(NB_LOAD_WARNING)\n",
       "    }\n",
       "\n",
       "  }\n",
       "\n",
       "  if (root._bokeh_is_loading === 0) {\n",
       "    console.debug(\"Bokeh: BokehJS loaded, going straight to plotting\");\n",
       "    run_inline_js();\n",
       "  } else {\n",
       "    load_libs(css_urls, js_urls, function() {\n",
       "      console.debug(\"Bokeh: BokehJS plotting callback run at\", now());\n",
       "      run_inline_js();\n",
       "    });\n",
       "  }\n",
       "}(window));"
      ],
      "application/vnd.bokehjs_load.v0+json": "\n(function(root) {\n  function now() {\n    return new Date();\n  }\n\n  var force = true;\n\n  if (typeof root._bokeh_onload_callbacks === \"undefined\" || force === true) {\n    root._bokeh_onload_callbacks = [];\n    root._bokeh_is_loading = undefined;\n  }\n\n  \n\n  \n  if (typeof (root._bokeh_timeout) === \"undefined\" || force === true) {\n    root._bokeh_timeout = Date.now() + 5000;\n    root._bokeh_failed_load = false;\n  }\n\n  var NB_LOAD_WARNING = {'data': {'text/html':\n     \"<div style='background-color: #fdd'>\\n\"+\n     \"<p>\\n\"+\n     \"BokehJS does not appear to have successfully loaded. If loading BokehJS from CDN, this \\n\"+\n     \"may be due to a slow or bad network connection. Possible fixes:\\n\"+\n     \"</p>\\n\"+\n     \"<ul>\\n\"+\n     \"<li>re-rerun `output_notebook()` to attempt to load from CDN again, or</li>\\n\"+\n     \"<li>use INLINE resources instead, as so:</li>\\n\"+\n     \"</ul>\\n\"+\n     \"<code>\\n\"+\n     \"from bokeh.resources import INLINE\\n\"+\n     \"output_notebook(resources=INLINE)\\n\"+\n     \"</code>\\n\"+\n     \"</div>\"}};\n\n  function display_loaded() {\n    var el = document.getElementById(\"11259\");\n    if (el != null) {\n      el.textContent = \"BokehJS is loading...\";\n    }\n    if (root.Bokeh !== undefined) {\n      if (el != null) {\n        el.textContent = \"BokehJS \" + root.Bokeh.version + \" successfully loaded.\";\n      }\n    } else if (Date.now() < root._bokeh_timeout) {\n      setTimeout(display_loaded, 100)\n    }\n  }\n\n\n  function run_callbacks() {\n    try {\n      root._bokeh_onload_callbacks.forEach(function(callback) {\n        if (callback != null)\n          callback();\n      });\n    } finally {\n      delete root._bokeh_onload_callbacks\n    }\n    console.debug(\"Bokeh: all callbacks have finished\");\n  }\n\n  function load_libs(css_urls, js_urls, callback) {\n    if (css_urls == null) css_urls = [];\n    if (js_urls == null) js_urls = [];\n\n    root._bokeh_onload_callbacks.push(callback);\n    if (root._bokeh_is_loading > 0) {\n      console.debug(\"Bokeh: BokehJS is being loaded, scheduling callback at\", now());\n      return null;\n    }\n    if (js_urls == null || js_urls.length === 0) {\n      run_callbacks();\n      return null;\n    }\n    console.debug(\"Bokeh: BokehJS not loaded, scheduling load and callback at\", now());\n    root._bokeh_is_loading = css_urls.length + js_urls.length;\n\n    function on_load() {\n      root._bokeh_is_loading--;\n      if (root._bokeh_is_loading === 0) {\n        console.debug(\"Bokeh: all BokehJS libraries/stylesheets loaded\");\n        run_callbacks()\n      }\n    }\n\n    function on_error() {\n      console.error(\"failed to load \" + url);\n    }\n\n    for (var i = 0; i < css_urls.length; i++) {\n      var url = css_urls[i];\n      const element = document.createElement(\"link\");\n      element.onload = on_load;\n      element.onerror = on_error;\n      element.rel = \"stylesheet\";\n      element.type = \"text/css\";\n      element.href = url;\n      console.debug(\"Bokeh: injecting link tag for BokehJS stylesheet: \", url);\n      document.body.appendChild(element);\n    }\n\n    const hashes = {\"https://cdn.bokeh.org/bokeh/release/bokeh-2.0.2.min.js\": \"ufR9RFnRs6lniiaFvtJziE0YeidtAgBRH6ux2oUItHw5WTvE1zuk9uzhUU/FJXDp\", \"https://cdn.bokeh.org/bokeh/release/bokeh-widgets-2.0.2.min.js\": \"8QM/PGWBT+IssZuRcDcjzwIh1mkOmJSoNMmyYDZbCfXJg3Ap1lEvdVgFuSAwhb/J\", \"https://cdn.bokeh.org/bokeh/release/bokeh-tables-2.0.2.min.js\": \"Jm8cH3Rg0P6UeZhVY5cLy1WzKajUT9KImCY+76hEqrcJt59/d8GPvFHjCkYgnSIn\", \"https://cdn.bokeh.org/bokeh/release/bokeh-gl-2.0.2.min.js\": \"Ozhzj+SI7ywm74aOI/UajcWz+C0NjsPunEVyVIrxzYkB+jA+2tUw8x5xJCbVtK5I\"};\n\n    for (var i = 0; i < js_urls.length; i++) {\n      var url = js_urls[i];\n      var element = document.createElement('script');\n      element.onload = on_load;\n      element.onerror = on_error;\n      element.async = false;\n      element.src = url;\n      if (url in hashes) {\n        element.crossOrigin = \"anonymous\";\n        element.integrity = \"sha384-\" + hashes[url];\n      }\n      console.debug(\"Bokeh: injecting script tag for BokehJS library: \", url);\n      document.head.appendChild(element);\n    }\n  };\n\n  function inject_raw_css(css) {\n    const element = document.createElement(\"style\");\n    element.appendChild(document.createTextNode(css));\n    document.body.appendChild(element);\n  }\n\n  \n  var js_urls = [\"https://cdn.bokeh.org/bokeh/release/bokeh-2.0.2.min.js\", \"https://cdn.bokeh.org/bokeh/release/bokeh-widgets-2.0.2.min.js\", \"https://cdn.bokeh.org/bokeh/release/bokeh-tables-2.0.2.min.js\", \"https://cdn.bokeh.org/bokeh/release/bokeh-gl-2.0.2.min.js\"];\n  var css_urls = [];\n  \n\n  var inline_js = [\n    function(Bokeh) {\n      Bokeh.set_log_level(\"info\");\n    },\n    function(Bokeh) {\n    \n    \n    }\n  ];\n\n  function run_inline_js() {\n    \n    if (root.Bokeh !== undefined || force === true) {\n      \n    for (var i = 0; i < inline_js.length; i++) {\n      inline_js[i].call(root, root.Bokeh);\n    }\n    if (force === true) {\n        display_loaded();\n      }} else if (Date.now() < root._bokeh_timeout) {\n      setTimeout(run_inline_js, 100);\n    } else if (!root._bokeh_failed_load) {\n      console.log(\"Bokeh: BokehJS failed to load within specified timeout.\");\n      root._bokeh_failed_load = true;\n    } else if (force !== true) {\n      var cell = $(document.getElementById(\"11259\")).parents('.cell').data().cell;\n      cell.output_area.append_execute_result(NB_LOAD_WARNING)\n    }\n\n  }\n\n  if (root._bokeh_is_loading === 0) {\n    console.debug(\"Bokeh: BokehJS loaded, going straight to plotting\");\n    run_inline_js();\n  } else {\n    load_libs(css_urls, js_urls, function() {\n      console.debug(\"Bokeh: BokehJS plotting callback run at\", now());\n      run_inline_js();\n    });\n  }\n}(window));"
     },
     "metadata": {},
     "output_type": "display_data"
    },
    {
     "name": "stdout",
     "output_type": "stream",
     "text": [
      "The blackcellmagic extension is already loaded. To reload it, use:\n",
      "  %reload_ext blackcellmagic\n"
     ]
    }
   ],
   "source": [
    "import os\n",
    "import glob\n",
    "import pandas as pd\n",
    "import numpy as np\n",
    "\n",
    "import bokeh.io\n",
    "import bokeh.plotting\n",
    "\n",
    "bokeh.io.output_notebook()\n",
    "\n",
    "%load_ext blackcellmagic"
   ]
  },
  {
   "cell_type": "markdown",
   "metadata": {},
   "source": [
    "# Exercise 7.1: Computing things!\n",
    "\n",
    "We have looked at a data set from Harvey and Orbidans on the cross-sectional area of C. elegans eggs. Recall, we loaded the data and converted everything to Numpy arrays like this:\n",
    "\n",
    "    df = pd.read_csv('data/c_elegans_egg_xa.csv', comment='#')\n",
    "\n",
    "    xa_high = df.loc[df['food']=='high', 'area (sq. um)'].values\n",
    "    xa_low = df.loc[df['food']=='low', 'area (sq. um)'].values\n",
    "\n",
    "Now we would like to compute the diameter of the egg from the cross-sectional area. Write a function that takes in an array of cross-sectional areas and returns an array of diameters. Recall that the diameter $d$ and cross-sectional area $A$ are related by $A=\\pi d^2/4$. There should be no `for` loops in your function! The call signature is\n",
    "\n",
    "    xa_to_diameter(xa)\n",
    "    \n",
    "Use your function to compute the diameters of the eggs."
   ]
  },
  {
   "cell_type": "code",
   "execution_count": 2,
   "metadata": {},
   "outputs": [],
   "source": [
    "df = pd.read_csv('data/c_elegans_egg_xa.csv', comment='#')\n",
    "\n",
    "xa_high = df.loc[df['food']=='high', 'area (sq. um)'].values\n",
    "xa_low = df.loc[df['food']=='low', 'area (sq. um)'].values"
   ]
  },
  {
   "cell_type": "code",
   "execution_count": 3,
   "metadata": {},
   "outputs": [],
   "source": [
    "def xa_to_diameter(xa):\n",
    "    \"\"\"Takes in an array of cross-sectional areas and returns an array of \n",
    "    diameters.\"\"\"\n",
    "    \n",
    "    return np.sqrt(4 * xa / np.pi)"
   ]
  },
  {
   "cell_type": "code",
   "execution_count": 4,
   "metadata": {},
   "outputs": [
    {
     "data": {
      "text/plain": [
       "array([46.29105911, 51.22642581, 47.76657057, 48.5596503 , 51.59790585,\n",
       "       47.61973991, 49.33998388, 47.89966242, 47.21697198, 46.94654036,\n",
       "       49.08125119, 49.84064959, 47.9926071 , 46.29105911, 47.69988539,\n",
       "       48.40207395, 48.15152345, 49.3141717 , 49.57168871, 47.87307365,\n",
       "       48.30991705, 46.29105911, 46.12573337, 46.24978308, 46.41466697,\n",
       "       47.87307365, 48.15152345, 48.95137203, 45.72372833, 47.18999856,\n",
       "       46.68817945, 45.98750791, 46.53794651, 52.2111661 , 48.70364742,\n",
       "       47.23045291, 47.06842687, 46.81073869, 45.97366251, 49.57168871,\n",
       "       50.8397116 , 48.54653847, 52.08909166, 48.24398292])"
      ]
     },
     "execution_count": 4,
     "metadata": {},
     "output_type": "execute_result"
    }
   ],
   "source": [
    "diameter_high = xa_to_diameter(xa_high)\n",
    "\n",
    "diameter_high"
   ]
  },
  {
   "cell_type": "code",
   "execution_count": 5,
   "metadata": {},
   "outputs": [
    {
     "data": {
      "text/plain": [
       "array([48.40207395, 51.58556628, 52.55146594, 50.31103472, 53.06982074,\n",
       "       54.57203767, 50.32368681, 52.24773281, 53.99739399, 49.44309786,\n",
       "       53.87936676, 47.9926071 , 52.41804019, 47.87307365, 52.11352942,\n",
       "       51.21399674, 52.44232467, 50.47526453, 50.8397116 , 51.56087828,\n",
       "       49.84064959, 55.96578669, 50.72688754, 50.58864976, 52.18677405,\n",
       "       52.44232467, 51.78264653, 52.57568879, 51.86863366, 52.67246879,\n",
       "       49.05530287, 52.67246879, 50.72688754, 50.07003758, 52.32078957,\n",
       "       49.18490759, 53.72554372, 46.67454189, 49.19784929, 51.88090591,\n",
       "       51.85635852, 54.8280819 , 52.07686848, 51.22642581, 51.96673046,\n",
       "       48.29673743, 53.04582353, 52.07686848, 52.35727972, 50.57606396,\n",
       "       51.70882946, 53.54750652, 52.23554675, 53.54750652, 53.18964437,\n",
       "       51.96673046, 55.38261517])"
      ]
     },
     "execution_count": 5,
     "metadata": {},
     "output_type": "execute_result"
    }
   ],
   "source": [
    "diameter_low = xa_to_diameter(xa_low)\n",
    "\n",
    "diameter_low"
   ]
  },
  {
   "cell_type": "markdown",
   "metadata": {},
   "source": [
    "# Exercise 7.2: Working with two-dimensional arrays\n",
    "\n",
    "Numpy enables you do to matrix calculations on two-dimensional arrays. In exercise, you will practice doing matrix calculations on arrays. We’ll start by making a matrix and a vector to practice with. You can copy and paste the code below.\n",
    "\n",
    "    A = np.array(\n",
    "        [\n",
    "            [6.7, 1.3, 0.6, 0.7],\n",
    "            [0.1, 5.5, 0.4, 2.4],\n",
    "            [1.1, 0.8, 4.5, 1.7],\n",
    "            [0.0, 1.5, 3.4, 7.5],\n",
    "        ]\n",
    "    )\n",
    "\n",
    "    b = np.array([1.1, 2.3, 3.3, 3.9])"
   ]
  },
  {
   "cell_type": "code",
   "execution_count": 6,
   "metadata": {},
   "outputs": [],
   "source": [
    "A = np.array(\n",
    "    [\n",
    "        [6.7, 1.3, 0.6, 0.7],\n",
    "        [0.1, 5.5, 0.4, 2.4],\n",
    "        [1.1, 0.8, 4.5, 1.7],\n",
    "        [0.0, 1.5, 3.4, 7.5],\n",
    "    ]\n",
    ")\n",
    "\n",
    "b = np.array([1.1, 2.3, 3.3, 3.9])"
   ]
  },
  {
   "cell_type": "markdown",
   "metadata": {},
   "source": [
    "a) First, let’s practice slicing.\n",
    "\n",
    "1. Print row 1 (remember, indexing starts at zero) of `A`.\n",
    "1. Print columns 1 and 3 of `A`.\n",
    "1. Print the values of every entry in `A` that is greater than 2.\n",
    "1. Print the diagonal of `A`. using the `np.diag()` function.\n"
   ]
  },
  {
   "cell_type": "code",
   "execution_count": 206,
   "metadata": {},
   "outputs": [
    {
     "data": {
      "text/plain": [
       "array([0.1, 5.5, 0.4, 2.4])"
      ]
     },
     "execution_count": 206,
     "metadata": {},
     "output_type": "execute_result"
    }
   ],
   "source": [
    "# 1\n",
    "\n",
    "A[1, :]"
   ]
  },
  {
   "cell_type": "code",
   "execution_count": 208,
   "metadata": {},
   "outputs": [
    {
     "data": {
      "text/plain": [
       "array([[1.3, 0.7],\n",
       "       [5.5, 2.4],\n",
       "       [0.8, 1.7],\n",
       "       [1.5, 7.5]])"
      ]
     },
     "execution_count": 208,
     "metadata": {},
     "output_type": "execute_result"
    }
   ],
   "source": [
    "# 2\n",
    "\n",
    "A[:, [1, 3]]"
   ]
  },
  {
   "cell_type": "code",
   "execution_count": 9,
   "metadata": {},
   "outputs": [
    {
     "data": {
      "text/plain": [
       "array([6.7, 5.5, 2.4, 4.5, 3.4, 7.5])"
      ]
     },
     "execution_count": 9,
     "metadata": {},
     "output_type": "execute_result"
    }
   ],
   "source": [
    "# 3\n",
    "\n",
    "A[A > 2]"
   ]
  },
  {
   "cell_type": "code",
   "execution_count": 10,
   "metadata": {},
   "outputs": [
    {
     "data": {
      "text/plain": [
       "array([6.7, 5.5, 4.5, 7.5])"
      ]
     },
     "execution_count": 10,
     "metadata": {},
     "output_type": "execute_result"
    }
   ],
   "source": [
    "# 4\n",
    "\n",
    "np.diag(A)"
   ]
  },
  {
   "cell_type": "markdown",
   "metadata": {},
   "source": [
    "b) The np.linalg module has some powerful linear algebra tools.\n",
    "\n",
    "1. First, we’ll solve the linear system $A \\cdot x = b$. Try it out: use `np.linalg.solve()`. Store your answer in the Numpy array `x`.\n",
    "1. Now do `np.dot(A, x)` to verify that $A \\cdot x = b$.\n",
    "1. Use `np.transpose()` to compute the transpose of `A`.\n",
    "1. Use `np.linalg.inv()` to compute the inverse of `A`."
   ]
  },
  {
   "cell_type": "code",
   "execution_count": 11,
   "metadata": {},
   "outputs": [
    {
     "data": {
      "text/plain": [
       "array([0.03401232, 0.29137092, 0.60186517, 0.18888027])"
      ]
     },
     "execution_count": 11,
     "metadata": {},
     "output_type": "execute_result"
    }
   ],
   "source": [
    "# 1\n",
    "\n",
    "x = np.linalg.solve(A, b)\n",
    "\n",
    "x"
   ]
  },
  {
   "cell_type": "code",
   "execution_count": 12,
   "metadata": {},
   "outputs": [
    {
     "data": {
      "text/plain": [
       "array([ True,  True,  True,  True])"
      ]
     },
     "execution_count": 12,
     "metadata": {},
     "output_type": "execute_result"
    }
   ],
   "source": [
    "# 2\n",
    "\n",
    "np.dot(A, x) == b"
   ]
  },
  {
   "cell_type": "code",
   "execution_count": 13,
   "metadata": {},
   "outputs": [
    {
     "data": {
      "text/plain": [
       "array([[6.7, 0.1, 1.1, 0. ],\n",
       "       [1.3, 5.5, 0.8, 1.5],\n",
       "       [0.6, 0.4, 4.5, 3.4],\n",
       "       [0.7, 2.4, 1.7, 7.5]])"
      ]
     },
     "execution_count": 13,
     "metadata": {},
     "output_type": "execute_result"
    }
   ],
   "source": [
    "# 3\n",
    "\n",
    "np.transpose(A)"
   ]
  },
  {
   "cell_type": "code",
   "execution_count": 14,
   "metadata": {},
   "outputs": [
    {
     "data": {
      "text/plain": [
       "array([[ 0.15267508, -0.03365026, -0.01778   ,  0.00054854],\n",
       "       [-0.00906001,  0.19788853,  0.03719385, -0.07090934],\n",
       "       [-0.04391535, -0.0144834 ,  0.26880108, -0.05219479],\n",
       "       [ 0.02172029, -0.0330119 , -0.12929526,  0.17117684]])"
      ]
     },
     "execution_count": 14,
     "metadata": {},
     "output_type": "execute_result"
    }
   ],
   "source": [
    "# 4\n",
    "\n",
    "np.linalg.inv(A)"
   ]
  },
  {
   "cell_type": "markdown",
   "metadata": {},
   "source": [
    "c) Sometimes you want to convert a two-dimensional array to a one-dimensional array. This can be done with `np.ravel()`.\n",
    "\n",
    "1. See what happens when you do `B = np.ravel(A)`.\n",
    "1. Look of the documentation for `np.reshape()`. Then, reshape `B` to make it look like `A` again.\n"
   ]
  },
  {
   "cell_type": "code",
   "execution_count": 15,
   "metadata": {},
   "outputs": [
    {
     "data": {
      "text/plain": [
       "array([6.7, 1.3, 0.6, 0.7, 0.1, 5.5, 0.4, 2.4, 1.1, 0.8, 4.5, 1.7, 0. ,\n",
       "       1.5, 3.4, 7.5])"
      ]
     },
     "execution_count": 15,
     "metadata": {},
     "output_type": "execute_result"
    }
   ],
   "source": [
    "# 1\n",
    "\n",
    "B = np.ravel(A)\n",
    "\n",
    "B"
   ]
  },
  {
   "cell_type": "code",
   "execution_count": 16,
   "metadata": {},
   "outputs": [
    {
     "data": {
      "text/plain": [
       "array([[6.7, 1.3, 0.6, 0.7],\n",
       "       [0.1, 5.5, 0.4, 2.4],\n",
       "       [1.1, 0.8, 4.5, 1.7],\n",
       "       [0. , 1.5, 3.4, 7.5]])"
      ]
     },
     "execution_count": 16,
     "metadata": {},
     "output_type": "execute_result"
    }
   ],
   "source": [
    "A"
   ]
  },
  {
   "cell_type": "code",
   "execution_count": 17,
   "metadata": {},
   "outputs": [
    {
     "data": {
      "text/plain": [
       "array([[6.7, 1.3, 0.6, 0.7],\n",
       "       [0.1, 5.5, 0.4, 2.4],\n",
       "       [1.1, 0.8, 4.5, 1.7],\n",
       "       [0. , 1.5, 3.4, 7.5]])"
      ]
     },
     "execution_count": 17,
     "metadata": {},
     "output_type": "execute_result"
    }
   ],
   "source": [
    "# 2\n",
    "\n",
    "np.reshape(B, (4,4))"
   ]
  },
  {
   "cell_type": "markdown",
   "metadata": {},
   "source": [
    "# Exercise 7.3: Understanding and building ECDFs\n",
    "\n",
    "As a reminder, the empirical cumulative distribution function for a set of data point evaluated at x is\n",
    "\n",
    "    ECDF(x) = fraction of data points ≤ x.\n",
    "\n",
    "\n",
    "Write a function with call signature\n",
    "\n",
    "    ecdf_vals(data)\n",
    "\n",
    "which takes a one-dimensional NumPy array of data and returns the `x` and `y` values for plotting a \"dot-style\" ECDF. That is, each dot has a `y` value given by the ECDF evaluated at `x`."
   ]
  },
  {
   "cell_type": "code",
   "execution_count": 213,
   "metadata": {},
   "outputs": [],
   "source": [
    "def ecdf_vals(data):\n",
    "    \"\"\"Computes the ECDF for a one-dimensional NumPy array of data.\n",
    "    Returns the x and y values for plotting a 'dot-style' ECDF.\"\"\"\n",
    "    \n",
    "    # Sort the data array\n",
    "    x = np.sort(data)\n",
    "    \n",
    "    # Compute ECDF\n",
    "    y = (1 + np.arange(len(data))) / len(data)\n",
    "    \n",
    "    return x, y"
   ]
  },
  {
   "cell_type": "code",
   "execution_count": 214,
   "metadata": {},
   "outputs": [
    {
     "data": {
      "text/plain": [
       "array([-0.78984585, -1.02862384, -0.94691183,  0.64565024,  1.94391978,\n",
       "       -0.09510624, -1.36515065, -0.4148116 , -2.01215498,  0.18338547,\n",
       "       -0.40339108, -1.08256148, -0.32764384, -0.59081842, -0.48814965,\n",
       "       -0.12561053,  1.03185849, -0.45344707, -0.16346276, -0.25145224,\n",
       "       -2.10595981, -1.43115957, -0.5799471 , -0.36197938, -1.03384511,\n",
       "       -0.37097766, -0.49646029, -0.97110494, -0.62689164, -1.98281948,\n",
       "       -1.05922596,  1.36532501, -0.5388963 , -0.37794264,  2.396229  ,\n",
       "        0.03247631, -0.33961641, -0.32025818, -0.78020127,  0.71099197,\n",
       "       -1.11754801, -3.04020301,  0.77270824, -1.11970336,  0.17440944,\n",
       "        0.82101106,  0.14461258,  0.19323151,  0.22254713, -0.40321403,\n",
       "       -0.25000085,  0.79627892,  1.44241537,  2.20550369,  0.48741652,\n",
       "        0.04129688, -0.93886185, -1.34575963, -2.30895117,  0.54733632,\n",
       "        0.37553072, -0.79388191, -0.19281764, -0.12018362, -0.00974653,\n",
       "       -1.21235532,  0.9525258 ,  2.1151609 ,  1.70428909, -1.93844586,\n",
       "        0.17240077, -0.0402032 ,  1.03781071, -1.06501305, -2.04744213,\n",
       "       -0.81347968,  0.39243334,  1.27339081,  0.2465055 , -0.06049706,\n",
       "       -0.14820643, -2.14988687, -0.60233056,  0.50478599, -1.12300116,\n",
       "        0.62350025, -0.79593092, -0.59277788,  0.34669943,  0.44992865,\n",
       "        0.36907996,  1.86643254,  0.29142736, -0.66882584,  0.39807936,\n",
       "       -0.1590113 ,  1.0145335 ,  0.81633002, -0.69522588,  0.89650206])"
      ]
     },
     "execution_count": 214,
     "metadata": {},
     "output_type": "execute_result"
    }
   ],
   "source": [
    "# Dummy data set\n",
    "rg = np.random.default_rng()\n",
    "data = rg.normal(0, 1, size=100)\n",
    "\n",
    "data"
   ]
  },
  {
   "cell_type": "code",
   "execution_count": 215,
   "metadata": {},
   "outputs": [],
   "source": [
    "x, y = ecdf_vals(data)"
   ]
  },
  {
   "cell_type": "code",
   "execution_count": 216,
   "metadata": {},
   "outputs": [
    {
     "data": {
      "text/html": [
       "\n",
       "\n",
       "\n",
       "\n",
       "\n",
       "\n",
       "  <div class=\"bk-root\" id=\"ca78d79f-e60a-4646-ac4e-c2a1900593ed\" data-root-id=\"38889\"></div>\n"
      ]
     },
     "metadata": {},
     "output_type": "display_data"
    },
    {
     "data": {
      "application/javascript": [
       "(function(root) {\n",
       "  function embed_document(root) {\n",
       "    \n",
       "  var docs_json = {\"34c3750d-7ecb-4782-97ef-1cc787e87c56\":{\"roots\":{\"references\":[{\"attributes\":{\"below\":[{\"id\":\"38898\"}],\"center\":[{\"id\":\"38901\"},{\"id\":\"38905\"}],\"frame_height\":200,\"frame_width\":300,\"left\":[{\"id\":\"38902\"}],\"renderers\":[{\"id\":\"38923\"}],\"title\":{\"id\":\"39447\"},\"toolbar\":{\"id\":\"38913\"},\"x_range\":{\"id\":\"38890\"},\"x_scale\":{\"id\":\"38894\"},\"y_range\":{\"id\":\"38892\"},\"y_scale\":{\"id\":\"38896\"}},\"id\":\"38889\",\"subtype\":\"Figure\",\"type\":\"Plot\"},{\"attributes\":{},\"id\":\"38911\",\"type\":\"HelpTool\"},{\"attributes\":{},\"id\":\"38899\",\"type\":\"BasicTicker\"},{\"attributes\":{\"axis_label\":\"x\",\"formatter\":{\"id\":\"39451\"},\"ticker\":{\"id\":\"38899\"}},\"id\":\"38898\",\"type\":\"LinearAxis\"},{\"attributes\":{},\"id\":\"39451\",\"type\":\"BasicTickFormatter\"},{\"attributes\":{\"text\":\"\"},\"id\":\"39447\",\"type\":\"Title\"},{\"attributes\":{},\"id\":\"38894\",\"type\":\"LinearScale\"},{\"attributes\":{\"axis\":{\"id\":\"38898\"},\"ticker\":null},\"id\":\"38901\",\"type\":\"Grid\"},{\"attributes\":{},\"id\":\"38903\",\"type\":\"BasicTicker\"},{\"attributes\":{\"axis\":{\"id\":\"38902\"},\"dimension\":1,\"ticker\":null},\"id\":\"38905\",\"type\":\"Grid\"},{\"attributes\":{},\"id\":\"39449\",\"type\":\"BasicTickFormatter\"},{\"attributes\":{\"fill_color\":{\"value\":\"#1f77b4\"},\"line_color\":{\"value\":\"#1f77b4\"},\"x\":{\"field\":\"x\"},\"y\":{\"field\":\"y\"}},\"id\":\"38921\",\"type\":\"Circle\"},{\"attributes\":{\"source\":{\"id\":\"38920\"}},\"id\":\"38924\",\"type\":\"CDSView\"},{\"attributes\":{\"active_drag\":\"auto\",\"active_inspect\":\"auto\",\"active_multi\":null,\"active_scroll\":\"auto\",\"active_tap\":\"auto\",\"tools\":[{\"id\":\"38906\"},{\"id\":\"38907\"},{\"id\":\"38908\"},{\"id\":\"38909\"},{\"id\":\"38910\"},{\"id\":\"38911\"}]},\"id\":\"38913\",\"type\":\"Toolbar\"},{\"attributes\":{},\"id\":\"39453\",\"type\":\"UnionRenderers\"},{\"attributes\":{},\"id\":\"38892\",\"type\":\"DataRange1d\"},{\"attributes\":{\"bottom_units\":\"screen\",\"fill_alpha\":0.5,\"fill_color\":\"lightgrey\",\"left_units\":\"screen\",\"level\":\"overlay\",\"line_alpha\":1.0,\"line_color\":\"black\",\"line_dash\":[4,4],\"line_width\":2,\"render_mode\":\"css\",\"right_units\":\"screen\",\"top_units\":\"screen\"},\"id\":\"38912\",\"type\":\"BoxAnnotation\"},{\"attributes\":{\"data\":{\"x\":{\"__ndarray__\":\"nkEz9VVSCMCiNjdku3gCwD/vvOP3MgHARMAudQHZAMBMoVBWKWEAwDRtC7bkGADAHDIV66C5/7/mSaHN3wP/v1UAD5QH5va/oHEyNajX9b9QYPU+O4j1v76QubHOZfO/EZwVEND38b8uWTESTurxv5yZEwV64fG/hn0W/StS8b9OIQUfSwrxv5Ag6OyW8vC/nfrtKqGK8L8PtTZFPnXwvzq8iqxKE++/3V9VDBpN7r/5QXEDKAvuv1vqS4kGCOq/IAPBHkR46b/cegILe2fpv+9Qo8xqRum/821Cp2j36L8xK9xYSj/mv3EXdXMFZ+W/Pq3+D38P5L8vjXq6Skbjv8FTvU4J+OK/n7duB/zn4r/ryqk27Y7iv4C3KHSjPuG/fosGYAHG37+zGRcE2D3fv9lYkt1GBd2/RWs78EWM2r9UzL3QKNHZv1VOuzNCztm/6//nTzYw2L8SB0MRGb7Xv4LGnY6rKte/pTLOd0a81b/oYAPiHfjUv8YXRiccf9S/lS7kI8sX0L9wOJWSAwDQv1q2oKE/rsi/tFO7CFnsxL8PQRV5e1rEv398FKdt+MK/Vf58fwEUwL8r0DqUWsS+v+RaleDhWLi/YVyDjHj5rr8cnQyNg5Wkv5Ww3d/89YO/WnWnBLygoD+L/u9K3SSlPzQnnzaqgsI/JX7igzoRxj/h6gVuDFPGP7QoNtUsecc/lrahbc+7yD9ZbiqlbHzMP/GFBAZ+jc8/rJBz8b6m0j/YlbDOUjDWPyrdAosBn9c/bJMkA7II2D/ACuS9oB3ZPxYCFt8hetk/OzvSjaHL3D+vtJoN1THfPxT4S/U0J+A/Tlg5d8eD4T9X9t/MtvPjP0oWjK8qqeQ/CPvNPHLA5j9neGOgBrroP/bco+4de+k/mGT/IWAf6j8glR77uEXqP/bLIhUlsOw/xmGVYBd77j9tihl6hzvwP4hK+gt+gvA/qtxCZt+a8D/ODPcJz1/0PzNJNgpf2PU/C8oWJCIU9z8LvTWkxET7P5Vpv17o3P0/VswtoUsa/z/il5J62esAQGTPxx3fpAFA26eyHHorA0A=\",\"dtype\":\"float64\",\"shape\":[100]},\"y\":{\"__ndarray__\":\"exSuR+F6hD97FK5H4XqUP7gehetRuJ4/exSuR+F6pD+amZmZmZmpP7gehetRuK4/7FG4HoXrsT97FK5H4Xq0PwrXo3A9Crc/mpmZmZmZuT8pXI/C9Si8P7gehetRuL4/pHA9CtejwD/sUbgehevBPzMzMzMzM8M/exSuR+F6xD/D9Shcj8LFPwrXo3A9Csc/UrgehetRyD+amZmZmZnJP+F6FK5H4co/KVyPwvUozD9xPQrXo3DNP7gehetRuM4/AAAAAAAA0D+kcD0K16PQP0jhehSuR9E/7FG4HoXr0T+PwvUoXI/SPzMzMzMzM9M/16NwPQrX0z97FK5H4XrUPx+F61G4HtU/w/UoXI/C1T9mZmZmZmbWPwrXo3A9Ctc/rkfhehSu1z9SuB6F61HYP/YoXI/C9dg/mpmZmZmZ2T89CtejcD3aP+F6FK5H4do/hetRuB6F2z8pXI/C9SjcP83MzMzMzNw/cT0K16Nw3T8UrkfhehTeP7gehetRuN4/XI/C9Shc3z8AAAAAAADgP1K4HoXrUeA/pHA9Ctej4D/2KFyPwvXgP0jhehSuR+E/mpmZmZmZ4T/sUbgehevhPz0K16NwPeI/j8L1KFyP4j/hehSuR+HiPzMzMzMzM+M/hetRuB6F4z/Xo3A9CtfjPylcj8L1KOQ/exSuR+F65D/NzMzMzMzkPx+F61G4HuU/cT0K16Nw5T/D9Shcj8LlPxSuR+F6FOY/ZmZmZmZm5j+4HoXrUbjmPwrXo3A9Cuc/XI/C9Shc5z+uR+F6FK7nPwAAAAAAAOg/UrgehetR6D+kcD0K16PoP/YoXI/C9eg/SOF6FK5H6T+amZmZmZnpP+xRuB6F6+k/PQrXo3A96j+PwvUoXI/qP+F6FK5H4eo/MzMzMzMz6z+F61G4HoXrP9ejcD0K1+s/KVyPwvUo7D97FK5H4XrsP83MzMzMzOw/H4XrUbge7T9xPQrXo3DtP8P1KFyPwu0/FK5H4XoU7j9mZmZmZmbuP7gehetRuO4/CtejcD0K7z9cj8L1KFzvP65H4XoUru8/AAAAAAAA8D8=\",\"dtype\":\"float64\",\"shape\":[100]}},\"selected\":{\"id\":\"39454\"},\"selection_policy\":{\"id\":\"39453\"}},\"id\":\"38920\",\"type\":\"ColumnDataSource\"},{\"attributes\":{},\"id\":\"38906\",\"type\":\"PanTool\"},{\"attributes\":{},\"id\":\"38896\",\"type\":\"LinearScale\"},{\"attributes\":{},\"id\":\"38907\",\"type\":\"WheelZoomTool\"},{\"attributes\":{\"overlay\":{\"id\":\"38912\"}},\"id\":\"38908\",\"type\":\"BoxZoomTool\"},{\"attributes\":{\"axis_label\":\"ECDF\",\"formatter\":{\"id\":\"39449\"},\"ticker\":{\"id\":\"38903\"}},\"id\":\"38902\",\"type\":\"LinearAxis\"},{\"attributes\":{},\"id\":\"38909\",\"type\":\"SaveTool\"},{\"attributes\":{},\"id\":\"38890\",\"type\":\"DataRange1d\"},{\"attributes\":{\"fill_alpha\":{\"value\":0.1},\"fill_color\":{\"value\":\"#1f77b4\"},\"line_alpha\":{\"value\":0.1},\"line_color\":{\"value\":\"#1f77b4\"},\"x\":{\"field\":\"x\"},\"y\":{\"field\":\"y\"}},\"id\":\"38922\",\"type\":\"Circle\"},{\"attributes\":{},\"id\":\"38910\",\"type\":\"ResetTool\"},{\"attributes\":{},\"id\":\"39454\",\"type\":\"Selection\"},{\"attributes\":{\"data_source\":{\"id\":\"38920\"},\"glyph\":{\"id\":\"38921\"},\"hover_glyph\":null,\"muted_glyph\":null,\"nonselection_glyph\":{\"id\":\"38922\"},\"selection_glyph\":null,\"view\":{\"id\":\"38924\"}},\"id\":\"38923\",\"type\":\"GlyphRenderer\"}],\"root_ids\":[\"38889\"]},\"title\":\"Bokeh Application\",\"version\":\"2.0.2\"}};\n",
       "  var render_items = [{\"docid\":\"34c3750d-7ecb-4782-97ef-1cc787e87c56\",\"root_ids\":[\"38889\"],\"roots\":{\"38889\":\"ca78d79f-e60a-4646-ac4e-c2a1900593ed\"}}];\n",
       "  root.Bokeh.embed.embed_items_notebook(docs_json, render_items);\n",
       "\n",
       "  }\n",
       "  if (root.Bokeh !== undefined) {\n",
       "    embed_document(root);\n",
       "  } else {\n",
       "    var attempts = 0;\n",
       "    var timer = setInterval(function(root) {\n",
       "      if (root.Bokeh !== undefined) {\n",
       "        clearInterval(timer);\n",
       "        embed_document(root);\n",
       "      } else {\n",
       "        attempts++;\n",
       "        if (attempts > 100) {\n",
       "          clearInterval(timer);\n",
       "          console.log(\"Bokeh: ERROR: Unable to run BokehJS code because BokehJS library is missing\");\n",
       "        }\n",
       "      }\n",
       "    }, 10, root)\n",
       "  }\n",
       "})(window);"
      ],
      "application/vnd.bokehjs_exec.v0+json": ""
     },
     "metadata": {
      "application/vnd.bokehjs_exec.v0+json": {
       "id": "38889"
      }
     },
     "output_type": "display_data"
    }
   ],
   "source": [
    "p = bokeh.plotting.figure(\n",
    "    frame_height=200,\n",
    "    frame_width=300,\n",
    "    x_axis_label='x',\n",
    "    y_axis_label='ECDF',\n",
    ")\n",
    "\n",
    "p.circle(x, y)\n",
    "\n",
    "bokeh.io.show(p)"
   ]
  },
  {
   "cell_type": "markdown",
   "metadata": {},
   "source": [
    "# Exercise 7.4: Data collapse"
   ]
  },
  {
   "cell_type": "markdown",
   "metadata": {},
   "source": [
    "a) Load in the three data. They are in the files `~/git/data/wt_lac.csv`, `~/git/data/q18m_lac.csv`, and `~/git/data/q18a_lac.csv`. You should put them in a single `DataFrame` with an added column for genotype. This can be accomplished, for example, with `pd.concat()`."
   ]
  },
  {
   "cell_type": "code",
   "execution_count": 22,
   "metadata": {},
   "outputs": [
    {
     "data": {
      "text/plain": [
       "['data/q18a_lac.csv', 'data/q18m_lac.csv', 'data/wt_lac.csv']"
      ]
     },
     "execution_count": 22,
     "metadata": {},
     "output_type": "execute_result"
    }
   ],
   "source": [
    "# Get list of files\n",
    "\n",
    "files = glob.glob('data/*_lac.csv')\n",
    "\n",
    "files"
   ]
  },
  {
   "cell_type": "code",
   "execution_count": 23,
   "metadata": {},
   "outputs": [
    {
     "name": "stdout",
     "output_type": "stream",
     "text": [
      "# Data digitized from Fig. 14a of Phillips, Annu. Rev. Condens. Matter Phys. 2015. 6:85–111.\n",
      "# Data are for Q18A mutant lac repressor.\n",
      "[IPTG] (mM),fold change\n",
      "9.4897068845641e-06,0.213514210553464\n",
      "9.270247940633647e-05,0.25671154209865743\n",
      "0.00019456274242902937,0.28426952769037683\n",
      "0.00038672649807078616,0.34389711318581195\n",
      "0.0007675898269530733,0.4183387493337461\n",
      "0.0009368758732336757,0.4801739997592891\n",
      "0.0015202885789386653,0.515001461460429\n"
     ]
    }
   ],
   "source": [
    "!head data/q18a_lac.csv"
   ]
  },
  {
   "cell_type": "code",
   "execution_count": 24,
   "metadata": {},
   "outputs": [],
   "source": [
    "# Load in data sets\n",
    "\n",
    "df_dict = {}\n",
    "\n",
    "for file_name in files:\n",
    "    # Extract genotype\n",
    "    genotype = file_name[file_name.find('/')+1:file_name.rfind('_')]\n",
    "    \n",
    "    # Load in data set from file\n",
    "    df_dict[genotype] = pd.read_csv(file_name, comment='#')"
   ]
  },
  {
   "cell_type": "code",
   "execution_count": 25,
   "metadata": {},
   "outputs": [
    {
     "data": {
      "text/html": [
       "<div>\n",
       "<style scoped>\n",
       "    .dataframe tbody tr th:only-of-type {\n",
       "        vertical-align: middle;\n",
       "    }\n",
       "\n",
       "    .dataframe tbody tr th {\n",
       "        vertical-align: top;\n",
       "    }\n",
       "\n",
       "    .dataframe thead th {\n",
       "        text-align: right;\n",
       "    }\n",
       "</style>\n",
       "<table border=\"1\" class=\"dataframe\">\n",
       "  <thead>\n",
       "    <tr style=\"text-align: right;\">\n",
       "      <th></th>\n",
       "      <th>[IPTG] (mM)</th>\n",
       "      <th>fold change</th>\n",
       "    </tr>\n",
       "  </thead>\n",
       "  <tbody>\n",
       "    <tr>\n",
       "      <th>0</th>\n",
       "      <td>0.000009</td>\n",
       "      <td>0.213514</td>\n",
       "    </tr>\n",
       "    <tr>\n",
       "      <th>1</th>\n",
       "      <td>0.000093</td>\n",
       "      <td>0.256712</td>\n",
       "    </tr>\n",
       "    <tr>\n",
       "      <th>2</th>\n",
       "      <td>0.000195</td>\n",
       "      <td>0.284270</td>\n",
       "    </tr>\n",
       "    <tr>\n",
       "      <th>3</th>\n",
       "      <td>0.000387</td>\n",
       "      <td>0.343897</td>\n",
       "    </tr>\n",
       "    <tr>\n",
       "      <th>4</th>\n",
       "      <td>0.000768</td>\n",
       "      <td>0.418339</td>\n",
       "    </tr>\n",
       "  </tbody>\n",
       "</table>\n",
       "</div>"
      ],
      "text/plain": [
       "   [IPTG] (mM)  fold change\n",
       "0     0.000009     0.213514\n",
       "1     0.000093     0.256712\n",
       "2     0.000195     0.284270\n",
       "3     0.000387     0.343897\n",
       "4     0.000768     0.418339"
      ]
     },
     "execution_count": 25,
     "metadata": {},
     "output_type": "execute_result"
    }
   ],
   "source": [
    "# Check one of them\n",
    "\n",
    "df_dict['q18a'].head()"
   ]
  },
  {
   "cell_type": "code",
   "execution_count": 26,
   "metadata": {},
   "outputs": [
    {
     "data": {
      "text/html": [
       "<div>\n",
       "<style scoped>\n",
       "    .dataframe tbody tr th:only-of-type {\n",
       "        vertical-align: middle;\n",
       "    }\n",
       "\n",
       "    .dataframe tbody tr th {\n",
       "        vertical-align: top;\n",
       "    }\n",
       "\n",
       "    .dataframe thead th {\n",
       "        text-align: right;\n",
       "    }\n",
       "</style>\n",
       "<table border=\"1\" class=\"dataframe\">\n",
       "  <thead>\n",
       "    <tr style=\"text-align: right;\">\n",
       "      <th></th>\n",
       "      <th>[IPTG] (mM)</th>\n",
       "      <th>fold change</th>\n",
       "      <th>genotype</th>\n",
       "    </tr>\n",
       "  </thead>\n",
       "  <tbody>\n",
       "    <tr>\n",
       "      <th>0</th>\n",
       "      <td>0.000009</td>\n",
       "      <td>0.213514</td>\n",
       "      <td>Q18A</td>\n",
       "    </tr>\n",
       "    <tr>\n",
       "      <th>1</th>\n",
       "      <td>0.000093</td>\n",
       "      <td>0.256712</td>\n",
       "      <td>Q18A</td>\n",
       "    </tr>\n",
       "    <tr>\n",
       "      <th>2</th>\n",
       "      <td>0.000195</td>\n",
       "      <td>0.284270</td>\n",
       "      <td>Q18A</td>\n",
       "    </tr>\n",
       "    <tr>\n",
       "      <th>3</th>\n",
       "      <td>0.000387</td>\n",
       "      <td>0.343897</td>\n",
       "      <td>Q18A</td>\n",
       "    </tr>\n",
       "    <tr>\n",
       "      <th>4</th>\n",
       "      <td>0.000768</td>\n",
       "      <td>0.418339</td>\n",
       "      <td>Q18A</td>\n",
       "    </tr>\n",
       "  </tbody>\n",
       "</table>\n",
       "</div>"
      ],
      "text/plain": [
       "   [IPTG] (mM)  fold change genotype\n",
       "0     0.000009     0.213514     Q18A\n",
       "1     0.000093     0.256712     Q18A\n",
       "2     0.000195     0.284270     Q18A\n",
       "3     0.000387     0.343897     Q18A\n",
       "4     0.000768     0.418339     Q18A"
      ]
     },
     "execution_count": 26,
     "metadata": {},
     "output_type": "execute_result"
    }
   ],
   "source": [
    "# Add column for genotype\n",
    "\n",
    "for genotype in df_dict:\n",
    "    df_dict[genotype]['genotype'] = genotype.upper()\n",
    "    \n",
    "# Check one of them\n",
    "\n",
    "df_dict['q18a'].head()"
   ]
  },
  {
   "cell_type": "code",
   "execution_count": 27,
   "metadata": {},
   "outputs": [
    {
     "data": {
      "text/html": [
       "<div>\n",
       "<style scoped>\n",
       "    .dataframe tbody tr th:only-of-type {\n",
       "        vertical-align: middle;\n",
       "    }\n",
       "\n",
       "    .dataframe tbody tr th {\n",
       "        vertical-align: top;\n",
       "    }\n",
       "\n",
       "    .dataframe thead th {\n",
       "        text-align: right;\n",
       "    }\n",
       "</style>\n",
       "<table border=\"1\" class=\"dataframe\">\n",
       "  <thead>\n",
       "    <tr style=\"text-align: right;\">\n",
       "      <th></th>\n",
       "      <th>[IPTG] (mM)</th>\n",
       "      <th>fold change</th>\n",
       "      <th>genotype</th>\n",
       "    </tr>\n",
       "  </thead>\n",
       "  <tbody>\n",
       "    <tr>\n",
       "      <th>0</th>\n",
       "      <td>0.000009</td>\n",
       "      <td>0.213514</td>\n",
       "      <td>Q18A</td>\n",
       "    </tr>\n",
       "    <tr>\n",
       "      <th>1</th>\n",
       "      <td>0.000093</td>\n",
       "      <td>0.256712</td>\n",
       "      <td>Q18A</td>\n",
       "    </tr>\n",
       "    <tr>\n",
       "      <th>2</th>\n",
       "      <td>0.000195</td>\n",
       "      <td>0.284270</td>\n",
       "      <td>Q18A</td>\n",
       "    </tr>\n",
       "    <tr>\n",
       "      <th>3</th>\n",
       "      <td>0.000387</td>\n",
       "      <td>0.343897</td>\n",
       "      <td>Q18A</td>\n",
       "    </tr>\n",
       "    <tr>\n",
       "      <th>4</th>\n",
       "      <td>0.000768</td>\n",
       "      <td>0.418339</td>\n",
       "      <td>Q18A</td>\n",
       "    </tr>\n",
       "  </tbody>\n",
       "</table>\n",
       "</div>"
      ],
      "text/plain": [
       "   [IPTG] (mM)  fold change genotype\n",
       "0     0.000009     0.213514     Q18A\n",
       "1     0.000093     0.256712     Q18A\n",
       "2     0.000195     0.284270     Q18A\n",
       "3     0.000387     0.343897     Q18A\n",
       "4     0.000768     0.418339     Q18A"
      ]
     },
     "execution_count": 27,
     "metadata": {},
     "output_type": "execute_result"
    }
   ],
   "source": [
    "# Combine into a single DataFrame\n",
    "\n",
    "df_lac = pd.concat(df_dict, ignore_index=True)\n",
    "\n",
    "df_lac.head()"
   ]
  },
  {
   "cell_type": "code",
   "execution_count": 28,
   "metadata": {},
   "outputs": [
    {
     "data": {
      "text/html": [
       "<div>\n",
       "<style scoped>\n",
       "    .dataframe tbody tr th:only-of-type {\n",
       "        vertical-align: middle;\n",
       "    }\n",
       "\n",
       "    .dataframe tbody tr th {\n",
       "        vertical-align: top;\n",
       "    }\n",
       "\n",
       "    .dataframe thead th {\n",
       "        text-align: right;\n",
       "    }\n",
       "</style>\n",
       "<table border=\"1\" class=\"dataframe\">\n",
       "  <thead>\n",
       "    <tr style=\"text-align: right;\">\n",
       "      <th></th>\n",
       "      <th>[IPTG] (mM)</th>\n",
       "      <th>fold change</th>\n",
       "      <th>genotype</th>\n",
       "    </tr>\n",
       "  </thead>\n",
       "  <tbody>\n",
       "    <tr>\n",
       "      <th>60</th>\n",
       "      <td>1.480551</td>\n",
       "      <td>0.723629</td>\n",
       "      <td>WT</td>\n",
       "    </tr>\n",
       "    <tr>\n",
       "      <th>61</th>\n",
       "      <td>3.108100</td>\n",
       "      <td>0.748718</td>\n",
       "      <td>WT</td>\n",
       "    </tr>\n",
       "    <tr>\n",
       "      <th>62</th>\n",
       "      <td>6.044332</td>\n",
       "      <td>0.768828</td>\n",
       "      <td>WT</td>\n",
       "    </tr>\n",
       "    <tr>\n",
       "      <th>63</th>\n",
       "      <td>11.494881</td>\n",
       "      <td>0.754358</td>\n",
       "      <td>WT</td>\n",
       "    </tr>\n",
       "    <tr>\n",
       "      <th>64</th>\n",
       "      <td>24.165452</td>\n",
       "      <td>0.764633</td>\n",
       "      <td>WT</td>\n",
       "    </tr>\n",
       "  </tbody>\n",
       "</table>\n",
       "</div>"
      ],
      "text/plain": [
       "    [IPTG] (mM)  fold change genotype\n",
       "60     1.480551     0.723629       WT\n",
       "61     3.108100     0.748718       WT\n",
       "62     6.044332     0.768828       WT\n",
       "63    11.494881     0.754358       WT\n",
       "64    24.165452     0.764633       WT"
      ]
     },
     "execution_count": 28,
     "metadata": {},
     "output_type": "execute_result"
    }
   ],
   "source": [
    "df_lac.tail()"
   ]
  },
  {
   "cell_type": "markdown",
   "metadata": {},
   "source": [
    "b) Make a plot of fold change vs. IPTG concentration for each of the three mutants. Think: should any of the axes have a logarithmic scale?"
   ]
  },
  {
   "cell_type": "code",
   "execution_count": 29,
   "metadata": {},
   "outputs": [],
   "source": [
    "import colorcet\n",
    "\n",
    "def scatter(data, \n",
    "            cat, \n",
    "            x, \n",
    "            y, \n",
    "            legend_location='top_left', \n",
    "            x_axis_type='linear', \n",
    "            y_axis_type='linear',\n",
    "            palette=colorcet.b_glasbey_category10\n",
    "           ):\n",
    "    \"\"\"Generates a scatter plot from x and y in data.\n",
    "    Colors the glyphs according to cat.\"\"\"\n",
    "    \n",
    "    p = bokeh.plotting.figure(\n",
    "        frame_width=400,\n",
    "        frame_height=300,\n",
    "        x_axis_label=x,\n",
    "        y_axis_label=y,\n",
    "        x_axis_type=x_axis_type,\n",
    "        y_axis_type=y_axis_type,\n",
    "    )\n",
    "\n",
    "    for i, val in enumerate(np.unique(data[cat])):\n",
    "        p.circle(\n",
    "            source=data.loc[data[cat]==val],\n",
    "            x=x,\n",
    "            y=y,\n",
    "            legend_label=str(val),\n",
    "            color=palette[i % len(palette)],\n",
    "        )\n",
    "    \n",
    "    p.legend.title = cat\n",
    "    p.legend.location = legend_location\n",
    "    p.legend.click_policy = 'hide'\n",
    "\n",
    "    bokeh.io.show(p)"
   ]
  },
  {
   "cell_type": "code",
   "execution_count": 30,
   "metadata": {},
   "outputs": [
    {
     "data": {
      "text/html": [
       "\n",
       "\n",
       "\n",
       "\n",
       "\n",
       "\n",
       "  <div class=\"bk-root\" id=\"e6d0a8e8-5b0f-42ee-baf8-c528639e330a\" data-root-id=\"1101\"></div>\n"
      ]
     },
     "metadata": {},
     "output_type": "display_data"
    },
    {
     "data": {
      "application/javascript": [
       "(function(root) {\n",
       "  function embed_document(root) {\n",
       "    \n",
       "  var docs_json = {\"7f5a3f71-4b14-4226-a8a5-510338bdfa90\":{\"roots\":{\"references\":[{\"attributes\":{\"below\":[{\"id\":\"1110\"}],\"center\":[{\"id\":\"1113\"},{\"id\":\"1117\"},{\"id\":\"1145\"}],\"frame_height\":300,\"frame_width\":400,\"left\":[{\"id\":\"1114\"}],\"renderers\":[{\"id\":\"1136\"},{\"id\":\"1151\"},{\"id\":\"1167\"}],\"title\":{\"id\":\"1138\"},\"toolbar\":{\"id\":\"1125\"},\"x_range\":{\"id\":\"1102\"},\"x_scale\":{\"id\":\"1106\"},\"y_range\":{\"id\":\"1104\"},\"y_scale\":{\"id\":\"1108\"}},\"id\":\"1101\",\"subtype\":\"Figure\",\"type\":\"Plot\"},{\"attributes\":{},\"id\":\"1115\",\"type\":\"BasicTicker\"},{\"attributes\":{},\"id\":\"1108\",\"type\":\"LinearScale\"},{\"attributes\":{\"fill_color\":{\"value\":\"#1f77b3\"},\"line_color\":{\"value\":\"#1f77b3\"},\"x\":{\"field\":\"[IPTG] (mM)\"},\"y\":{\"field\":\"fold change\"}},\"id\":\"1134\",\"type\":\"Circle\"},{\"attributes\":{},\"id\":\"1177\",\"type\":\"UnionRenderers\"},{\"attributes\":{},\"id\":\"1106\",\"type\":\"LogScale\"},{\"attributes\":{\"click_policy\":\"hide\",\"items\":[{\"id\":\"1146\"},{\"id\":\"1162\"},{\"id\":\"1180\"}],\"location\":\"top_left\",\"title\":\"genotype\"},\"id\":\"1145\",\"type\":\"Legend\"},{\"attributes\":{\"fill_alpha\":{\"value\":0.1},\"fill_color\":{\"value\":\"#1f77b3\"},\"line_alpha\":{\"value\":0.1},\"line_color\":{\"value\":\"#1f77b3\"},\"x\":{\"field\":\"[IPTG] (mM)\"},\"y\":{\"field\":\"fold change\"}},\"id\":\"1135\",\"type\":\"Circle\"},{\"attributes\":{\"axis\":{\"id\":\"1114\"},\"dimension\":1,\"ticker\":null},\"id\":\"1117\",\"type\":\"Grid\"},{\"attributes\":{},\"id\":\"1102\",\"type\":\"DataRange1d\"},{\"attributes\":{},\"id\":\"1118\",\"type\":\"PanTool\"},{\"attributes\":{\"data_source\":{\"id\":\"1163\"},\"glyph\":{\"id\":\"1165\"},\"hover_glyph\":null,\"muted_glyph\":null,\"nonselection_glyph\":{\"id\":\"1166\"},\"selection_glyph\":null,\"view\":{\"id\":\"1168\"}},\"id\":\"1167\",\"type\":\"GlyphRenderer\"},{\"attributes\":{\"fill_alpha\":{\"value\":0.1},\"fill_color\":{\"value\":\"#ff7e0e\"},\"line_alpha\":{\"value\":0.1},\"line_color\":{\"value\":\"#ff7e0e\"},\"x\":{\"field\":\"[IPTG] (mM)\"},\"y\":{\"field\":\"fold change\"}},\"id\":\"1150\",\"type\":\"Circle\"},{\"attributes\":{\"data\":{\"[IPTG] (mM)\":{\"__ndarray__\":\"ljc+f17B4z5vzdyBxnBQP7l7HP69bmA/GBN/RkQAcD/xFYbxr2aAP/QRFFeyW5A/aZ1Psvfqnj+2k/OKdaipP0oXtRo0KbA/Hoc565uguT8AmQviz2m/P06yGS7bP8o/bnW4woiC0D+zwjQmI+jYPyrz+jndcek/1D17B1vR+D/OJH152nQJQLSZWkK+zxhA/CVYa5TIKkBi8QIGGhY6QA==\",\"dtype\":\"float64\",\"shape\":[20]},\"fold change\":{\"__ndarray__\":\"gASx9LXylz9gViOHVQyhP4Ah1REDPaE/INuybB/zoz8A5lHb1qymP6Asnv0JH7E/EF1V+8DZvT8RePjeT37HP6jzMVVegsc/iKNp4zF9yD8x+fXFIbfKP+ge1mBWHso/4AuZGtIHzD8K9lagURzLP6Fgyoy0G9A/aCuBYZuuzj+INWSbUmrOP09YFYU71M0/p0kqD8HhzT8yJaCaYD7OPw==\",\"dtype\":\"float64\",\"shape\":[20]},\"genotype\":[\"Q18M\",\"Q18M\",\"Q18M\",\"Q18M\",\"Q18M\",\"Q18M\",\"Q18M\",\"Q18M\",\"Q18M\",\"Q18M\",\"Q18M\",\"Q18M\",\"Q18M\",\"Q18M\",\"Q18M\",\"Q18M\",\"Q18M\",\"Q18M\",\"Q18M\",\"Q18M\"],\"index\":[25,26,27,28,29,30,31,32,33,34,35,36,37,38,39,40,41,42,43,44]},\"selected\":{\"id\":\"1178\"},\"selection_policy\":{\"id\":\"1177\"}},\"id\":\"1147\",\"type\":\"ColumnDataSource\"},{\"attributes\":{\"source\":{\"id\":\"1163\"}},\"id\":\"1168\",\"type\":\"CDSView\"},{\"attributes\":{\"fill_color\":{\"value\":\"#2ba02b\"},\"line_color\":{\"value\":\"#2ba02b\"},\"x\":{\"field\":\"[IPTG] (mM)\"},\"y\":{\"field\":\"fold change\"}},\"id\":\"1165\",\"type\":\"Circle\"},{\"attributes\":{\"label\":{\"value\":\"Q18A\"},\"renderers\":[{\"id\":\"1136\"}]},\"id\":\"1146\",\"type\":\"LegendItem\"},{\"attributes\":{\"num_minor_ticks\":10},\"id\":\"1111\",\"type\":\"LogTicker\"},{\"attributes\":{\"overlay\":{\"id\":\"1124\"}},\"id\":\"1120\",\"type\":\"BoxZoomTool\"},{\"attributes\":{},\"id\":\"1104\",\"type\":\"DataRange1d\"},{\"attributes\":{},\"id\":\"1119\",\"type\":\"WheelZoomTool\"},{\"attributes\":{},\"id\":\"1121\",\"type\":\"SaveTool\"},{\"attributes\":{},\"id\":\"1178\",\"type\":\"Selection\"},{\"attributes\":{\"label\":{\"value\":\"Q18M\"},\"renderers\":[{\"id\":\"1151\"}]},\"id\":\"1162\",\"type\":\"LegendItem\"},{\"attributes\":{\"label\":{\"value\":\"WT\"},\"renderers\":[{\"id\":\"1167\"}]},\"id\":\"1180\",\"type\":\"LegendItem\"},{\"attributes\":{},\"id\":\"1122\",\"type\":\"ResetTool\"},{\"attributes\":{\"bottom_units\":\"screen\",\"fill_alpha\":0.5,\"fill_color\":\"lightgrey\",\"left_units\":\"screen\",\"level\":\"overlay\",\"line_alpha\":1.0,\"line_color\":\"black\",\"line_dash\":[4,4],\"line_width\":2,\"render_mode\":\"css\",\"right_units\":\"screen\",\"top_units\":\"screen\"},\"id\":\"1124\",\"type\":\"BoxAnnotation\"},{\"attributes\":{\"axis_label\":\"[IPTG] (mM)\",\"formatter\":{\"id\":\"1142\"},\"ticker\":{\"id\":\"1111\"}},\"id\":\"1110\",\"type\":\"LogAxis\"},{\"attributes\":{\"fill_alpha\":{\"value\":0.1},\"fill_color\":{\"value\":\"#2ba02b\"},\"line_alpha\":{\"value\":0.1},\"line_color\":{\"value\":\"#2ba02b\"},\"x\":{\"field\":\"[IPTG] (mM)\"},\"y\":{\"field\":\"fold change\"}},\"id\":\"1166\",\"type\":\"Circle\"},{\"attributes\":{\"data\":{\"[IPTG] (mM)\":{\"__ndarray__\":\"6As5T8jC5D7aSSGkOu1PP1bGlvNtvmA/CbF0K9yVcD+WHi7syRB/P+kELlhFKZA/nqjkxdQpnj9LWp5pBJqoPw9Qn9Vjo68/7ia7yKZ3uD8GokPStZm/P9PEWItwnck/BhWtQEmKzz8HoUdyYP3YP2/hrL8FS+g/WGlcoVaw9z93Mmd8Y90IQICZU2xlLRhANsP9+mD9JkC6P4ARWyo4QA==\",\"dtype\":\"float64\",\"shape\":[20]},\"fold change\":{\"__ndarray__\":\"gORFSUnWpD8vs9NmNaKyP6Esttrd87o/2FbD+3iIyT9oXi2TGfTVP+C9gO/jZ90/RB+czER75D/UwdPJmdvjP3FuGNt5heU/siGXPWSH5T9OuTRcMsXlP6aWlmJoM+c/VzLChZhB5j96TMER+7zmPyDpIQvydec/ZGjtf/gn5z9nifjlf/XnP1TBiPw8mug/nWwV07Ij6D9JMT7o3nfoPw==\",\"dtype\":\"float64\",\"shape\":[20]},\"genotype\":[\"WT\",\"WT\",\"WT\",\"WT\",\"WT\",\"WT\",\"WT\",\"WT\",\"WT\",\"WT\",\"WT\",\"WT\",\"WT\",\"WT\",\"WT\",\"WT\",\"WT\",\"WT\",\"WT\",\"WT\"],\"index\":[45,46,47,48,49,50,51,52,53,54,55,56,57,58,59,60,61,62,63,64]},\"selected\":{\"id\":\"1201\"},\"selection_policy\":{\"id\":\"1200\"}},\"id\":\"1163\",\"type\":\"ColumnDataSource\"},{\"attributes\":{\"fill_color\":{\"value\":\"#ff7e0e\"},\"line_color\":{\"value\":\"#ff7e0e\"},\"x\":{\"field\":\"[IPTG] (mM)\"},\"y\":{\"field\":\"fold change\"}},\"id\":\"1149\",\"type\":\"Circle\"},{\"attributes\":{},\"id\":\"1123\",\"type\":\"HelpTool\"},{\"attributes\":{\"data\":{\"[IPTG] (mM)\":{\"__ndarray__\":\"MVsKYr/m4z6srB94KE0YP9/xQztxgCk/O95lqTFYOT/0eQyaAidJP7ecM54Vs04/LY+Hbo3oWD/LhBP2p3VeP1AHEpcFH24/YsXbNQrWfT9++ld3JtyMP2av/4IPx5w/Xb1aObp0qD+u4TfKPx2tP6z9ts+VI7k/BlN1mhqquz86f29+29vHP3QJaTeno84/s6hUq05e2D/oiAX8QJznP/FABLlnT/g/kRjaF4pDCEAbu2oS2qEXQI24EPZI3ShA3QUzY5weOEA=\",\"dtype\":\"float64\",\"shape\":[25]},\"fold change\":{\"__ndarray__\":\"MXnHA29Uyz8McnQ/9m3QP4B9K9F4MdI/kJmUCWkC1j9JbsLjD8baPxzDVroru94/AqxLWOR64D+jsBIto9PhP9WBX+TaZOU/+ZH5Z31o6D/LcXL8M8rqP7d9QbGBl+s/ayC2eMld7j8PiXhxxg3wP3FY202ulu0/juvuYbDh7z9/Kes688HtP28yEp0u5e8/BAEL/PIc7z/kj2guinjwP7+WQ/5jnO8/5IfoE2UM8D9UQ1cF+RfwPzncSkqbGfA/zO+kQxvR8D8=\",\"dtype\":\"float64\",\"shape\":[25]},\"genotype\":[\"Q18A\",\"Q18A\",\"Q18A\",\"Q18A\",\"Q18A\",\"Q18A\",\"Q18A\",\"Q18A\",\"Q18A\",\"Q18A\",\"Q18A\",\"Q18A\",\"Q18A\",\"Q18A\",\"Q18A\",\"Q18A\",\"Q18A\",\"Q18A\",\"Q18A\",\"Q18A\",\"Q18A\",\"Q18A\",\"Q18A\",\"Q18A\",\"Q18A\"],\"index\":[0,1,2,3,4,5,6,7,8,9,10,11,12,13,14,15,16,17,18,19,20,21,22,23,24]},\"selected\":{\"id\":\"1160\"},\"selection_policy\":{\"id\":\"1159\"}},\"id\":\"1132\",\"type\":\"ColumnDataSource\"},{\"attributes\":{},\"id\":\"1201\",\"type\":\"Selection\"},{\"attributes\":{\"source\":{\"id\":\"1132\"}},\"id\":\"1137\",\"type\":\"CDSView\"},{\"attributes\":{\"active_drag\":\"auto\",\"active_inspect\":\"auto\",\"active_multi\":null,\"active_scroll\":\"auto\",\"active_tap\":\"auto\",\"tools\":[{\"id\":\"1118\"},{\"id\":\"1119\"},{\"id\":\"1120\"},{\"id\":\"1121\"},{\"id\":\"1122\"},{\"id\":\"1123\"}]},\"id\":\"1125\",\"type\":\"Toolbar\"},{\"attributes\":{},\"id\":\"1159\",\"type\":\"UnionRenderers\"},{\"attributes\":{},\"id\":\"1200\",\"type\":\"UnionRenderers\"},{\"attributes\":{\"text\":\"\"},\"id\":\"1138\",\"type\":\"Title\"},{\"attributes\":{},\"id\":\"1140\",\"type\":\"BasicTickFormatter\"},{\"attributes\":{\"axis\":{\"id\":\"1110\"},\"ticker\":null},\"id\":\"1113\",\"type\":\"Grid\"},{\"attributes\":{\"ticker\":null},\"id\":\"1142\",\"type\":\"LogTickFormatter\"},{\"attributes\":{\"axis_label\":\"fold change\",\"formatter\":{\"id\":\"1140\"},\"ticker\":{\"id\":\"1115\"}},\"id\":\"1114\",\"type\":\"LinearAxis\"},{\"attributes\":{\"data_source\":{\"id\":\"1132\"},\"glyph\":{\"id\":\"1134\"},\"hover_glyph\":null,\"muted_glyph\":null,\"nonselection_glyph\":{\"id\":\"1135\"},\"selection_glyph\":null,\"view\":{\"id\":\"1137\"}},\"id\":\"1136\",\"type\":\"GlyphRenderer\"},{\"attributes\":{\"data_source\":{\"id\":\"1147\"},\"glyph\":{\"id\":\"1149\"},\"hover_glyph\":null,\"muted_glyph\":null,\"nonselection_glyph\":{\"id\":\"1150\"},\"selection_glyph\":null,\"view\":{\"id\":\"1152\"}},\"id\":\"1151\",\"type\":\"GlyphRenderer\"},{\"attributes\":{},\"id\":\"1160\",\"type\":\"Selection\"},{\"attributes\":{\"source\":{\"id\":\"1147\"}},\"id\":\"1152\",\"type\":\"CDSView\"}],\"root_ids\":[\"1101\"]},\"title\":\"Bokeh Application\",\"version\":\"2.0.2\"}};\n",
       "  var render_items = [{\"docid\":\"7f5a3f71-4b14-4226-a8a5-510338bdfa90\",\"root_ids\":[\"1101\"],\"roots\":{\"1101\":\"e6d0a8e8-5b0f-42ee-baf8-c528639e330a\"}}];\n",
       "  root.Bokeh.embed.embed_items_notebook(docs_json, render_items);\n",
       "\n",
       "  }\n",
       "  if (root.Bokeh !== undefined) {\n",
       "    embed_document(root);\n",
       "  } else {\n",
       "    var attempts = 0;\n",
       "    var timer = setInterval(function(root) {\n",
       "      if (root.Bokeh !== undefined) {\n",
       "        clearInterval(timer);\n",
       "        embed_document(root);\n",
       "      } else {\n",
       "        attempts++;\n",
       "        if (attempts > 100) {\n",
       "          clearInterval(timer);\n",
       "          console.log(\"Bokeh: ERROR: Unable to run BokehJS code because BokehJS library is missing\");\n",
       "        }\n",
       "      }\n",
       "    }, 10, root)\n",
       "  }\n",
       "})(window);"
      ],
      "application/vnd.bokehjs_exec.v0+json": ""
     },
     "metadata": {
      "application/vnd.bokehjs_exec.v0+json": {
       "id": "1101"
      }
     },
     "output_type": "display_data"
    }
   ],
   "source": [
    "scatter(data=df_lac,\n",
    "        cat='genotype', \n",
    "        x='[IPTG] (mM)', \n",
    "        y='fold change',\n",
    "        x_axis_type='log',\n",
    "        legend_location='top_left',\n",
    "       )"
   ]
  },
  {
   "cell_type": "markdown",
   "metadata": {},
   "source": [
    "c) Write a function with the signature\n",
    "\n",
    "    fold_change(c, RK, KdA=0.017, KdI=0.002, Kswitch=5.8)\n",
    "    \n",
    "to compute the theoretical fold change. It should allow `c`, the concentration of IPTG, to be passed in as a NumPy array or scalar, and `RK`, the $R/K$ ratio, must be a scalar. Remember, with NumPy arrays, you don’t have to write `for` loops to do operations to each element of the array.\n",
    "\n",
    "The theoretical expression for the fold change as a function of IPTG concentration, $c$, is\n",
    "\n",
    "$$\\textrm{fold change} = \\left[1 + \\frac{\\frac{R}{K}(1+c/K^\\textrm{A}_\\textrm{d})^2}{(1+c/K^\\textrm{A}_\\textrm{d})^2 + K_{\\textrm{switch}}(1+c/K^\\textrm{I}_\\textrm{d})^2} \\right]^{-1}$$"
   ]
  },
  {
   "cell_type": "code",
   "execution_count": 31,
   "metadata": {},
   "outputs": [],
   "source": [
    "def fold_change(c, RK, KdA=0.017, KdI=0.002, Kswitch=5.8):\n",
    "    \"\"\"Computes the theoretical fold change.\n",
    "    Inputs:\n",
    "    c: concentration of IPTG (mM)\n",
    "    RK: ratio of number of repressors in cell to dissoc. const. for \n",
    "    active repressor binding operator\n",
    "    KdA: dissoc. const. for active repressor binding IPTG (mM^-1)\n",
    "    KdI: dissoc. const. for inactive repressor binding IPTG (mM^-1)\n",
    "    Kswitch: equil. const. for switching active/inactive\n",
    "    \n",
    "    RK must be scalar.\n",
    "    c can be passed in as a NumPy array or scalar.\"\"\"\n",
    "    \n",
    "    return (1 + RK*(1 + c/KdA)**2 / ((1 + c/KdA)**2 + Kswitch*(1 + c/KdI)**2))**(-1)"
   ]
  },
  {
   "cell_type": "markdown",
   "metadata": {},
   "source": [
    "d) You will now plot a smooth curve showing the theoretical fold change for each mutant. \n",
    "1. Make an array of closely spaced points for the IPTG concentration. Hint: The function `np.logspace()` will be useful. \n",
    "2. Compute the theoretical fold change based on the given parameters using the function you wrote in part (c). \n",
    "3. Plot the smooth curves on the same plot with the data."
   ]
  },
  {
   "cell_type": "code",
   "execution_count": 32,
   "metadata": {},
   "outputs": [],
   "source": [
    "# 1\n",
    "\n",
    "c = np.logspace(-5, np.log(25), num=400)"
   ]
  },
  {
   "cell_type": "code",
   "execution_count": 33,
   "metadata": {},
   "outputs": [],
   "source": [
    "# 2\n",
    "\n",
    "RK_dict = dict(WT=141.5, Q18A=16.56, Q18M=1332)\n",
    "\n",
    "fold_changes = {}\n",
    "\n",
    "for genotype in RK_dict:\n",
    "    fold_changes[genotype] = fold_change(c=c, RK=RK_dict[genotype])"
   ]
  },
  {
   "cell_type": "code",
   "execution_count": 94,
   "metadata": {
    "collapsed": true,
    "jupyter": {
     "outputs_hidden": true,
     "source_hidden": true
    }
   },
   "outputs": [
    {
     "name": "stderr",
     "output_type": "stream",
     "text": [
      "BokehUserWarning: ColumnDataSource's columns must be of the same length. Current lengths: ('fill_color', 3), ('x', 25), ('y', 25)\n",
      "BokehUserWarning: ColumnDataSource's columns must be of the same length. Current lengths: ('fill_color', 3), ('line_color', 3), ('x', 25), ('y', 25)\n"
     ]
    },
    {
     "ename": "ValueError",
     "evalue": "expected an element of either Enum('aliceblue', 'antiquewhite', 'aqua', 'aquamarine', 'azure', 'beige', 'bisque', 'black', 'blanchedalmond', 'blue', 'blueviolet', 'brown', 'burlywood', 'cadetblue', 'chartreuse', 'chocolate', 'coral', 'cornflowerblue', 'cornsilk', 'crimson', 'cyan', 'darkblue', 'darkcyan', 'darkgoldenrod', 'darkgray', 'darkgreen', 'darkgrey', 'darkkhaki', 'darkmagenta', 'darkolivegreen', 'darkorange', 'darkorchid', 'darkred', 'darksalmon', 'darkseagreen', 'darkslateblue', 'darkslategray', 'darkslategrey', 'darkturquoise', 'darkviolet', 'deeppink', 'deepskyblue', 'dimgray', 'dimgrey', 'dodgerblue', 'firebrick', 'floralwhite', 'forestgreen', 'fuchsia', 'gainsboro', 'ghostwhite', 'gold', 'goldenrod', 'gray', 'green', 'greenyellow', 'grey', 'honeydew', 'hotpink', 'indianred', 'indigo', 'ivory', 'khaki', 'lavender', 'lavenderblush', 'lawngreen', 'lemonchiffon', 'lightblue', 'lightcoral', 'lightcyan', 'lightgoldenrodyellow', 'lightgray', 'lightgreen', 'lightgrey', 'lightpink', 'lightsalmon', 'lightseagreen', 'lightskyblue', 'lightslategray', 'lightslategrey', 'lightsteelblue', 'lightyellow', 'lime', 'limegreen', 'linen', 'magenta', 'maroon', 'mediumaquamarine', 'mediumblue', 'mediumorchid', 'mediumpurple', 'mediumseagreen', 'mediumslateblue', 'mediumspringgreen', 'mediumturquoise', 'mediumvioletred', 'midnightblue', 'mintcream', 'mistyrose', 'moccasin', 'navajowhite', 'navy', 'oldlace', 'olive', 'olivedrab', 'orange', 'orangered', 'orchid', 'palegoldenrod', 'palegreen', 'paleturquoise', 'palevioletred', 'papayawhip', 'peachpuff', 'peru', 'pink', 'plum', 'powderblue', 'purple', 'red', 'rosybrown', 'royalblue', 'saddlebrown', 'salmon', 'sandybrown', 'seagreen', 'seashell', 'sienna', 'silver', 'skyblue', 'slateblue', 'slategray', 'slategrey', 'snow', 'springgreen', 'steelblue', 'tan', 'teal', 'thistle', 'tomato', 'turquoise', 'violet', 'wheat', 'white', 'whitesmoke', 'yellow', 'yellowgreen'), Regex('^#[0-9a-fA-F]{6}$'), Regex('^rgba\\\\(((25[0-5]|2[0-4]\\\\d|1\\\\d{1,2}|\\\\d\\\\d?)\\\\s*,\\\\s*?){2}(25[0-5]|2[0-4]\\\\d|1\\\\d{1,2}|\\\\d\\\\d?)\\\\s*,\\\\s*([01]\\\\.?\\\\d*?)\\\\)'), Regex('^rgb\\\\(((25[0-5]|2[0-4]\\\\d|1\\\\d{1,2}|\\\\d\\\\d?)\\\\s*,\\\\s*?){2}(25[0-5]|2[0-4]\\\\d|1\\\\d{1,2}|\\\\d\\\\d?)\\\\s*?\\\\)'), Tuple(Byte(Int, 0, 255), Byte(Int, 0, 255), Byte(Int, 0, 255)), Tuple(Byte(Int, 0, 255), Byte(Int, 0, 255), Byte(Int, 0, 255), Percent) or RGB, got [0.121569, 0.466667, 0.705882]",
     "output_type": "error",
     "traceback": [
      "\u001b[0;31m---------------------------------------------------------------------------\u001b[0m",
      "\u001b[0;31mValueError\u001b[0m                                Traceback (most recent call last)",
      "\u001b[0;32m<ipython-input-94-0c3d63b7ade2>\u001b[0m in \u001b[0;36m<module>\u001b[0;34m\u001b[0m\n\u001b[1;32m     26\u001b[0m         \u001b[0my\u001b[0m\u001b[0;34m=\u001b[0m\u001b[0mfold_changes\u001b[0m\u001b[0;34m[\u001b[0m\u001b[0mval\u001b[0m\u001b[0;34m]\u001b[0m\u001b[0;34m,\u001b[0m\u001b[0;34m\u001b[0m\u001b[0;34m\u001b[0m\u001b[0m\n\u001b[1;32m     27\u001b[0m         \u001b[0mlegend_label\u001b[0m\u001b[0;34m=\u001b[0m\u001b[0mstr\u001b[0m\u001b[0;34m(\u001b[0m\u001b[0mval\u001b[0m\u001b[0;34m)\u001b[0m\u001b[0;34m+\u001b[0m\u001b[0;34m', theoretical'\u001b[0m\u001b[0;34m,\u001b[0m\u001b[0;34m\u001b[0m\u001b[0;34m\u001b[0m\u001b[0m\n\u001b[0;32m---> 28\u001b[0;31m         \u001b[0mcolor\u001b[0m\u001b[0;34m=\u001b[0m\u001b[0mcolor\u001b[0m\u001b[0;34m,\u001b[0m\u001b[0;34m\u001b[0m\u001b[0;34m\u001b[0m\u001b[0m\n\u001b[0m\u001b[1;32m     29\u001b[0m     )\n\u001b[1;32m     30\u001b[0m \u001b[0;34m\u001b[0m\u001b[0m\n",
      "\u001b[0;32m~/opt/anaconda3/lib/python3.7/site-packages/bokeh/plotting/_decorators.py\u001b[0m in \u001b[0;36mwrapped\u001b[0;34m(self, *args, **kwargs)\u001b[0m\n\u001b[1;32m     52\u001b[0m             \u001b[0;32mfor\u001b[0m \u001b[0marg\u001b[0m\u001b[0;34m,\u001b[0m \u001b[0mparam\u001b[0m \u001b[0;32min\u001b[0m \u001b[0mzip\u001b[0m\u001b[0;34m(\u001b[0m\u001b[0margs\u001b[0m\u001b[0;34m,\u001b[0m \u001b[0msigparams\u001b[0m\u001b[0;34m[\u001b[0m\u001b[0;36m1\u001b[0m\u001b[0;34m:\u001b[0m\u001b[0;34m]\u001b[0m\u001b[0;34m)\u001b[0m\u001b[0;34m:\u001b[0m\u001b[0;34m\u001b[0m\u001b[0;34m\u001b[0m\u001b[0m\n\u001b[1;32m     53\u001b[0m                 \u001b[0mkwargs\u001b[0m\u001b[0;34m[\u001b[0m\u001b[0mparam\u001b[0m\u001b[0;34m.\u001b[0m\u001b[0mname\u001b[0m\u001b[0;34m]\u001b[0m \u001b[0;34m=\u001b[0m \u001b[0marg\u001b[0m\u001b[0;34m\u001b[0m\u001b[0;34m\u001b[0m\u001b[0m\n\u001b[0;32m---> 54\u001b[0;31m             \u001b[0;32mreturn\u001b[0m \u001b[0mcreate_renderer\u001b[0m\u001b[0;34m(\u001b[0m\u001b[0mglyphclass\u001b[0m\u001b[0;34m,\u001b[0m \u001b[0mself\u001b[0m\u001b[0;34m,\u001b[0m \u001b[0;34m**\u001b[0m\u001b[0mkwargs\u001b[0m\u001b[0;34m)\u001b[0m\u001b[0;34m\u001b[0m\u001b[0;34m\u001b[0m\u001b[0m\n\u001b[0m\u001b[1;32m     55\u001b[0m \u001b[0;34m\u001b[0m\u001b[0m\n\u001b[1;32m     56\u001b[0m         \u001b[0mwrapped\u001b[0m\u001b[0;34m.\u001b[0m\u001b[0m__signature__\u001b[0m \u001b[0;34m=\u001b[0m \u001b[0mSignature\u001b[0m\u001b[0;34m(\u001b[0m\u001b[0mparameters\u001b[0m\u001b[0;34m=\u001b[0m\u001b[0msigparams\u001b[0m\u001b[0;34m)\u001b[0m\u001b[0;34m\u001b[0m\u001b[0;34m\u001b[0m\u001b[0m\n",
      "\u001b[0;32m~/opt/anaconda3/lib/python3.7/site-packages/bokeh/plotting/_renderer.py\u001b[0m in \u001b[0;36mcreate_renderer\u001b[0;34m(glyphclass, plot, **kwargs)\u001b[0m\n\u001b[1;32m    116\u001b[0m \u001b[0;34m\u001b[0m\u001b[0m\n\u001b[1;32m    117\u001b[0m     glyph_renderer = GlyphRenderer(\n\u001b[0;32m--> 118\u001b[0;31m         \u001b[0mglyph\u001b[0m\u001b[0;34m=\u001b[0m\u001b[0mmake_glyph\u001b[0m\u001b[0;34m(\u001b[0m\u001b[0mglyphclass\u001b[0m\u001b[0;34m,\u001b[0m \u001b[0mkwargs\u001b[0m\u001b[0;34m,\u001b[0m \u001b[0mglyph_visuals\u001b[0m\u001b[0;34m)\u001b[0m\u001b[0;34m,\u001b[0m\u001b[0;34m\u001b[0m\u001b[0;34m\u001b[0m\u001b[0m\n\u001b[0m\u001b[1;32m    119\u001b[0m         \u001b[0mnonselection_glyph\u001b[0m\u001b[0;34m=\u001b[0m\u001b[0mmake_glyph\u001b[0m\u001b[0;34m(\u001b[0m\u001b[0mglyphclass\u001b[0m\u001b[0;34m,\u001b[0m \u001b[0mkwargs\u001b[0m\u001b[0;34m,\u001b[0m \u001b[0mnonselection_visuals\u001b[0m\u001b[0;34m)\u001b[0m\u001b[0;34m,\u001b[0m\u001b[0;34m\u001b[0m\u001b[0;34m\u001b[0m\u001b[0m\n\u001b[1;32m    120\u001b[0m         \u001b[0mselection_glyph\u001b[0m\u001b[0;34m=\u001b[0m\u001b[0mmake_glyph\u001b[0m\u001b[0;34m(\u001b[0m\u001b[0mglyphclass\u001b[0m\u001b[0;34m,\u001b[0m \u001b[0mkwargs\u001b[0m\u001b[0;34m,\u001b[0m \u001b[0mselection_visuals\u001b[0m\u001b[0;34m)\u001b[0m\u001b[0;34m,\u001b[0m\u001b[0;34m\u001b[0m\u001b[0;34m\u001b[0m\u001b[0m\n",
      "\u001b[0;32m~/opt/anaconda3/lib/python3.7/site-packages/bokeh/plotting/_renderer.py\u001b[0m in \u001b[0;36mmake_glyph\u001b[0;34m(glyphclass, kws, extra)\u001b[0m\n\u001b[1;32m    135\u001b[0m     \u001b[0mkws\u001b[0m \u001b[0;34m=\u001b[0m \u001b[0mkws\u001b[0m\u001b[0;34m.\u001b[0m\u001b[0mcopy\u001b[0m\u001b[0;34m(\u001b[0m\u001b[0;34m)\u001b[0m\u001b[0;34m\u001b[0m\u001b[0;34m\u001b[0m\u001b[0m\n\u001b[1;32m    136\u001b[0m     \u001b[0mkws\u001b[0m\u001b[0;34m.\u001b[0m\u001b[0mupdate\u001b[0m\u001b[0;34m(\u001b[0m\u001b[0mextra\u001b[0m\u001b[0;34m)\u001b[0m\u001b[0;34m\u001b[0m\u001b[0;34m\u001b[0m\u001b[0m\n\u001b[0;32m--> 137\u001b[0;31m     \u001b[0;32mreturn\u001b[0m \u001b[0mglyphclass\u001b[0m\u001b[0;34m(\u001b[0m\u001b[0;34m**\u001b[0m\u001b[0mkws\u001b[0m\u001b[0;34m)\u001b[0m\u001b[0;34m\u001b[0m\u001b[0;34m\u001b[0m\u001b[0m\n\u001b[0m\u001b[1;32m    138\u001b[0m \u001b[0;34m\u001b[0m\u001b[0m\n\u001b[1;32m    139\u001b[0m \u001b[0;32mdef\u001b[0m \u001b[0mpop_visuals\u001b[0m\u001b[0;34m(\u001b[0m\u001b[0mglyphclass\u001b[0m\u001b[0;34m,\u001b[0m \u001b[0mprops\u001b[0m\u001b[0;34m,\u001b[0m \u001b[0mprefix\u001b[0m\u001b[0;34m=\u001b[0m\u001b[0;34m\"\"\u001b[0m\u001b[0;34m,\u001b[0m \u001b[0mdefaults\u001b[0m\u001b[0;34m=\u001b[0m\u001b[0;34m{\u001b[0m\u001b[0;34m}\u001b[0m\u001b[0;34m,\u001b[0m \u001b[0moverride_defaults\u001b[0m\u001b[0;34m=\u001b[0m\u001b[0;34m{\u001b[0m\u001b[0;34m}\u001b[0m\u001b[0;34m)\u001b[0m\u001b[0;34m:\u001b[0m\u001b[0;34m\u001b[0m\u001b[0;34m\u001b[0m\u001b[0m\n",
      "\u001b[0;32m~/opt/anaconda3/lib/python3.7/site-packages/bokeh/model.py\u001b[0m in \u001b[0;36m__init__\u001b[0;34m(self, **kwargs)\u001b[0m\n\u001b[1;32m    232\u001b[0m         \u001b[0mkwargs\u001b[0m\u001b[0;34m.\u001b[0m\u001b[0mpop\u001b[0m\u001b[0;34m(\u001b[0m\u001b[0;34m\"id\"\u001b[0m\u001b[0;34m,\u001b[0m \u001b[0;32mNone\u001b[0m\u001b[0;34m)\u001b[0m\u001b[0;34m\u001b[0m\u001b[0;34m\u001b[0m\u001b[0m\n\u001b[1;32m    233\u001b[0m \u001b[0;34m\u001b[0m\u001b[0m\n\u001b[0;32m--> 234\u001b[0;31m         \u001b[0msuper\u001b[0m\u001b[0;34m(\u001b[0m\u001b[0;34m)\u001b[0m\u001b[0;34m.\u001b[0m\u001b[0m__init__\u001b[0m\u001b[0;34m(\u001b[0m\u001b[0;34m**\u001b[0m\u001b[0mkwargs\u001b[0m\u001b[0;34m)\u001b[0m\u001b[0;34m\u001b[0m\u001b[0;34m\u001b[0m\u001b[0m\n\u001b[0m\u001b[1;32m    235\u001b[0m         \u001b[0mdefault_theme\u001b[0m\u001b[0;34m.\u001b[0m\u001b[0mapply_to_model\u001b[0m\u001b[0;34m(\u001b[0m\u001b[0mself\u001b[0m\u001b[0;34m)\u001b[0m\u001b[0;34m\u001b[0m\u001b[0;34m\u001b[0m\u001b[0m\n\u001b[1;32m    236\u001b[0m \u001b[0;34m\u001b[0m\u001b[0m\n",
      "\u001b[0;32m~/opt/anaconda3/lib/python3.7/site-packages/bokeh/core/has_props.py\u001b[0m in \u001b[0;36m__init__\u001b[0;34m(self, **properties)\u001b[0m\n\u001b[1;32m    245\u001b[0m \u001b[0;34m\u001b[0m\u001b[0m\n\u001b[1;32m    246\u001b[0m         \u001b[0;32mfor\u001b[0m \u001b[0mname\u001b[0m\u001b[0;34m,\u001b[0m \u001b[0mvalue\u001b[0m \u001b[0;32min\u001b[0m \u001b[0mproperties\u001b[0m\u001b[0;34m.\u001b[0m\u001b[0mitems\u001b[0m\u001b[0;34m(\u001b[0m\u001b[0;34m)\u001b[0m\u001b[0;34m:\u001b[0m\u001b[0;34m\u001b[0m\u001b[0;34m\u001b[0m\u001b[0m\n\u001b[0;32m--> 247\u001b[0;31m             \u001b[0msetattr\u001b[0m\u001b[0;34m(\u001b[0m\u001b[0mself\u001b[0m\u001b[0;34m,\u001b[0m \u001b[0mname\u001b[0m\u001b[0;34m,\u001b[0m \u001b[0mvalue\u001b[0m\u001b[0;34m)\u001b[0m\u001b[0;34m\u001b[0m\u001b[0;34m\u001b[0m\u001b[0m\n\u001b[0m\u001b[1;32m    248\u001b[0m \u001b[0;34m\u001b[0m\u001b[0m\n\u001b[1;32m    249\u001b[0m     \u001b[0;32mdef\u001b[0m \u001b[0m__setattr__\u001b[0m\u001b[0;34m(\u001b[0m\u001b[0mself\u001b[0m\u001b[0;34m,\u001b[0m \u001b[0mname\u001b[0m\u001b[0;34m,\u001b[0m \u001b[0mvalue\u001b[0m\u001b[0;34m)\u001b[0m\u001b[0;34m:\u001b[0m\u001b[0;34m\u001b[0m\u001b[0;34m\u001b[0m\u001b[0m\n",
      "\u001b[0;32m~/opt/anaconda3/lib/python3.7/site-packages/bokeh/core/has_props.py\u001b[0m in \u001b[0;36m__setattr__\u001b[0;34m(self, name, value)\u001b[0m\n\u001b[1;32m    272\u001b[0m \u001b[0;34m\u001b[0m\u001b[0m\n\u001b[1;32m    273\u001b[0m         \u001b[0;32mif\u001b[0m \u001b[0mname\u001b[0m \u001b[0;32min\u001b[0m \u001b[0mprops\u001b[0m \u001b[0;32mor\u001b[0m \u001b[0;34m(\u001b[0m\u001b[0mdescriptor\u001b[0m \u001b[0;32mis\u001b[0m \u001b[0;32mnot\u001b[0m \u001b[0;32mNone\u001b[0m \u001b[0;32mand\u001b[0m \u001b[0mdescriptor\u001b[0m\u001b[0;34m.\u001b[0m\u001b[0mfset\u001b[0m \u001b[0;32mis\u001b[0m \u001b[0;32mnot\u001b[0m \u001b[0;32mNone\u001b[0m\u001b[0;34m)\u001b[0m\u001b[0;34m:\u001b[0m\u001b[0;34m\u001b[0m\u001b[0;34m\u001b[0m\u001b[0m\n\u001b[0;32m--> 274\u001b[0;31m             \u001b[0msuper\u001b[0m\u001b[0;34m(\u001b[0m\u001b[0;34m)\u001b[0m\u001b[0;34m.\u001b[0m\u001b[0m__setattr__\u001b[0m\u001b[0;34m(\u001b[0m\u001b[0mname\u001b[0m\u001b[0;34m,\u001b[0m \u001b[0mvalue\u001b[0m\u001b[0;34m)\u001b[0m\u001b[0;34m\u001b[0m\u001b[0;34m\u001b[0m\u001b[0m\n\u001b[0m\u001b[1;32m    275\u001b[0m         \u001b[0;32melse\u001b[0m\u001b[0;34m:\u001b[0m\u001b[0;34m\u001b[0m\u001b[0;34m\u001b[0m\u001b[0m\n\u001b[1;32m    276\u001b[0m             \u001b[0mmatches\u001b[0m\u001b[0;34m,\u001b[0m \u001b[0mtext\u001b[0m \u001b[0;34m=\u001b[0m \u001b[0mdifflib\u001b[0m\u001b[0;34m.\u001b[0m\u001b[0mget_close_matches\u001b[0m\u001b[0;34m(\u001b[0m\u001b[0mname\u001b[0m\u001b[0;34m.\u001b[0m\u001b[0mlower\u001b[0m\u001b[0;34m(\u001b[0m\u001b[0;34m)\u001b[0m\u001b[0;34m,\u001b[0m \u001b[0mprops\u001b[0m\u001b[0;34m)\u001b[0m\u001b[0;34m,\u001b[0m \u001b[0;34m\"similar\"\u001b[0m\u001b[0;34m\u001b[0m\u001b[0;34m\u001b[0m\u001b[0m\n",
      "\u001b[0;32m~/opt/anaconda3/lib/python3.7/site-packages/bokeh/core/property/descriptors.py\u001b[0m in \u001b[0;36m__set__\u001b[0;34m(self, obj, value, setter)\u001b[0m\n\u001b[1;32m    537\u001b[0m             \u001b[0;32mraise\u001b[0m \u001b[0mRuntimeError\u001b[0m\u001b[0;34m(\u001b[0m\u001b[0;34m\"%s.%s is a readonly property\"\u001b[0m \u001b[0;34m%\u001b[0m \u001b[0;34m(\u001b[0m\u001b[0mobj\u001b[0m\u001b[0;34m.\u001b[0m\u001b[0m__class__\u001b[0m\u001b[0;34m.\u001b[0m\u001b[0m__name__\u001b[0m\u001b[0;34m,\u001b[0m \u001b[0mself\u001b[0m\u001b[0;34m.\u001b[0m\u001b[0mname\u001b[0m\u001b[0;34m)\u001b[0m\u001b[0;34m)\u001b[0m\u001b[0;34m\u001b[0m\u001b[0;34m\u001b[0m\u001b[0m\n\u001b[1;32m    538\u001b[0m \u001b[0;34m\u001b[0m\u001b[0m\n\u001b[0;32m--> 539\u001b[0;31m         \u001b[0mself\u001b[0m\u001b[0;34m.\u001b[0m\u001b[0m_internal_set\u001b[0m\u001b[0;34m(\u001b[0m\u001b[0mobj\u001b[0m\u001b[0;34m,\u001b[0m \u001b[0mvalue\u001b[0m\u001b[0;34m,\u001b[0m \u001b[0msetter\u001b[0m\u001b[0;34m=\u001b[0m\u001b[0msetter\u001b[0m\u001b[0;34m)\u001b[0m\u001b[0;34m\u001b[0m\u001b[0;34m\u001b[0m\u001b[0m\n\u001b[0m\u001b[1;32m    540\u001b[0m \u001b[0;34m\u001b[0m\u001b[0m\n\u001b[1;32m    541\u001b[0m     \u001b[0;32mdef\u001b[0m \u001b[0m__delete__\u001b[0m\u001b[0;34m(\u001b[0m\u001b[0mself\u001b[0m\u001b[0;34m,\u001b[0m \u001b[0mobj\u001b[0m\u001b[0;34m)\u001b[0m\u001b[0;34m:\u001b[0m\u001b[0;34m\u001b[0m\u001b[0;34m\u001b[0m\u001b[0m\n",
      "\u001b[0;32m~/opt/anaconda3/lib/python3.7/site-packages/bokeh/core/property/descriptors.py\u001b[0m in \u001b[0;36m_internal_set\u001b[0;34m(self, obj, value, hint, setter)\u001b[0m\n\u001b[1;32m    758\u001b[0m \u001b[0;34m\u001b[0m\u001b[0m\n\u001b[1;32m    759\u001b[0m         '''\n\u001b[0;32m--> 760\u001b[0;31m         \u001b[0mvalue\u001b[0m \u001b[0;34m=\u001b[0m \u001b[0mself\u001b[0m\u001b[0;34m.\u001b[0m\u001b[0mproperty\u001b[0m\u001b[0;34m.\u001b[0m\u001b[0mprepare_value\u001b[0m\u001b[0;34m(\u001b[0m\u001b[0mobj\u001b[0m\u001b[0;34m,\u001b[0m \u001b[0mself\u001b[0m\u001b[0;34m.\u001b[0m\u001b[0mname\u001b[0m\u001b[0;34m,\u001b[0m \u001b[0mvalue\u001b[0m\u001b[0;34m)\u001b[0m\u001b[0;34m\u001b[0m\u001b[0;34m\u001b[0m\u001b[0m\n\u001b[0m\u001b[1;32m    761\u001b[0m \u001b[0;34m\u001b[0m\u001b[0m\n\u001b[1;32m    762\u001b[0m         \u001b[0mold\u001b[0m \u001b[0;34m=\u001b[0m \u001b[0mself\u001b[0m\u001b[0;34m.\u001b[0m\u001b[0m__get__\u001b[0m\u001b[0;34m(\u001b[0m\u001b[0mobj\u001b[0m\u001b[0;34m,\u001b[0m \u001b[0mobj\u001b[0m\u001b[0;34m.\u001b[0m\u001b[0m__class__\u001b[0m\u001b[0;34m)\u001b[0m\u001b[0;34m\u001b[0m\u001b[0;34m\u001b[0m\u001b[0m\n",
      "\u001b[0;32m~/opt/anaconda3/lib/python3.7/site-packages/bokeh/core/property/bases.py\u001b[0m in \u001b[0;36mprepare_value\u001b[0;34m(self, obj_or_cls, name, value)\u001b[0m\n\u001b[1;32m    329\u001b[0m                     \u001b[0;32mbreak\u001b[0m\u001b[0;34m\u001b[0m\u001b[0;34m\u001b[0m\u001b[0m\n\u001b[1;32m    330\u001b[0m             \u001b[0;32melse\u001b[0m\u001b[0;34m:\u001b[0m\u001b[0;34m\u001b[0m\u001b[0;34m\u001b[0m\u001b[0m\n\u001b[0;32m--> 331\u001b[0;31m                 \u001b[0;32mraise\u001b[0m \u001b[0me\u001b[0m\u001b[0;34m\u001b[0m\u001b[0;34m\u001b[0m\u001b[0m\n\u001b[0m\u001b[1;32m    332\u001b[0m         \u001b[0;32melse\u001b[0m\u001b[0;34m:\u001b[0m\u001b[0;34m\u001b[0m\u001b[0;34m\u001b[0m\u001b[0m\n\u001b[1;32m    333\u001b[0m             \u001b[0mvalue\u001b[0m \u001b[0;34m=\u001b[0m \u001b[0mself\u001b[0m\u001b[0;34m.\u001b[0m\u001b[0mtransform\u001b[0m\u001b[0;34m(\u001b[0m\u001b[0mvalue\u001b[0m\u001b[0;34m)\u001b[0m\u001b[0;34m\u001b[0m\u001b[0;34m\u001b[0m\u001b[0m\n",
      "\u001b[0;32m~/opt/anaconda3/lib/python3.7/site-packages/bokeh/core/property/bases.py\u001b[0m in \u001b[0;36mprepare_value\u001b[0;34m(self, obj_or_cls, name, value)\u001b[0m\n\u001b[1;32m    322\u001b[0m         \u001b[0;32mtry\u001b[0m\u001b[0;34m:\u001b[0m\u001b[0;34m\u001b[0m\u001b[0;34m\u001b[0m\u001b[0m\n\u001b[1;32m    323\u001b[0m             \u001b[0;32mif\u001b[0m \u001b[0mvalidation_on\u001b[0m\u001b[0;34m(\u001b[0m\u001b[0;34m)\u001b[0m\u001b[0;34m:\u001b[0m\u001b[0;34m\u001b[0m\u001b[0;34m\u001b[0m\u001b[0m\n\u001b[0;32m--> 324\u001b[0;31m                 \u001b[0mself\u001b[0m\u001b[0;34m.\u001b[0m\u001b[0mvalidate\u001b[0m\u001b[0;34m(\u001b[0m\u001b[0mvalue\u001b[0m\u001b[0;34m)\u001b[0m\u001b[0;34m\u001b[0m\u001b[0;34m\u001b[0m\u001b[0m\n\u001b[0m\u001b[1;32m    325\u001b[0m         \u001b[0;32mexcept\u001b[0m \u001b[0mValueError\u001b[0m \u001b[0;32mas\u001b[0m \u001b[0me\u001b[0m\u001b[0;34m:\u001b[0m\u001b[0;34m\u001b[0m\u001b[0;34m\u001b[0m\u001b[0m\n\u001b[1;32m    326\u001b[0m             \u001b[0;32mfor\u001b[0m \u001b[0mtp\u001b[0m\u001b[0;34m,\u001b[0m \u001b[0mconverter\u001b[0m \u001b[0;32min\u001b[0m \u001b[0mself\u001b[0m\u001b[0;34m.\u001b[0m\u001b[0malternatives\u001b[0m\u001b[0;34m:\u001b[0m\u001b[0;34m\u001b[0m\u001b[0;34m\u001b[0m\u001b[0m\n",
      "\u001b[0;32m~/opt/anaconda3/lib/python3.7/site-packages/bokeh/core/property/either.py\u001b[0m in \u001b[0;36mvalidate\u001b[0;34m(self, value, detail)\u001b[0m\n\u001b[1;32m    107\u001b[0m         \u001b[0;32mif\u001b[0m \u001b[0;32mnot\u001b[0m \u001b[0;34m(\u001b[0m\u001b[0mvalue\u001b[0m \u001b[0;32mis\u001b[0m \u001b[0;32mNone\u001b[0m \u001b[0;32mor\u001b[0m \u001b[0many\u001b[0m\u001b[0;34m(\u001b[0m\u001b[0mparam\u001b[0m\u001b[0;34m.\u001b[0m\u001b[0mis_valid\u001b[0m\u001b[0;34m(\u001b[0m\u001b[0mvalue\u001b[0m\u001b[0;34m)\u001b[0m \u001b[0;32mfor\u001b[0m \u001b[0mparam\u001b[0m \u001b[0;32min\u001b[0m \u001b[0mself\u001b[0m\u001b[0;34m.\u001b[0m\u001b[0mtype_params\u001b[0m\u001b[0;34m)\u001b[0m\u001b[0;34m)\u001b[0m\u001b[0;34m:\u001b[0m\u001b[0;34m\u001b[0m\u001b[0;34m\u001b[0m\u001b[0m\n\u001b[1;32m    108\u001b[0m             \u001b[0mmsg\u001b[0m \u001b[0;34m=\u001b[0m \u001b[0;34m\"\"\u001b[0m \u001b[0;32mif\u001b[0m \u001b[0;32mnot\u001b[0m \u001b[0mdetail\u001b[0m \u001b[0;32melse\u001b[0m \u001b[0;34m\"expected an element of either %s, got %r\"\u001b[0m \u001b[0;34m%\u001b[0m \u001b[0;34m(\u001b[0m\u001b[0mnice_join\u001b[0m\u001b[0;34m(\u001b[0m\u001b[0mself\u001b[0m\u001b[0;34m.\u001b[0m\u001b[0mtype_params\u001b[0m\u001b[0;34m)\u001b[0m\u001b[0;34m,\u001b[0m \u001b[0mvalue\u001b[0m\u001b[0;34m)\u001b[0m\u001b[0;34m\u001b[0m\u001b[0;34m\u001b[0m\u001b[0m\n\u001b[0;32m--> 109\u001b[0;31m             \u001b[0;32mraise\u001b[0m \u001b[0mValueError\u001b[0m\u001b[0;34m(\u001b[0m\u001b[0mmsg\u001b[0m\u001b[0;34m)\u001b[0m\u001b[0;34m\u001b[0m\u001b[0;34m\u001b[0m\u001b[0m\n\u001b[0m\u001b[1;32m    110\u001b[0m \u001b[0;34m\u001b[0m\u001b[0m\n\u001b[1;32m    111\u001b[0m     \u001b[0;31m# TODO (bev) implement this\u001b[0m\u001b[0;34m\u001b[0m\u001b[0;34m\u001b[0m\u001b[0;34m\u001b[0m\u001b[0m\n",
      "\u001b[0;31mValueError\u001b[0m: expected an element of either Enum('aliceblue', 'antiquewhite', 'aqua', 'aquamarine', 'azure', 'beige', 'bisque', 'black', 'blanchedalmond', 'blue', 'blueviolet', 'brown', 'burlywood', 'cadetblue', 'chartreuse', 'chocolate', 'coral', 'cornflowerblue', 'cornsilk', 'crimson', 'cyan', 'darkblue', 'darkcyan', 'darkgoldenrod', 'darkgray', 'darkgreen', 'darkgrey', 'darkkhaki', 'darkmagenta', 'darkolivegreen', 'darkorange', 'darkorchid', 'darkred', 'darksalmon', 'darkseagreen', 'darkslateblue', 'darkslategray', 'darkslategrey', 'darkturquoise', 'darkviolet', 'deeppink', 'deepskyblue', 'dimgray', 'dimgrey', 'dodgerblue', 'firebrick', 'floralwhite', 'forestgreen', 'fuchsia', 'gainsboro', 'ghostwhite', 'gold', 'goldenrod', 'gray', 'green', 'greenyellow', 'grey', 'honeydew', 'hotpink', 'indianred', 'indigo', 'ivory', 'khaki', 'lavender', 'lavenderblush', 'lawngreen', 'lemonchiffon', 'lightblue', 'lightcoral', 'lightcyan', 'lightgoldenrodyellow', 'lightgray', 'lightgreen', 'lightgrey', 'lightpink', 'lightsalmon', 'lightseagreen', 'lightskyblue', 'lightslategray', 'lightslategrey', 'lightsteelblue', 'lightyellow', 'lime', 'limegreen', 'linen', 'magenta', 'maroon', 'mediumaquamarine', 'mediumblue', 'mediumorchid', 'mediumpurple', 'mediumseagreen', 'mediumslateblue', 'mediumspringgreen', 'mediumturquoise', 'mediumvioletred', 'midnightblue', 'mintcream', 'mistyrose', 'moccasin', 'navajowhite', 'navy', 'oldlace', 'olive', 'olivedrab', 'orange', 'orangered', 'orchid', 'palegoldenrod', 'palegreen', 'paleturquoise', 'palevioletred', 'papayawhip', 'peachpuff', 'peru', 'pink', 'plum', 'powderblue', 'purple', 'red', 'rosybrown', 'royalblue', 'saddlebrown', 'salmon', 'sandybrown', 'seagreen', 'seashell', 'sienna', 'silver', 'skyblue', 'slateblue', 'slategray', 'slategrey', 'snow', 'springgreen', 'steelblue', 'tan', 'teal', 'thistle', 'tomato', 'turquoise', 'violet', 'wheat', 'white', 'whitesmoke', 'yellow', 'yellowgreen'), Regex('^#[0-9a-fA-F]{6}$'), Regex('^rgba\\\\(((25[0-5]|2[0-4]\\\\d|1\\\\d{1,2}|\\\\d\\\\d?)\\\\s*,\\\\s*?){2}(25[0-5]|2[0-4]\\\\d|1\\\\d{1,2}|\\\\d\\\\d?)\\\\s*,\\\\s*([01]\\\\.?\\\\d*?)\\\\)'), Regex('^rgb\\\\(((25[0-5]|2[0-4]\\\\d|1\\\\d{1,2}|\\\\d\\\\d?)\\\\s*,\\\\s*?){2}(25[0-5]|2[0-4]\\\\d|1\\\\d{1,2}|\\\\d\\\\d?)\\\\s*?\\\\)'), Tuple(Byte(Int, 0, 255), Byte(Int, 0, 255), Byte(Int, 0, 255)), Tuple(Byte(Int, 0, 255), Byte(Int, 0, 255), Byte(Int, 0, 255), Percent) or RGB, got [0.121569, 0.466667, 0.705882]"
     ]
    }
   ],
   "source": [
    "# 3\n",
    "\n",
    "palette=colorcet.glasbey_category10\n",
    "\n",
    "p_lac = bokeh.plotting.figure(\n",
    "        frame_width=400,\n",
    "        frame_height=300,\n",
    "        x_axis_label='[IPTG] (mM)',\n",
    "        y_axis_label='fold change',\n",
    "        x_axis_type='log',\n",
    "    )\n",
    "\n",
    "for i, val in enumerate(np.unique(df_lac['genotype'])):\n",
    "    \n",
    "    color=palette[i % len(palette)]\n",
    "    \n",
    "    p_lac.circle(\n",
    "        x=df_lac.loc[df_lac['genotype']==val]['[IPTG] (mM)'],\n",
    "        y=df_lac.loc[df_lac['genotype']==val]['fold change'],\n",
    "        legend_label=str(val),\n",
    "        color=color,\n",
    "    )\n",
    "    \n",
    "    p_lac.line(\n",
    "        x=c,\n",
    "        y=fold_changes[val],\n",
    "        legend_label=str(val)+', theoretical',\n",
    "        color=color,\n",
    "    )\n",
    "        \n",
    "p_lac.legend.title = 'genotype'\n",
    "p_lac.legend.location = 'top_left'\n",
    "p_lac.legend.click_policy = 'hide'\n",
    "\n",
    "bokeh.io.show(p_lac)"
   ]
  },
  {
   "cell_type": "code",
   "execution_count": 222,
   "metadata": {},
   "outputs": [
    {
     "data": {
      "text/html": [
       "\n",
       "\n",
       "\n",
       "\n",
       "\n",
       "\n",
       "  <div class=\"bk-root\" id=\"8745db27-d8ca-4b47-95e9-f659113d08b8\" data-root-id=\"41747\"></div>\n"
      ]
     },
     "metadata": {},
     "output_type": "display_data"
    },
    {
     "data": {
      "application/javascript": [
       "(function(root) {\n",
       "  function embed_document(root) {\n",
       "    \n",
       "  var docs_json = {\"dd64e3e6-27c0-4e6f-9384-6b6021421673\":{\"roots\":{\"references\":[{\"attributes\":{\"below\":[{\"id\":\"41756\"}],\"center\":[{\"id\":\"41759\"},{\"id\":\"41763\"},{\"id\":\"41791\"}],\"frame_height\":300,\"frame_width\":400,\"left\":[{\"id\":\"41760\"}],\"renderers\":[{\"id\":\"41782\"},{\"id\":\"41797\"},{\"id\":\"41813\"},{\"id\":\"41830\"},{\"id\":\"41849\"},{\"id\":\"41870\"}],\"title\":{\"id\":\"41784\"},\"toolbar\":{\"id\":\"41771\"},\"x_range\":{\"id\":\"41748\"},\"x_scale\":{\"id\":\"41752\"},\"y_range\":{\"id\":\"41750\"},\"y_scale\":{\"id\":\"41754\"}},\"id\":\"41747\",\"subtype\":\"Figure\",\"type\":\"Plot\"},{\"attributes\":{\"overlay\":{\"id\":\"41770\"}},\"id\":\"41766\",\"type\":\"BoxZoomTool\"},{\"attributes\":{},\"id\":\"41863\",\"type\":\"UnionRenderers\"},{\"attributes\":{},\"id\":\"41864\",\"type\":\"Selection\"},{\"attributes\":{},\"id\":\"41886\",\"type\":\"UnionRenderers\"},{\"attributes\":{\"label\":{\"value\":\"Q18M, theoretical\"},\"renderers\":[{\"id\":\"41849\"}]},\"id\":\"41866\",\"type\":\"LegendItem\"},{\"attributes\":{},\"id\":\"41761\",\"type\":\"BasicTicker\"},{\"attributes\":{\"label\":{\"value\":\"WT\"},\"renderers\":[{\"id\":\"41813\"}]},\"id\":\"41826\",\"type\":\"LegendItem\"},{\"attributes\":{},\"id\":\"41767\",\"type\":\"SaveTool\"},{\"attributes\":{},\"id\":\"41887\",\"type\":\"Selection\"},{\"attributes\":{\"source\":{\"id\":\"41793\"}},\"id\":\"41798\",\"type\":\"CDSView\"},{\"attributes\":{\"data_source\":{\"id\":\"41778\"},\"glyph\":{\"id\":\"41780\"},\"hover_glyph\":null,\"muted_glyph\":null,\"nonselection_glyph\":{\"id\":\"41781\"},\"selection_glyph\":null,\"view\":{\"id\":\"41783\"}},\"id\":\"41782\",\"type\":\"GlyphRenderer\"},{\"attributes\":{\"source\":{\"id\":\"41867\"}},\"id\":\"41871\",\"type\":\"CDSView\"},{\"attributes\":{},\"id\":\"41768\",\"type\":\"ResetTool\"},{\"attributes\":{\"axis_label\":\"fold change\",\"formatter\":{\"id\":\"41786\"},\"ticker\":{\"id\":\"41761\"}},\"id\":\"41760\",\"type\":\"LinearAxis\"},{\"attributes\":{},\"id\":\"42475\",\"type\":\"Selection\"},{\"attributes\":{\"background_fill_alpha\":0,\"click_policy\":\"hide\",\"items\":[{\"id\":\"41792\"},{\"id\":\"41808\"},{\"id\":\"41826\"},{\"id\":\"41845\"},{\"id\":\"41866\"},{\"id\":\"41889\"}],\"location\":\"top_left\",\"title\":\"genotype\"},\"id\":\"41791\",\"type\":\"Legend\"},{\"attributes\":{},\"id\":\"41769\",\"type\":\"HelpTool\"},{\"attributes\":{},\"id\":\"42474\",\"type\":\"UnionRenderers\"},{\"attributes\":{\"line_alpha\":0.1,\"line_color\":\"#ff7e0e\",\"x\":{\"field\":\"x\"},\"y\":{\"field\":\"y\"}},\"id\":\"41848\",\"type\":\"Line\"},{\"attributes\":{},\"id\":\"41805\",\"type\":\"UnionRenderers\"},{\"attributes\":{\"data\":{\"x\":{\"__ndarray__\":\"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\",\"dtype\":\"float64\",\"shape\":[400]},\"y\":{\"__ndarray__\":\"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\",\"dtype\":\"float64\",\"shape\":[400]}},\"selected\":{\"id\":\"41864\"},\"selection_policy\":{\"id\":\"41863\"}},\"id\":\"41827\",\"type\":\"ColumnDataSource\"},{\"attributes\":{\"source\":{\"id\":\"41846\"}},\"id\":\"41850\",\"type\":\"CDSView\"},{\"attributes\":{\"num_minor_ticks\":10},\"id\":\"41757\",\"type\":\"LogTicker\"},{\"attributes\":{\"data_source\":{\"id\":\"41809\"},\"glyph\":{\"id\":\"41811\"},\"hover_glyph\":null,\"muted_glyph\":null,\"nonselection_glyph\":{\"id\":\"41812\"},\"selection_glyph\":null,\"view\":{\"id\":\"41814\"}},\"id\":\"41813\",\"type\":\"GlyphRenderer\"},{\"attributes\":{\"text\":\"\"},\"id\":\"41784\",\"type\":\"Title\"},{\"attributes\":{\"label\":{\"value\":\"Q18A, theoretical\"},\"renderers\":[{\"id\":\"41830\"}]},\"id\":\"41845\",\"type\":\"LegendItem\"},{\"attributes\":{\"fill_alpha\":{\"value\":0.1},\"fill_color\":{\"value\":\"#1f77b3\"},\"line_alpha\":{\"value\":0.1},\"line_color\":{\"value\":\"#1f77b3\"},\"x\":{\"field\":\"[IPTG] (mM)\"},\"y\":{\"field\":\"fold change\"}},\"id\":\"41781\",\"type\":\"Circle\"},{\"attributes\":{\"fill_color\":{\"value\":\"#2ba02b\"},\"line_color\":{\"value\":\"#2ba02b\"},\"x\":{\"field\":\"[IPTG] (mM)\"},\"y\":{\"field\":\"fold change\"}},\"id\":\"41811\",\"type\":\"Circle\"},{\"attributes\":{\"axis\":{\"id\":\"41756\"},\"ticker\":null},\"id\":\"41759\",\"type\":\"Grid\"},{\"attributes\":{\"source\":{\"id\":\"41778\"}},\"id\":\"41783\",\"type\":\"CDSView\"},{\"attributes\":{\"source\":{\"id\":\"41809\"}},\"id\":\"41814\",\"type\":\"CDSView\"},{\"attributes\":{\"line_color\":\"#1f77b3\",\"x\":{\"field\":\"x\"},\"y\":{\"field\":\"y\"}},\"id\":\"41828\",\"type\":\"Line\"},{\"attributes\":{},\"id\":\"41786\",\"type\":\"BasicTickFormatter\"},{\"attributes\":{},\"id\":\"41748\",\"type\":\"DataRange1d\"},{\"attributes\":{\"label\":{\"value\":\"Q18A\"},\"renderers\":[{\"id\":\"41782\"}]},\"id\":\"41792\",\"type\":\"LegendItem\"},{\"attributes\":{\"data\":{\"x\":{\"__ndarray__\":\"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\",\"dtype\":\"float64\",\"shape\":[400]},\"y\":{\"__ndarray__\":\"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\",\"dtype\":\"float64\",\"shape\":[400]}},\"selected\":{\"id\":\"41887\"},\"selection_policy\":{\"id\":\"41886\"}},\"id\":\"41846\",\"type\":\"ColumnDataSource\"},{\"attributes\":{\"line_color\":\"#2ba02b\",\"x\":{\"field\":\"x\"},\"y\":{\"field\":\"y\"}},\"id\":\"41868\",\"type\":\"Line\"},{\"attributes\":{},\"id\":\"41750\",\"type\":\"DataRange1d\"},{\"attributes\":{},\"id\":\"41765\",\"type\":\"WheelZoomTool\"},{\"attributes\":{},\"id\":\"41752\",\"type\":\"LogScale\"},{\"attributes\":{\"label\":{\"value\":\"WT, theoretical\"},\"renderers\":[{\"id\":\"41870\"}]},\"id\":\"41889\",\"type\":\"LegendItem\"},{\"attributes\":{\"line_alpha\":0.1,\"line_color\":\"#1f77b3\",\"x\":{\"field\":\"x\"},\"y\":{\"field\":\"y\"}},\"id\":\"41829\",\"type\":\"Line\"},{\"attributes\":{},\"id\":\"41824\",\"type\":\"Selection\"},{\"attributes\":{\"data_source\":{\"id\":\"41827\"},\"glyph\":{\"id\":\"41828\"},\"hover_glyph\":null,\"muted_glyph\":null,\"nonselection_glyph\":{\"id\":\"41829\"},\"selection_glyph\":null,\"view\":{\"id\":\"41831\"}},\"id\":\"41830\",\"type\":\"GlyphRenderer\"},{\"attributes\":{\"ticker\":null},\"id\":\"41788\",\"type\":\"LogTickFormatter\"},{\"attributes\":{\"axis\":{\"id\":\"41760\"},\"dimension\":1,\"ticker\":null},\"id\":\"41763\",\"type\":\"Grid\"},{\"attributes\":{\"fill_alpha\":{\"value\":0.1},\"fill_color\":{\"value\":\"#2ba02b\"},\"line_alpha\":{\"value\":0.1},\"line_color\":{\"value\":\"#2ba02b\"},\"x\":{\"field\":\"[IPTG] (mM)\"},\"y\":{\"field\":\"fold change\"}},\"id\":\"41812\",\"type\":\"Circle\"},{\"attributes\":{\"data_source\":{\"id\":\"41793\"},\"glyph\":{\"id\":\"41795\"},\"hover_glyph\":null,\"muted_glyph\":null,\"nonselection_glyph\":{\"id\":\"41796\"},\"selection_glyph\":null,\"view\":{\"id\":\"41798\"}},\"id\":\"41797\",\"type\":\"GlyphRenderer\"},{\"attributes\":{},\"id\":\"41843\",\"type\":\"Selection\"},{\"attributes\":{\"data\":{\"[IPTG] (mM)\":{\"__ndarray__\":\"ljc+f17B4z5vzdyBxnBQP7l7HP69bmA/GBN/RkQAcD/xFYbxr2aAP/QRFFeyW5A/aZ1Psvfqnj+2k/OKdaipP0oXtRo0KbA/Hoc565uguT8AmQviz2m/P06yGS7bP8o/bnW4woiC0D+zwjQmI+jYPyrz+jndcek/1D17B1vR+D/OJH152nQJQLSZWkK+zxhA/CVYa5TIKkBi8QIGGhY6QA==\",\"dtype\":\"float64\",\"shape\":[20]},\"fold change\":{\"__ndarray__\":\"gASx9LXylz9gViOHVQyhP4Ah1REDPaE/INuybB/zoz8A5lHb1qymP6Asnv0JH7E/EF1V+8DZvT8RePjeT37HP6jzMVVegsc/iKNp4zF9yD8x+fXFIbfKP+ge1mBWHso/4AuZGtIHzD8K9lagURzLP6Fgyoy0G9A/aCuBYZuuzj+INWSbUmrOP09YFYU71M0/p0kqD8HhzT8yJaCaYD7OPw==\",\"dtype\":\"float64\",\"shape\":[20]},\"genotype\":[\"Q18M\",\"Q18M\",\"Q18M\",\"Q18M\",\"Q18M\",\"Q18M\",\"Q18M\",\"Q18M\",\"Q18M\",\"Q18M\",\"Q18M\",\"Q18M\",\"Q18M\",\"Q18M\",\"Q18M\",\"Q18M\",\"Q18M\",\"Q18M\",\"Q18M\",\"Q18M\"],\"index\":[25,26,27,28,29,30,31,32,33,34,35,36,37,38,39,40,41,42,43,44]},\"selected\":{\"id\":\"41824\"},\"selection_policy\":{\"id\":\"41823\"}},\"id\":\"41793\",\"type\":\"ColumnDataSource\"},{\"attributes\":{\"line_color\":\"#ff7e0e\",\"x\":{\"field\":\"x\"},\"y\":{\"field\":\"y\"}},\"id\":\"41847\",\"type\":\"Line\"},{\"attributes\":{\"active_drag\":\"auto\",\"active_inspect\":\"auto\",\"active_multi\":null,\"active_scroll\":\"auto\",\"active_tap\":\"auto\",\"tools\":[{\"id\":\"41764\"},{\"id\":\"41765\"},{\"id\":\"41766\"},{\"id\":\"41767\"},{\"id\":\"41768\"},{\"id\":\"41769\"}]},\"id\":\"41771\",\"type\":\"Toolbar\"},{\"attributes\":{\"data_source\":{\"id\":\"41867\"},\"glyph\":{\"id\":\"41868\"},\"hover_glyph\":null,\"muted_glyph\":null,\"nonselection_glyph\":{\"id\":\"41869\"},\"selection_glyph\":null,\"view\":{\"id\":\"41871\"}},\"id\":\"41870\",\"type\":\"GlyphRenderer\"},{\"attributes\":{\"source\":{\"id\":\"41827\"}},\"id\":\"41831\",\"type\":\"CDSView\"},{\"attributes\":{},\"id\":\"41754\",\"type\":\"LinearScale\"},{\"attributes\":{\"data\":{\"x\":{\"__ndarray__\":\"8WjjiLX45D4CACLPe/3lPsHaVLzsDuc+MSPi0aUt6D78arg3TFrpPpFucBuNleo+fsgNFB7g6z6jCZiKvTrtPo52yCczpu4+ecuFI6gR8D40a4w3eNnwPuXVMuj8qvE+Z4/e5K6G8j5ZBaS5DG3zPv4ZKxibXvQ+PxUeJOVb9T70Ak/DfGX2Pu6nwfH6e/c+D3fKGQCg+D7wR3VwNNL5Ps8IaVZIE/s+2DqAvfRj/D5uvlCT+8T9PlhL4DAoN/8+B/fi56ddAD+TAH4CKSkBPyux1KCM/gE/sggWrU3eAj9sgdkJ7cgDP6laXNzxvgQ/8Qha2unABT8Voqybac8GP+VJ5O8M6wc/LO0GOHcUCT9P/KvEU0wKP+hbqjhWkws/n2GR8DrqDD+xdyhvx1EOPw/mM8/Kyg8/ryRgHQ+rED+rtxy0UnoRP3tSyo6nUxI/xALt3Io3Ez83Aa7ifyYUPwgbeEQQIRU/wU5AVswnFj/fRqhuSzsXPxeWKj4sXBg//+qCKhWLGT8w4oautMgaP3mspr7BFRw/vGxPMvxyHT8WAmwyLeEePwvyodaTMCA/AWj9Z+T5ID9doftC/MwhP/+QPP9UqiI/ncNWHG6SIz9ZLkhLzYUkP1YzeLv+hCU/Yzh3a5WQJj9+Uqp9K6knP93LE5Fizyg/HahrHuQDKj+jxr3ZYUcrP9LdxRiWmiw/ykREPkT+LT+lXokqOXMvP5M9vNglfTA/MRMjiy5KMT9Jl5zGLCEyP+CO3GGcAjM/2UJ8N//uMz/ipcZw3eY0P5ePJtTF6jU/sDpkF077Nj+vZOE1Exk4P7i7Bcu5RDk/968Pce5+Oj9iRoAkZsg7P9kwW6zeIT0/Hjl3Bx+MPj+P+o7v+wNAP9Nlnv8hy0A/LUI2avSbQT/B/Qt463ZCPwQMh0mFXEM/+GpnH0ZNRD8di/OmuElFP+p72UluUkY/al/xgf9nRz9iZBExDItIP87dJf07vEk/7oPCsD78Sj+/fmSgzEtMPyiNnxSnq00/enFzuZgcTz9d4oQJu09QP3q3D/yOGlE/tSMwCT3vUT9NZn+yP85SPzO96mwXuFM/9ISx6kqtVD8GbPtoZ65VP7hqMwEBvFY/MFxW/rLWVz+TW2Y2IP9YPwpsNmjzNVo/enLEnd97Wz+BJ1qToNFcP3dpsCP7N14/KThTub2vXz891cNi4JxgP5QtfJ5za2E/Ug44jQ9EYj9vIPfzMCdjP8u1MadaFWQ/q9w01hUPZT+Zhida8hRmP55G5giHJ2c/62DlC3JHaD8AOEs7WXVpPyyRd33qsWo/pLYuK9z9az96KqJ47VltP25qk+Pmxm4/aBpoU80icD85aqWZcutwP/UZitfWvXE/3G1APXOacj+nxuLdxoFzP+fyrfhWdHQ/dq3BRa9ydT86f5tGYn12P4NfepoJlXc/uK7bVka6eD83hERkwe15P1/BjN8rMHs/SPTjfz+CfD9JzsoBv+R9P4DMPpd2WH8/RlesLh5vgD8QvtBreDuBP8CRsri/EYI/Q5emgm/ygj+C1cg1Cd6DP3QWiYcU1YQ/Y2bWxB/YhT8qmBYkwOeGP+QEGRuSBIg/Vwk2uTkviT9rKs8FY2iKP09PZmPCsIs/tCWF9xQJjT9ribAXIXKOP+iwpru27I8/sfaU+te8kD9hf862+IyRP7Oq3HQ1Z5I/TpDV6QtMkz98W/Hl/zuUP3Rhd6CbN5U/H1ZbB3A/lj8De7gSFVSXPzDeWhwqdpg/iRWJO1ammT9SVUOlSOWaPwNSLxG5M5w/1Q9rI2iSnT9KlIPbHwKfPwyyZwTaQaA/sek3YgEMoT9gt594+t+hP7eW+2A/vqI/EdnrIlCnoz8S0BP+spukP7j8bbf0m6U/Kc5h6qiopj/UpMldasKnPxMTGl3b6ag/cbbdFaYfqj/Vgbv5fGSrP97vPyUbuaw/41Gky0Qerj8+UNKnx5SvP65acrm9jrA/0+I0MKFcsT+OW1fQhDSyPy+rr/TkFrM/q0VkAkQEtD8FIQi0Kv20P7KfXGgoArY/Us7mdNMTtz8shod8yTK4P9pVSMqvX7k/cn2RsDObuj+m1f/sCua7P7IjFBH0QL0/9Sb477asvj9ITcyIEhXAP/A7qxUN3cA/gn9KT76uwT+8tbb+norCP/Fh6sotccM/f/bBge9ixD//BHtkb2DFP32l6nc/asY/wEiZ2PiAxz+BaPQSPKXIP9fhyH+x18k/mj87pQkZyz8Gz3Wc/WnMP6MQR3xPy80/Me/tyMo9zz9XEap0ImHQP1oi/dDOLNE/0TLuyl8C0j/zr8xmUOLSP8lhlaIhzdM/yn0/wFrD1D8Mo6WTicXVP8mfN9RC1NY/2g+kciLw1z8QK6vyyxnZPyWBTsnqUdo/quOTvzKZ2z+vYRRaYPDcP+H6kkU5WN4/pJfZyIzR3z/H7Q4emq7gPw1MGcMJfuE/iP7mz4xX4j9lEZiOoDvjP/6cPF/IKuQ/skGBA44l5T/NngjugSzmPx95n5U7QOc/zn57zFlh6D+u6LYbg5DpPyCsPSNmzuo/+n1j/rkb7D8al1ytPnntP0T71YO95+4/fHt2zgQ08D/HT2QqgP3wP/iwDeTE0PE/cwjrrEyu8j9Au6wfl5bzP66UuwkqivQ/qilLuJGJ9T/5mCpJYZX2P1U2gv8yrvc/fO+unKjU+D9Cmm69awn6P8vWkjsuTfs/3MxylKqg/D+oxVZUpAT+P4ODG4foef8//BsnF6eAAEB5kIJe200BQMcR3kwHJQJAXRhA06YGA0BT8tvnO/MDQFPP7dBO6wRAq6c5c27vBUBjNVqkMAAHQMJoD4EyHghAKA6+xxhKCUAjx1Q3kIQKQAb/zPJNzgtADyyB6Q8oDUBjdpREnZIOQBBl1WxjBxBA4bOZ0bPOEEAvn0Wfsp8RQCLbHzjYehJAwg1f16JgE0BOxd/ZllEUQM+RYgo/ThVA2yt+8SxXFkA9tnMp+WwXQCZjFbZDkBhAAx/yYLTBGUBIWPsZ+wEbQA6Q3FzQURxAexI/m/WxHUDODTesNSMfQAEbjaAyUyBAEqEBsDEeIUDHaiTyDPMhQJ3pmAI/0iJA81macUi8I0AsnQkOsLEkQPzqEzMDsyVANBSfGdbAJkDkPaotxNsnQMxB1GdwBClAa0Y7q4U7KkBpoOsnt4ErQHiwFsLA1yxAkTFNfmc+LkD9TvvyebYvQNTvs19ooDBAlKk9hCdvMUCLF8t98UcyQCo94StDKzNAMY7Hfp8ZNEBAB/TCjxM1QD0gIfCjGTZAdSc7/HIsN0ASyVQym0w4QJ/Z1I3CejlAkugRGpe3OkB4rZJWzwM8QO8NLaAqYD1ApUpAn3HNPkBG6KRdOyZAQAmhC0oL70BA1sNtQJzBQUDNDbiKZ55CQK6oB1fshUNATAvsALB4RECSyDdePndFQHuMjA8qgkZAmKzQ1AyaR0C58b7lh79IQOeew05E80lAfjJcUvM1S0B6+DHPTohMQN49KqsZ601AK9GpQyBfT0CWPKZxnHJQQOgYqh4iP1FA0KOL95YVUkD479uDdvZSQBqNOUtC4lNA+OHsH4LZVED0SCRtxNxVQKEA/Yie7FZAbzCICq0JWEAWjv0jlDRZQCWYTwEAblpAoOBXK6W2W0C4htTvQA9dQB/Hcs6ZeF5AO3El63/zX0DYjgTDZsBgQJqajbyzkGFAAxkG3h5rYkCKhDz3JVBjQGStbfRMQGRAavNBKh48ZUAMZ3ulKkRmQLu2gn4KWWdAegkDMV17aEBzPMf3yatpQOFuDS0A62pAsFeIr7c5bEBDk0hMsZhtQEfryi23CG9A58c1qE5FcEBNq0D+oA9xQLeqMyPH43FA9EtfSjvCckApo5qWfatzQGYqEmQUoHRAcWCslYygdUDxwzDmea12QALpXz13x3dATK0tCSfveED471CbMyV6QEyyXotPantAsSKpHTa/fECl1B2vqyR+QNBGYSZ+m39AKm80tUKSgEAP1GvvUWCBQIfBMnNjOIJAZefNtfMag0ATMhs4hQiEQB62vdGgAYVAKVjw/9UGhkBLmCw4uxiHQOQc1T7uN4hA5ucVghRliUD/jy5526CKQFBgXQj564tAy+yk6StHjUAddagaPLOOQJku76d9GJBAsouttqLgkEDtCb2CgLKRQIfU1u6PjpJAcTzhvE91k0DKQvPWRGeUQFAM5Jv6ZJVAs1SSLwNvlkBRIhLP94WXQBM18Sh5qphA9wjFuS/dmUA=\",\"dtype\":\"float64\",\"shape\":[400]},\"y\":{\"__ndarray__\":\"RP1esEGlpz+DTgm7W6enPxGYLvqPqac/6rhztd+rpz+dFJVETK6nP8EjMxDXsKc/c2SpkoGzpz8NNvBYTbanP1k0igM8uac/5K19R0+8pz9v2lrviL+nP6d/T9zqwqc/PrxIB3fGpz8dvCOCL8qnP6oj7ngWzqc/wgs3My7Spz9MdXEVedanPxYoaaL52qc/hf/KfLLfpz/AtsFopuSnPzdWqE3Y6ac/m3XTN0vvpz8rmHJaAvWnP178ihEB+6c/GE0N5EoBqD/7uAeG4weoP9gL9trODqg/tn8x+BAWqD/oFYInrh2oPyhl0+mqJag/jOgO+gsuqD+o+x1Q1jaoP8HSFSQPQKg/eOOP8btJqD9JWTF74lOoP2hbZM6IXqg/oRZGR7VpqD+drMyUbnWoP5tdKL27gag/73ZjIqSOqD/gyUSHL5yoP3yreBRmqqg/f74EXlC5qD+eDAtp98ioP1I94bFk2ag/uQSBMqLqqD/nNVdpuvyoP2I6d2C4D6k/agk5tacjqT9BGUiglDipP5knKv6LTqk/VR5FWJtlqT9wxmvu0H2pP6xr+cA7l6k/0QiFm+uxqT9DDTUg8c2pP+9IvdNd66k/ZAoRKkQKqj9N/NOTtyqqP9bQlIzMTKo/o0vdqZhwqj9+uiOrMpaqPy1pqoqyvao/XBNajzHnqj8AxaRfyhKrP8n8fhWZQKs/gTZ9U7twqz9nQyRbUKOrP7b9eiR52Ks/FO3rdlgQrD+bVYUDE0usP7jipYDPiKw/lp8jx7bJrD/UMfrw8w2tP/FAjHm0Va0/o5SCXyihrT9Zq1FIgvCtP2hMbKX3Q64/hNAm28Cbrj/pdktpGfiuP2cEXBVAWa8/OQV4Fne/rz/nn2whghWwP5qMaJ8YTrA/6t2U1qWJsD99UGKwUsiwP3jDokdKCrE/NGFGArpPsT+wCFur0ZixP6PAII3D5bE/1jn9isQ2sj/pmw47DIyyP8b2Ev/U5bI/lLJNHFxEsz+ALwfS4aezP/F2NG6pELQ/x23FX/l+tD8tcgdGG/O0P5DRePxbbbU/ATRXogvutT8rMCCdfXW2P9b/J5UIBLc/FSBXawaatz/c/gwn1De4P9BEFNvR3bg/HHqFgGKMuT+ihGfG60O6P3C609TVBLs/+AVeAovPuz9PDYJ6d6S8P9K13dMIhL0/UhERla1uvj/tJjWn1GS/P3jDf1p2M8A/mcHsurG6wD8KPDhyUkjBP3bnSDCN3ME/r/1A3pR3wj9V+zQbmhnDP40yea/KwsM/gt5W91BzxD/k6ERGUyvFP3lCEUTz6sU/l9S7RU2yxj98dBmkd4HHP30zqRKCWMg/JcdV+XQ3yT/mESTUUB7KP6BKC5wNDcs/sfpePJoDzD//NUsY3AHNP8x/5KOuB84/FLozFOMUzz+vf7gUoBTQP++JJgtBotA/IxBcQy0z0T/3dwNkOMfRP2lV2AkxXtI/OxiR/uD30j84sCuBDZTTP7g+Cp93MtQ/JwvhnNzS1D8TVQ5u9nTVPzprkzh8GNY/85qQ4yK91j+Bo96tnWLXPwVNK8qeCNg/cLfd/deu2D/5JPs/+1TZP+CpTlW7+tk/RYs0Z8yf2j8hhJuS5EPbP5QoEG285ts/Mhr2fQ+I3D9MJGyqnCfdP+Xet5Imxd0/ZVl34HNg3j9H7DeFT/neP1tsbemIj98/Q+YMBnoR4D//R+DJtFngP3rZwGhjoOA/Lve123bl4D+wCZ9h4ijhP7xsdW+bauE/lj0hnJmq4T+UbJWI1ujhP4dn5cRNJeI/gasAs/xf4j8eQbdn4pjiP/JUnor/z+I//nteNVYF4z/YaebS6TjjP0WB7f6+auM/oDoiZtua4z8NR1GnRcnjP9fywzUF9uM/QNQGPSIh5D8CfD2GpUrkP8G9HF+YcuQ/iU+bggSZ5D9v8F8D9L3kPyv57Ddx4eQ/kh2DqIYD5T9tJ7D+PiTlP/p5evakQ+U/rx4XUcNh5T8E3hXJpH7lP89d7QdUmuU/eFHQnNu05T8TXrT0Rc7lPwhXc1Od5uU/u9Lvzev95T+ityZFOxTmPyI5GGKVKeY/kLpzkgM+5j/GKfMFj1HmP7yPU6xAZOY/k8zZMyF25j+8rVMIOYfmP9TDhlKQl+Y/mI3/9y6n5j9zsjSbHLbmPwQg85tgxOY/xucIGALS5j+AtCXsB9/mP2mZ6LR46+Y/ZNYT0Fr35j9p9t9dtALnP2RmaEKLDec/zEwsJ+UX5z+HBZ98xyHnP7MyxHs3K+c//tLTJzo05z8KQuNP1DznP0FvkJAKRec/lvWsVeFM5z8kEufbXFTnP9rCbjKBW+c/I5mVPFJi5z+lB2iz02jnPwUnPycJb+c/ExxKAfZ05z9ocg6FnXrnPzPj3tECgOc/mR5I5CiF5z99SnOXEornP9IAfqbCjuc/yazHrTuT5z/nNzQsgJfnP6cHZISSm+c/T1nh/XSf5z/pFEPGKaPnP8g5RfKypuc/wQ7XfhKq5z/5Rh9SSq3nP1VRdjxcsOc/Ag1X+Umz5z/DIEYwFbbnP301sHW/uOc/MVa/S0q75z/WuCcjt73nP4U07FsHwOc/VakaRjzC5z+snoAiV8TnP/dbWCNZxuc/a7/ubEPI5z88FUIWF8rnP/IwminVy+c//QgapX7N5z9sE0t7FM/nP0ehopOX0Oc/MHQBywjS5z++yC30aNPnP90NSNi41Oc/UYA6N/nV5z9I3yPIKtfnP4xtvTlO2Oc/BXG8MmTZ5z99YC9SbdrnPxLu1i9q2+c/7Bp7XFvc5z9LfzxiQd3nP1vw4cQc3uc/mqsiAu7e5z89Lu2Rtd/nP1zdquZz4Oc/QqKAbSnh5z/4nIyO1uHnP4MNIa174uc/PJP8Jxnj5z9C4H9Zr+PnP7D94Jc+5Oc/VzxcNcfk5z9B7GKASeXnP2H0x8PF5ec/pGLqRjzm5z+nC95NrebnPytQkhkZ5+c/rx3353/n5z9iPiD04efnPwwMZ3Y/6Oc/UpiKpJjo5z9nXM6x7ejnP+6AF88+6ec/g84IK4zp5z9fVh3y1ennP/ThwU4c6uc/0TdtaV/q5z89Q7don+rnP6Mrb3Hc6uc/Emiwphbr5z/W2vYpTuvnP0kAMhuD6+c/yjvXmLXr5z8bTfO/5evnPxD4OqwT7Oc/4ecaeD/s5z8z18Y8aeznP1kFSBKR7Oc/DAGLD7fs5z9g0GxK2+znP3R9x9f97Oc//Q5+yx7t5z9184c4Pu3nP3Tl+zBc7ec/TU8axnjt5z8JNFcIlO3nPzSjYweu7ec/8rw20sbt5z+ISxZ33u3nPzj3ngP17ec/IhnMhAru5z+SMf8GH+7nPyMGB5Yy7uc/mWsmPUXu5z97vxoHV+7nPw0VIv5n7uc/NBkBLHju5z+msAiah+7nP6BTG1GW7uc/LSqyWaTu5z/x6+G7se7nPzqGX3++7uc/D4uEq8ru5z+/a1NH1u7nP1aBe1nh7uc/WeVc6Ovu5z/oHAz69e7nP4CYVZT/7uc/NwrBvAjv5z+ClJR4Ee/nPz7T18wZ7+c/xcBWviHv5z+9eKRRKe/nPyzaHYsw7+c/Ygrsbjfv5z8N2gYBPu/nPwkON0VE7+c/DY0YP0rv5z+EcxzyT+/nP9kOi2FV7+c/NsGFkFrv5z/lzgiCX+/nP1kW7Thk7+c/1rPpt2jv5z+jkZUBbe/nP7vlaBhx7+c/252+/nTv5z+kutW2eO/nP7Wa0kJ87+c/bTbApH/v5z8UTZHegu/nPwKEIfKF7+c/k3g24Yjv5z9TxYCti+/nPyP7nFiO7+c/yI4U5JDv5z+Fu15Rk+/nPzJb4aGV7+c/TLTx1pfv5z+CPtXxme/nPyRewvOb7+c/4xbh3Z3v5z9Qtkuxn+/nP2h2D2+h7+c/rBgtGKPv5z/2eZmtpO/nP4gfPjCm7+c/gL35oKfv5z8lt6AAqe/nPzOZ/U+q7+c/hI7Rj6vv5z9Vz9TArO/nP1sLt+Ot7+c/884f+a7v5z+o464BsO/nPy+s/P2w7+c/Onya7rHv5z8i7BLUsu/nP70o6q6z7+c/fj+ef7Tv5z8QZ6dGte/nP5hEeAS27+c/si1+ubbv5z92ZyFmt+/nP39ixQq47+c/M/TIp7jv5z9njYY9ue/nP3FuVMy57+c/1diEVLrv5z+uPmbWuu/nP9FvQ1K77+c/8MRjyLvv5z+oSAs5vO/nP7zeeqS87+c/bWnwCr3v5z8i7aZsve/nP2ay1sm97+c/VGa1Ir7v5z8=\",\"dtype\":\"float64\",\"shape\":[400]}},\"selected\":{\"id\":\"42475\"},\"selection_policy\":{\"id\":\"42474\"}},\"id\":\"41867\",\"type\":\"ColumnDataSource\"},{\"attributes\":{},\"id\":\"41842\",\"type\":\"UnionRenderers\"},{\"attributes\":{\"bottom_units\":\"screen\",\"fill_alpha\":0.5,\"fill_color\":\"lightgrey\",\"left_units\":\"screen\",\"level\":\"overlay\",\"line_alpha\":1.0,\"line_color\":\"black\",\"line_dash\":[4,4],\"line_width\":2,\"render_mode\":\"css\",\"right_units\":\"screen\",\"top_units\":\"screen\"},\"id\":\"41770\",\"type\":\"BoxAnnotation\"},{\"attributes\":{\"data_source\":{\"id\":\"41846\"},\"glyph\":{\"id\":\"41847\"},\"hover_glyph\":null,\"muted_glyph\":null,\"nonselection_glyph\":{\"id\":\"41848\"},\"selection_glyph\":null,\"view\":{\"id\":\"41850\"}},\"id\":\"41849\",\"type\":\"GlyphRenderer\"},{\"attributes\":{\"axis_label\":\"[IPTG] (mM)\",\"formatter\":{\"id\":\"41788\"},\"ticker\":{\"id\":\"41757\"}},\"id\":\"41756\",\"type\":\"LogAxis\"},{\"attributes\":{\"data\":{\"[IPTG] (mM)\":{\"__ndarray__\":\"MVsKYr/m4z6srB94KE0YP9/xQztxgCk/O95lqTFYOT/0eQyaAidJP7ecM54Vs04/LY+Hbo3oWD/LhBP2p3VeP1AHEpcFH24/YsXbNQrWfT9++ld3JtyMP2av/4IPx5w/Xb1aObp0qD+u4TfKPx2tP6z9ts+VI7k/BlN1mhqquz86f29+29vHP3QJaTeno84/s6hUq05e2D/oiAX8QJznP/FABLlnT/g/kRjaF4pDCEAbu2oS2qEXQI24EPZI3ShA3QUzY5weOEA=\",\"dtype\":\"float64\",\"shape\":[25]},\"fold change\":{\"__ndarray__\":\"MXnHA29Uyz8McnQ/9m3QP4B9K9F4MdI/kJmUCWkC1j9JbsLjD8baPxzDVroru94/AqxLWOR64D+jsBIto9PhP9WBX+TaZOU/+ZH5Z31o6D/LcXL8M8rqP7d9QbGBl+s/ayC2eMld7j8PiXhxxg3wP3FY202ulu0/juvuYbDh7z9/Kes688HtP28yEp0u5e8/BAEL/PIc7z/kj2guinjwP7+WQ/5jnO8/5IfoE2UM8D9UQ1cF+RfwPzncSkqbGfA/zO+kQxvR8D8=\",\"dtype\":\"float64\",\"shape\":[25]},\"genotype\":[\"Q18A\",\"Q18A\",\"Q18A\",\"Q18A\",\"Q18A\",\"Q18A\",\"Q18A\",\"Q18A\",\"Q18A\",\"Q18A\",\"Q18A\",\"Q18A\",\"Q18A\",\"Q18A\",\"Q18A\",\"Q18A\",\"Q18A\",\"Q18A\",\"Q18A\",\"Q18A\",\"Q18A\",\"Q18A\",\"Q18A\",\"Q18A\",\"Q18A\"],\"index\":[0,1,2,3,4,5,6,7,8,9,10,11,12,13,14,15,16,17,18,19,20,21,22,23,24]},\"selected\":{\"id\":\"41806\"},\"selection_policy\":{\"id\":\"41805\"}},\"id\":\"41778\",\"type\":\"ColumnDataSource\"},{\"attributes\":{\"line_alpha\":0.1,\"line_color\":\"#2ba02b\",\"x\":{\"field\":\"x\"},\"y\":{\"field\":\"y\"}},\"id\":\"41869\",\"type\":\"Line\"},{\"attributes\":{},\"id\":\"41764\",\"type\":\"PanTool\"},{\"attributes\":{},\"id\":\"41806\",\"type\":\"Selection\"},{\"attributes\":{},\"id\":\"41823\",\"type\":\"UnionRenderers\"},{\"attributes\":{\"fill_color\":{\"value\":\"#1f77b3\"},\"line_color\":{\"value\":\"#1f77b3\"},\"x\":{\"field\":\"[IPTG] (mM)\"},\"y\":{\"field\":\"fold change\"}},\"id\":\"41780\",\"type\":\"Circle\"},{\"attributes\":{\"fill_alpha\":{\"value\":0.1},\"fill_color\":{\"value\":\"#ff7e0e\"},\"line_alpha\":{\"value\":0.1},\"line_color\":{\"value\":\"#ff7e0e\"},\"x\":{\"field\":\"[IPTG] (mM)\"},\"y\":{\"field\":\"fold change\"}},\"id\":\"41796\",\"type\":\"Circle\"},{\"attributes\":{\"data\":{\"[IPTG] (mM)\":{\"__ndarray__\":\"6As5T8jC5D7aSSGkOu1PP1bGlvNtvmA/CbF0K9yVcD+WHi7syRB/P+kELlhFKZA/nqjkxdQpnj9LWp5pBJqoPw9Qn9Vjo68/7ia7yKZ3uD8GokPStZm/P9PEWItwnck/BhWtQEmKzz8HoUdyYP3YP2/hrL8FS+g/WGlcoVaw9z93Mmd8Y90IQICZU2xlLRhANsP9+mD9JkC6P4ARWyo4QA==\",\"dtype\":\"float64\",\"shape\":[20]},\"fold change\":{\"__ndarray__\":\"gORFSUnWpD8vs9NmNaKyP6Esttrd87o/2FbD+3iIyT9oXi2TGfTVP+C9gO/jZ90/RB+czER75D/UwdPJmdvjP3FuGNt5heU/siGXPWSH5T9OuTRcMsXlP6aWlmJoM+c/VzLChZhB5j96TMER+7zmPyDpIQvydec/ZGjtf/gn5z9nifjlf/XnP1TBiPw8mug/nWwV07Ij6D9JMT7o3nfoPw==\",\"dtype\":\"float64\",\"shape\":[20]},\"genotype\":[\"WT\",\"WT\",\"WT\",\"WT\",\"WT\",\"WT\",\"WT\",\"WT\",\"WT\",\"WT\",\"WT\",\"WT\",\"WT\",\"WT\",\"WT\",\"WT\",\"WT\",\"WT\",\"WT\",\"WT\"],\"index\":[45,46,47,48,49,50,51,52,53,54,55,56,57,58,59,60,61,62,63,64]},\"selected\":{\"id\":\"41843\"},\"selection_policy\":{\"id\":\"41842\"}},\"id\":\"41809\",\"type\":\"ColumnDataSource\"},{\"attributes\":{\"label\":{\"value\":\"Q18M\"},\"renderers\":[{\"id\":\"41797\"}]},\"id\":\"41808\",\"type\":\"LegendItem\"},{\"attributes\":{\"fill_color\":{\"value\":\"#ff7e0e\"},\"line_color\":{\"value\":\"#ff7e0e\"},\"x\":{\"field\":\"[IPTG] (mM)\"},\"y\":{\"field\":\"fold change\"}},\"id\":\"41795\",\"type\":\"Circle\"}],\"root_ids\":[\"41747\"]},\"title\":\"Bokeh Application\",\"version\":\"2.0.2\"}};\n",
       "  var render_items = [{\"docid\":\"dd64e3e6-27c0-4e6f-9384-6b6021421673\",\"root_ids\":[\"41747\"],\"roots\":{\"41747\":\"8745db27-d8ca-4b47-95e9-f659113d08b8\"}}];\n",
       "  root.Bokeh.embed.embed_items_notebook(docs_json, render_items);\n",
       "\n",
       "  }\n",
       "  if (root.Bokeh !== undefined) {\n",
       "    embed_document(root);\n",
       "  } else {\n",
       "    var attempts = 0;\n",
       "    var timer = setInterval(function(root) {\n",
       "      if (root.Bokeh !== undefined) {\n",
       "        clearInterval(timer);\n",
       "        embed_document(root);\n",
       "      } else {\n",
       "        attempts++;\n",
       "        if (attempts > 100) {\n",
       "          clearInterval(timer);\n",
       "          console.log(\"Bokeh: ERROR: Unable to run BokehJS code because BokehJS library is missing\");\n",
       "        }\n",
       "      }\n",
       "    }, 10, root)\n",
       "  }\n",
       "})(window);"
      ],
      "application/vnd.bokehjs_exec.v0+json": ""
     },
     "metadata": {
      "application/vnd.bokehjs_exec.v0+json": {
       "id": "41747"
      }
     },
     "output_type": "display_data"
    }
   ],
   "source": [
    "import colorcet\n",
    "\n",
    "\n",
    "def scatter_p(\n",
    "    data,\n",
    "    cat,\n",
    "    x,\n",
    "    y,\n",
    "    legend_location=\"top_left\",\n",
    "    x_axis_type=\"linear\",\n",
    "    y_axis_type=\"linear\",\n",
    "    palette=colorcet.b_glasbey_category10,\n",
    "):\n",
    "    \"\"\"Generates a Bokeh figure p from x and y in data.\n",
    "    Colors the glyphs according to cat.\"\"\"\n",
    "\n",
    "    p = bokeh.plotting.figure(\n",
    "        frame_width=400,\n",
    "        frame_height=300,\n",
    "        x_axis_label=x,\n",
    "        y_axis_label=y,\n",
    "        x_axis_type=x_axis_type,\n",
    "        y_axis_type=y_axis_type,\n",
    "    )\n",
    "\n",
    "    for i, val in enumerate(np.unique(data[cat])):\n",
    "        p.circle(\n",
    "            source=data.loc[data[cat] == val],\n",
    "            x=x,\n",
    "            y=y,\n",
    "            legend_label=str(val),\n",
    "            color=palette[i % len(palette)],\n",
    "        )\n",
    "\n",
    "    p.legend.title = cat\n",
    "    p.legend.location = legend_location\n",
    "    p.legend.click_policy = \"hide\"\n",
    "\n",
    "    return p\n",
    "\n",
    "\n",
    "p = scatter_p(\n",
    "    data=df_lac,\n",
    "    cat=\"genotype\",\n",
    "    x=\"[IPTG] (mM)\",\n",
    "    y=\"fold change\",\n",
    "    x_axis_type=\"log\",\n",
    "    legend_location=\"top_left\",\n",
    ")\n",
    "\n",
    "data = df_lac\n",
    "cat = \"genotype\"\n",
    "palette = colorcet.b_glasbey_category10\n",
    "\n",
    "\n",
    "def scatter_add_theor_line(\n",
    "    data, cat, x, y, p,\n",
    "):\n",
    "    \"\"\"Adds theoretical lines to Bokeh figure p.\"\"\"\n",
    "\n",
    "    for i, val in enumerate(np.unique(data[cat])):\n",
    "        p.line(\n",
    "            x=c,\n",
    "            y=fold_changes[val],\n",
    "            legend_label=str(val) + \", theoretical\",\n",
    "            color=palette[i % len(palette)],\n",
    "        )\n",
    "\n",
    "    return p\n",
    "\n",
    "\n",
    "p = scatter_add_theor_line(data=df_lac, cat=\"genotype\", x=c, y=fold_changes, p=p,)\n",
    "p.legend.background_fill_alpha = 0\n",
    "\n",
    "bokeh.io.show(p)"
   ]
  },
  {
   "cell_type": "markdown",
   "metadata": {},
   "source": [
    "e) If we look at the functional form of the fold change and at the parameters we are given, we see that only $R/K$ varies from mutant to mutant. Daber, Sochol, and Lewis assumed that the binding to IPTG would be unaltered and the binding to DNA would be altered based on the position of the mutation in the lac repressor protein. Now, if this is true, then $R/K$ should be the only thing that varies. We can check this by seeing if the data collapse onto a single curve. To see how this works, we define the **Bohr parameter**, $F(c)$, as\n",
    "\n",
    "$$ F(c) = -\\ln(R/K) - \\ln \\left( \\frac{(1 + c/K^\\textrm{A}_\\textrm{d})^2}{(1 + c/K^\\textrm{A}_\\textrm{d})^2 + K_\\textrm{switch}(1 + c/K^\\textrm{I}_\\textrm{d})^2} \\right) $$\n",
    "\n",
    "The second term in the Bohr parameter is independent of the identity of the mutant, and the first term depends entirely upon it. Then, the fold change can be written as\n",
    "\n",
    "$$ \\textrm{fold change} = \\frac{1}{1 + e^{-F(c)}}.$$\n",
    "\n",
    "So, if we make our $x$-axis be the Bohr parameter, all data should fall on the same curve. Hence the term, data collapse.\n",
    "\n",
    "Now, we will plot the theoretical curve of fold change versus Bohr parameter.\n",
    "\n",
    "1. Write a function with call signature `bohr_parameter(c, RK, KdA=0.017, KdI=0.002, Kswitch=5.8)` that computes the Bohr parameter.\n",
    "1. Write a function with call signature `fold_change_bohr(bohr_parameter)` that gives the fold change as a function of the Bohr parameter.\n",
    "1. Generate values of the Bohr parameter ranging from $−6$ to $6$ in order to make a smooth plot.\n",
    "1. Compute the theoretical fold change as a function of the Bohr parameter and plot it as a gray line."
   ]
  },
  {
   "cell_type": "code",
   "execution_count": 37,
   "metadata": {},
   "outputs": [],
   "source": [
    "# 1\n",
    "\n",
    "def bohr_parameter(c, RK, KdA=0.017, KdI=0.002, Kswitch=5.8):\n",
    "    \"\"\"Computes the Bohr parameter.\"\"\"\n",
    "    \n",
    "    return - np.log(RK) - np.log( (1 + c/KdA)**2 / ((1 + c/KdA)**2 + Kswitch*(1 + c/KdI)**2))"
   ]
  },
  {
   "cell_type": "code",
   "execution_count": 38,
   "metadata": {},
   "outputs": [],
   "source": [
    "# 2\n",
    "\n",
    "def fold_change_bohr(bohr_parameter):\n",
    "    \"\"\"Computes the fold change as a function of the Bohr parameter.\"\"\"\n",
    "    \n",
    "    return 1 / (1 + np.exp(- bohr_parameter))"
   ]
  },
  {
   "cell_type": "code",
   "execution_count": 55,
   "metadata": {},
   "outputs": [],
   "source": [
    "# 3\n",
    "\n",
    "bp = np.linspace(-6, 6, 400)"
   ]
  },
  {
   "cell_type": "code",
   "execution_count": 58,
   "metadata": {},
   "outputs": [
    {
     "data": {
      "text/html": [
       "\n",
       "\n",
       "\n",
       "\n",
       "\n",
       "\n",
       "  <div class=\"bk-root\" id=\"6698f1af-d3b5-4501-93d1-e57ce5207c75\" data-root-id=\"8107\"></div>\n"
      ]
     },
     "metadata": {},
     "output_type": "display_data"
    },
    {
     "data": {
      "application/javascript": [
       "(function(root) {\n",
       "  function embed_document(root) {\n",
       "    \n",
       "  var docs_json = {\"1e3aac59-a605-43cb-9e25-6bac0f761e75\":{\"roots\":{\"references\":[{\"attributes\":{\"below\":[{\"id\":\"8116\"}],\"center\":[{\"id\":\"8119\"},{\"id\":\"8123\"},{\"id\":\"8150\"}],\"frame_height\":300,\"frame_width\":400,\"left\":[{\"id\":\"8120\"}],\"renderers\":[{\"id\":\"8141\"}],\"title\":{\"id\":\"8143\"},\"toolbar\":{\"id\":\"8131\"},\"x_range\":{\"id\":\"8108\"},\"x_scale\":{\"id\":\"8112\"},\"y_range\":{\"id\":\"8110\"},\"y_scale\":{\"id\":\"8114\"}},\"id\":\"8107\",\"subtype\":\"Figure\",\"type\":\"Plot\"},{\"attributes\":{},\"id\":\"8110\",\"type\":\"DataRange1d\"},{\"attributes\":{},\"id\":\"8108\",\"type\":\"DataRange1d\"},{\"attributes\":{},\"id\":\"8112\",\"type\":\"LinearScale\"},{\"attributes\":{\"axis_label\":\"Bohr parameter\",\"formatter\":{\"id\":\"8147\"},\"ticker\":{\"id\":\"8117\"}},\"id\":\"8116\",\"type\":\"LinearAxis\"},{\"attributes\":{\"data\":{\"x\":{\"__ndarray__\":\"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\",\"dtype\":\"float64\",\"shape\":[400]},\"y\":{\"__ndarray__\":\"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\",\"dtype\":\"float64\",\"shape\":[400]}},\"selected\":{\"id\":\"8310\"},\"selection_policy\":{\"id\":\"8309\"}},\"id\":\"8138\",\"type\":\"ColumnDataSource\"},{\"attributes\":{},\"id\":\"8310\",\"type\":\"Selection\"},{\"attributes\":{},\"id\":\"8117\",\"type\":\"BasicTicker\"},{\"attributes\":{\"line_color\":\"gray\",\"x\":{\"field\":\"x\"},\"y\":{\"field\":\"y\"}},\"id\":\"8139\",\"type\":\"Line\"},{\"attributes\":{},\"id\":\"8114\",\"type\":\"LinearScale\"},{\"attributes\":{\"axis\":{\"id\":\"8120\"},\"dimension\":1,\"ticker\":null},\"id\":\"8123\",\"type\":\"Grid\"},{\"attributes\":{},\"id\":\"8129\",\"type\":\"HelpTool\"},{\"attributes\":{\"axis\":{\"id\":\"8116\"},\"ticker\":null},\"id\":\"8119\",\"type\":\"Grid\"},{\"attributes\":{\"data_source\":{\"id\":\"8138\"},\"glyph\":{\"id\":\"8139\"},\"hover_glyph\":null,\"muted_glyph\":null,\"nonselection_glyph\":{\"id\":\"8140\"},\"selection_glyph\":null,\"view\":{\"id\":\"8142\"}},\"id\":\"8141\",\"type\":\"GlyphRenderer\"},{\"attributes\":{},\"id\":\"8121\",\"type\":\"BasicTicker\"},{\"attributes\":{\"bottom_units\":\"screen\",\"fill_alpha\":0.5,\"fill_color\":\"lightgrey\",\"left_units\":\"screen\",\"level\":\"overlay\",\"line_alpha\":1.0,\"line_color\":\"black\",\"line_dash\":[4,4],\"line_width\":2,\"render_mode\":\"css\",\"right_units\":\"screen\",\"top_units\":\"screen\"},\"id\":\"8130\",\"type\":\"BoxAnnotation\"},{\"attributes\":{\"line_alpha\":0.1,\"line_color\":\"gray\",\"x\":{\"field\":\"x\"},\"y\":{\"field\":\"y\"}},\"id\":\"8140\",\"type\":\"Line\"},{\"attributes\":{\"axis_label\":\"Fold change\",\"formatter\":{\"id\":\"8145\"},\"ticker\":{\"id\":\"8121\"}},\"id\":\"8120\",\"type\":\"LinearAxis\"},{\"attributes\":{\"items\":[{\"id\":\"8151\"}],\"location\":\"top_left\"},\"id\":\"8150\",\"type\":\"Legend\"},{\"attributes\":{\"source\":{\"id\":\"8138\"}},\"id\":\"8142\",\"type\":\"CDSView\"},{\"attributes\":{},\"id\":\"8309\",\"type\":\"UnionRenderers\"},{\"attributes\":{\"active_drag\":\"auto\",\"active_inspect\":\"auto\",\"active_multi\":null,\"active_scroll\":\"auto\",\"active_tap\":\"auto\",\"tools\":[{\"id\":\"8124\"},{\"id\":\"8125\"},{\"id\":\"8126\"},{\"id\":\"8127\"},{\"id\":\"8128\"},{\"id\":\"8129\"}]},\"id\":\"8131\",\"type\":\"Toolbar\"},{\"attributes\":{\"text\":\"\"},\"id\":\"8143\",\"type\":\"Title\"},{\"attributes\":{},\"id\":\"8145\",\"type\":\"BasicTickFormatter\"},{\"attributes\":{},\"id\":\"8124\",\"type\":\"PanTool\"},{\"attributes\":{},\"id\":\"8127\",\"type\":\"SaveTool\"},{\"attributes\":{},\"id\":\"8128\",\"type\":\"ResetTool\"},{\"attributes\":{\"overlay\":{\"id\":\"8130\"}},\"id\":\"8126\",\"type\":\"BoxZoomTool\"},{\"attributes\":{},\"id\":\"8147\",\"type\":\"BasicTickFormatter\"},{\"attributes\":{},\"id\":\"8125\",\"type\":\"WheelZoomTool\"},{\"attributes\":{\"label\":{\"value\":\"F(c)\"},\"renderers\":[{\"id\":\"8141\"}]},\"id\":\"8151\",\"type\":\"LegendItem\"}],\"root_ids\":[\"8107\"]},\"title\":\"Bokeh Application\",\"version\":\"2.0.2\"}};\n",
       "  var render_items = [{\"docid\":\"1e3aac59-a605-43cb-9e25-6bac0f761e75\",\"root_ids\":[\"8107\"],\"roots\":{\"8107\":\"6698f1af-d3b5-4501-93d1-e57ce5207c75\"}}];\n",
       "  root.Bokeh.embed.embed_items_notebook(docs_json, render_items);\n",
       "\n",
       "  }\n",
       "  if (root.Bokeh !== undefined) {\n",
       "    embed_document(root);\n",
       "  } else {\n",
       "    var attempts = 0;\n",
       "    var timer = setInterval(function(root) {\n",
       "      if (root.Bokeh !== undefined) {\n",
       "        clearInterval(timer);\n",
       "        embed_document(root);\n",
       "      } else {\n",
       "        attempts++;\n",
       "        if (attempts > 100) {\n",
       "          clearInterval(timer);\n",
       "          console.log(\"Bokeh: ERROR: Unable to run BokehJS code because BokehJS library is missing\");\n",
       "        }\n",
       "      }\n",
       "    }, 10, root)\n",
       "  }\n",
       "})(window);"
      ],
      "application/vnd.bokehjs_exec.v0+json": ""
     },
     "metadata": {
      "application/vnd.bokehjs_exec.v0+json": {
       "id": "8107"
      }
     },
     "output_type": "display_data"
    }
   ],
   "source": [
    "# 4\n",
    "\n",
    "fc = fold_change_bohr(bp)\n",
    "\n",
    "p_bp = bokeh.plotting.figure(\n",
    "    frame_width=400,\n",
    "    frame_height=300,\n",
    "    x_axis_label='Bohr parameter',\n",
    "    y_axis_label='Fold change',\n",
    ")\n",
    "\n",
    "p_bp.line(\n",
    "    x=bp,\n",
    "    y=fc,\n",
    "    color='gray',\n",
    "    legend_label='F(c)'\n",
    ")\n",
    "\n",
    "p_bp.legend.location = 'top_left'\n",
    "\n",
    "bokeh.io.show(p_bp)"
   ]
  },
  {
   "cell_type": "markdown",
   "metadata": {},
   "source": [
    "f) Now, for each experimental curve:\n",
    "\n",
    "1. Convert the IPTG concentration to a Bohr parameter using the given parameters.\n",
    "1. Plot the experimental fold change versus the Bohr parameter you just calculated. Plot the data as dots on the same plot that you made the universal gray curve, making sure to appropriately annotate your plot."
   ]
  },
  {
   "cell_type": "code",
   "execution_count": 41,
   "metadata": {},
   "outputs": [],
   "source": [
    "# 1\n",
    "\n",
    "bp_dict = {}\n",
    "\n",
    "for genotype in RK_dict:\n",
    "    bp = df_lac.loc[df_lac['genotype'] == genotype]['[IPTG] (mM)']\n",
    "    bp_dict[genotype] = bohr_parameter(bp, RK_dict[genotype])"
   ]
  },
  {
   "cell_type": "code",
   "execution_count": 98,
   "metadata": {},
   "outputs": [
    {
     "data": {
      "text/html": [
       "\n",
       "\n",
       "\n",
       "\n",
       "\n",
       "\n",
       "  <div class=\"bk-root\" id=\"66dc04ab-3997-4a29-ab35-aacfd5ff33d3\" data-root-id=\"8107\"></div>\n"
      ]
     },
     "metadata": {},
     "output_type": "display_data"
    },
    {
     "data": {
      "application/javascript": [
       "(function(root) {\n",
       "  function embed_document(root) {\n",
       "    \n",
       "  var docs_json = {\"47c75e86-7518-41c9-b842-b0f7be7e715f\":{\"roots\":{\"references\":[{\"attributes\":{\"below\":[{\"id\":\"8116\"}],\"center\":[{\"id\":\"8119\"},{\"id\":\"8123\"},{\"id\":\"8150\"}],\"frame_height\":300,\"frame_width\":400,\"left\":[{\"id\":\"8120\"}],\"renderers\":[{\"id\":\"8141\"},{\"id\":\"8369\"},{\"id\":\"8708\"},{\"id\":\"9053\"},{\"id\":\"9936\"},{\"id\":\"10330\"},{\"id\":\"10730\"},{\"id\":\"11310\"},{\"id\":\"11722\"},{\"id\":\"12140\"},{\"id\":\"13199\"},{\"id\":\"13667\"},{\"id\":\"14141\"},{\"id\":\"15925\"},{\"id\":\"16487\"},{\"id\":\"17055\"},{\"id\":\"18405\"},{\"id\":\"19023\"},{\"id\":\"19647\"},{\"id\":\"21111\"},{\"id\":\"21785\"},{\"id\":\"22465\"},{\"id\":\"24049\"},{\"id\":\"24779\"},{\"id\":\"25515\"},{\"id\":\"29459\"},{\"id\":\"30359\"},{\"id\":\"31265\"}],\"title\":{\"id\":\"8143\"},\"toolbar\":{\"id\":\"8131\"},\"x_range\":{\"id\":\"8108\"},\"x_scale\":{\"id\":\"8112\"},\"y_range\":{\"id\":\"8110\"},\"y_scale\":{\"id\":\"8114\"}},\"id\":\"8107\",\"subtype\":\"Figure\",\"type\":\"Plot\"},{\"attributes\":{},\"id\":\"8110\",\"type\":\"DataRange1d\"},{\"attributes\":{\"source\":{\"id\":\"8705\"}},\"id\":\"8709\",\"type\":\"CDSView\"},{\"attributes\":{\"data\":{\"x\":{\"__ndarray__\":\"+E+GrgtB7L+KnUZ7DEvqvwi6FHEA/Oe/gEy5WvDh47+Qa6jFEjfZv7CldZBKYNO/gHsarsZNmr9ALqDTkgG9P8yQeIOGqeU/anJhM84v9T8uESG298L+P+sO4ZHsawNA+12RIkGqBUCNsUmw/T4GQA11Q7cipAdAT3P+BhLUB0D9Nug7/aQIQKdXSJuk5whAe+yWnOdACUCb/BMG9IsJQENixDnhtQlAM3hL5tLJCUAxlIeanNMJQGssPQwL2QlAeRy/623bCUA=\",\"dtype\":\"float64\",\"shape\":[25]},\"y\":{\"__ndarray__\":\"MXnHA29Uyz8McnQ/9m3QP4B9K9F4MdI/kJmUCWkC1j9JbsLjD8baPxzDVroru94/AqxLWOR64D+jsBIto9PhP9WBX+TaZOU/+ZH5Z31o6D/LcXL8M8rqP7d9QbGBl+s/ayC2eMld7j8PiXhxxg3wP3FY202ulu0/juvuYbDh7z9/Kes688HtP28yEp0u5e8/BAEL/PIc7z/kj2guinjwP7+WQ/5jnO8/5IfoE2UM8D9UQ1cF+RfwPzncSkqbGfA/zO+kQxvR8D8=\",\"dtype\":\"float64\",\"shape\":[25]}},\"selected\":{\"id\":\"24305\"},\"selection_policy\":{\"id\":\"24304\"}},\"id\":\"24046\",\"type\":\"ColumnDataSource\"},{\"attributes\":{\"data\":{\"x\":{\"__ndarray__\":\"Imv99+0UFcAMziXwhZ8SwJaTgK5O3xDAOHs9Z3A9DcBMT4a7L8kHwApOkutc5QLAcCp1uj+p/r9I6iKM44j6vxy5y2j7E/m/8Fj/0dHW9r+sRJ5k/xb2v9QFdoR7svS/pKdmG21B9L9U/jvtiqrzv2gC55BjD/O/rE3tlZfF8r94pD23c53yv3S7fG/GivK/+NeznDCA8r8QC/xyvXvyvw==\",\"dtype\":\"float64\",\"shape\":[20]},\"y\":{\"__ndarray__\":\"gASx9LXylz9gViOHVQyhP4Ah1REDPaE/INuybB/zoz8A5lHb1qymP6Asnv0JH7E/EF1V+8DZvT8RePjeT37HP6jzMVVegsc/iKNp4zF9yD8x+fXFIbfKP+ge1mBWHso/4AuZGtIHzD8K9lagURzLP6Fgyoy0G9A/aCuBYZuuzj+INWSbUmrOP09YFYU71M0/p0kqD8HhzT8yJaCaYD7OPw==\",\"dtype\":\"float64\",\"shape\":[20]}},\"selected\":{\"id\":\"25039\"},\"selection_policy\":{\"id\":\"25038\"}},\"id\":\"24776\",\"type\":\"ColumnDataSource\"},{\"attributes\":{},\"id\":\"17283\",\"type\":\"Selection\"},{\"attributes\":{},\"id\":\"8112\",\"type\":\"LinearScale\"},{\"attributes\":{\"fill_alpha\":{\"value\":0.1},\"fill_color\":{\"field\":\"fill_color\"},\"line_alpha\":{\"value\":0.1},\"line_color\":{\"field\":\"line_color\"},\"x\":{\"field\":\"x\"},\"y\":{\"field\":\"y\"}},\"id\":\"22464\",\"type\":\"Circle\"},{\"attributes\":{},\"id\":\"8542\",\"type\":\"Selection\"},{\"attributes\":{\"data\":{\"x\":{\"__ndarray__\":\"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\",\"dtype\":\"float64\",\"shape\":[400]},\"y\":{\"__ndarray__\":\"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\",\"dtype\":\"float64\",\"shape\":[400]}},\"selected\":{\"id\":\"8310\"},\"selection_policy\":{\"id\":\"8309\"}},\"id\":\"8138\",\"type\":\"ColumnDataSource\"},{\"attributes\":{\"source\":{\"id\":\"21108\"}},\"id\":\"21112\",\"type\":\"CDSView\"},{\"attributes\":{},\"id\":\"10517\",\"type\":\"UnionRenderers\"},{\"attributes\":{\"source\":{\"id\":\"22462\"}},\"id\":\"22466\",\"type\":\"CDSView\"},{\"attributes\":{},\"id\":\"10119\",\"type\":\"UnionRenderers\"},{\"attributes\":{\"data\":{\"x\":{\"__ndarray__\":\"+E+GrgtB7L+KnUZ7DEvqvwi6FHEA/Oe/gEy5WvDh47+Qa6jFEjfZv7CldZBKYNO/gHsarsZNmr9ALqDTkgG9P8yQeIOGqeU/anJhM84v9T8uESG298L+P+sO4ZHsawNA+12RIkGqBUCNsUmw/T4GQA11Q7cipAdAT3P+BhLUB0D9Nug7/aQIQKdXSJuk5whAe+yWnOdACUCb/BMG9IsJQENixDnhtQlAM3hL5tLJCUAxlIeanNMJQGssPQwL2QlAeRy/623bCUA=\",\"dtype\":\"float64\",\"shape\":[25]},\"y\":{\"__ndarray__\":\"MXnHA29Uyz8McnQ/9m3QP4B9K9F4MdI/kJmUCWkC1j9JbsLjD8baPxzDVroru94/AqxLWOR64D+jsBIto9PhP9WBX+TaZOU/+ZH5Z31o6D/LcXL8M8rqP7d9QbGBl+s/ayC2eMld7j8PiXhxxg3wP3FY202ulu0/juvuYbDh7z9/Kes688HtP28yEp0u5e8/BAEL/PIc7z/kj2guinjwP7+WQ/5jnO8/5IfoE2UM8D9UQ1cF+RfwPzncSkqbGfA/zO+kQxvR8D8=\",\"dtype\":\"float64\",\"shape\":[25]}},\"selected\":{\"id\":\"10120\"},\"selection_policy\":{\"id\":\"10119\"}},\"id\":\"9933\",\"type\":\"ColumnDataSource\"},{\"attributes\":{},\"id\":\"8114\",\"type\":\"LinearScale\"},{\"attributes\":{},\"id\":\"8129\",\"type\":\"HelpTool\"},{\"attributes\":{\"fill_alpha\":{\"value\":0.1},\"fill_color\":{\"value\":\"#1f77b3\"},\"line_alpha\":{\"value\":0.1},\"line_color\":{\"value\":\"#1f77b3\"},\"x\":{\"field\":\"x\"},\"y\":{\"field\":\"y\"}},\"id\":\"24048\",\"type\":\"Circle\"},{\"attributes\":{\"fill_alpha\":{\"value\":0.1},\"fill_color\":{\"value\":\"#1f77b3\"},\"line_alpha\":{\"value\":0.1},\"line_color\":{\"value\":\"#1f77b3\"},\"x\":{\"field\":\"x\"},\"y\":{\"field\":\"y\"}},\"id\":\"8368\",\"type\":\"Circle\"},{\"attributes\":{},\"id\":\"8885\",\"type\":\"Selection\"},{\"attributes\":{},\"id\":\"11922\",\"type\":\"Selection\"},{\"attributes\":{\"fill_color\":{\"value\":\"#1f77b3\"},\"line_color\":{\"value\":\"#1f77b3\"},\"x\":{\"field\":\"x\"},\"y\":{\"field\":\"y\"}},\"id\":\"24047\",\"type\":\"Circle\"},{\"attributes\":{\"source\":{\"id\":\"24046\"}},\"id\":\"24050\",\"type\":\"CDSView\"},{\"attributes\":{},\"id\":\"10120\",\"type\":\"Selection\"},{\"attributes\":{\"data_source\":{\"id\":\"10727\"},\"glyph\":{\"id\":\"10728\"},\"hover_glyph\":null,\"muted_glyph\":null,\"nonselection_glyph\":{\"id\":\"10729\"},\"selection_glyph\":null,\"view\":{\"id\":\"10731\"}},\"id\":\"10730\",\"type\":\"GlyphRenderer\"},{\"attributes\":{\"fill_color\":{\"value\":\"#ff7e0e\"},\"line_color\":{\"value\":\"#ff7e0e\"},\"x\":{\"field\":\"x\"},\"y\":{\"field\":\"y\"}},\"id\":\"13665\",\"type\":\"Circle\"},{\"attributes\":{\"data\":{\"x\":{\"__ndarray__\":\"6DMd8Dk5CMDtY06hyG0DwHgOJrKLY/+/TnRP70UT9r+wlBJLwQvpv0DJesaTlsC/wKfCPWXo0z/wHZyJIxjiP7D/AGbIV+U/6Lf5oBax6T9Q9SZn0JvrP3AtOpSUP+4/CDPemU4T7z+wCAZxPzbwP7BrEnBFyfA/TGxGXnsW8T+gjJY2bkHxP3g1Z3WAVPE/jCZydhhe8T9g4i0vrmPxPw==\",\"dtype\":\"float64\",\"shape\":[20]},\"y\":{\"__ndarray__\":\"gORFSUnWpD8vs9NmNaKyP6Esttrd87o/2FbD+3iIyT9oXi2TGfTVP+C9gO/jZ90/RB+czER75D/UwdPJmdvjP3FuGNt5heU/siGXPWSH5T9OuTRcMsXlP6aWlmJoM+c/VzLChZhB5j96TMER+7zmPyDpIQvydec/ZGjtf/gn5z9nifjlf/XnP1TBiPw8mug/nWwV07Ij6D9JMT7o3nfoPw==\",\"dtype\":\"float64\",\"shape\":[20]}},\"selected\":{\"id\":\"9234\"},\"selection_policy\":{\"id\":\"9233\"}},\"id\":\"9050\",\"type\":\"ColumnDataSource\"},{\"attributes\":{\"fill_alpha\":{\"value\":0.1},\"fill_color\":{\"field\":\"fill_color\"},\"line_alpha\":{\"value\":0.1},\"line_color\":{\"field\":\"line_color\"},\"x\":{\"field\":\"x\"},\"y\":{\"field\":\"y\"}},\"id\":\"11721\",\"type\":\"Circle\"},{\"attributes\":{\"data\":{\"x\":{\"__ndarray__\":\"Imv99+0UFcAMziXwhZ8SwJaTgK5O3xDAOHs9Z3A9DcBMT4a7L8kHwApOkutc5QLAcCp1uj+p/r9I6iKM44j6vxy5y2j7E/m/8Fj/0dHW9r+sRJ5k/xb2v9QFdoR7svS/pKdmG21B9L9U/jvtiqrzv2gC55BjD/O/rE3tlZfF8r94pD23c53yv3S7fG/GivK/+NeznDCA8r8QC/xyvXvyvw==\",\"dtype\":\"float64\",\"shape\":[20]},\"y\":{\"__ndarray__\":\"gASx9LXylz9gViOHVQyhP4Ah1REDPaE/INuybB/zoz8A5lHb1qymP6Asnv0JH7E/EF1V+8DZvT8RePjeT37HP6jzMVVegsc/iKNp4zF9yD8x+fXFIbfKP+ge1mBWHso/4AuZGtIHzD8K9lagURzLP6Fgyoy0G9A/aCuBYZuuzj+INWSbUmrOP09YFYU71M0/p0kqD8HhzT8yJaCaYD7OPw==\",\"dtype\":\"float64\",\"shape\":[20]}},\"selected\":{\"id\":\"13879\"},\"selection_policy\":{\"id\":\"13878\"}},\"id\":\"13664\",\"type\":\"ColumnDataSource\"},{\"attributes\":{\"fill_alpha\":{\"value\":0.1},\"fill_color\":{\"value\":\"#1f77b3\"},\"line_alpha\":{\"value\":0.1},\"line_color\":{\"value\":\"#1f77b3\"},\"x\":{\"field\":\"x\"},\"y\":{\"field\":\"y\"}},\"id\":\"9935\",\"type\":\"Circle\"},{\"attributes\":{\"fill_alpha\":{\"value\":0.1},\"fill_color\":{\"value\":\"#ff7e0e\"},\"line_alpha\":{\"value\":0.1},\"line_color\":{\"value\":\"#ff7e0e\"},\"x\":{\"field\":\"x\"},\"y\":{\"field\":\"y\"}},\"id\":\"24778\",\"type\":\"Circle\"},{\"attributes\":{\"data_source\":{\"id\":\"9050\"},\"glyph\":{\"id\":\"9051\"},\"hover_glyph\":null,\"muted_glyph\":null,\"nonselection_glyph\":{\"id\":\"9052\"},\"selection_glyph\":null,\"view\":{\"id\":\"9054\"}},\"id\":\"9053\",\"type\":\"GlyphRenderer\"},{\"attributes\":{\"source\":{\"id\":\"9050\"}},\"id\":\"9054\",\"type\":\"CDSView\"},{\"attributes\":{\"data_source\":{\"id\":\"24046\"},\"glyph\":{\"id\":\"24047\"},\"hover_glyph\":null,\"muted_glyph\":null,\"nonselection_glyph\":{\"id\":\"24048\"},\"selection_glyph\":null,\"view\":{\"id\":\"24050\"}},\"id\":\"24049\",\"type\":\"GlyphRenderer\"},{\"attributes\":{},\"id\":\"10921\",\"type\":\"UnionRenderers\"},{\"attributes\":{\"active_drag\":\"auto\",\"active_inspect\":\"auto\",\"active_multi\":null,\"active_scroll\":\"auto\",\"active_tap\":\"auto\",\"tools\":[{\"id\":\"8124\"},{\"id\":\"8125\"},{\"id\":\"8126\"},{\"id\":\"8127\"},{\"id\":\"8128\"},{\"id\":\"8129\"}]},\"id\":\"8131\",\"type\":\"Toolbar\"},{\"attributes\":{\"data\":{\"x\":{\"__ndarray__\":\"+E+GrgtB7L+KnUZ7DEvqvwi6FHEA/Oe/gEy5WvDh47+Qa6jFEjfZv7CldZBKYNO/gHsarsZNmr9ALqDTkgG9P8yQeIOGqeU/anJhM84v9T8uESG298L+P+sO4ZHsawNA+12RIkGqBUCNsUmw/T4GQA11Q7cipAdAT3P+BhLUB0D9Nug7/aQIQKdXSJuk5whAe+yWnOdACUCb/BMG9IsJQENixDnhtQlAM3hL5tLJCUAxlIeanNMJQGssPQwL2QlAeRy/623bCUA=\",\"dtype\":\"float64\",\"shape\":[25]},\"y\":{\"__ndarray__\":\"MXnHA29Uyz8McnQ/9m3QP4B9K9F4MdI/kJmUCWkC1j9JbsLjD8baPxzDVroru94/AqxLWOR64D+jsBIto9PhP9WBX+TaZOU/+ZH5Z31o6D/LcXL8M8rqP7d9QbGBl+s/ayC2eMld7j8PiXhxxg3wP3FY202ulu0/juvuYbDh7z9/Kes688HtP28yEp0u5e8/BAEL/PIc7z/kj2guinjwP7+WQ/5jnO8/5IfoE2UM8D9UQ1cF+RfwPzncSkqbGfA/zO+kQxvR8D8=\",\"dtype\":\"float64\",\"shape\":[25]}},\"selected\":{\"id\":\"8542\"},\"selection_policy\":{\"id\":\"8541\"}},\"id\":\"8366\",\"type\":\"ColumnDataSource\"},{\"attributes\":{\"fill_color\":{\"value\":\"#1f77b3\"},\"line_color\":{\"value\":\"#1f77b3\"},\"x\":{\"field\":\"x\"},\"y\":{\"field\":\"y\"}},\"id\":\"8367\",\"type\":\"Circle\"},{\"attributes\":{\"fill_alpha\":{\"value\":0.1},\"fill_color\":{\"value\":\"#ff7e0e\"},\"line_alpha\":{\"value\":0.1},\"line_color\":{\"value\":\"#ff7e0e\"},\"x\":{\"field\":\"x\"},\"y\":{\"field\":\"y\"}},\"id\":\"30358\",\"type\":\"Circle\"},{\"attributes\":{},\"id\":\"30630\",\"type\":\"UnionRenderers\"},{\"attributes\":{\"label\":{\"value\":\"Q18M\"},\"renderers\":[{\"id\":\"8708\"},{\"id\":\"10330\"},{\"id\":\"11722\"},{\"id\":\"13667\"},{\"id\":\"16487\"},{\"id\":\"19023\"},{\"id\":\"21785\"},{\"id\":\"24779\"},{\"id\":\"30359\"}]},\"id\":\"8721\",\"type\":\"LegendItem\"},{\"attributes\":{},\"id\":\"22033\",\"type\":\"Selection\"},{\"attributes\":{\"label\":{\"value\":\"WT\"},\"renderers\":[{\"id\":\"9053\"},{\"id\":\"10730\"},{\"id\":\"12140\"},{\"id\":\"14141\"},{\"id\":\"17055\"},{\"id\":\"19647\"},{\"id\":\"22465\"},{\"id\":\"25515\"},{\"id\":\"31265\"}]},\"id\":\"9068\",\"type\":\"LegendItem\"},{\"attributes\":{\"fill_color\":{\"value\":\"#1f77b3\"},\"line_color\":{\"value\":\"#1f77b3\"},\"x\":{\"field\":\"x\"},\"y\":{\"field\":\"y\"}},\"id\":\"9934\",\"type\":\"Circle\"},{\"attributes\":{\"fill_color\":{\"field\":\"fill_color\"},\"line_color\":{\"field\":\"line_color\"},\"x\":{\"field\":\"x\"},\"y\":{\"field\":\"y\"}},\"id\":\"11720\",\"type\":\"Circle\"},{\"attributes\":{\"fill_alpha\":{\"value\":0.1},\"fill_color\":{\"value\":\"#2ba02b\"},\"line_alpha\":{\"value\":0.1},\"line_color\":{\"value\":\"#2ba02b\"},\"x\":{\"field\":\"x\"},\"y\":{\"field\":\"y\"}},\"id\":\"10729\",\"type\":\"Circle\"},{\"attributes\":{},\"id\":\"11921\",\"type\":\"UnionRenderers\"},{\"attributes\":{\"fill_alpha\":{\"value\":0.1},\"fill_color\":{\"value\":\"#2ba02b\"},\"line_alpha\":{\"value\":0.1},\"line_color\":{\"value\":\"#2ba02b\"},\"x\":{\"field\":\"x\"},\"y\":{\"field\":\"y\"}},\"id\":\"9052\",\"type\":\"Circle\"},{\"attributes\":{\"data_source\":{\"id\":\"8705\"},\"glyph\":{\"id\":\"8706\"},\"hover_glyph\":null,\"muted_glyph\":null,\"nonselection_glyph\":{\"id\":\"8707\"},\"selection_glyph\":null,\"view\":{\"id\":\"8709\"}},\"id\":\"8708\",\"type\":\"GlyphRenderer\"},{\"attributes\":{},\"id\":\"22717\",\"type\":\"Selection\"},{\"attributes\":{\"source\":{\"id\":\"10327\"}},\"id\":\"10331\",\"type\":\"CDSView\"},{\"attributes\":{\"source\":{\"id\":\"11719\"}},\"id\":\"11723\",\"type\":\"CDSView\"},{\"attributes\":{},\"id\":\"9233\",\"type\":\"UnionRenderers\"},{\"attributes\":{},\"id\":\"9234\",\"type\":\"Selection\"},{\"attributes\":{\"fill_color\":{\"value\":\"#2ba02b\"},\"line_color\":{\"value\":\"#2ba02b\"},\"x\":{\"field\":\"x\"},\"y\":{\"field\":\"y\"}},\"id\":\"25513\",\"type\":\"Circle\"},{\"attributes\":{},\"id\":\"8108\",\"type\":\"DataRange1d\"},{\"attributes\":{\"axis_label\":\"Bohr parameter\",\"formatter\":{\"id\":\"8147\"},\"ticker\":{\"id\":\"8117\"}},\"id\":\"8116\",\"type\":\"LinearAxis\"},{\"attributes\":{},\"id\":\"8117\",\"type\":\"BasicTicker\"},{\"attributes\":{\"line_color\":\"gray\",\"x\":{\"field\":\"x\"},\"y\":{\"field\":\"y\"}},\"id\":\"8139\",\"type\":\"Line\"},{\"attributes\":{\"fill_color\":{\"value\":\"#ff7e0e\"},\"line_color\":{\"value\":\"#ff7e0e\"},\"x\":{\"field\":\"x\"},\"y\":{\"field\":\"y\"}},\"id\":\"8706\",\"type\":\"Circle\"},{\"attributes\":{\"data\":{\"x\":{\"__ndarray__\":\"Imv99+0UFcAMziXwhZ8SwJaTgK5O3xDAOHs9Z3A9DcBMT4a7L8kHwApOkutc5QLAcCp1uj+p/r9I6iKM44j6vxy5y2j7E/m/8Fj/0dHW9r+sRJ5k/xb2v9QFdoR7svS/pKdmG21B9L9U/jvtiqrzv2gC55BjD/O/rE3tlZfF8r94pD23c53yv3S7fG/GivK/+NeznDCA8r8QC/xyvXvyvw==\",\"dtype\":\"float64\",\"shape\":[20]},\"y\":{\"__ndarray__\":\"gASx9LXylz9gViOHVQyhP4Ah1REDPaE/INuybB/zoz8A5lHb1qymP6Asnv0JH7E/EF1V+8DZvT8RePjeT37HP6jzMVVegsc/iKNp4zF9yD8x+fXFIbfKP+ge1mBWHso/4AuZGtIHzD8K9lagURzLP6Fgyoy0G9A/aCuBYZuuzj+INWSbUmrOP09YFYU71M0/p0kqD8HhzT8yJaCaYD7OPw==\",\"dtype\":\"float64\",\"shape\":[20]}},\"selected\":{\"id\":\"8885\"},\"selection_policy\":{\"id\":\"8884\"}},\"id\":\"8705\",\"type\":\"ColumnDataSource\"},{\"attributes\":{},\"id\":\"22716\",\"type\":\"UnionRenderers\"},{\"attributes\":{\"axis\":{\"id\":\"8120\"},\"dimension\":1,\"ticker\":null},\"id\":\"8123\",\"type\":\"Grid\"},{\"attributes\":{},\"id\":\"25038\",\"type\":\"UnionRenderers\"},{\"attributes\":{\"axis\":{\"id\":\"8116\"},\"ticker\":null},\"id\":\"8119\",\"type\":\"Grid\"},{\"attributes\":{},\"id\":\"22032\",\"type\":\"UnionRenderers\"},{\"attributes\":{\"data_source\":{\"id\":\"8138\"},\"glyph\":{\"id\":\"8139\"},\"hover_glyph\":null,\"muted_glyph\":null,\"nonselection_glyph\":{\"id\":\"8140\"},\"selection_glyph\":null,\"view\":{\"id\":\"8142\"}},\"id\":\"8141\",\"type\":\"GlyphRenderer\"},{\"attributes\":{\"data_source\":{\"id\":\"8366\"},\"glyph\":{\"id\":\"8367\"},\"hover_glyph\":null,\"muted_glyph\":null,\"nonselection_glyph\":{\"id\":\"8368\"},\"selection_glyph\":null,\"view\":{\"id\":\"8370\"}},\"id\":\"8369\",\"type\":\"GlyphRenderer\"},{\"attributes\":{},\"id\":\"10922\",\"type\":\"Selection\"},{\"attributes\":{},\"id\":\"8121\",\"type\":\"BasicTicker\"},{\"attributes\":{\"label\":{\"value\":\"Q18A\"},\"renderers\":[{\"id\":\"8369\"},{\"id\":\"9936\"},{\"id\":\"11310\"},{\"id\":\"13199\"},{\"id\":\"15925\"},{\"id\":\"18405\"},{\"id\":\"21111\"},{\"id\":\"24049\"},{\"id\":\"29459\"}]},\"id\":\"8380\",\"type\":\"LegendItem\"},{\"attributes\":{\"data_source\":{\"id\":\"22462\"},\"glyph\":{\"id\":\"22463\"},\"hover_glyph\":null,\"muted_glyph\":null,\"nonselection_glyph\":{\"id\":\"22464\"},\"selection_glyph\":null,\"view\":{\"id\":\"22466\"}},\"id\":\"22465\",\"type\":\"GlyphRenderer\"},{\"attributes\":{\"data_source\":{\"id\":\"11307\"},\"glyph\":{\"id\":\"11308\"},\"hover_glyph\":null,\"muted_glyph\":null,\"nonselection_glyph\":{\"id\":\"11309\"},\"selection_glyph\":null,\"view\":{\"id\":\"11311\"}},\"id\":\"11310\",\"type\":\"GlyphRenderer\"},{\"attributes\":{\"data_source\":{\"id\":\"10327\"},\"glyph\":{\"id\":\"10328\"},\"hover_glyph\":null,\"muted_glyph\":null,\"nonselection_glyph\":{\"id\":\"10329\"},\"selection_glyph\":null,\"view\":{\"id\":\"10331\"}},\"id\":\"10330\",\"type\":\"GlyphRenderer\"},{\"attributes\":{\"line_alpha\":0.1,\"line_color\":\"gray\",\"x\":{\"field\":\"x\"},\"y\":{\"field\":\"y\"}},\"id\":\"8140\",\"type\":\"Line\"},{\"attributes\":{\"data_source\":{\"id\":\"25512\"},\"glyph\":{\"id\":\"25513\"},\"hover_glyph\":null,\"muted_glyph\":null,\"nonselection_glyph\":{\"id\":\"25514\"},\"selection_glyph\":null,\"view\":{\"id\":\"25516\"}},\"id\":\"25515\",\"type\":\"GlyphRenderer\"},{\"attributes\":{},\"id\":\"11506\",\"type\":\"Selection\"},{\"attributes\":{\"axis_label\":\"Fold change\",\"formatter\":{\"id\":\"8145\"},\"ticker\":{\"id\":\"8121\"}},\"id\":\"8120\",\"type\":\"LinearAxis\"},{\"attributes\":{\"source\":{\"id\":\"11307\"}},\"id\":\"11311\",\"type\":\"CDSView\"},{\"attributes\":{\"fill_alpha\":{\"value\":0.1},\"fill_color\":{\"value\":\"#2ba02b\"},\"line_alpha\":{\"value\":0.1},\"line_color\":{\"value\":\"#2ba02b\"},\"x\":{\"field\":\"x\"},\"y\":{\"field\":\"y\"}},\"id\":\"25514\",\"type\":\"Circle\"},{\"attributes\":{\"data_source\":{\"id\":\"24776\"},\"glyph\":{\"id\":\"24777\"},\"hover_glyph\":null,\"muted_glyph\":null,\"nonselection_glyph\":{\"id\":\"24778\"},\"selection_glyph\":null,\"view\":{\"id\":\"24780\"}},\"id\":\"24779\",\"type\":\"GlyphRenderer\"},{\"attributes\":{\"source\":{\"id\":\"9933\"}},\"id\":\"9937\",\"type\":\"CDSView\"},{\"attributes\":{\"source\":{\"id\":\"8138\"}},\"id\":\"8142\",\"type\":\"CDSView\"},{\"attributes\":{\"source\":{\"id\":\"8366\"}},\"id\":\"8370\",\"type\":\"CDSView\"},{\"attributes\":{},\"id\":\"10518\",\"type\":\"Selection\"},{\"attributes\":{},\"id\":\"21355\",\"type\":\"Selection\"},{\"attributes\":{\"fill_alpha\":{\"value\":0.1},\"fill_color\":{\"value\":\"#ff7e0e\"},\"line_alpha\":{\"value\":0.1},\"line_color\":{\"value\":\"#ff7e0e\"},\"x\":{\"field\":\"x\"},\"y\":{\"field\":\"y\"}},\"id\":\"10329\",\"type\":\"Circle\"},{\"attributes\":{},\"id\":\"8124\",\"type\":\"PanTool\"},{\"attributes\":{\"data_source\":{\"id\":\"9933\"},\"glyph\":{\"id\":\"9934\"},\"hover_glyph\":null,\"muted_glyph\":null,\"nonselection_glyph\":{\"id\":\"9935\"},\"selection_glyph\":null,\"view\":{\"id\":\"9937\"}},\"id\":\"9936\",\"type\":\"GlyphRenderer\"},{\"attributes\":{},\"id\":\"11505\",\"type\":\"UnionRenderers\"},{\"attributes\":{},\"id\":\"8128\",\"type\":\"ResetTool\"},{\"attributes\":{\"fill_alpha\":{\"value\":0.1},\"fill_color\":{\"value\":\"#ff7e0e\"},\"line_alpha\":{\"value\":0.1},\"line_color\":{\"value\":\"#ff7e0e\"},\"x\":{\"field\":\"x\"},\"y\":{\"field\":\"y\"}},\"id\":\"8707\",\"type\":\"Circle\"},{\"attributes\":{\"data\":{\"x\":{\"__ndarray__\":\"6DMd8Dk5CMDtY06hyG0DwHgOJrKLY/+/TnRP70UT9r+wlBJLwQvpv0DJesaTlsC/wKfCPWXo0z/wHZyJIxjiP7D/AGbIV+U/6Lf5oBax6T9Q9SZn0JvrP3AtOpSUP+4/CDPemU4T7z+wCAZxPzbwP7BrEnBFyfA/TGxGXnsW8T+gjJY2bkHxP3g1Z3WAVPE/jCZydhhe8T9g4i0vrmPxPw==\",\"dtype\":\"float64\",\"shape\":[20]},\"y\":{\"__ndarray__\":\"gORFSUnWpD8vs9NmNaKyP6Esttrd87o/2FbD+3iIyT9oXi2TGfTVP+C9gO/jZ90/RB+czER75D/UwdPJmdvjP3FuGNt5heU/siGXPWSH5T9OuTRcMsXlP6aWlmJoM+c/VzLChZhB5j96TMER+7zmPyDpIQvydec/ZGjtf/gn5z9nifjlf/XnP1TBiPw8mug/nWwV07Ij6D9JMT7o3nfoPw==\",\"dtype\":\"float64\",\"shape\":[20]}},\"selected\":{\"id\":\"10922\"},\"selection_policy\":{\"id\":\"10921\"}},\"id\":\"10727\",\"type\":\"ColumnDataSource\"},{\"attributes\":{},\"id\":\"16144\",\"type\":\"UnionRenderers\"},{\"attributes\":{},\"id\":\"25039\",\"type\":\"Selection\"},{\"attributes\":{\"source\":{\"id\":\"10727\"}},\"id\":\"10731\",\"type\":\"CDSView\"},{\"attributes\":{\"fill_alpha\":{\"value\":0.1},\"fill_color\":{\"field\":\"fill_color\"},\"line_alpha\":{\"value\":0.1},\"line_color\":{\"field\":\"line_color\"},\"x\":{\"field\":\"x\"},\"y\":{\"field\":\"y\"}},\"id\":\"21784\",\"type\":\"Circle\"},{\"attributes\":{\"overlay\":{\"id\":\"8130\"}},\"id\":\"8126\",\"type\":\"BoxZoomTool\"},{\"attributes\":{\"source\":{\"id\":\"24776\"}},\"id\":\"24780\",\"type\":\"CDSView\"},{\"attributes\":{},\"id\":\"8125\",\"type\":\"WheelZoomTool\"},{\"attributes\":{\"fill_alpha\":{\"value\":0.1},\"fill_color\":{\"field\":\"fill_color\"},\"line_alpha\":{\"value\":0.1},\"line_color\":{\"field\":\"line_color\"},\"x\":{\"field\":\"x\"},\"y\":{\"field\":\"y\"}},\"id\":\"12139\",\"type\":\"Circle\"},{\"attributes\":{\"data\":{\"x\":{\"__ndarray__\":\"6DMd8Dk5CMDtY06hyG0DwHgOJrKLY/+/TnRP70UT9r+wlBJLwQvpv0DJesaTlsC/wKfCPWXo0z/wHZyJIxjiP7D/AGbIV+U/6Lf5oBax6T9Q9SZn0JvrP3AtOpSUP+4/CDPemU4T7z+wCAZxPzbwP7BrEnBFyfA/TGxGXnsW8T+gjJY2bkHxP3g1Z3WAVPE/jCZydhhe8T9g4i0vrmPxPw==\",\"dtype\":\"float64\",\"shape\":[20]},\"y\":{\"__ndarray__\":\"gORFSUnWpD8vs9NmNaKyP6Esttrd87o/2FbD+3iIyT9oXi2TGfTVP+C9gO/jZ90/RB+czER75D/UwdPJmdvjP3FuGNt5heU/siGXPWSH5T9OuTRcMsXlP6aWlmJoM+c/VzLChZhB5j96TMER+7zmPyDpIQvydec/ZGjtf/gn5z9nifjlf/XnP1TBiPw8mug/nWwV07Ij6D9JMT7o3nfoPw==\",\"dtype\":\"float64\",\"shape\":[20]}},\"selected\":{\"id\":\"25779\"},\"selection_policy\":{\"id\":\"25778\"}},\"id\":\"25512\",\"type\":\"ColumnDataSource\"},{\"attributes\":{},\"id\":\"14357\",\"type\":\"Selection\"},{\"attributes\":{\"fill_color\":{\"field\":\"fill_color\"},\"line_color\":{\"field\":\"line_color\"},\"x\":{\"field\":\"x\"},\"y\":{\"field\":\"y\"}},\"id\":\"12138\",\"type\":\"Circle\"},{\"attributes\":{},\"id\":\"19886\",\"type\":\"UnionRenderers\"},{\"attributes\":{\"fill_alpha\":{\"value\":0.1},\"fill_color\":{\"field\":\"fill_color\"},\"line_alpha\":{\"value\":0.1},\"line_color\":{\"field\":\"line_color\"},\"x\":{\"field\":\"x\"},\"y\":{\"field\":\"y\"}},\"id\":\"16486\",\"type\":\"Circle\"},{\"attributes\":{},\"id\":\"12343\",\"type\":\"UnionRenderers\"},{\"attributes\":{\"data\":{\"x\":{\"__ndarray__\":\"+E+GrgtB7L+KnUZ7DEvqvwi6FHEA/Oe/gEy5WvDh47+Qa6jFEjfZv7CldZBKYNO/gHsarsZNmr9ALqDTkgG9P8yQeIOGqeU/anJhM84v9T8uESG298L+P+sO4ZHsawNA+12RIkGqBUCNsUmw/T4GQA11Q7cipAdAT3P+BhLUB0D9Nug7/aQIQKdXSJuk5whAe+yWnOdACUCb/BMG9IsJQENixDnhtQlAM3hL5tLJCUAxlIeanNMJQGssPQwL2QlAeRy/623bCUA=\",\"dtype\":\"float64\",\"shape\":[25]},\"y\":{\"__ndarray__\":\"MXnHA29Uyz8McnQ/9m3QP4B9K9F4MdI/kJmUCWkC1j9JbsLjD8baPxzDVroru94/AqxLWOR64D+jsBIto9PhP9WBX+TaZOU/+ZH5Z31o6D/LcXL8M8rqP7d9QbGBl+s/ayC2eMld7j8PiXhxxg3wP3FY202ulu0/juvuYbDh7z9/Kes688HtP28yEp0u5e8/BAEL/PIc7z/kj2guinjwP7+WQ/5jnO8/5IfoE2UM8D9UQ1cF+RfwPzncSkqbGfA/zO+kQxvR8D8=\",\"dtype\":\"float64\",\"shape\":[25]}},\"selected\":{\"id\":\"13407\"},\"selection_policy\":{\"id\":\"13406\"}},\"id\":\"13196\",\"type\":\"ColumnDataSource\"},{\"attributes\":{\"data\":{\"x\":{\"__ndarray__\":\"6DMd8Dk5CMDtY06hyG0DwHgOJrKLY/+/TnRP70UT9r+wlBJLwQvpv0DJesaTlsC/wKfCPWXo0z/wHZyJIxjiP7D/AGbIV+U/6Lf5oBax6T9Q9SZn0JvrP3AtOpSUP+4/CDPemU4T7z+wCAZxPzbwP7BrEnBFyfA/TGxGXnsW8T+gjJY2bkHxP3g1Z3WAVPE/jCZydhhe8T9g4i0vrmPxPw==\",\"dtype\":\"float64\",\"shape\":[20]},\"y\":{\"__ndarray__\":\"gORFSUnWpD8vs9NmNaKyP6Esttrd87o/2FbD+3iIyT9oXi2TGfTVP+C9gO/jZ90/RB+czER75D/UwdPJmdvjP3FuGNt5heU/siGXPWSH5T9OuTRcMsXlP6aWlmJoM+c/VzLChZhB5j96TMER+7zmPyDpIQvydec/ZGjtf/gn5z9nifjlf/XnP1TBiPw8mug/nWwV07Ij6D9JMT7o3nfoPw==\",\"dtype\":\"float64\",\"shape\":[20]}},\"selected\":{\"id\":\"31541\"},\"selection_policy\":{\"id\":\"31540\"}},\"id\":\"31262\",\"type\":\"ColumnDataSource\"},{\"attributes\":{\"fill_color\":{\"value\":\"#1f77b3\"},\"line_color\":{\"value\":\"#1f77b3\"},\"x\":{\"field\":\"x\"},\"y\":{\"field\":\"y\"}},\"id\":\"29457\",\"type\":\"Circle\"},{\"attributes\":{\"fill_alpha\":{\"value\":0.1},\"fill_color\":{\"value\":\"#2ba02b\"},\"line_alpha\":{\"value\":0.1},\"line_color\":{\"value\":\"#2ba02b\"},\"x\":{\"field\":\"x\"},\"y\":{\"field\":\"y\"}},\"id\":\"19646\",\"type\":\"Circle\"},{\"attributes\":{\"data\":{\"x\":{\"__ndarray__\":\"+E+GrgtB7L+KnUZ7DEvqvwi6FHEA/Oe/gEy5WvDh47+Qa6jFEjfZv7CldZBKYNO/gHsarsZNmr9ALqDTkgG9P8yQeIOGqeU/anJhM84v9T8uESG298L+P+sO4ZHsawNA+12RIkGqBUCNsUmw/T4GQA11Q7cipAdAT3P+BhLUB0D9Nug7/aQIQKdXSJuk5whAe+yWnOdACUCb/BMG9IsJQENixDnhtQlAM3hL5tLJCUAxlIeanNMJQGssPQwL2QlAeRy/623bCUA=\",\"dtype\":\"float64\",\"shape\":[25]},\"y\":{\"__ndarray__\":\"MXnHA29Uyz8McnQ/9m3QP4B9K9F4MdI/kJmUCWkC1j9JbsLjD8baPxzDVroru94/AqxLWOR64D+jsBIto9PhP9WBX+TaZOU/+ZH5Z31o6D/LcXL8M8rqP7d9QbGBl+s/ayC2eMld7j8PiXhxxg3wP3FY202ulu0/juvuYbDh7z9/Kes688HtP28yEp0u5e8/BAEL/PIc7z/kj2guinjwP7+WQ/5jnO8/5IfoE2UM8D9UQ1cF+RfwPzncSkqbGfA/zO+kQxvR8D8=\",\"dtype\":\"float64\",\"shape\":[25]}},\"selected\":{\"id\":\"29727\"},\"selection_policy\":{\"id\":\"29726\"}},\"id\":\"29456\",\"type\":\"ColumnDataSource\"},{\"attributes\":{\"data_source\":{\"id\":\"29456\"},\"glyph\":{\"id\":\"29457\"},\"hover_glyph\":null,\"muted_glyph\":null,\"nonselection_glyph\":{\"id\":\"29458\"},\"selection_glyph\":null,\"view\":{\"id\":\"29460\"}},\"id\":\"29459\",\"type\":\"GlyphRenderer\"},{\"attributes\":{\"fill_color\":{\"value\":\"#ff7e0e\"},\"line_color\":{\"value\":\"#ff7e0e\"},\"x\":{\"field\":\"x\"},\"y\":{\"field\":\"y\"}},\"id\":\"10328\",\"type\":\"Circle\"},{\"attributes\":{\"source\":{\"id\":\"21782\"}},\"id\":\"21786\",\"type\":\"CDSView\"},{\"attributes\":{},\"id\":\"16711\",\"type\":\"Selection\"},{\"attributes\":{\"data\":{\"x\":{\"__ndarray__\":\"Imv99+0UFcAMziXwhZ8SwJaTgK5O3xDAOHs9Z3A9DcBMT4a7L8kHwApOkutc5QLAcCp1uj+p/r9I6iKM44j6vxy5y2j7E/m/8Fj/0dHW9r+sRJ5k/xb2v9QFdoR7svS/pKdmG21B9L9U/jvtiqrzv2gC55BjD/O/rE3tlZfF8r94pD23c53yv3S7fG/GivK/+NeznDCA8r8QC/xyvXvyvw==\",\"dtype\":\"float64\",\"shape\":[20]},\"y\":{\"__ndarray__\":\"gASx9LXylz9gViOHVQyhP4Ah1REDPaE/INuybB/zoz8A5lHb1qymP6Asnv0JH7E/EF1V+8DZvT8RePjeT37HP6jzMVVegsc/iKNp4zF9yD8x+fXFIbfKP+ge1mBWHso/4AuZGtIHzD8K9lagURzLP6Fgyoy0G9A/aCuBYZuuzj+INWSbUmrOP09YFYU71M0/p0kqD8HhzT8yJaCaYD7OPw==\",\"dtype\":\"float64\",\"shape\":[20]}},\"selected\":{\"id\":\"19259\"},\"selection_policy\":{\"id\":\"19258\"}},\"id\":\"19020\",\"type\":\"ColumnDataSource\"},{\"attributes\":{\"fill_color\":{\"field\":\"fill_color\"},\"line_color\":{\"field\":\"line_color\"},\"x\":{\"field\":\"x\"},\"y\":{\"field\":\"y\"}},\"id\":\"21783\",\"type\":\"Circle\"},{\"attributes\":{\"fill_alpha\":{\"value\":0.1},\"fill_color\":{\"value\":\"#ff7e0e\"},\"line_alpha\":{\"value\":0.1},\"line_color\":{\"value\":\"#ff7e0e\"},\"x\":{\"field\":\"x\"},\"y\":{\"field\":\"y\"}},\"id\":\"13666\",\"type\":\"Circle\"},{\"attributes\":{\"source\":{\"id\":\"14138\"}},\"id\":\"14142\",\"type\":\"CDSView\"},{\"attributes\":{\"source\":{\"id\":\"29456\"}},\"id\":\"29460\",\"type\":\"CDSView\"},{\"attributes\":{},\"id\":\"13407\",\"type\":\"Selection\"},{\"attributes\":{},\"id\":\"29726\",\"type\":\"UnionRenderers\"},{\"attributes\":{\"fill_alpha\":{\"value\":0.1},\"fill_color\":{\"field\":\"fill_color\"},\"line_alpha\":{\"value\":0.1},\"line_color\":{\"field\":\"line_color\"},\"x\":{\"field\":\"x\"},\"y\":{\"field\":\"y\"}},\"id\":\"15924\",\"type\":\"Circle\"},{\"attributes\":{\"source\":{\"id\":\"19644\"}},\"id\":\"19648\",\"type\":\"CDSView\"},{\"attributes\":{\"bottom_units\":\"screen\",\"fill_alpha\":0.5,\"fill_color\":\"lightgrey\",\"left_units\":\"screen\",\"level\":\"overlay\",\"line_alpha\":1.0,\"line_color\":\"black\",\"line_dash\":[4,4],\"line_width\":2,\"render_mode\":\"css\",\"right_units\":\"screen\",\"top_units\":\"screen\"},\"id\":\"8130\",\"type\":\"BoxAnnotation\"},{\"attributes\":{\"data_source\":{\"id\":\"11719\"},\"glyph\":{\"id\":\"11720\"},\"hover_glyph\":null,\"muted_glyph\":null,\"nonselection_glyph\":{\"id\":\"11721\"},\"selection_glyph\":null,\"view\":{\"id\":\"11723\"}},\"id\":\"11722\",\"type\":\"GlyphRenderer\"},{\"attributes\":{},\"id\":\"25779\",\"type\":\"Selection\"},{\"attributes\":{\"fill_alpha\":{\"value\":0.1},\"fill_color\":{\"value\":\"#1f77b3\"},\"line_alpha\":{\"value\":0.1},\"line_color\":{\"value\":\"#1f77b3\"},\"x\":{\"field\":\"x\"},\"y\":{\"field\":\"y\"}},\"id\":\"13198\",\"type\":\"Circle\"},{\"attributes\":{\"fill_alpha\":{\"value\":0.1},\"fill_color\":{\"field\":\"fill_color\"},\"line_alpha\":{\"value\":0.1},\"line_color\":{\"field\":\"line_color\"},\"x\":{\"field\":\"x\"},\"y\":{\"field\":\"y\"}},\"id\":\"21110\",\"type\":\"Circle\"},{\"attributes\":{\"source\":{\"id\":\"25512\"}},\"id\":\"25516\",\"type\":\"CDSView\"},{\"attributes\":{\"fill_alpha\":{\"value\":0.1},\"fill_color\":{\"value\":\"#1f77b3\"},\"line_alpha\":{\"value\":0.1},\"line_color\":{\"value\":\"#1f77b3\"},\"x\":{\"field\":\"x\"},\"y\":{\"field\":\"y\"}},\"id\":\"29458\",\"type\":\"Circle\"},{\"attributes\":{\"data\":{\"fill_color\":[1.0,0.498039,0.054902],\"line_color\":[1.0,0.498039,0.054902],\"x\":{\"__ndarray__\":\"Imv99+0UFcAMziXwhZ8SwJaTgK5O3xDAOHs9Z3A9DcBMT4a7L8kHwApOkutc5QLAcCp1uj+p/r9I6iKM44j6vxy5y2j7E/m/8Fj/0dHW9r+sRJ5k/xb2v9QFdoR7svS/pKdmG21B9L9U/jvtiqrzv2gC55BjD/O/rE3tlZfF8r94pD23c53yv3S7fG/GivK/+NeznDCA8r8QC/xyvXvyvw==\",\"dtype\":\"float64\",\"shape\":[20]},\"y\":{\"__ndarray__\":\"gASx9LXylz9gViOHVQyhP4Ah1REDPaE/INuybB/zoz8A5lHb1qymP6Asnv0JH7E/EF1V+8DZvT8RePjeT37HP6jzMVVegsc/iKNp4zF9yD8x+fXFIbfKP+ge1mBWHso/4AuZGtIHzD8K9lagURzLP6Fgyoy0G9A/aCuBYZuuzj+INWSbUmrOP09YFYU71M0/p0kqD8HhzT8yJaCaYD7OPw==\",\"dtype\":\"float64\",\"shape\":[20]}},\"selected\":{\"id\":\"11922\"},\"selection_policy\":{\"id\":\"11921\"}},\"id\":\"11719\",\"type\":\"ColumnDataSource\"},{\"attributes\":{\"items\":[{\"id\":\"8151\"},{\"id\":\"8380\"},{\"id\":\"8721\"},{\"id\":\"9068\"}],\"location\":\"top_left\"},\"id\":\"8150\",\"type\":\"Legend\"},{\"attributes\":{\"data_source\":{\"id\":\"12137\"},\"glyph\":{\"id\":\"12138\"},\"hover_glyph\":null,\"muted_glyph\":null,\"nonselection_glyph\":{\"id\":\"12139\"},\"selection_glyph\":null,\"view\":{\"id\":\"12141\"}},\"id\":\"12140\",\"type\":\"GlyphRenderer\"},{\"attributes\":{\"fill_color\":{\"value\":\"#2ba02b\"},\"line_color\":{\"value\":\"#2ba02b\"},\"x\":{\"field\":\"x\"},\"y\":{\"field\":\"y\"}},\"id\":\"10728\",\"type\":\"Circle\"},{\"attributes\":{\"source\":{\"id\":\"30356\"}},\"id\":\"30360\",\"type\":\"CDSView\"},{\"attributes\":{\"data\":{\"x\":{\"__ndarray__\":\"Imv99+0UFcAMziXwhZ8SwJaTgK5O3xDAOHs9Z3A9DcBMT4a7L8kHwApOkutc5QLAcCp1uj+p/r9I6iKM44j6vxy5y2j7E/m/8Fj/0dHW9r+sRJ5k/xb2v9QFdoR7svS/pKdmG21B9L9U/jvtiqrzv2gC55BjD/O/rE3tlZfF8r94pD23c53yv3S7fG/GivK/+NeznDCA8r8QC/xyvXvyvw==\",\"dtype\":\"float64\",\"shape\":[20]},\"y\":{\"__ndarray__\":\"gASx9LXylz9gViOHVQyhP4Ah1REDPaE/INuybB/zoz8A5lHb1qymP6Asnv0JH7E/EF1V+8DZvT8RePjeT37HP6jzMVVegsc/iKNp4zF9yD8x+fXFIbfKP+ge1mBWHso/4AuZGtIHzD8K9lagURzLP6Fgyoy0G9A/aCuBYZuuzj+INWSbUmrOP09YFYU71M0/p0kqD8HhzT8yJaCaYD7OPw==\",\"dtype\":\"float64\",\"shape\":[20]}},\"selected\":{\"id\":\"10518\"},\"selection_policy\":{\"id\":\"10517\"}},\"id\":\"10327\",\"type\":\"ColumnDataSource\"},{\"attributes\":{\"source\":{\"id\":\"18402\"}},\"id\":\"18406\",\"type\":\"CDSView\"},{\"attributes\":{\"fill_color\":{\"field\":\"fill_color\"},\"line_color\":{\"field\":\"line_color\"},\"x\":{\"field\":\"x\"},\"y\":{\"field\":\"y\"}},\"id\":\"21109\",\"type\":\"Circle\"},{\"attributes\":{},\"id\":\"19258\",\"type\":\"UnionRenderers\"},{\"attributes\":{},\"id\":\"18637\",\"type\":\"Selection\"},{\"attributes\":{},\"id\":\"8309\",\"type\":\"UnionRenderers\"},{\"attributes\":{},\"id\":\"8884\",\"type\":\"UnionRenderers\"},{\"attributes\":{},\"id\":\"19887\",\"type\":\"Selection\"},{\"attributes\":{},\"id\":\"30631\",\"type\":\"Selection\"},{\"attributes\":{\"data_source\":{\"id\":\"19644\"},\"glyph\":{\"id\":\"19645\"},\"hover_glyph\":null,\"muted_glyph\":null,\"nonselection_glyph\":{\"id\":\"19646\"},\"selection_glyph\":null,\"view\":{\"id\":\"19648\"}},\"id\":\"19647\",\"type\":\"GlyphRenderer\"},{\"attributes\":{\"text\":\"\"},\"id\":\"8143\",\"type\":\"Title\"},{\"attributes\":{\"source\":{\"id\":\"12137\"}},\"id\":\"12141\",\"type\":\"CDSView\"},{\"attributes\":{},\"id\":\"29727\",\"type\":\"Selection\"},{\"attributes\":{\"data_source\":{\"id\":\"21782\"},\"glyph\":{\"id\":\"21783\"},\"hover_glyph\":null,\"muted_glyph\":null,\"nonselection_glyph\":{\"id\":\"21784\"},\"selection_glyph\":null,\"view\":{\"id\":\"21786\"}},\"id\":\"21785\",\"type\":\"GlyphRenderer\"},{\"attributes\":{},\"id\":\"8145\",\"type\":\"BasicTickFormatter\"},{\"attributes\":{\"fill_color\":{\"field\":\"fill_color\"},\"line_color\":{\"field\":\"line_color\"},\"x\":{\"field\":\"x\"},\"y\":{\"field\":\"y\"}},\"id\":\"11308\",\"type\":\"Circle\"},{\"attributes\":{},\"id\":\"8127\",\"type\":\"SaveTool\"},{\"attributes\":{},\"id\":\"31540\",\"type\":\"UnionRenderers\"},{\"attributes\":{},\"id\":\"8541\",\"type\":\"UnionRenderers\"},{\"attributes\":{\"fill_color\":{\"value\":\"#2ba02b\"},\"line_color\":{\"value\":\"#2ba02b\"},\"x\":{\"field\":\"x\"},\"y\":{\"field\":\"y\"}},\"id\":\"31263\",\"type\":\"Circle\"},{\"attributes\":{},\"id\":\"21354\",\"type\":\"UnionRenderers\"},{\"attributes\":{\"source\":{\"id\":\"17052\"}},\"id\":\"17056\",\"type\":\"CDSView\"},{\"attributes\":{\"fill_color\":{\"value\":\"#2ba02b\"},\"line_color\":{\"value\":\"#2ba02b\"},\"x\":{\"field\":\"x\"},\"y\":{\"field\":\"y\"}},\"id\":\"19645\",\"type\":\"Circle\"},{\"attributes\":{\"data\":{\"fill_color\":[1.0,0.498039,0.054902],\"line_color\":[1.0,0.498039,0.054902],\"x\":{\"__ndarray__\":\"Imv99+0UFcAMziXwhZ8SwJaTgK5O3xDAOHs9Z3A9DcBMT4a7L8kHwApOkutc5QLAcCp1uj+p/r9I6iKM44j6vxy5y2j7E/m/8Fj/0dHW9r+sRJ5k/xb2v9QFdoR7svS/pKdmG21B9L9U/jvtiqrzv2gC55BjD/O/rE3tlZfF8r94pD23c53yv3S7fG/GivK/+NeznDCA8r8QC/xyvXvyvw==\",\"dtype\":\"float64\",\"shape\":[20]},\"y\":{\"__ndarray__\":\"gASx9LXylz9gViOHVQyhP4Ah1REDPaE/INuybB/zoz8A5lHb1qymP6Asnv0JH7E/EF1V+8DZvT8RePjeT37HP6jzMVVegsc/iKNp4zF9yD8x+fXFIbfKP+ge1mBWHso/4AuZGtIHzD8K9lagURzLP6Fgyoy0G9A/aCuBYZuuzj+INWSbUmrOP09YFYU71M0/p0kqD8HhzT8yJaCaYD7OPw==\",\"dtype\":\"float64\",\"shape\":[20]}},\"selected\":{\"id\":\"22033\"},\"selection_policy\":{\"id\":\"22032\"}},\"id\":\"21782\",\"type\":\"ColumnDataSource\"},{\"attributes\":{},\"id\":\"13406\",\"type\":\"UnionRenderers\"},{\"attributes\":{\"data_source\":{\"id\":\"16484\"},\"glyph\":{\"id\":\"16485\"},\"hover_glyph\":null,\"muted_glyph\":null,\"nonselection_glyph\":{\"id\":\"16486\"},\"selection_glyph\":null,\"view\":{\"id\":\"16488\"}},\"id\":\"16487\",\"type\":\"GlyphRenderer\"},{\"attributes\":{\"data_source\":{\"id\":\"30356\"},\"glyph\":{\"id\":\"30357\"},\"hover_glyph\":null,\"muted_glyph\":null,\"nonselection_glyph\":{\"id\":\"30358\"},\"selection_glyph\":null,\"view\":{\"id\":\"30360\"}},\"id\":\"30359\",\"type\":\"GlyphRenderer\"},{\"attributes\":{\"fill_color\":{\"value\":\"#2ba02b\"},\"line_color\":{\"value\":\"#2ba02b\"},\"x\":{\"field\":\"x\"},\"y\":{\"field\":\"y\"}},\"id\":\"9051\",\"type\":\"Circle\"},{\"attributes\":{\"fill_color\":{\"field\":\"fill_color\"},\"line_color\":{\"field\":\"line_color\"},\"x\":{\"field\":\"x\"},\"y\":{\"field\":\"y\"}},\"id\":\"22463\",\"type\":\"Circle\"},{\"attributes\":{\"data_source\":{\"id\":\"31262\"},\"glyph\":{\"id\":\"31263\"},\"hover_glyph\":null,\"muted_glyph\":null,\"nonselection_glyph\":{\"id\":\"31264\"},\"selection_glyph\":null,\"view\":{\"id\":\"31266\"}},\"id\":\"31265\",\"type\":\"GlyphRenderer\"},{\"attributes\":{},\"id\":\"8147\",\"type\":\"BasicTickFormatter\"},{\"attributes\":{},\"id\":\"13878\",\"type\":\"UnionRenderers\"},{\"attributes\":{\"label\":{\"value\":\"F(c)\"},\"renderers\":[{\"id\":\"8141\"}]},\"id\":\"8151\",\"type\":\"LegendItem\"},{\"attributes\":{},\"id\":\"12344\",\"type\":\"Selection\"},{\"attributes\":{\"data_source\":{\"id\":\"18402\"},\"glyph\":{\"id\":\"18403\"},\"hover_glyph\":null,\"muted_glyph\":null,\"nonselection_glyph\":{\"id\":\"18404\"},\"selection_glyph\":null,\"view\":{\"id\":\"18406\"}},\"id\":\"18405\",\"type\":\"GlyphRenderer\"},{\"attributes\":{\"source\":{\"id\":\"31262\"}},\"id\":\"31266\",\"type\":\"CDSView\"},{\"attributes\":{\"fill_color\":{\"value\":\"#1f77b3\"},\"line_color\":{\"value\":\"#1f77b3\"},\"x\":{\"field\":\"x\"},\"y\":{\"field\":\"y\"}},\"id\":\"13197\",\"type\":\"Circle\"},{\"attributes\":{\"fill_color\":{\"value\":\"#1f77b3\"},\"line_color\":{\"value\":\"#1f77b3\"},\"x\":{\"field\":\"x\"},\"y\":{\"field\":\"y\"}},\"id\":\"18403\",\"type\":\"Circle\"},{\"attributes\":{\"data\":{\"x\":{\"__ndarray__\":\"Imv99+0UFcAMziXwhZ8SwJaTgK5O3xDAOHs9Z3A9DcBMT4a7L8kHwApOkutc5QLAcCp1uj+p/r9I6iKM44j6vxy5y2j7E/m/8Fj/0dHW9r+sRJ5k/xb2v9QFdoR7svS/pKdmG21B9L9U/jvtiqrzv2gC55BjD/O/rE3tlZfF8r94pD23c53yv3S7fG/GivK/+NeznDCA8r8QC/xyvXvyvw==\",\"dtype\":\"float64\",\"shape\":[20]},\"y\":{\"__ndarray__\":\"gASx9LXylz9gViOHVQyhP4Ah1REDPaE/INuybB/zoz8A5lHb1qymP6Asnv0JH7E/EF1V+8DZvT8RePjeT37HP6jzMVVegsc/iKNp4zF9yD8x+fXFIbfKP+ge1mBWHso/4AuZGtIHzD8K9lagURzLP6Fgyoy0G9A/aCuBYZuuzj+INWSbUmrOP09YFYU71M0/p0kqD8HhzT8yJaCaYD7OPw==\",\"dtype\":\"float64\",\"shape\":[20]}},\"selected\":{\"id\":\"30631\"},\"selection_policy\":{\"id\":\"30630\"}},\"id\":\"30356\",\"type\":\"ColumnDataSource\"},{\"attributes\":{},\"id\":\"14356\",\"type\":\"UnionRenderers\"},{\"attributes\":{},\"id\":\"8310\",\"type\":\"Selection\"},{\"attributes\":{},\"id\":\"17282\",\"type\":\"UnionRenderers\"},{\"attributes\":{\"data\":{\"fill_color\":[0.172549,0.627451,0.172549],\"line_color\":[0.172549,0.627451,0.172549],\"x\":{\"__ndarray__\":\"6DMd8Dk5CMDtY06hyG0DwHgOJrKLY/+/TnRP70UT9r+wlBJLwQvpv0DJesaTlsC/wKfCPWXo0z/wHZyJIxjiP7D/AGbIV+U/6Lf5oBax6T9Q9SZn0JvrP3AtOpSUP+4/CDPemU4T7z+wCAZxPzbwP7BrEnBFyfA/TGxGXnsW8T+gjJY2bkHxP3g1Z3WAVPE/jCZydhhe8T9g4i0vrmPxPw==\",\"dtype\":\"float64\",\"shape\":[20]},\"y\":{\"__ndarray__\":\"gORFSUnWpD8vs9NmNaKyP6Esttrd87o/2FbD+3iIyT9oXi2TGfTVP+C9gO/jZ90/RB+czER75D/UwdPJmdvjP3FuGNt5heU/siGXPWSH5T9OuTRcMsXlP6aWlmJoM+c/VzLChZhB5j96TMER+7zmPyDpIQvydec/ZGjtf/gn5z9nifjlf/XnP1TBiPw8mug/nWwV07Ij6D9JMT7o3nfoPw==\",\"dtype\":\"float64\",\"shape\":[20]}},\"selected\":{\"id\":\"17283\"},\"selection_policy\":{\"id\":\"17282\"}},\"id\":\"17052\",\"type\":\"ColumnDataSource\"},{\"attributes\":{\"fill_alpha\":{\"value\":0.1},\"fill_color\":{\"value\":\"#ff7e0e\"},\"line_alpha\":{\"value\":0.1},\"line_color\":{\"value\":\"#ff7e0e\"},\"x\":{\"field\":\"x\"},\"y\":{\"field\":\"y\"}},\"id\":\"19022\",\"type\":\"Circle\"},{\"attributes\":{\"fill_alpha\":{\"value\":0.1},\"fill_color\":{\"value\":\"#2ba02b\"},\"line_alpha\":{\"value\":0.1},\"line_color\":{\"value\":\"#2ba02b\"},\"x\":{\"field\":\"x\"},\"y\":{\"field\":\"y\"}},\"id\":\"14140\",\"type\":\"Circle\"},{\"attributes\":{\"data\":{\"fill_color\":[0.121569,0.466667,0.705882],\"line_color\":[0.121569,0.466667,0.705882],\"x\":{\"__ndarray__\":\"+E+GrgtB7L+KnUZ7DEvqvwi6FHEA/Oe/gEy5WvDh47+Qa6jFEjfZv7CldZBKYNO/gHsarsZNmr9ALqDTkgG9P8yQeIOGqeU/anJhM84v9T8uESG298L+P+sO4ZHsawNA+12RIkGqBUCNsUmw/T4GQA11Q7cipAdAT3P+BhLUB0D9Nug7/aQIQKdXSJuk5whAe+yWnOdACUCb/BMG9IsJQENixDnhtQlAM3hL5tLJCUAxlIeanNMJQGssPQwL2QlAeRy/623bCUA=\",\"dtype\":\"float64\",\"shape\":[25]},\"y\":{\"__ndarray__\":\"MXnHA29Uyz8McnQ/9m3QP4B9K9F4MdI/kJmUCWkC1j9JbsLjD8baPxzDVroru94/AqxLWOR64D+jsBIto9PhP9WBX+TaZOU/+ZH5Z31o6D/LcXL8M8rqP7d9QbGBl+s/ayC2eMld7j8PiXhxxg3wP3FY202ulu0/juvuYbDh7z9/Kes688HtP28yEp0u5e8/BAEL/PIc7z/kj2guinjwP7+WQ/5jnO8/5IfoE2UM8D9UQ1cF+RfwPzncSkqbGfA/zO+kQxvR8D8=\",\"dtype\":\"float64\",\"shape\":[25]}},\"selected\":{\"id\":\"16145\"},\"selection_policy\":{\"id\":\"16144\"}},\"id\":\"15922\",\"type\":\"ColumnDataSource\"},{\"attributes\":{\"data\":{\"x\":{\"__ndarray__\":\"6DMd8Dk5CMDtY06hyG0DwHgOJrKLY/+/TnRP70UT9r+wlBJLwQvpv0DJesaTlsC/wKfCPWXo0z/wHZyJIxjiP7D/AGbIV+U/6Lf5oBax6T9Q9SZn0JvrP3AtOpSUP+4/CDPemU4T7z+wCAZxPzbwP7BrEnBFyfA/TGxGXnsW8T+gjJY2bkHxP3g1Z3WAVPE/jCZydhhe8T9g4i0vrmPxPw==\",\"dtype\":\"float64\",\"shape\":[20]},\"y\":{\"__ndarray__\":\"gORFSUnWpD8vs9NmNaKyP6Esttrd87o/2FbD+3iIyT9oXi2TGfTVP+C9gO/jZ90/RB+czER75D/UwdPJmdvjP3FuGNt5heU/siGXPWSH5T9OuTRcMsXlP6aWlmJoM+c/VzLChZhB5j96TMER+7zmPyDpIQvydec/ZGjtf/gn5z9nifjlf/XnP1TBiPw8mug/nWwV07Ij6D9JMT7o3nfoPw==\",\"dtype\":\"float64\",\"shape\":[20]}},\"selected\":{\"id\":\"19887\"},\"selection_policy\":{\"id\":\"19886\"}},\"id\":\"19644\",\"type\":\"ColumnDataSource\"},{\"attributes\":{},\"id\":\"25778\",\"type\":\"UnionRenderers\"},{\"attributes\":{\"data_source\":{\"id\":\"19020\"},\"glyph\":{\"id\":\"19021\"},\"hover_glyph\":null,\"muted_glyph\":null,\"nonselection_glyph\":{\"id\":\"19022\"},\"selection_glyph\":null,\"view\":{\"id\":\"19024\"}},\"id\":\"19023\",\"type\":\"GlyphRenderer\"},{\"attributes\":{\"fill_alpha\":{\"value\":0.1},\"fill_color\":{\"value\":\"#2ba02b\"},\"line_alpha\":{\"value\":0.1},\"line_color\":{\"value\":\"#2ba02b\"},\"x\":{\"field\":\"x\"},\"y\":{\"field\":\"y\"}},\"id\":\"31264\",\"type\":\"Circle\"},{\"attributes\":{},\"id\":\"13879\",\"type\":\"Selection\"},{\"attributes\":{\"fill_color\":{\"value\":\"#2ba02b\"},\"line_color\":{\"value\":\"#2ba02b\"},\"x\":{\"field\":\"x\"},\"y\":{\"field\":\"y\"}},\"id\":\"14139\",\"type\":\"Circle\"},{\"attributes\":{},\"id\":\"18636\",\"type\":\"UnionRenderers\"},{\"attributes\":{},\"id\":\"31541\",\"type\":\"Selection\"},{\"attributes\":{\"data\":{\"fill_color\":[0.172549,0.627451,0.172549],\"line_color\":[0.172549,0.627451,0.172549],\"x\":{\"__ndarray__\":\"6DMd8Dk5CMDtY06hyG0DwHgOJrKLY/+/TnRP70UT9r+wlBJLwQvpv0DJesaTlsC/wKfCPWXo0z/wHZyJIxjiP7D/AGbIV+U/6Lf5oBax6T9Q9SZn0JvrP3AtOpSUP+4/CDPemU4T7z+wCAZxPzbwP7BrEnBFyfA/TGxGXnsW8T+gjJY2bkHxP3g1Z3WAVPE/jCZydhhe8T9g4i0vrmPxPw==\",\"dtype\":\"float64\",\"shape\":[20]},\"y\":{\"__ndarray__\":\"gORFSUnWpD8vs9NmNaKyP6Esttrd87o/2FbD+3iIyT9oXi2TGfTVP+C9gO/jZ90/RB+czER75D/UwdPJmdvjP3FuGNt5heU/siGXPWSH5T9OuTRcMsXlP6aWlmJoM+c/VzLChZhB5j96TMER+7zmPyDpIQvydec/ZGjtf/gn5z9nifjlf/XnP1TBiPw8mug/nWwV07Ij6D9JMT7o3nfoPw==\",\"dtype\":\"float64\",\"shape\":[20]}},\"selected\":{\"id\":\"22717\"},\"selection_policy\":{\"id\":\"22716\"}},\"id\":\"22462\",\"type\":\"ColumnDataSource\"},{\"attributes\":{},\"id\":\"24304\",\"type\":\"UnionRenderers\"},{\"attributes\":{\"data_source\":{\"id\":\"15922\"},\"glyph\":{\"id\":\"15923\"},\"hover_glyph\":null,\"muted_glyph\":null,\"nonselection_glyph\":{\"id\":\"15924\"},\"selection_glyph\":null,\"view\":{\"id\":\"15926\"}},\"id\":\"15925\",\"type\":\"GlyphRenderer\"},{\"attributes\":{\"fill_alpha\":{\"value\":0.1},\"fill_color\":{\"value\":\"#1f77b3\"},\"line_alpha\":{\"value\":0.1},\"line_color\":{\"value\":\"#1f77b3\"},\"x\":{\"field\":\"x\"},\"y\":{\"field\":\"y\"}},\"id\":\"18404\",\"type\":\"Circle\"},{\"attributes\":{\"data_source\":{\"id\":\"13664\"},\"glyph\":{\"id\":\"13665\"},\"hover_glyph\":null,\"muted_glyph\":null,\"nonselection_glyph\":{\"id\":\"13666\"},\"selection_glyph\":null,\"view\":{\"id\":\"13668\"}},\"id\":\"13667\",\"type\":\"GlyphRenderer\"},{\"attributes\":{\"data_source\":{\"id\":\"21108\"},\"glyph\":{\"id\":\"21109\"},\"hover_glyph\":null,\"muted_glyph\":null,\"nonselection_glyph\":{\"id\":\"21110\"},\"selection_glyph\":null,\"view\":{\"id\":\"21112\"}},\"id\":\"21111\",\"type\":\"GlyphRenderer\"},{\"attributes\":{\"fill_color\":{\"field\":\"fill_color\"},\"line_color\":{\"field\":\"line_color\"},\"x\":{\"field\":\"x\"},\"y\":{\"field\":\"y\"}},\"id\":\"17053\",\"type\":\"Circle\"},{\"attributes\":{\"fill_alpha\":{\"value\":0.1},\"fill_color\":{\"field\":\"fill_color\"},\"line_alpha\":{\"value\":0.1},\"line_color\":{\"field\":\"line_color\"},\"x\":{\"field\":\"x\"},\"y\":{\"field\":\"y\"}},\"id\":\"11309\",\"type\":\"Circle\"},{\"attributes\":{\"data\":{\"fill_color\":[1.0,0.498039,0.054902],\"line_color\":[1.0,0.498039,0.054902],\"x\":{\"__ndarray__\":\"Imv99+0UFcAMziXwhZ8SwJaTgK5O3xDAOHs9Z3A9DcBMT4a7L8kHwApOkutc5QLAcCp1uj+p/r9I6iKM44j6vxy5y2j7E/m/8Fj/0dHW9r+sRJ5k/xb2v9QFdoR7svS/pKdmG21B9L9U/jvtiqrzv2gC55BjD/O/rE3tlZfF8r94pD23c53yv3S7fG/GivK/+NeznDCA8r8QC/xyvXvyvw==\",\"dtype\":\"float64\",\"shape\":[20]},\"y\":{\"__ndarray__\":\"gASx9LXylz9gViOHVQyhP4Ah1REDPaE/INuybB/zoz8A5lHb1qymP6Asnv0JH7E/EF1V+8DZvT8RePjeT37HP6jzMVVegsc/iKNp4zF9yD8x+fXFIbfKP+ge1mBWHso/4AuZGtIHzD8K9lagURzLP6Fgyoy0G9A/aCuBYZuuzj+INWSbUmrOP09YFYU71M0/p0kqD8HhzT8yJaCaYD7OPw==\",\"dtype\":\"float64\",\"shape\":[20]}},\"selected\":{\"id\":\"16711\"},\"selection_policy\":{\"id\":\"16710\"}},\"id\":\"16484\",\"type\":\"ColumnDataSource\"},{\"attributes\":{\"source\":{\"id\":\"13196\"}},\"id\":\"13200\",\"type\":\"CDSView\"},{\"attributes\":{\"fill_color\":{\"field\":\"fill_color\"},\"line_color\":{\"field\":\"line_color\"},\"x\":{\"field\":\"x\"},\"y\":{\"field\":\"y\"}},\"id\":\"15923\",\"type\":\"Circle\"},{\"attributes\":{},\"id\":\"16710\",\"type\":\"UnionRenderers\"},{\"attributes\":{\"data_source\":{\"id\":\"14138\"},\"glyph\":{\"id\":\"14139\"},\"hover_glyph\":null,\"muted_glyph\":null,\"nonselection_glyph\":{\"id\":\"14140\"},\"selection_glyph\":null,\"view\":{\"id\":\"14142\"}},\"id\":\"14141\",\"type\":\"GlyphRenderer\"},{\"attributes\":{\"data_source\":{\"id\":\"17052\"},\"glyph\":{\"id\":\"17053\"},\"hover_glyph\":null,\"muted_glyph\":null,\"nonselection_glyph\":{\"id\":\"17054\"},\"selection_glyph\":null,\"view\":{\"id\":\"17056\"}},\"id\":\"17055\",\"type\":\"GlyphRenderer\"},{\"attributes\":{\"source\":{\"id\":\"16484\"}},\"id\":\"16488\",\"type\":\"CDSView\"},{\"attributes\":{\"data\":{\"x\":{\"__ndarray__\":\"+E+GrgtB7L+KnUZ7DEvqvwi6FHEA/Oe/gEy5WvDh47+Qa6jFEjfZv7CldZBKYNO/gHsarsZNmr9ALqDTkgG9P8yQeIOGqeU/anJhM84v9T8uESG298L+P+sO4ZHsawNA+12RIkGqBUCNsUmw/T4GQA11Q7cipAdAT3P+BhLUB0D9Nug7/aQIQKdXSJuk5whAe+yWnOdACUCb/BMG9IsJQENixDnhtQlAM3hL5tLJCUAxlIeanNMJQGssPQwL2QlAeRy/623bCUA=\",\"dtype\":\"float64\",\"shape\":[25]},\"y\":{\"__ndarray__\":\"MXnHA29Uyz8McnQ/9m3QP4B9K9F4MdI/kJmUCWkC1j9JbsLjD8baPxzDVroru94/AqxLWOR64D+jsBIto9PhP9WBX+TaZOU/+ZH5Z31o6D/LcXL8M8rqP7d9QbGBl+s/ayC2eMld7j8PiXhxxg3wP3FY202ulu0/juvuYbDh7z9/Kes688HtP28yEp0u5e8/BAEL/PIc7z/kj2guinjwP7+WQ/5jnO8/5IfoE2UM8D9UQ1cF+RfwPzncSkqbGfA/zO+kQxvR8D8=\",\"dtype\":\"float64\",\"shape\":[25]}},\"selected\":{\"id\":\"18637\"},\"selection_policy\":{\"id\":\"18636\"}},\"id\":\"18402\",\"type\":\"ColumnDataSource\"},{\"attributes\":{},\"id\":\"24305\",\"type\":\"Selection\"},{\"attributes\":{\"data\":{\"fill_color\":[0.121569,0.466667,0.705882],\"line_color\":[0.121569,0.466667,0.705882],\"x\":{\"__ndarray__\":\"+E+GrgtB7L+KnUZ7DEvqvwi6FHEA/Oe/gEy5WvDh47+Qa6jFEjfZv7CldZBKYNO/gHsarsZNmr9ALqDTkgG9P8yQeIOGqeU/anJhM84v9T8uESG298L+P+sO4ZHsawNA+12RIkGqBUCNsUmw/T4GQA11Q7cipAdAT3P+BhLUB0D9Nug7/aQIQKdXSJuk5whAe+yWnOdACUCb/BMG9IsJQENixDnhtQlAM3hL5tLJCUAxlIeanNMJQGssPQwL2QlAeRy/623bCUA=\",\"dtype\":\"float64\",\"shape\":[25]},\"y\":{\"__ndarray__\":\"MXnHA29Uyz8McnQ/9m3QP4B9K9F4MdI/kJmUCWkC1j9JbsLjD8baPxzDVroru94/AqxLWOR64D+jsBIto9PhP9WBX+TaZOU/+ZH5Z31o6D/LcXL8M8rqP7d9QbGBl+s/ayC2eMld7j8PiXhxxg3wP3FY202ulu0/juvuYbDh7z9/Kes688HtP28yEp0u5e8/BAEL/PIc7z/kj2guinjwP7+WQ/5jnO8/5IfoE2UM8D9UQ1cF+RfwPzncSkqbGfA/zO+kQxvR8D8=\",\"dtype\":\"float64\",\"shape\":[25]}},\"selected\":{\"id\":\"21355\"},\"selection_policy\":{\"id\":\"21354\"}},\"id\":\"21108\",\"type\":\"ColumnDataSource\"},{\"attributes\":{\"fill_alpha\":{\"value\":0.1},\"fill_color\":{\"field\":\"fill_color\"},\"line_alpha\":{\"value\":0.1},\"line_color\":{\"field\":\"line_color\"},\"x\":{\"field\":\"x\"},\"y\":{\"field\":\"y\"}},\"id\":\"17054\",\"type\":\"Circle\"},{\"attributes\":{\"fill_color\":{\"value\":\"#ff7e0e\"},\"line_color\":{\"value\":\"#ff7e0e\"},\"x\":{\"field\":\"x\"},\"y\":{\"field\":\"y\"}},\"id\":\"24777\",\"type\":\"Circle\"},{\"attributes\":{\"data\":{\"fill_color\":[0.121569,0.466667,0.705882],\"line_color\":[0.121569,0.466667,0.705882],\"x\":{\"__ndarray__\":\"+E+GrgtB7L+KnUZ7DEvqvwi6FHEA/Oe/gEy5WvDh47+Qa6jFEjfZv7CldZBKYNO/gHsarsZNmr9ALqDTkgG9P8yQeIOGqeU/anJhM84v9T8uESG298L+P+sO4ZHsawNA+12RIkGqBUCNsUmw/T4GQA11Q7cipAdAT3P+BhLUB0D9Nug7/aQIQKdXSJuk5whAe+yWnOdACUCb/BMG9IsJQENixDnhtQlAM3hL5tLJCUAxlIeanNMJQGssPQwL2QlAeRy/623bCUA=\",\"dtype\":\"float64\",\"shape\":[25]},\"y\":{\"__ndarray__\":\"MXnHA29Uyz8McnQ/9m3QP4B9K9F4MdI/kJmUCWkC1j9JbsLjD8baPxzDVroru94/AqxLWOR64D+jsBIto9PhP9WBX+TaZOU/+ZH5Z31o6D/LcXL8M8rqP7d9QbGBl+s/ayC2eMld7j8PiXhxxg3wP3FY202ulu0/juvuYbDh7z9/Kes688HtP28yEp0u5e8/BAEL/PIc7z/kj2guinjwP7+WQ/5jnO8/5IfoE2UM8D9UQ1cF+RfwPzncSkqbGfA/zO+kQxvR8D8=\",\"dtype\":\"float64\",\"shape\":[25]}},\"selected\":{\"id\":\"11506\"},\"selection_policy\":{\"id\":\"11505\"}},\"id\":\"11307\",\"type\":\"ColumnDataSource\"},{\"attributes\":{\"data\":{\"x\":{\"__ndarray__\":\"6DMd8Dk5CMDtY06hyG0DwHgOJrKLY/+/TnRP70UT9r+wlBJLwQvpv0DJesaTlsC/wKfCPWXo0z/wHZyJIxjiP7D/AGbIV+U/6Lf5oBax6T9Q9SZn0JvrP3AtOpSUP+4/CDPemU4T7z+wCAZxPzbwP7BrEnBFyfA/TGxGXnsW8T+gjJY2bkHxP3g1Z3WAVPE/jCZydhhe8T9g4i0vrmPxPw==\",\"dtype\":\"float64\",\"shape\":[20]},\"y\":{\"__ndarray__\":\"gORFSUnWpD8vs9NmNaKyP6Esttrd87o/2FbD+3iIyT9oXi2TGfTVP+C9gO/jZ90/RB+czER75D/UwdPJmdvjP3FuGNt5heU/siGXPWSH5T9OuTRcMsXlP6aWlmJoM+c/VzLChZhB5j96TMER+7zmPyDpIQvydec/ZGjtf/gn5z9nifjlf/XnP1TBiPw8mug/nWwV07Ij6D9JMT7o3nfoPw==\",\"dtype\":\"float64\",\"shape\":[20]}},\"selected\":{\"id\":\"14357\"},\"selection_policy\":{\"id\":\"14356\"}},\"id\":\"14138\",\"type\":\"ColumnDataSource\"},{\"attributes\":{\"fill_color\":{\"value\":\"#ff7e0e\"},\"line_color\":{\"value\":\"#ff7e0e\"},\"x\":{\"field\":\"x\"},\"y\":{\"field\":\"y\"}},\"id\":\"30357\",\"type\":\"Circle\"},{\"attributes\":{},\"id\":\"19259\",\"type\":\"Selection\"},{\"attributes\":{\"source\":{\"id\":\"13664\"}},\"id\":\"13668\",\"type\":\"CDSView\"},{\"attributes\":{\"fill_color\":{\"value\":\"#ff7e0e\"},\"line_color\":{\"value\":\"#ff7e0e\"},\"x\":{\"field\":\"x\"},\"y\":{\"field\":\"y\"}},\"id\":\"19021\",\"type\":\"Circle\"},{\"attributes\":{\"data_source\":{\"id\":\"13196\"},\"glyph\":{\"id\":\"13197\"},\"hover_glyph\":null,\"muted_glyph\":null,\"nonselection_glyph\":{\"id\":\"13198\"},\"selection_glyph\":null,\"view\":{\"id\":\"13200\"}},\"id\":\"13199\",\"type\":\"GlyphRenderer\"},{\"attributes\":{},\"id\":\"16145\",\"type\":\"Selection\"},{\"attributes\":{\"source\":{\"id\":\"15922\"}},\"id\":\"15926\",\"type\":\"CDSView\"},{\"attributes\":{\"source\":{\"id\":\"19020\"}},\"id\":\"19024\",\"type\":\"CDSView\"},{\"attributes\":{\"fill_color\":{\"field\":\"fill_color\"},\"line_color\":{\"field\":\"line_color\"},\"x\":{\"field\":\"x\"},\"y\":{\"field\":\"y\"}},\"id\":\"16485\",\"type\":\"Circle\"},{\"attributes\":{\"data\":{\"fill_color\":[0.172549,0.627451,0.172549],\"line_color\":[0.172549,0.627451,0.172549],\"x\":{\"__ndarray__\":\"6DMd8Dk5CMDtY06hyG0DwHgOJrKLY/+/TnRP70UT9r+wlBJLwQvpv0DJesaTlsC/wKfCPWXo0z/wHZyJIxjiP7D/AGbIV+U/6Lf5oBax6T9Q9SZn0JvrP3AtOpSUP+4/CDPemU4T7z+wCAZxPzbwP7BrEnBFyfA/TGxGXnsW8T+gjJY2bkHxP3g1Z3WAVPE/jCZydhhe8T9g4i0vrmPxPw==\",\"dtype\":\"float64\",\"shape\":[20]},\"y\":{\"__ndarray__\":\"gORFSUnWpD8vs9NmNaKyP6Esttrd87o/2FbD+3iIyT9oXi2TGfTVP+C9gO/jZ90/RB+czER75D/UwdPJmdvjP3FuGNt5heU/siGXPWSH5T9OuTRcMsXlP6aWlmJoM+c/VzLChZhB5j96TMER+7zmPyDpIQvydec/ZGjtf/gn5z9nifjlf/XnP1TBiPw8mug/nWwV07Ij6D9JMT7o3nfoPw==\",\"dtype\":\"float64\",\"shape\":[20]}},\"selected\":{\"id\":\"12344\"},\"selection_policy\":{\"id\":\"12343\"}},\"id\":\"12137\",\"type\":\"ColumnDataSource\"}],\"root_ids\":[\"8107\"]},\"title\":\"Bokeh Application\",\"version\":\"2.0.2\"}};\n",
       "  var render_items = [{\"docid\":\"47c75e86-7518-41c9-b842-b0f7be7e715f\",\"root_ids\":[\"8107\"],\"roots\":{\"8107\":\"66dc04ab-3997-4a29-ab35-aacfd5ff33d3\"}}];\n",
       "  root.Bokeh.embed.embed_items_notebook(docs_json, render_items);\n",
       "\n",
       "  }\n",
       "  if (root.Bokeh !== undefined) {\n",
       "    embed_document(root);\n",
       "  } else {\n",
       "    var attempts = 0;\n",
       "    var timer = setInterval(function(root) {\n",
       "      if (root.Bokeh !== undefined) {\n",
       "        clearInterval(timer);\n",
       "        embed_document(root);\n",
       "      } else {\n",
       "        attempts++;\n",
       "        if (attempts > 100) {\n",
       "          clearInterval(timer);\n",
       "          console.log(\"Bokeh: ERROR: Unable to run BokehJS code because BokehJS library is missing\");\n",
       "        }\n",
       "      }\n",
       "    }, 10, root)\n",
       "  }\n",
       "})(window);"
      ],
      "application/vnd.bokehjs_exec.v0+json": ""
     },
     "metadata": {
      "application/vnd.bokehjs_exec.v0+json": {
       "id": "8107"
      }
     },
     "output_type": "display_data"
    }
   ],
   "source": [
    "# 2\n",
    "\n",
    "for i, val in enumerate(np.unique(df_lac[\"genotype\"])):\n",
    "    color = palette[i % len(palette)]\n",
    "    p_bp.circle(\n",
    "        x=bp_dict[val],\n",
    "        y=df_lac.loc[df_lac[\"genotype\"] == val][\"fold change\"],\n",
    "        legend_label=str(val),\n",
    "        color=color,\n",
    "    )\n",
    "\n",
    "p_bp.legend.location = \"top_left\"\n",
    "\n",
    "bokeh.io.show(p_bp)"
   ]
  },
  {
   "cell_type": "markdown",
   "metadata": {},
   "source": [
    "The data does seem to collapse, implying that only operator binding (described by $R/K$) is changing from mutant to mutant."
   ]
  },
  {
   "cell_type": "markdown",
   "metadata": {},
   "source": [
    "# Exercise 7.5: Monte Carlo simulation of transcriptional pausing\n",
    "\n",
    "In this exercise, we will put random number generation to use and do a Monte Carlo simulation. The term Monte Carlo simulation is a broad term describing techniques in which a large number of random numbers are generated to (approximately) calculate properties of probability distributions. In many cases the analytical form of these distributions is not known, so Monte Carlo methods are a great way to learn about them.\n",
    "\n",
    "We seek the probability distribution of backtrack times, $P(t_{bt})$, where $t_{bt}$ is the time spent in the backtrack. We could solve this analytically, which requires some sophisticated mathematics. But, because we know how to draw random numbers, we can just compute this distribution directly using Monte Carlo simulation!\n",
    "\n",
    "We start at $x = 0$ at time $t = 0$. We “flip a coin,” or choose a random number to decide whether we step left or right. We do this again and again, keeping track of how many steps we take and what the $x$ position is. As soon as $x$ becomes positive, we have exited the backtrack. The total time for a backtrack is then $\\tau n_{\\textrm{steps}}$, where $\\tau$ is the time it takes to make a step. Depken, et al., report that $\\tau ≈ 0.5$ seconds."
   ]
  },
  {
   "cell_type": "markdown",
   "metadata": {},
   "source": [
    "a) Write a function, `backtrack_steps()`, that computes the number of steps it takes for a random walker (i.e., polymerase) starting at position $x=0$ to get to position $x=+1$. It should return the number of steps to take the walk."
   ]
  },
  {
   "cell_type": "code",
   "execution_count": 265,
   "metadata": {},
   "outputs": [],
   "source": [
    "def backtrack_steps():\n",
    "    \"\"\"Computes the number of steps it takes for a 1D random walker starting\n",
    "    at position x = 0 to get to position x = +1.\n",
    "    \n",
    "    Returns the number of steps to take the walk.\"\"\"\n",
    "    \n",
    "    rg = np.random.default_rng()\n",
    "    \n",
    "    x = 0\n",
    "    steps = np.empty(0)\n",
    "    \n",
    "    while x != 1:\n",
    "        steps = np.concatenate((steps, rg.choice([-1, 1], size=1, replace=True)))\n",
    "        x = np.sum(steps)\n",
    "        \n",
    "    return len(steps)"
   ]
  },
  {
   "cell_type": "markdown",
   "metadata": {},
   "source": [
    "b) Generate 10,000 of these backtracks in order to get enough samples out of $P(t_{\\textrm{bt}})$. Some of these samples may take a very long time to acquire. (If you are interested in a way to really speed up this calculation, ask me about Numba. If you do use Numba, note that you must use the standard Mersenne Twister RNG for Numba; that is using `np.random.....`)"
   ]
  },
  {
   "cell_type": "code",
   "execution_count": 266,
   "metadata": {},
   "outputs": [],
   "source": [
    "num_samps = 1000\n",
    "\n",
    "array_backtracks = np.empty(num_samps)\n",
    "\n",
    "for i in range(0, num_samps):\n",
    "    array_backtracks[i] = backtrack_steps()"
   ]
  },
  {
   "cell_type": "markdown",
   "metadata": {},
   "source": [
    "c) Generate an ECDF of your samples and plot the ECDF with the $x$ axis on a logarithmic scale."
   ]
  },
  {
   "cell_type": "code",
   "execution_count": 267,
   "metadata": {},
   "outputs": [],
   "source": [
    "bt, ECDF = ecdf_vals(array_backtracks)"
   ]
  },
  {
   "cell_type": "code",
   "execution_count": 268,
   "metadata": {},
   "outputs": [
    {
     "data": {
      "text/html": [
       "\n",
       "\n",
       "\n",
       "\n",
       "\n",
       "\n",
       "  <div class=\"bk-root\" id=\"503fd77c-1893-4ed8-93c9-9c9035d6bba8\" data-root-id=\"45389\"></div>\n"
      ]
     },
     "metadata": {},
     "output_type": "display_data"
    },
    {
     "data": {
      "application/javascript": [
       "(function(root) {\n",
       "  function embed_document(root) {\n",
       "    \n",
       "  var docs_json = {\"1f90a4fd-c769-4154-ac8f-b503c74e9ea2\":{\"roots\":{\"references\":[{\"attributes\":{\"below\":[{\"id\":\"45398\"}],\"center\":[{\"id\":\"45401\"},{\"id\":\"45405\"}],\"frame_height\":300,\"frame_width\":400,\"left\":[{\"id\":\"45402\"}],\"renderers\":[{\"id\":\"45423\"}],\"title\":{\"id\":\"46048\"},\"toolbar\":{\"id\":\"45413\"},\"x_range\":{\"id\":\"45390\"},\"x_scale\":{\"id\":\"45394\"},\"y_range\":{\"id\":\"45392\"},\"y_scale\":{\"id\":\"45396\"}},\"id\":\"45389\",\"subtype\":\"Figure\",\"type\":\"Plot\"},{\"attributes\":{\"axis\":{\"id\":\"45398\"},\"ticker\":null},\"id\":\"45401\",\"type\":\"Grid\"},{\"attributes\":{},\"id\":\"46050\",\"type\":\"BasicTickFormatter\"},{\"attributes\":{\"axis_label\":\"ECDF\",\"formatter\":{\"id\":\"46050\"},\"ticker\":{\"id\":\"45403\"}},\"id\":\"45402\",\"type\":\"LinearAxis\"},{\"attributes\":{\"fill_color\":{\"value\":\"#1f77b4\"},\"line_color\":{\"value\":\"#1f77b4\"},\"x\":{\"field\":\"x\"},\"y\":{\"field\":\"y\"}},\"id\":\"45421\",\"type\":\"Circle\"},{\"attributes\":{},\"id\":\"45392\",\"type\":\"DataRange1d\"},{\"attributes\":{\"axis_label\":\"number of steps\",\"formatter\":{\"id\":\"46052\"},\"ticker\":{\"id\":\"45399\"}},\"id\":\"45398\",\"type\":\"LogAxis\"},{\"attributes\":{},\"id\":\"45396\",\"type\":\"LinearScale\"},{\"attributes\":{\"fill_alpha\":{\"value\":0.1},\"fill_color\":{\"value\":\"#1f77b4\"},\"line_alpha\":{\"value\":0.1},\"line_color\":{\"value\":\"#1f77b4\"},\"x\":{\"field\":\"x\"},\"y\":{\"field\":\"y\"}},\"id\":\"45422\",\"type\":\"Circle\"},{\"attributes\":{},\"id\":\"45407\",\"type\":\"WheelZoomTool\"},{\"attributes\":{},\"id\":\"45410\",\"type\":\"ResetTool\"},{\"attributes\":{\"data_source\":{\"id\":\"45420\"},\"glyph\":{\"id\":\"45421\"},\"hover_glyph\":null,\"muted_glyph\":null,\"nonselection_glyph\":{\"id\":\"45422\"},\"selection_glyph\":null,\"view\":{\"id\":\"45424\"}},\"id\":\"45423\",\"type\":\"GlyphRenderer\"},{\"attributes\":{\"source\":{\"id\":\"45420\"}},\"id\":\"45424\",\"type\":\"CDSView\"},{\"attributes\":{},\"id\":\"45394\",\"type\":\"LogScale\"},{\"attributes\":{},\"id\":\"45403\",\"type\":\"BasicTicker\"},{\"attributes\":{\"axis\":{\"id\":\"45402\"},\"dimension\":1,\"ticker\":null},\"id\":\"45405\",\"type\":\"Grid\"},{\"attributes\":{\"data\":{\"x\":{\"__ndarray__\":\"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\",\"dtype\":\"float64\",\"shape\":[1000]},\"y\":{\"__ndarray__\":\"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\",\"dtype\":\"float64\",\"shape\":[1000]}},\"selected\":{\"id\":\"46055\"},\"selection_policy\":{\"id\":\"46054\"}},\"id\":\"45420\",\"type\":\"ColumnDataSource\"},{\"attributes\":{\"bottom_units\":\"screen\",\"fill_alpha\":0.5,\"fill_color\":\"lightgrey\",\"left_units\":\"screen\",\"level\":\"overlay\",\"line_alpha\":1.0,\"line_color\":\"black\",\"line_dash\":[4,4],\"line_width\":2,\"render_mode\":\"css\",\"right_units\":\"screen\",\"top_units\":\"screen\"},\"id\":\"45412\",\"type\":\"BoxAnnotation\"},{\"attributes\":{},\"id\":\"45406\",\"type\":\"PanTool\"},{\"attributes\":{\"ticker\":null},\"id\":\"46052\",\"type\":\"LogTickFormatter\"},{\"attributes\":{\"active_drag\":\"auto\",\"active_inspect\":\"auto\",\"active_multi\":null,\"active_scroll\":\"auto\",\"active_tap\":\"auto\",\"tools\":[{\"id\":\"45406\"},{\"id\":\"45407\"},{\"id\":\"45408\"},{\"id\":\"45409\"},{\"id\":\"45410\"},{\"id\":\"45411\"}]},\"id\":\"45413\",\"type\":\"Toolbar\"},{\"attributes\":{},\"id\":\"45409\",\"type\":\"SaveTool\"},{\"attributes\":{},\"id\":\"45390\",\"type\":\"DataRange1d\"},{\"attributes\":{\"num_minor_ticks\":10},\"id\":\"45399\",\"type\":\"LogTicker\"},{\"attributes\":{},\"id\":\"45411\",\"type\":\"HelpTool\"},{\"attributes\":{},\"id\":\"46054\",\"type\":\"UnionRenderers\"},{\"attributes\":{\"overlay\":{\"id\":\"45412\"}},\"id\":\"45408\",\"type\":\"BoxZoomTool\"},{\"attributes\":{},\"id\":\"46055\",\"type\":\"Selection\"},{\"attributes\":{\"text\":\"\"},\"id\":\"46048\",\"type\":\"Title\"}],\"root_ids\":[\"45389\"]},\"title\":\"Bokeh Application\",\"version\":\"2.0.2\"}};\n",
       "  var render_items = [{\"docid\":\"1f90a4fd-c769-4154-ac8f-b503c74e9ea2\",\"root_ids\":[\"45389\"],\"roots\":{\"45389\":\"503fd77c-1893-4ed8-93c9-9c9035d6bba8\"}}];\n",
       "  root.Bokeh.embed.embed_items_notebook(docs_json, render_items);\n",
       "\n",
       "  }\n",
       "  if (root.Bokeh !== undefined) {\n",
       "    embed_document(root);\n",
       "  } else {\n",
       "    var attempts = 0;\n",
       "    var timer = setInterval(function(root) {\n",
       "      if (root.Bokeh !== undefined) {\n",
       "        clearInterval(timer);\n",
       "        embed_document(root);\n",
       "      } else {\n",
       "        attempts++;\n",
       "        if (attempts > 100) {\n",
       "          clearInterval(timer);\n",
       "          console.log(\"Bokeh: ERROR: Unable to run BokehJS code because BokehJS library is missing\");\n",
       "        }\n",
       "      }\n",
       "    }, 10, root)\n",
       "  }\n",
       "})(window);"
      ],
      "application/vnd.bokehjs_exec.v0+json": ""
     },
     "metadata": {
      "application/vnd.bokehjs_exec.v0+json": {
       "id": "45389"
      }
     },
     "output_type": "display_data"
    }
   ],
   "source": [
    "p = bokeh.plotting.figure(\n",
    "    frame_height = 300,\n",
    "    frame_width = 400,\n",
    "    x_axis_type = 'log',\n",
    "    x_axis_label = 'number of steps',\n",
    "    y_axis_label = 'ECDF'\n",
    ")\n",
    "\n",
    "p.circle(\n",
    "    bt,\n",
    "    ECDF,\n",
    ")\n",
    "\n",
    "bokeh.io.show(p)"
   ]
  },
  {
   "cell_type": "markdown",
   "metadata": {},
   "source": [
    "d) Complementary cumulative distribution (CCDF)"
   ]
  },
  {
   "cell_type": "code",
   "execution_count": 276,
   "metadata": {},
   "outputs": [
    {
     "data": {
      "text/html": [
       "\n",
       "\n",
       "\n",
       "\n",
       "\n",
       "\n",
       "  <div class=\"bk-root\" id=\"bbd2187d-e73d-4817-bd3c-79354b88eee1\" data-root-id=\"49782\"></div>\n"
      ]
     },
     "metadata": {},
     "output_type": "display_data"
    },
    {
     "data": {
      "application/javascript": [
       "(function(root) {\n",
       "  function embed_document(root) {\n",
       "    \n",
       "  var docs_json = {\"cdd267ac-928b-402a-a328-7db5372f76ab\":{\"roots\":{\"references\":[{\"attributes\":{\"below\":[{\"id\":\"49791\"}],\"center\":[{\"id\":\"49794\"},{\"id\":\"49798\"}],\"frame_height\":300,\"left\":[{\"id\":\"49795\"}],\"renderers\":[{\"id\":\"49816\"}],\"title\":{\"id\":\"50467\"},\"toolbar\":{\"id\":\"49806\"},\"x_range\":{\"id\":\"49783\"},\"x_scale\":{\"id\":\"49787\"},\"y_range\":{\"id\":\"49785\"},\"y_scale\":{\"id\":\"49789\"}},\"id\":\"49782\",\"subtype\":\"Figure\",\"type\":\"Plot\"},{\"attributes\":{},\"id\":\"49802\",\"type\":\"SaveTool\"},{\"attributes\":{},\"id\":\"49804\",\"type\":\"HelpTool\"},{\"attributes\":{\"data_source\":{\"id\":\"49813\"},\"glyph\":{\"id\":\"49814\"},\"hover_glyph\":null,\"muted_glyph\":null,\"nonselection_glyph\":{\"id\":\"49815\"},\"selection_glyph\":null,\"view\":{\"id\":\"49817\"}},\"id\":\"49816\",\"type\":\"GlyphRenderer\"},{\"attributes\":{\"ticker\":null},\"id\":\"50471\",\"type\":\"LogTickFormatter\"},{\"attributes\":{\"num_minor_ticks\":10},\"id\":\"49792\",\"type\":\"LogTicker\"},{\"attributes\":{},\"id\":\"49785\",\"type\":\"DataRange1d\"},{\"attributes\":{\"num_minor_ticks\":10},\"id\":\"49796\",\"type\":\"LogTicker\"},{\"attributes\":{},\"id\":\"50473\",\"type\":\"UnionRenderers\"},{\"attributes\":{\"axis_label\":\"t_bt\",\"formatter\":{\"id\":\"50471\"},\"ticker\":{\"id\":\"49792\"}},\"id\":\"49791\",\"type\":\"LogAxis\"},{\"attributes\":{\"axis\":{\"id\":\"49791\"},\"ticker\":null},\"id\":\"49794\",\"type\":\"Grid\"},{\"attributes\":{\"fill_alpha\":{\"value\":0.1},\"fill_color\":{\"value\":\"#1f77b4\"},\"line_alpha\":{\"value\":0.1},\"line_color\":{\"value\":\"#1f77b4\"},\"x\":{\"field\":\"x\"},\"y\":{\"field\":\"y\"}},\"id\":\"49815\",\"type\":\"Circle\"},{\"attributes\":{\"active_drag\":\"auto\",\"active_inspect\":\"auto\",\"active_multi\":null,\"active_scroll\":\"auto\",\"active_tap\":\"auto\",\"tools\":[{\"id\":\"49799\"},{\"id\":\"49800\"},{\"id\":\"49801\"},{\"id\":\"49802\"},{\"id\":\"49803\"},{\"id\":\"49804\"}]},\"id\":\"49806\",\"type\":\"Toolbar\"},{\"attributes\":{},\"id\":\"50474\",\"type\":\"Selection\"},{\"attributes\":{\"bottom_units\":\"screen\",\"fill_alpha\":0.5,\"fill_color\":\"lightgrey\",\"left_units\":\"screen\",\"level\":\"overlay\",\"line_alpha\":1.0,\"line_color\":\"black\",\"line_dash\":[4,4],\"line_width\":2,\"render_mode\":\"css\",\"right_units\":\"screen\",\"top_units\":\"screen\"},\"id\":\"49805\",\"type\":\"BoxAnnotation\"},{\"attributes\":{\"text\":\"\"},\"id\":\"50467\",\"type\":\"Title\"},{\"attributes\":{\"source\":{\"id\":\"49813\"}},\"id\":\"49817\",\"type\":\"CDSView\"},{\"attributes\":{\"axis_label\":\"CCDF\",\"formatter\":{\"id\":\"50469\"},\"ticker\":{\"id\":\"49796\"}},\"id\":\"49795\",\"type\":\"LogAxis\"},{\"attributes\":{\"axis\":{\"id\":\"49795\"},\"dimension\":1,\"ticker\":null},\"id\":\"49798\",\"type\":\"Grid\"},{\"attributes\":{},\"id\":\"49783\",\"type\":\"DataRange1d\"},{\"attributes\":{},\"id\":\"49799\",\"type\":\"PanTool\"},{\"attributes\":{},\"id\":\"49787\",\"type\":\"LogScale\"},{\"attributes\":{},\"id\":\"49789\",\"type\":\"LogScale\"},{\"attributes\":{\"overlay\":{\"id\":\"49805\"}},\"id\":\"49801\",\"type\":\"BoxZoomTool\"},{\"attributes\":{},\"id\":\"49800\",\"type\":\"WheelZoomTool\"},{\"attributes\":{\"data\":{\"x\":{\"__ndarray__\":\"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\",\"dtype\":\"float64\",\"shape\":[1000]},\"y\":{\"__ndarray__\":\"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\",\"dtype\":\"float64\",\"shape\":[1000]}},\"selected\":{\"id\":\"50474\"},\"selection_policy\":{\"id\":\"50473\"}},\"id\":\"49813\",\"type\":\"ColumnDataSource\"},{\"attributes\":{\"ticker\":null},\"id\":\"50469\",\"type\":\"LogTickFormatter\"},{\"attributes\":{\"fill_color\":{\"value\":\"#1f77b4\"},\"line_color\":{\"value\":\"#1f77b4\"},\"x\":{\"field\":\"x\"},\"y\":{\"field\":\"y\"}},\"id\":\"49814\",\"type\":\"Circle\"},{\"attributes\":{},\"id\":\"49803\",\"type\":\"ResetTool\"}],\"root_ids\":[\"49782\"]},\"title\":\"Bokeh Application\",\"version\":\"2.0.2\"}};\n",
       "  var render_items = [{\"docid\":\"cdd267ac-928b-402a-a328-7db5372f76ab\",\"root_ids\":[\"49782\"],\"roots\":{\"49782\":\"bbd2187d-e73d-4817-bd3c-79354b88eee1\"}}];\n",
       "  root.Bokeh.embed.embed_items_notebook(docs_json, render_items);\n",
       "\n",
       "  }\n",
       "  if (root.Bokeh !== undefined) {\n",
       "    embed_document(root);\n",
       "  } else {\n",
       "    var attempts = 0;\n",
       "    var timer = setInterval(function(root) {\n",
       "      if (root.Bokeh !== undefined) {\n",
       "        clearInterval(timer);\n",
       "        embed_document(root);\n",
       "      } else {\n",
       "        attempts++;\n",
       "        if (attempts > 100) {\n",
       "          clearInterval(timer);\n",
       "          console.log(\"Bokeh: ERROR: Unable to run BokehJS code because BokehJS library is missing\");\n",
       "        }\n",
       "      }\n",
       "    }, 10, root)\n",
       "  }\n",
       "})(window);"
      ],
      "application/vnd.bokehjs_exec.v0+json": ""
     },
     "metadata": {
      "application/vnd.bokehjs_exec.v0+json": {
       "id": "49782"
      }
     },
     "output_type": "display_data"
    }
   ],
   "source": [
    "CCDF = 1 - ECDF\n",
    "tbt = 0.5 * bt\n",
    "\n",
    "p = bokeh.plotting.figure(\n",
    "    frame_height = 300,\n",
    "    x_axis_type = 'log',\n",
    "    y_axis_type = 'log', \n",
    "    x_axis_label = 't_bt',\n",
    "    y_axis_label = 'CCDF',\n",
    ")\n",
    "\n",
    "p.circle(\n",
    "    tbt,\n",
    "    CCDF,\n",
    ")\n",
    "\n",
    "bokeh.io.show(p)"
   ]
  },
  {
   "cell_type": "markdown",
   "metadata": {},
   "source": [
    "e) By doing some mathematical heavy lifting, we know that, in the limit of large $t_{bt}$,\n",
    "\n",
    "$$P(t_{bt}) \\propto t_{bt}^{-3/2},$$\n",
    "\n",
    "so the plot you did in part (e) should have a slope of $−1/2$ on a log-log plot. Is this what you see?"
   ]
  },
  {
   "cell_type": "code",
   "execution_count": 277,
   "metadata": {},
   "outputs": [
    {
     "data": {
      "text/html": [
       "\n",
       "\n",
       "\n",
       "\n",
       "\n",
       "\n",
       "  <div class=\"bk-root\" id=\"fd94e5e2-49a6-46aa-afaf-b29e77444bd9\" data-root-id=\"49782\"></div>\n"
      ]
     },
     "metadata": {},
     "output_type": "display_data"
    },
    {
     "data": {
      "application/javascript": [
       "(function(root) {\n",
       "  function embed_document(root) {\n",
       "    \n",
       "  var docs_json = {\"0280e0e4-6109-4852-b668-ff0392e52080\":{\"roots\":{\"references\":[{\"attributes\":{\"below\":[{\"id\":\"49791\"}],\"center\":[{\"id\":\"49794\"},{\"id\":\"49798\"}],\"frame_height\":300,\"left\":[{\"id\":\"49795\"}],\"renderers\":[{\"id\":\"49816\"},{\"id\":\"50533\"}],\"title\":{\"id\":\"50467\"},\"toolbar\":{\"id\":\"49806\"},\"x_range\":{\"id\":\"49783\"},\"x_scale\":{\"id\":\"49787\"},\"y_range\":{\"id\":\"49785\"},\"y_scale\":{\"id\":\"49789\"}},\"id\":\"49782\",\"subtype\":\"Figure\",\"type\":\"Plot\"},{\"attributes\":{\"data\":{\"x\":[0.5,99999.5],\"y\":[1,0.0031622776601683794]},\"selected\":{\"id\":\"51193\"},\"selection_policy\":{\"id\":\"51192\"}},\"id\":\"50530\",\"type\":\"ColumnDataSource\"},{\"attributes\":{},\"id\":\"49802\",\"type\":\"SaveTool\"},{\"attributes\":{},\"id\":\"49804\",\"type\":\"HelpTool\"},{\"attributes\":{\"data_source\":{\"id\":\"49813\"},\"glyph\":{\"id\":\"49814\"},\"hover_glyph\":null,\"muted_glyph\":null,\"nonselection_glyph\":{\"id\":\"49815\"},\"selection_glyph\":null,\"view\":{\"id\":\"49817\"}},\"id\":\"49816\",\"type\":\"GlyphRenderer\"},{\"attributes\":{},\"id\":\"51193\",\"type\":\"Selection\"},{\"attributes\":{\"ticker\":null},\"id\":\"50471\",\"type\":\"LogTickFormatter\"},{\"attributes\":{\"num_minor_ticks\":10},\"id\":\"49792\",\"type\":\"LogTicker\"},{\"attributes\":{},\"id\":\"49785\",\"type\":\"DataRange1d\"},{\"attributes\":{\"num_minor_ticks\":10},\"id\":\"49796\",\"type\":\"LogTicker\"},{\"attributes\":{},\"id\":\"50473\",\"type\":\"UnionRenderers\"},{\"attributes\":{\"axis_label\":\"t_bt\",\"formatter\":{\"id\":\"50471\"},\"ticker\":{\"id\":\"49792\"}},\"id\":\"49791\",\"type\":\"LogAxis\"},{\"attributes\":{\"axis\":{\"id\":\"49791\"},\"ticker\":null},\"id\":\"49794\",\"type\":\"Grid\"},{\"attributes\":{\"fill_alpha\":{\"value\":0.1},\"fill_color\":{\"value\":\"#1f77b4\"},\"line_alpha\":{\"value\":0.1},\"line_color\":{\"value\":\"#1f77b4\"},\"x\":{\"field\":\"x\"},\"y\":{\"field\":\"y\"}},\"id\":\"49815\",\"type\":\"Circle\"},{\"attributes\":{\"active_drag\":\"auto\",\"active_inspect\":\"auto\",\"active_multi\":null,\"active_scroll\":\"auto\",\"active_tap\":\"auto\",\"tools\":[{\"id\":\"49799\"},{\"id\":\"49800\"},{\"id\":\"49801\"},{\"id\":\"49802\"},{\"id\":\"49803\"},{\"id\":\"49804\"}]},\"id\":\"49806\",\"type\":\"Toolbar\"},{\"attributes\":{},\"id\":\"50474\",\"type\":\"Selection\"},{\"attributes\":{\"line_color\":\"#1f77b4\",\"x\":{\"field\":\"x\"},\"y\":{\"field\":\"y\"}},\"id\":\"50531\",\"type\":\"Line\"},{\"attributes\":{\"bottom_units\":\"screen\",\"fill_alpha\":0.5,\"fill_color\":\"lightgrey\",\"left_units\":\"screen\",\"level\":\"overlay\",\"line_alpha\":1.0,\"line_color\":\"black\",\"line_dash\":[4,4],\"line_width\":2,\"render_mode\":\"css\",\"right_units\":\"screen\",\"top_units\":\"screen\"},\"id\":\"49805\",\"type\":\"BoxAnnotation\"},{\"attributes\":{\"text\":\"\"},\"id\":\"50467\",\"type\":\"Title\"},{\"attributes\":{\"line_alpha\":0.1,\"line_color\":\"#1f77b4\",\"x\":{\"field\":\"x\"},\"y\":{\"field\":\"y\"}},\"id\":\"50532\",\"type\":\"Line\"},{\"attributes\":{},\"id\":\"51192\",\"type\":\"UnionRenderers\"},{\"attributes\":{\"source\":{\"id\":\"49813\"}},\"id\":\"49817\",\"type\":\"CDSView\"},{\"attributes\":{\"axis_label\":\"CCDF\",\"formatter\":{\"id\":\"50469\"},\"ticker\":{\"id\":\"49796\"}},\"id\":\"49795\",\"type\":\"LogAxis\"},{\"attributes\":{\"axis\":{\"id\":\"49795\"},\"dimension\":1,\"ticker\":null},\"id\":\"49798\",\"type\":\"Grid\"},{\"attributes\":{},\"id\":\"49783\",\"type\":\"DataRange1d\"},{\"attributes\":{},\"id\":\"49799\",\"type\":\"PanTool\"},{\"attributes\":{},\"id\":\"49787\",\"type\":\"LogScale\"},{\"attributes\":{},\"id\":\"49789\",\"type\":\"LogScale\"},{\"attributes\":{\"overlay\":{\"id\":\"49805\"}},\"id\":\"49801\",\"type\":\"BoxZoomTool\"},{\"attributes\":{\"data_source\":{\"id\":\"50530\"},\"glyph\":{\"id\":\"50531\"},\"hover_glyph\":null,\"muted_glyph\":null,\"nonselection_glyph\":{\"id\":\"50532\"},\"selection_glyph\":null,\"view\":{\"id\":\"50534\"}},\"id\":\"50533\",\"type\":\"GlyphRenderer\"},{\"attributes\":{},\"id\":\"49800\",\"type\":\"WheelZoomTool\"},{\"attributes\":{\"data\":{\"x\":{\"__ndarray__\":\"AAAAAAAA4D8AAAAAAADgPwAAAAAAAOA/AAAAAAAA4D8AAAAAAADgPwAAAAAAAOA/AAAAAAAA4D8AAAAAAADgPwAAAAAAAOA/AAAAAAAA4D8AAAAAAADgPwAAAAAAAOA/AAAAAAAA4D8AAAAAAADgPwAAAAAAAOA/AAAAAAAA4D8AAAAAAADgPwAAAAAAAOA/AAAAAAAA4D8AAAAAAADgPwAAAAAAAOA/AAAAAAAA4D8AAAAAAADgPwAAAAAAAOA/AAAAAAAA4D8AAAAAAADgPwAAAAAAAOA/AAAAAAAA4D8AAAAAAADgPwAAAAAAAOA/AAAAAAAA4D8AAAAAAADgPwAAAAAAAOA/AAAAAAAA4D8AAAAAAADgPwAAAAAAAOA/AAAAAAAA4D8AAAAAAADgPwAAAAAAAOA/AAAAAAAA4D8AAAAAAADgPwAAAAAAAOA/AAAAAAAA4D8AAAAAAADgPwAAAAAAAOA/AAAAAAAA4D8AAAAAAADgPwAAAAAAAOA/AAAAAAAA4D8AAAAAAADgPwAAAAAAAOA/AAAAAAAA4D8AAAAAAADgPwAAAAAAAOA/AAAAAAAA4D8AAAAAAADgPwAAAAAAAOA/AAAAAAAA4D8AAAAAAADgPwAAAAAAAOA/AAAAAAAA4D8AAAAAAADgPwAAAAAAAOA/AAAAAAAA4D8AAAAAAADgPwAAAAAAAOA/AAAAAAAA4D8AAAAAAADgPwAAAAAAAOA/AAAAAAAA4D8AAAAAAADgPwAAAAAAAOA/AAAAAAAA4D8AAAAAAADgPwAAAAAAAOA/AAAAAAAA4D8AAAAAAADgPwAAAAAAAOA/AAAAAAAA4D8AAAAAAADgPwAAAAAAAOA/AAAAAAAA4D8AAAAAAADgPwAAAAAAAOA/AAAAAAAA4D8AAAAAAADgPwAAAAAAAOA/AAAAAAAA4D8AAAAAAADgPwAAAAAAAOA/AAAAAAAA4D8AAAAAAADgPwAAAAAAAOA/AAAAAAAA4D8AAAAAAADgPwAAAAAAAOA/AAAAAAAA4D8AAAAAAADgPwAAAAAAAOA/AAAAAAAA4D8AAAAAAADgPwAAAAAAAOA/AAAAAAAA4D8AAAAAAADgPwAAAAAAAOA/AAAAAAAA4D8AAAAAAADgPwAAAAAAAOA/AAAAAAAA4D8AAAAAAADgPwAAAAAAAOA/AAAAAAAA4D8AAAAAAADgPwAAAAAAAOA/AAAAAAAA4D8AAAAAAADgPwAAAAAAAOA/AAAAAAAA4D8AAAAAAADgPwAAAAAAAOA/AAAAAAAA4D8AAAAAAADgPwAAAAAAAOA/AAAAAAAA4D8AAAAAAADgPwAAAAAAAOA/AAAAAAAA4D8AAAAAAADgPwAAAAAAAOA/AAAAAAAA4D8AAAAAAADgPwAAAAAAAOA/AAAAAAAA4D8AAAAAAADgPwAAAAAAAOA/AAAAAAAA4D8AAAAAAADgPwAAAAAAAOA/AAAAAAAA4D8AAAAAAADgPwAAAAAAAOA/AAAAAAAA4D8AAAAAAADgPwAAAAAAAOA/AAAAAAAA4D8AAAAAAADgPwAAAAAAAOA/AAAAAAAA4D8AAAAAAADgPwAAAAAAAOA/AAAAAAAA4D8AAAAAAADgPwAAAAAAAOA/AAAAAAAA4D8AAAAAAADgPwAAAAAAAOA/AAAAAAAA4D8AAAAAAADgPwAAAAAAAOA/AAAAAAAA4D8AAAAAAADgPwAAAAAAAOA/AAAAAAAA4D8AAAAAAADgPwAAAAAAAOA/AAAAAAAA4D8AAAAAAADgPwAAAAAAAOA/AAAAAAAA4D8AAAAAAADgPwAAAAAAAOA/AAAAAAAA4D8AAAAAAADgPwAAAAAAAOA/AAAAAAAA4D8AAAAAAADgPwAAAAAAAOA/AAAAAAAA4D8AAAAAAADgPwAAAAAAAOA/AAAAAAAA4D8AAAAAAADgPwAAAAAAAOA/AAAAAAAA4D8AAAAAAADgPwAAAAAAAOA/AAAAAAAA4D8AAAAAAADgPwAAAAAAAOA/AAAAAAAA4D8AAAAAAADgPwAAAAAAAOA/AAAAAAAA4D8AAAAAAADgPwAAAAAAAOA/AAAAAAAA4D8AAAAAAADgPwAAAAAAAOA/AAAAAAAA4D8AAAAAAADgPwAAAAAAAOA/AAAAAAAA4D8AAAAAAADgPwAAAAAAAOA/AAAAAAAA4D8AAAAAAADgPwAAAAAAAOA/AAAAAAAA4D8AAAAAAADgPwAAAAAAAOA/AAAAAAAA4D8AAAAAAADgPwAAAAAAAOA/AAAAAAAA4D8AAAAAAADgPwAAAAAAAOA/AAAAAAAA4D8AAAAAAADgPwAAAAAAAOA/AAAAAAAA4D8AAAAAAADgPwAAAAAAAOA/AAAAAAAA4D8AAAAAAADgPwAAAAAAAOA/AAAAAAAA4D8AAAAAAADgPwAAAAAAAOA/AAAAAAAA4D8AAAAAAADgPwAAAAAAAOA/AAAAAAAA4D8AAAAAAADgPwAAAAAAAOA/AAAAAAAA4D8AAAAAAADgPwAAAAAAAOA/AAAAAAAA4D8AAAAAAADgPwAAAAAAAOA/AAAAAAAA4D8AAAAAAADgPwAAAAAAAOA/AAAAAAAA4D8AAAAAAADgPwAAAAAAAOA/AAAAAAAA4D8AAAAAAADgPwAAAAAAAOA/AAAAAAAA4D8AAAAAAADgPwAAAAAAAOA/AAAAAAAA4D8AAAAAAADgPwAAAAAAAOA/AAAAAAAA4D8AAAAAAADgPwAAAAAAAOA/AAAAAAAA4D8AAAAAAADgPwAAAAAAAOA/AAAAAAAA4D8AAAAAAADgPwAAAAAAAOA/AAAAAAAA4D8AAAAAAADgPwAAAAAAAOA/AAAAAAAA4D8AAAAAAADgPwAAAAAAAOA/AAAAAAAA4D8AAAAAAADgPwAAAAAAAOA/AAAAAAAA4D8AAAAAAADgPwAAAAAAAOA/AAAAAAAA4D8AAAAAAADgPwAAAAAAAOA/AAAAAAAA4D8AAAAAAADgPwAAAAAAAOA/AAAAAAAA4D8AAAAAAADgPwAAAAAAAOA/AAAAAAAA4D8AAAAAAADgPwAAAAAAAOA/AAAAAAAA4D8AAAAAAADgPwAAAAAAAOA/AAAAAAAA4D8AAAAAAADgPwAAAAAAAOA/AAAAAAAA4D8AAAAAAADgPwAAAAAAAOA/AAAAAAAA4D8AAAAAAADgPwAAAAAAAOA/AAAAAAAA4D8AAAAAAADgPwAAAAAAAOA/AAAAAAAA4D8AAAAAAADgPwAAAAAAAOA/AAAAAAAA4D8AAAAAAADgPwAAAAAAAOA/AAAAAAAA4D8AAAAAAADgPwAAAAAAAOA/AAAAAAAA4D8AAAAAAADgPwAAAAAAAOA/AAAAAAAA4D8AAAAAAADgPwAAAAAAAOA/AAAAAAAA4D8AAAAAAADgPwAAAAAAAOA/AAAAAAAA4D8AAAAAAADgPwAAAAAAAOA/AAAAAAAA4D8AAAAAAADgPwAAAAAAAOA/AAAAAAAA4D8AAAAAAADgPwAAAAAAAOA/AAAAAAAA4D8AAAAAAADgPwAAAAAAAOA/AAAAAAAA4D8AAAAAAADgPwAAAAAAAOA/AAAAAAAA4D8AAAAAAADgPwAAAAAAAOA/AAAAAAAA4D8AAAAAAADgPwAAAAAAAOA/AAAAAAAA4D8AAAAAAADgPwAAAAAAAOA/AAAAAAAA4D8AAAAAAADgPwAAAAAAAOA/AAAAAAAA4D8AAAAAAADgPwAAAAAAAOA/AAAAAAAA4D8AAAAAAADgPwAAAAAAAOA/AAAAAAAA4D8AAAAAAADgPwAAAAAAAOA/AAAAAAAA4D8AAAAAAADgPwAAAAAAAOA/AAAAAAAA4D8AAAAAAADgPwAAAAAAAOA/AAAAAAAA4D8AAAAAAADgPwAAAAAAAOA/AAAAAAAA4D8AAAAAAADgPwAAAAAAAOA/AAAAAAAA4D8AAAAAAADgPwAAAAAAAOA/AAAAAAAA4D8AAAAAAADgPwAAAAAAAOA/AAAAAAAA4D8AAAAAAADgPwAAAAAAAOA/AAAAAAAA4D8AAAAAAADgPwAAAAAAAOA/AAAAAAAA4D8AAAAAAADgPwAAAAAAAOA/AAAAAAAA4D8AAAAAAADgPwAAAAAAAOA/AAAAAAAA4D8AAAAAAADgPwAAAAAAAOA/AAAAAAAA4D8AAAAAAADgPwAAAAAAAOA/AAAAAAAA4D8AAAAAAADgPwAAAAAAAOA/AAAAAAAA4D8AAAAAAADgPwAAAAAAAOA/AAAAAAAA4D8AAAAAAADgPwAAAAAAAOA/AAAAAAAA4D8AAAAAAADgPwAAAAAAAOA/AAAAAAAA4D8AAAAAAADgPwAAAAAAAOA/AAAAAAAA4D8AAAAAAADgPwAAAAAAAOA/AAAAAAAA4D8AAAAAAADgPwAAAAAAAOA/AAAAAAAA4D8AAAAAAADgPwAAAAAAAOA/AAAAAAAA4D8AAAAAAADgPwAAAAAAAOA/AAAAAAAA4D8AAAAAAADgPwAAAAAAAOA/AAAAAAAA4D8AAAAAAADgPwAAAAAAAOA/AAAAAAAA4D8AAAAAAADgPwAAAAAAAOA/AAAAAAAA4D8AAAAAAADgPwAAAAAAAOA/AAAAAAAA4D8AAAAAAADgPwAAAAAAAOA/AAAAAAAA4D8AAAAAAADgPwAAAAAAAOA/AAAAAAAA4D8AAAAAAADgPwAAAAAAAOA/AAAAAAAA4D8AAAAAAADgPwAAAAAAAOA/AAAAAAAA4D8AAAAAAADgPwAAAAAAAOA/AAAAAAAA4D8AAAAAAADgPwAAAAAAAOA/AAAAAAAA4D8AAAAAAADgPwAAAAAAAOA/AAAAAAAA4D8AAAAAAADgPwAAAAAAAOA/AAAAAAAA4D8AAAAAAADgPwAAAAAAAOA/AAAAAAAA4D8AAAAAAADgPwAAAAAAAOA/AAAAAAAA4D8AAAAAAADgPwAAAAAAAOA/AAAAAAAA4D8AAAAAAADgPwAAAAAAAOA/AAAAAAAA4D8AAAAAAADgPwAAAAAAAOA/AAAAAAAA4D8AAAAAAADgPwAAAAAAAOA/AAAAAAAA4D8AAAAAAADgPwAAAAAAAOA/AAAAAAAA4D8AAAAAAADgPwAAAAAAAOA/AAAAAAAA4D8AAAAAAADgPwAAAAAAAOA/AAAAAAAA4D8AAAAAAADgPwAAAAAAAOA/AAAAAAAA4D8AAAAAAADgPwAAAAAAAOA/AAAAAAAA4D8AAAAAAADgPwAAAAAAAOA/AAAAAAAA4D8AAAAAAADgPwAAAAAAAOA/AAAAAAAA4D8AAAAAAADgPwAAAAAAAOA/AAAAAAAA+D8AAAAAAAD4PwAAAAAAAPg/AAAAAAAA+D8AAAAAAAD4PwAAAAAAAPg/AAAAAAAA+D8AAAAAAAD4PwAAAAAAAPg/AAAAAAAA+D8AAAAAAAD4PwAAAAAAAPg/AAAAAAAA+D8AAAAAAAD4PwAAAAAAAPg/AAAAAAAA+D8AAAAAAAD4PwAAAAAAAPg/AAAAAAAA+D8AAAAAAAD4PwAAAAAAAPg/AAAAAAAA+D8AAAAAAAD4PwAAAAAAAPg/AAAAAAAA+D8AAAAAAAD4PwAAAAAAAPg/AAAAAAAA+D8AAAAAAAD4PwAAAAAAAPg/AAAAAAAA+D8AAAAAAAD4PwAAAAAAAPg/AAAAAAAA+D8AAAAAAAD4PwAAAAAAAPg/AAAAAAAA+D8AAAAAAAD4PwAAAAAAAPg/AAAAAAAA+D8AAAAAAAD4PwAAAAAAAPg/AAAAAAAA+D8AAAAAAAD4PwAAAAAAAPg/AAAAAAAA+D8AAAAAAAD4PwAAAAAAAPg/AAAAAAAA+D8AAAAAAAD4PwAAAAAAAPg/AAAAAAAA+D8AAAAAAAD4PwAAAAAAAPg/AAAAAAAA+D8AAAAAAAD4PwAAAAAAAPg/AAAAAAAA+D8AAAAAAAD4PwAAAAAAAPg/AAAAAAAA+D8AAAAAAAD4PwAAAAAAAPg/AAAAAAAA+D8AAAAAAAD4PwAAAAAAAPg/AAAAAAAA+D8AAAAAAAD4PwAAAAAAAPg/AAAAAAAA+D8AAAAAAAD4PwAAAAAAAPg/AAAAAAAA+D8AAAAAAAD4PwAAAAAAAPg/AAAAAAAA+D8AAAAAAAD4PwAAAAAAAPg/AAAAAAAA+D8AAAAAAAD4PwAAAAAAAPg/AAAAAAAA+D8AAAAAAAD4PwAAAAAAAPg/AAAAAAAA+D8AAAAAAAD4PwAAAAAAAPg/AAAAAAAA+D8AAAAAAAD4PwAAAAAAAPg/AAAAAAAA+D8AAAAAAAD4PwAAAAAAAPg/AAAAAAAA+D8AAAAAAAD4PwAAAAAAAPg/AAAAAAAA+D8AAAAAAAD4PwAAAAAAAPg/AAAAAAAA+D8AAAAAAAD4PwAAAAAAAPg/AAAAAAAA+D8AAAAAAAD4PwAAAAAAAPg/AAAAAAAA+D8AAAAAAAD4PwAAAAAAAPg/AAAAAAAA+D8AAAAAAAD4PwAAAAAAAARAAAAAAAAABEAAAAAAAAAEQAAAAAAAAARAAAAAAAAABEAAAAAAAAAEQAAAAAAAAARAAAAAAAAABEAAAAAAAAAEQAAAAAAAAARAAAAAAAAABEAAAAAAAAAEQAAAAAAAAARAAAAAAAAABEAAAAAAAAAEQAAAAAAAAARAAAAAAAAABEAAAAAAAAAEQAAAAAAAAARAAAAAAAAABEAAAAAAAAAEQAAAAAAAAARAAAAAAAAABEAAAAAAAAAEQAAAAAAAAARAAAAAAAAABEAAAAAAAAAEQAAAAAAAAARAAAAAAAAABEAAAAAAAAAEQAAAAAAAAARAAAAAAAAABEAAAAAAAAAEQAAAAAAAAARAAAAAAAAABEAAAAAAAAAEQAAAAAAAAARAAAAAAAAABEAAAAAAAAAEQAAAAAAAAARAAAAAAAAABEAAAAAAAAAEQAAAAAAAAARAAAAAAAAABEAAAAAAAAAEQAAAAAAAAARAAAAAAAAABEAAAAAAAAAEQAAAAAAAAARAAAAAAAAABEAAAAAAAAAEQAAAAAAAAARAAAAAAAAABEAAAAAAAAAEQAAAAAAAAARAAAAAAAAABEAAAAAAAAAEQAAAAAAAAARAAAAAAAAABEAAAAAAAAAEQAAAAAAAAARAAAAAAAAABEAAAAAAAAAEQAAAAAAAAARAAAAAAAAABEAAAAAAAAAEQAAAAAAAAARAAAAAAAAADEAAAAAAAAAMQAAAAAAAAAxAAAAAAAAADEAAAAAAAAAMQAAAAAAAAAxAAAAAAAAADEAAAAAAAAAMQAAAAAAAAAxAAAAAAAAADEAAAAAAAAAMQAAAAAAAAAxAAAAAAAAADEAAAAAAAAAMQAAAAAAAAAxAAAAAAAAADEAAAAAAAAAMQAAAAAAAAAxAAAAAAAAADEAAAAAAAAAMQAAAAAAAAAxAAAAAAAAADEAAAAAAAAAMQAAAAAAAAAxAAAAAAAAADEAAAAAAAAAMQAAAAAAAAAxAAAAAAAAADEAAAAAAAAAMQAAAAAAAAAxAAAAAAAAADEAAAAAAAAAMQAAAAAAAAAxAAAAAAAAADEAAAAAAAAAMQAAAAAAAAAxAAAAAAAAADEAAAAAAAAAMQAAAAAAAAAxAAAAAAAAADEAAAAAAAAAMQAAAAAAAAAxAAAAAAAAADEAAAAAAAAAMQAAAAAAAAAxAAAAAAAAADEAAAAAAAAAMQAAAAAAAAAxAAAAAAAAADEAAAAAAAAAMQAAAAAAAAAxAAAAAAAAADEAAAAAAAAAMQAAAAAAAAAxAAAAAAAAADEAAAAAAAAAMQAAAAAAAAAxAAAAAAAAAEkAAAAAAAAASQAAAAAAAABJAAAAAAAAAEkAAAAAAAAASQAAAAAAAABJAAAAAAAAAEkAAAAAAAAASQAAAAAAAABJAAAAAAAAAEkAAAAAAAAASQAAAAAAAABJAAAAAAAAAEkAAAAAAAAASQAAAAAAAABJAAAAAAAAAEkAAAAAAAAASQAAAAAAAABJAAAAAAAAAEkAAAAAAAAASQAAAAAAAABJAAAAAAAAAEkAAAAAAAAASQAAAAAAAABJAAAAAAAAAEkAAAAAAAAASQAAAAAAAABJAAAAAAAAAEkAAAAAAAAASQAAAAAAAABJAAAAAAAAAEkAAAAAAAAASQAAAAAAAABJAAAAAAAAAEkAAAAAAAAASQAAAAAAAABJAAAAAAAAAEkAAAAAAAAAWQAAAAAAAABZAAAAAAAAAFkAAAAAAAAAWQAAAAAAAABZAAAAAAAAAFkAAAAAAAAAWQAAAAAAAABZAAAAAAAAAFkAAAAAAAAAWQAAAAAAAABZAAAAAAAAAFkAAAAAAAAAWQAAAAAAAABZAAAAAAAAAFkAAAAAAAAAWQAAAAAAAABZAAAAAAAAAFkAAAAAAAAAWQAAAAAAAABZAAAAAAAAAFkAAAAAAAAAWQAAAAAAAABZAAAAAAAAAFkAAAAAAAAAWQAAAAAAAABZAAAAAAAAAFkAAAAAAAAAWQAAAAAAAABZAAAAAAAAAFkAAAAAAAAAaQAAAAAAAABpAAAAAAAAAGkAAAAAAAAAaQAAAAAAAABpAAAAAAAAAGkAAAAAAAAAaQAAAAAAAABpAAAAAAAAAGkAAAAAAAAAaQAAAAAAAAB5AAAAAAAAAHkAAAAAAAAAeQAAAAAAAAB5AAAAAAAAAHkAAAAAAAAAeQAAAAAAAAB5AAAAAAAAAHkAAAAAAAAAeQAAAAAAAAB5AAAAAAAAAHkAAAAAAAAAhQAAAAAAAACFAAAAAAAAAIUAAAAAAAAAhQAAAAAAAACFAAAAAAAAAIUAAAAAAAAAhQAAAAAAAACFAAAAAAAAAIUAAAAAAAAAhQAAAAAAAACFAAAAAAAAAI0AAAAAAAAAjQAAAAAAAACNAAAAAAAAAI0AAAAAAAAAjQAAAAAAAACNAAAAAAAAAI0AAAAAAAAAjQAAAAAAAACNAAAAAAAAAI0AAAAAAAAAlQAAAAAAAACVAAAAAAAAAJUAAAAAAAAAlQAAAAAAAACVAAAAAAAAAJUAAAAAAAAAlQAAAAAAAACdAAAAAAAAAJ0AAAAAAAAAnQAAAAAAAACdAAAAAAAAAJ0AAAAAAAAAnQAAAAAAAACdAAAAAAAAAKUAAAAAAAAApQAAAAAAAAClAAAAAAAAAKUAAAAAAAAApQAAAAAAAAClAAAAAAAAAK0AAAAAAAAArQAAAAAAAACtAAAAAAAAAK0AAAAAAAAArQAAAAAAAAC1AAAAAAAAALUAAAAAAAAAtQAAAAAAAAC1AAAAAAAAAL0AAAAAAAAAvQAAAAAAAAC9AAAAAAAAAL0AAAAAAAIAwQAAAAAAAgDBAAAAAAACAMUAAAAAAAIAyQAAAAAAAgDJAAAAAAACAMkAAAAAAAIAyQAAAAAAAgDJAAAAAAACAMkAAAAAAAIAzQAAAAAAAgDNAAAAAAACAM0AAAAAAAIAzQAAAAAAAgDRAAAAAAACANEAAAAAAAIA0QAAAAAAAgDRAAAAAAACANEAAAAAAAIA1QAAAAAAAgDVAAAAAAACANUAAAAAAAIA1QAAAAAAAgDVAAAAAAACANkAAAAAAAIA2QAAAAAAAgDZAAAAAAACAOEAAAAAAAIA4QAAAAAAAgDhAAAAAAACAOUAAAAAAAIA5QAAAAAAAgDlAAAAAAACAOkAAAAAAAIA6QAAAAAAAgDpAAAAAAACAPUAAAAAAAIA9QAAAAAAAgD5AAAAAAACAPkAAAAAAAIA/QAAAAAAAgD9AAAAAAABAQUAAAAAAAEBCQAAAAAAAwEJAAAAAAADAQ0AAAAAAAMBDQAAAAAAAQERAAAAAAADAREAAAAAAAMBEQAAAAAAAQEVAAAAAAABARUAAAAAAAEBFQAAAAAAAQEVAAAAAAABARkAAAAAAAEBHQAAAAAAAwEpAAAAAAADASkAAAAAAAMBKQAAAAAAAQExAAAAAAADATEAAAAAAAEBNQAAAAAAAwE1AAAAAAABATkAAAAAAAMBPQAAAAAAAoFJAAAAAAACgUkAAAAAAAGBTQAAAAAAAIFRAAAAAAABgVUAAAAAAAKBVQAAAAAAAIFZAAAAAAADgVkAAAAAAAOBWQAAAAAAAYFdAAAAAAACgV0AAAAAAACBYQAAAAAAA4FhAAAAAAABgWUAAAAAAAOBZQAAAAAAA4FtAAAAAAADgXEAAAAAAAKBdQAAAAAAAIF5AAAAAAACgXkAAAAAAAKBeQAAAAAAAEGFAAAAAAACwYkAAAAAAAFBkQAAAAAAAMGZAAAAAAADwZkAAAAAAANBnQAAAAAAAEGhAAAAAAABwaEAAAAAAABBpQAAAAAAAMGtAAAAAAABQa0AAAAAAABBsQAAAAAAAcGxAAAAAAAAwbUAAAAAAABBuQAAAAAAA8G9AAAAAAAAIckAAAAAAAGhyQAAAAAAAmHNAAAAAAAAYdEAAAAAAAEh0QAAAAAAAaHVAAAAAAADodUAAAAAAALh6QAAAAAAADIBAAAAAAADcgEAAAAAAAPSAQAAAAAAAlIFAAAAAAAC8g0AAAAAAAByGQAAAAAAA1IhAAAAAAACcjUAAAAAAACmlQAAAAAAAC6ZAAAAAAADXqUAAAAAAALuqQAAAAAAAja1AAAAAAIBZskAAAAAAwLbMQAAAAAAQieJAAAAAAOgy9kA=\",\"dtype\":\"float64\",\"shape\":[1000]},\"y\":{\"__ndarray__\":\"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\",\"dtype\":\"float64\",\"shape\":[1000]}},\"selected\":{\"id\":\"50474\"},\"selection_policy\":{\"id\":\"50473\"}},\"id\":\"49813\",\"type\":\"ColumnDataSource\"},{\"attributes\":{\"source\":{\"id\":\"50530\"}},\"id\":\"50534\",\"type\":\"CDSView\"},{\"attributes\":{\"ticker\":null},\"id\":\"50469\",\"type\":\"LogTickFormatter\"},{\"attributes\":{\"fill_color\":{\"value\":\"#1f77b4\"},\"line_color\":{\"value\":\"#1f77b4\"},\"x\":{\"field\":\"x\"},\"y\":{\"field\":\"y\"}},\"id\":\"49814\",\"type\":\"Circle\"},{\"attributes\":{},\"id\":\"49803\",\"type\":\"ResetTool\"}],\"root_ids\":[\"49782\"]},\"title\":\"Bokeh Application\",\"version\":\"2.0.2\"}};\n",
       "  var render_items = [{\"docid\":\"0280e0e4-6109-4852-b668-ff0392e52080\",\"root_ids\":[\"49782\"],\"roots\":{\"49782\":\"fd94e5e2-49a6-46aa-afaf-b29e77444bd9\"}}];\n",
       "  root.Bokeh.embed.embed_items_notebook(docs_json, render_items);\n",
       "\n",
       "  }\n",
       "  if (root.Bokeh !== undefined) {\n",
       "    embed_document(root);\n",
       "  } else {\n",
       "    var attempts = 0;\n",
       "    var timer = setInterval(function(root) {\n",
       "      if (root.Bokeh !== undefined) {\n",
       "        clearInterval(timer);\n",
       "        embed_document(root);\n",
       "      } else {\n",
       "        attempts++;\n",
       "        if (attempts > 100) {\n",
       "          clearInterval(timer);\n",
       "          console.log(\"Bokeh: ERROR: Unable to run BokehJS code because BokehJS library is missing\");\n",
       "        }\n",
       "      }\n",
       "    }, 10, root)\n",
       "  }\n",
       "})(window);"
      ],
      "application/vnd.bokehjs_exec.v0+json": ""
     },
     "metadata": {
      "application/vnd.bokehjs_exec.v0+json": {
       "id": "49782"
      }
     },
     "output_type": "display_data"
    }
   ],
   "source": [
    "x = [0.5, 10**5-0.5]\n",
    "y = [1, 10**-2.5]\n",
    "\n",
    "p.line(\n",
    "    x,\n",
    "    y,\n",
    ")\n",
    "\n",
    "bokeh.io.show(p)"
   ]
  },
  {
   "cell_type": "code",
   "execution_count": 210,
   "metadata": {},
   "outputs": [
    {
     "name": "stdout",
     "output_type": "stream",
     "text": [
      "CPython 3.7.7\n",
      "IPython 7.13.0\n",
      "\n",
      "numpy 1.18.1\n",
      "pandas 0.24.2\n",
      "bokeh 2.0.2\n",
      "colorcet 2.0.2\n",
      "jupyterlab 1.2.6\n"
     ]
    }
   ],
   "source": [
    "%load_ext watermark\n",
    "%watermark -v -p numpy,pandas,bokeh,colorcet,jupyterlab"
   ]
  }
 ],
 "metadata": {
  "kernelspec": {
   "display_name": "Python 3",
   "language": "python",
   "name": "python3"
  },
  "language_info": {
   "codemirror_mode": {
    "name": "ipython",
    "version": 3
   },
   "file_extension": ".py",
   "mimetype": "text/x-python",
   "name": "python",
   "nbconvert_exporter": "python",
   "pygments_lexer": "ipython3",
   "version": "3.7.7"
  }
 },
 "nbformat": 4,
 "nbformat_minor": 4
}

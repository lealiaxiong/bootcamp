{
 "cells": [
  {
   "cell_type": "markdown",
   "metadata": {},
   "source": [
    "# Exercise 2.1: Using string methods"
   ]
  },
  {
   "cell_type": "markdown",
   "metadata": {},
   "source": [
    "a) Compute the reverse complement of a sequence using a `for` loop, but do not use the built-in `reversed()` function."
   ]
  },
  {
   "cell_type": "code",
   "execution_count": 1,
   "metadata": {},
   "outputs": [],
   "source": [
    "seq = 'ATGCGCGTAGATTAGCAGGCAGATAAA'"
   ]
  },
  {
   "cell_type": "code",
   "execution_count": 2,
   "metadata": {},
   "outputs": [],
   "source": [
    "def complement_base(base, material = 'DNA'):\n",
    "    \"\"\"Finds the Watson-Crick complement to a base.\"\"\"\n",
    "    base = base.upper() # Convert to uppercase\n",
    "    \n",
    "    if base == 'A':\n",
    "        if material == 'DNA':\n",
    "            ret_val = 'T'\n",
    "        else:\n",
    "            ret_val = 'U'\n",
    "    elif base in 'TU':\n",
    "        ret_val = 'A'\n",
    "    elif base == 'C':\n",
    "        ret_val = 'G'\n",
    "    elif base == 'G':\n",
    "        ret_val = 'C'\n",
    "        \n",
    "    return ret_val"
   ]
  },
  {
   "cell_type": "code",
   "execution_count": 3,
   "metadata": {},
   "outputs": [
    {
     "data": {
      "text/plain": [
       "'C'"
      ]
     },
     "execution_count": 3,
     "metadata": {},
     "output_type": "execute_result"
    }
   ],
   "source": [
    "complement_base('G')"
   ]
  },
  {
   "cell_type": "code",
   "execution_count": 4,
   "metadata": {},
   "outputs": [],
   "source": [
    "def reverse_complement(seq, material = 'DNA'):\n",
    "    \"\"\"Finds the reverse complement to a sequence.\"\"\"\n",
    "    seq = seq.upper() # Convert to uppercase\n",
    "    \n",
    "    # Initialize reverse complement\n",
    "    rev_comp = ''\n",
    "    \n",
    "    for base in seq[::-1]:\n",
    "        rev_comp += complement_base(base)\n",
    "        \n",
    "    return rev_comp"
   ]
  },
  {
   "cell_type": "code",
   "execution_count": 5,
   "metadata": {},
   "outputs": [
    {
     "data": {
      "text/plain": [
       "'TTTATCTGCCTGCTAATCTACGCGCAT'"
      ]
     },
     "execution_count": 5,
     "metadata": {},
     "output_type": "execute_result"
    }
   ],
   "source": [
    "reverse_complement(seq)"
   ]
  },
  {
   "cell_type": "markdown",
   "metadata": {},
   "source": [
    "b) Compute the reverse complement of a sequence **without** any loops."
   ]
  },
  {
   "cell_type": "code",
   "execution_count": 6,
   "metadata": {},
   "outputs": [],
   "source": [
    "def reverse_complement(seq, material = 'DNA'):\n",
    "    \"\"\"Finds the reverse complement to a sequence.\"\"\"\n",
    "    seq = seq.upper() # Convert to uppercase\n",
    "    seq_rev = seq[::-1] # Reverse\n",
    "    if material == 'DNA':\n",
    "        seq_rev = seq_rev.replace('A', 't')\n",
    "    elif material == 'RNA':\n",
    "        seq_rev = seq_rev.replace('A', 'u')\n",
    "    seq_rev = seq_rev.replace('U', 'a')\n",
    "    seq_rev = seq_rev.replace('T', 'a')\n",
    "    seq_rev = seq_rev.replace('G', 'c')\n",
    "    seq_rev = seq_rev.replace('C', 'g')\n",
    "    \n",
    "    return seq_rev.upper()"
   ]
  },
  {
   "cell_type": "code",
   "execution_count": 7,
   "metadata": {},
   "outputs": [
    {
     "data": {
      "text/plain": [
       "'TTTATCTGCCTGCTAATCTACGCGCAT'"
      ]
     },
     "execution_count": 7,
     "metadata": {},
     "output_type": "execute_result"
    }
   ],
   "source": [
    "reverse_complement(seq)"
   ]
  },
  {
   "cell_type": "markdown",
   "metadata": {},
   "source": [
    "Notes from class: \n",
    "\n",
    "Method chaining:"
   ]
  },
  {
   "cell_type": "code",
   "execution_count": 8,
   "metadata": {},
   "outputs": [],
   "source": [
    "def reverse_complement(seq, material = 'DNA'):\n",
    "    \"\"\"Finds the reverse complement to a sequence.\"\"\"\n",
    "    seq = seq.upper() # Convert to uppercase\n",
    "    seq_rev = seq[::-1] # Reverse\n",
    "    if material == 'DNA':\n",
    "        seq_rev = seq_rev.replace('A', 't')\n",
    "    elif material == 'RNA':\n",
    "        seq_rev = seq_rev.replace('A', 'u')\n",
    "    seq_rev = seq_rev.replace('U', 'a').replace('T', 'a').replace('G', 'c').replace('C', 'g')\n",
    "    \n",
    "    return seq_rev.upper()"
   ]
  },
  {
   "cell_type": "code",
   "execution_count": 9,
   "metadata": {},
   "outputs": [
    {
     "data": {
      "text/plain": [
       "'TTTATCTGCCTGCTAATCTACGCGCAT'"
      ]
     },
     "execution_count": 9,
     "metadata": {},
     "output_type": "execute_result"
    }
   ],
   "source": [
    "reverse_complement(seq)"
   ]
  },
  {
   "cell_type": "markdown",
   "metadata": {},
   "source": [
    "# Exercise 2.2: Longest common substring\n",
    "\n",
    "Write a function that takes two sequences and returns the longest common substring. A substring is a contiguous portion of a string. There may be more than one longest common substring; you only need to return one of them.\n",
    "\n",
    "The call signature of the function should be:\n",
    "\n",
    "`longest_common_substring(s1, s2)`"
   ]
  },
  {
   "cell_type": "markdown",
   "metadata": {},
   "source": [
    "Thinking:\n",
    "\n",
    "1. Make sure one of the strings is shorter than the other (set s2 to be shorter than s1)\n",
    "1. Check if s2 is a substring of s1. If so, done!\n",
    "    - s2 = s2[0:len(s2)]\n",
    "1. Find the substrings of s2 of length len(s2) - 1 and check if they are substrings of s1\n",
    "    - s2[0:len(s2) - 1]\n",
    "    - s2[1:len(s2)]\n",
    "1. Find the substrings of s2 of length len(s2) - 2 and \" \"\n",
    "    - s2[0:len(s2) - 2]\n",
    "    - s2[1: len(s2) - 1]\n",
    "    - s2[2: len(s2)]\n",
    "\n",
    "etc.\n",
    "\n",
    "Use slices to get the substrings."
   ]
  },
  {
   "cell_type": "code",
   "execution_count": 10,
   "metadata": {},
   "outputs": [],
   "source": [
    "def longest_common_substring(s1, s2):\n",
    "    \"\"\"Finds the longest common substring between two strings.\"\"\"\n",
    "\n",
    "    # Make s2 the shorter substring\n",
    "    if len(s2) > len(s1):\n",
    "        s1, s2 = s2, s1\n",
    "    \n",
    "    sub = s2\n",
    "    length = len(s2)\n",
    "    \n",
    "    while sub not in s1 and length > 0:\n",
    "        length -= 1\n",
    "        for i, _ in enumerate(s2):\n",
    "            if i + length < len(s2):\n",
    "                sub = s2[i:i + length]\n",
    "                print(sub, sub in s1)\n",
    "    return sub"
   ]
  },
  {
   "cell_type": "code",
   "execution_count": 11,
   "metadata": {},
   "outputs": [
    {
     "name": "stdout",
     "output_type": "stream",
     "text": [
      "ACGTGGAAAGCC False\n",
      "ACGTGGAAAGC False\n",
      "CGTGGAAAGCC False\n",
      "ACGTGGAAAG False\n",
      "CGTGGAAAGC False\n",
      "GTGGAAAGCC False\n",
      "ACGTGGAAA False\n",
      "CGTGGAAAG False\n",
      "GTGGAAAGC False\n",
      "TGGAAAGCC False\n",
      "ACGTGGAA False\n",
      "CGTGGAAA False\n",
      "GTGGAAAG False\n",
      "TGGAAAGC False\n",
      "GGAAAGCC False\n",
      "ACGTGGA False\n",
      "CGTGGAA False\n",
      "GTGGAAA False\n",
      "TGGAAAG False\n",
      "GGAAAGC False\n",
      "GAAAGCC False\n",
      "ACGTGG False\n",
      "CGTGGA False\n",
      "GTGGAA False\n",
      "TGGAAA False\n",
      "GGAAAG False\n",
      "GAAAGC False\n",
      "AAAGCC False\n",
      "ACGTG False\n",
      "CGTGG False\n",
      "GTGGA False\n",
      "TGGAA False\n",
      "GGAAA False\n",
      "GAAAG False\n",
      "AAAGC False\n",
      "AAGCC False\n",
      "ACGT True\n",
      "CGTG False\n",
      "GTGG False\n",
      "TGGA False\n",
      "GGAA False\n",
      "GAAA False\n",
      "AAAG False\n",
      "AAGC False\n",
      "AGCC False\n",
      "ACG True\n",
      "CGT True\n",
      "GTG False\n",
      "TGG False\n",
      "GGA False\n",
      "GAA False\n",
      "AAA False\n",
      "AAG False\n",
      "AGC False\n",
      "GCC False\n",
      "AC True\n",
      "CG True\n",
      "GT True\n",
      "TG True\n",
      "GG False\n",
      "GA True\n",
      "AA False\n",
      "AA False\n",
      "AG True\n",
      "GC False\n",
      "CC False\n",
      "A True\n",
      "C True\n",
      "G True\n",
      "T True\n",
      "G True\n",
      "G True\n",
      "A True\n",
      "A True\n",
      "A True\n",
      "G True\n",
      "C True\n",
      "C True\n"
     ]
    },
    {
     "data": {
      "text/plain": [
       "'C'"
      ]
     },
     "execution_count": 11,
     "metadata": {},
     "output_type": "execute_result"
    }
   ],
   "source": [
    "longest_common_substring('ACGTGGAAAGCCA', 'GTACACACGTTTTGAGAGACAC')"
   ]
  },
  {
   "cell_type": "markdown",
   "metadata": {},
   "source": [
    "**Why doesn't the `while` loop break at 'ACGT'??**"
   ]
  },
  {
   "cell_type": "code",
   "execution_count": 12,
   "metadata": {},
   "outputs": [
    {
     "data": {
      "text/plain": [
       "'ATGCC'"
      ]
     },
     "execution_count": 12,
     "metadata": {},
     "output_type": "execute_result"
    }
   ],
   "source": [
    "longest_common_substring('GATGCCATGCA', 'ATGCC')"
   ]
  },
  {
   "cell_type": "code",
   "execution_count": 13,
   "metadata": {},
   "outputs": [
    {
     "data": {
      "text/plain": [
       "'ATGC'"
      ]
     },
     "execution_count": 13,
     "metadata": {},
     "output_type": "execute_result"
    }
   ],
   "source": [
    "longest_common_substring('ATGC', 'ATGCA')"
   ]
  },
  {
   "cell_type": "code",
   "execution_count": 14,
   "metadata": {},
   "outputs": [
    {
     "name": "stdout",
     "output_type": "stream",
     "text": [
      "TTT False\n",
      "TT False\n",
      "TT False\n",
      "T False\n",
      "T False\n",
      "T False\n",
      " True\n",
      " True\n",
      " True\n",
      " True\n"
     ]
    },
    {
     "data": {
      "text/plain": [
       "''"
      ]
     },
     "execution_count": 14,
     "metadata": {},
     "output_type": "execute_result"
    }
   ],
   "source": [
    "longest_common_substring('TTTT', 'AGGCA')"
   ]
  },
  {
   "cell_type": "code",
   "execution_count": 15,
   "metadata": {},
   "outputs": [],
   "source": [
    "def longest_common_substring(s1, s2):\n",
    "    \"\"\"Finds the longest common substring between two strings.\"\"\"\n",
    "\n",
    "    # Make s2 the shorter substring\n",
    "    if len(s2) > len(s1):\n",
    "        s1, s2 = s2, s1\n",
    "    \n",
    "    sub = s2\n",
    "    length = len(s2)\n",
    "    \n",
    "    while sub not in s1 and length > 0:\n",
    "#        print('WHILE ->', sub)\n",
    "        length -= 1\n",
    "        for i, _ in enumerate(s2):\n",
    "            if i + length < len(s2):\n",
    "                sub = s2[i:i + length]\n",
    "#                print('IF ->',sub, sub in s1)\n",
    "                if sub in s1:\n",
    "                    break\n",
    "    return sub"
   ]
  },
  {
   "cell_type": "code",
   "execution_count": 16,
   "metadata": {},
   "outputs": [
    {
     "data": {
      "text/plain": [
       "'ACGT'"
      ]
     },
     "execution_count": 16,
     "metadata": {},
     "output_type": "execute_result"
    }
   ],
   "source": [
    "longest_common_substring('ACGTGGAAAGCCA', 'GTACACACGTTTTGAGAGACAC')"
   ]
  },
  {
   "cell_type": "code",
   "execution_count": 17,
   "metadata": {},
   "outputs": [
    {
     "data": {
      "text/plain": [
       "'ATGCC'"
      ]
     },
     "execution_count": 17,
     "metadata": {},
     "output_type": "execute_result"
    }
   ],
   "source": [
    "longest_common_substring('GATGCCATGCA', 'ATGCC')"
   ]
  },
  {
   "cell_type": "code",
   "execution_count": 18,
   "metadata": {},
   "outputs": [
    {
     "data": {
      "text/plain": [
       "'ATGC'"
      ]
     },
     "execution_count": 18,
     "metadata": {},
     "output_type": "execute_result"
    }
   ],
   "source": [
    "longest_common_substring('ATGC', 'ATGCA')"
   ]
  },
  {
   "cell_type": "code",
   "execution_count": 19,
   "metadata": {},
   "outputs": [
    {
     "data": {
      "text/plain": [
       "''"
      ]
     },
     "execution_count": 19,
     "metadata": {},
     "output_type": "execute_result"
    }
   ],
   "source": [
    "longest_common_substring('TTTT', 'AGGCA')"
   ]
  },
  {
   "cell_type": "markdown",
   "metadata": {},
   "source": [
    "Answer to above issue: The whole `for` loop is evaluated before passing `sub` to the `while` conditional. Adding the \n",
    "    \n",
    "    if sub in s1:\n",
    "        break\n",
    "        \n",
    "statement breaks the `for` loop and passes `sub` that is in `s1` to the `while` conditional."
   ]
  },
  {
   "cell_type": "markdown",
   "metadata": {},
   "source": [
    "Notes from class: Instead of breaking, you can just `return` at the `if` statement:"
   ]
  },
  {
   "cell_type": "code",
   "execution_count": 20,
   "metadata": {},
   "outputs": [],
   "source": [
    "def longest_common_substring(s1, s2):\n",
    "    \"\"\"Finds the longest common substring between two strings.\"\"\"\n",
    "\n",
    "    # Make s2 the shorter substring\n",
    "    if len(s2) > len(s1):\n",
    "        s1, s2 = s2, s1\n",
    "    \n",
    "    sub = s2\n",
    "    length = len(s2)\n",
    "    \n",
    "    while sub not in s1 and length > 0:\n",
    "        length -= 1\n",
    "        for i, _ in enumerate(s2):\n",
    "            if i + length < len(s2):\n",
    "                sub = s2[i:i + length]\n",
    "                if sub in s1:\n",
    "                    return sub"
   ]
  },
  {
   "cell_type": "code",
   "execution_count": 21,
   "metadata": {},
   "outputs": [
    {
     "data": {
      "text/plain": [
       "'ACGT'"
      ]
     },
     "execution_count": 21,
     "metadata": {},
     "output_type": "execute_result"
    }
   ],
   "source": [
    "longest_common_substring('ACGTGGAAAGCCA', 'GTACACACGTTTTGAGAGACAC')"
   ]
  },
  {
   "cell_type": "code",
   "execution_count": 22,
   "metadata": {},
   "outputs": [
    {
     "data": {
      "text/plain": [
       "''"
      ]
     },
     "execution_count": 22,
     "metadata": {},
     "output_type": "execute_result"
    }
   ],
   "source": [
    "longest_common_substring('TTTT', 'AGGCA')"
   ]
  },
  {
   "cell_type": "markdown",
   "metadata": {},
   "source": [
    "# Exercise 2.3: RNA secondary structure validator\n",
    "\n",
    "In this problem, we will write a function that takes an RNA sequence and an RNA secondary structure and decides if the secondary structure is possible given the sequence. Remember, single stranded RNA can fold back on itself and form base pairs. An RNA secondary structure is simply the list of base pairs that are present. We will represent the base pairs in dot-parentheses notation. "
   ]
  },
  {
   "cell_type": "markdown",
   "metadata": {},
   "source": [
    "a) Write a function to make sure that the number of closed parentheses is equal to the number of open parentheses, a requirement for a valid secondary structure. It should return `True` if the parentheses are valid and `False` otherwise."
   ]
  },
  {
   "cell_type": "code",
   "execution_count": 1,
   "metadata": {},
   "outputs": [],
   "source": [
    "def valid_parens(dotparen):\n",
    "    \"\"\"Checks if the number of closed paretheses is equal to the number of open parentheses,\n",
    "    a requirement for a valid secondary structure.\"\"\"\n",
    "    \n",
    "    return dotparen.count('(') == dotparen.count(')')"
   ]
  },
  {
   "cell_type": "code",
   "execution_count": 2,
   "metadata": {},
   "outputs": [
    {
     "data": {
      "text/plain": [
       "True"
      ]
     },
     "execution_count": 2,
     "metadata": {},
     "output_type": "execute_result"
    }
   ],
   "source": [
    "dotparen = '(((....)))'\n",
    "\n",
    "valid_parens(dotparen)"
   ]
  },
  {
   "cell_type": "markdown",
   "metadata": {},
   "source": [
    "b) Write a function that converts the dot-parens notation to a tuple of 2-tuples representing the base pairs. We’ll call this function `dotparen_to_bp()`."
   ]
  },
  {
   "cell_type": "markdown",
   "metadata": {},
   "source": [
    "---\n",
    "Want to find the last open paren and match it with the first close paren that occurs **after** it.\n",
    "\n",
    "Examples:\n",
    "\n",
    "    (((....)))\n",
    "\n",
    "    (()(...))\n",
    "\n",
    "---"
   ]
  },
  {
   "cell_type": "code",
   "execution_count": 135,
   "metadata": {},
   "outputs": [],
   "source": [
    "def dotparen_to_bp(dotparen):\n",
    "    \"\"\"Converts dot-parens notation to a tuple of 2-tuples representing the base pairs.\"\"\"\n",
    "    \n",
    "    # Initialize list of 2-tuples\n",
    "    pairs = []\n",
    "    \n",
    "    # Initialize\n",
    "    opens = []\n",
    "    closes = []\n",
    "\n",
    "    if valid_parens(dotparen):\n",
    "        # Make a list of the open parens and a list of the closed parens\n",
    "        for i, n in enumerate(dotparen):\n",
    "            if n == '(':\n",
    "                opens.append(i)\n",
    "            elif n == ')':\n",
    "                closes.append(i)\n",
    "                \n",
    "        while len(opens) > 0:\n",
    "        \n",
    "            # Find largest index of open paren\n",
    "            i = max(opens)\n",
    "            # Find smallest index of closed paren\n",
    "            j = min(closes)\n",
    "            \n",
    "            \n",
    "            closes_copy = closes.copy()\n",
    "            while j < i:\n",
    "                if len(closes_copy) == 0:\n",
    "                    print('Error in secondary structure.')\n",
    "                    return False\n",
    "                j = min(closes_copy)\n",
    "                closes_copy.remove(j)\n",
    "            pairs.append((i, j))\n",
    "            \n",
    "            opens.remove(i)\n",
    "            closes.remove(j)\n",
    "   \n",
    "    # Order pairs by ascending open paren\n",
    "    pairs = pairs[::-1]\n",
    "    \n",
    "    return tuple(pairs)"
   ]
  },
  {
   "cell_type": "code",
   "execution_count": 136,
   "metadata": {},
   "outputs": [
    {
     "data": {
      "text/plain": [
       "((0, 9), (1, 8), (2, 7))"
      ]
     },
     "execution_count": 136,
     "metadata": {},
     "output_type": "execute_result"
    }
   ],
   "source": [
    "dotparen = '(((....)))'\n",
    "pairs = dotparen_to_bp(dotparen)\n",
    "pairs"
   ]
  },
  {
   "cell_type": "code",
   "execution_count": 137,
   "metadata": {},
   "outputs": [
    {
     "data": {
      "text/plain": [
       "((0, 12), (1, 4), (6, 11))"
      ]
     },
     "execution_count": 137,
     "metadata": {},
     "output_type": "execute_result"
    }
   ],
   "source": [
    "dotparen = '((..).(....))'\n",
    "dotparen_to_bp(dotparen)"
   ]
  },
  {
   "cell_type": "code",
   "execution_count": 138,
   "metadata": {},
   "outputs": [
    {
     "data": {
      "text/plain": [
       "((0, 17), (1, 16), (2, 15), (5, 14), (6, 12), (7, 11))"
      ]
     },
     "execution_count": 138,
     "metadata": {},
     "output_type": "execute_result"
    }
   ],
   "source": [
    "dotparen_to_bp('(((..(((...)).))))')"
   ]
  },
  {
   "cell_type": "code",
   "execution_count": 139,
   "metadata": {},
   "outputs": [
    {
     "data": {
      "text/plain": [
       "((2, 10), (3, 9), (4, 8), (11, 25), (12, 23), (13, 22), (14, 21), (15, 20))"
      ]
     },
     "execution_count": 139,
     "metadata": {},
     "output_type": "execute_result"
    }
   ],
   "source": [
    "dotparen_to_bp('..(((...)))(((((....)))).)..')"
   ]
  },
  {
   "cell_type": "code",
   "execution_count": 140,
   "metadata": {},
   "outputs": [
    {
     "data": {
      "text/plain": [
       "((3, 16),\n",
       " (4, 15),\n",
       " (5, 14),\n",
       " (6, 13),\n",
       " (7, 12),\n",
       " (21, 31),\n",
       " (22, 30),\n",
       " (23, 29),\n",
       " (24, 28),\n",
       " (34, 94),\n",
       " (35, 93),\n",
       " (36, 92),\n",
       " (37, 91),\n",
       " (38, 90),\n",
       " (39, 89),\n",
       " (43, 81),\n",
       " (44, 80),\n",
       " (45, 79),\n",
       " (46, 78),\n",
       " (47, 77),\n",
       " (52, 62),\n",
       " (53, 61),\n",
       " (54, 60),\n",
       " (55, 59),\n",
       " (65, 73),\n",
       " (66, 72),\n",
       " (67, 71))"
      ]
     },
     "execution_count": 140,
     "metadata": {},
     "output_type": "execute_result"
    }
   ],
   "source": [
    "dotparen_to_bp('...(((((....)))))....((((...))))..((((((...(((((....((((...))))..(((...)))...))))).......))))))....') # Should be valid"
   ]
  },
  {
   "cell_type": "code",
   "execution_count": 141,
   "metadata": {},
   "outputs": [
    {
     "name": "stdout",
     "output_type": "stream",
     "text": [
      "Error in secondary structure.\n"
     ]
    },
    {
     "data": {
      "text/plain": [
       "False"
      ]
     },
     "execution_count": 141,
     "metadata": {},
     "output_type": "execute_result"
    }
   ],
   "source": [
    "dotparen_to_bp('((....)))(') # Not a valid structure"
   ]
  },
  {
   "cell_type": "code",
   "execution_count": 142,
   "metadata": {},
   "outputs": [
    {
     "name": "stdout",
     "output_type": "stream",
     "text": [
      "Error in secondary structure.\n"
     ]
    },
    {
     "data": {
      "text/plain": [
       "False"
      ]
     },
     "execution_count": 142,
     "metadata": {},
     "output_type": "execute_result"
    }
   ],
   "source": [
    "dotparen_to_bp('((....)))(') # Not a valid structure"
   ]
  },
  {
   "cell_type": "markdown",
   "metadata": {},
   "source": [
    "c) Because of sterics, the minimal length of a hairpin loop is three bases. **A hairpin loop is a series of unpaired bases that are closed by a base pair.** For example, the secondary structure `(.(....).)` has a single hairpin loop of length 4. So, the structure `((((..))))` is not valid because it has a hairpin loop of only two bases.\n",
    "\n",
    "Write a function that verifies that a list of base pairs (as outputted by `dotparen_to_bp()`) satisfies the minimal hairpin length requirement."
   ]
  },
  {
   "cell_type": "markdown",
   "metadata": {},
   "source": [
    "---\n",
    "Want to check that between an open paren and a closed paren that don't have any parens between them, we have more than 3 dots.\n",
    "\n",
    "Alternatively if there are <= 3 dots, they are not surrounded by open paren on left and closed paren on right.\n",
    "\n",
    "For each pair, check if there are parens inside. If not, it is a hairpin. If the hairpin has <= 3 dots, not allowed.\n",
    "\n",
    "If a pair has a difference of less than 4 it is definitely not allowed.\n",
    "\n",
    "---\n"
   ]
  },
  {
   "cell_type": "code",
   "execution_count": 143,
   "metadata": {},
   "outputs": [],
   "source": [
    "def check_hairpin_length(pairs):\n",
    "    \"\"\"Checks that a list of base pairs (as outputted by dotparen_to_bp())\n",
    "    has a minimum hairpin loop length of 3 bases.\"\"\"\n",
    "    \n",
    "    for bp in pairs:\n",
    "        if bp[1] - bp[0] < 4:\n",
    "            print('A hairpin is too short.')\n",
    "            ret_val = False\n",
    "        else:\n",
    "            ret_val = True\n",
    "    return ret_val"
   ]
  },
  {
   "cell_type": "markdown",
   "metadata": {},
   "source": [
    "d) Now write your validator function. The function definition should look like this:\n",
    "\n",
    "    def rna_ss_validator(seq, sec_struc, wobble=True):\n",
    "    \n",
    "It should return `True` if the sequence is commensurate with a valid secondary structure and `False` otherwise. The `wobble` keyword argument is `True` if we allow wobble pairs (`G` paired with `U`)."
   ]
  },
  {
   "cell_type": "markdown",
   "metadata": {},
   "source": [
    "---\n",
    "Check the secondary structure. If it isn't valid, return `False` and we are done. Otherwise, we have to check that the base pairing is valid.\n",
    "\n",
    "Valid pairs: (A, U), (U, A), (C, G), (G, C). If `wobble = True`, then also (G, U), (U, G).\n",
    "\n",
    "For each `pair` from `dotparen_to_bp()`, check that `(seq[pair[0]], seq[pair[1]])` is one of the valid pairs.\n",
    "\n",
    "---"
   ]
  },
  {
   "cell_type": "code",
   "execution_count": 144,
   "metadata": {},
   "outputs": [],
   "source": [
    "def rna_ss_validator(seq, sec_struc, wobble = True):\n",
    "    \n",
    "    ret_val = False\n",
    "    \n",
    "    valid_bp = (('A', 'U'), ('U', 'A'), ('C', 'G'), ('G', 'C'))\n",
    "    if wobble == True:\n",
    "        valid_bp = valid_bp + (('G', 'U'), ('U', 'G'))\n",
    "                \n",
    "    pairs = dotparen_to_bp(sec_struc)\n",
    "    if pairs == False:\n",
    "        ret_val = False\n",
    "    else:\n",
    "        if check_hairpin_length(pairs):\n",
    "            for i, n in enumerate(pairs):\n",
    "                if (seq[n[0]], seq[n[1]]) in valid_bp:\n",
    "                    ret_val = True\n",
    "                else:\n",
    "                    print('A base pair is invalid.')\n",
    "                    ret_val = False\n",
    "                    break\n",
    "    return ret_val"
   ]
  },
  {
   "cell_type": "markdown",
   "metadata": {},
   "source": [
    "These should be `True`:"
   ]
  },
  {
   "cell_type": "code",
   "execution_count": 145,
   "metadata": {},
   "outputs": [
    {
     "data": {
      "text/plain": [
       "True"
      ]
     },
     "execution_count": 145,
     "metadata": {},
     "output_type": "execute_result"
    }
   ],
   "source": [
    "rna_ss_validator('GCAUCUAUGC', '(((....)))')"
   ]
  },
  {
   "cell_type": "code",
   "execution_count": 146,
   "metadata": {},
   "outputs": [
    {
     "data": {
      "text/plain": [
       "True"
      ]
     },
     "execution_count": 146,
     "metadata": {},
     "output_type": "execute_result"
    }
   ],
   "source": [
    "rna_ss_validator('GCAUCUAUGU', '(((....)))')"
   ]
  },
  {
   "cell_type": "code",
   "execution_count": 147,
   "metadata": {},
   "outputs": [
    {
     "data": {
      "text/plain": [
       "True"
      ]
     },
     "execution_count": 147,
     "metadata": {},
     "output_type": "execute_result"
    }
   ],
   "source": [
    "rna_ss_validator('GCAUCUAUGU', '(.(....).)')"
   ]
  },
  {
   "cell_type": "code",
   "execution_count": 148,
   "metadata": {},
   "outputs": [
    {
     "data": {
      "text/plain": [
       "True"
      ]
     },
     "execution_count": 148,
     "metadata": {},
     "output_type": "execute_result"
    }
   ],
   "source": [
    "rna_ss_validator('AUUGAUGCACGUGCAUCCCCAGCGGGUCCCGCGAGCUCACCCCCUUCCAAAAGCACCACGUGCCAGGCCUCGCCCCCGGAAGUAUACCUGUGAGCCAGA',\n",
    "                    '...(((((....)))))....((((...))))..((((((...(((((....((((...))))..(((...)))...))))).......))))))....')"
   ]
  },
  {
   "cell_type": "markdown",
   "metadata": {},
   "source": [
    "These should be `False`:"
   ]
  },
  {
   "cell_type": "code",
   "execution_count": 149,
   "metadata": {},
   "outputs": [
    {
     "name": "stdout",
     "output_type": "stream",
     "text": [
      "A base pair is invalid.\n"
     ]
    },
    {
     "data": {
      "text/plain": [
       "False"
      ]
     },
     "execution_count": 149,
     "metadata": {},
     "output_type": "execute_result"
    }
   ],
   "source": [
    "rna_ss_validator('GCAUCUACGC', '(((....)))')"
   ]
  },
  {
   "cell_type": "code",
   "execution_count": 150,
   "metadata": {},
   "outputs": [
    {
     "name": "stdout",
     "output_type": "stream",
     "text": [
      "A base pair is invalid.\n"
     ]
    },
    {
     "data": {
      "text/plain": [
       "False"
      ]
     },
     "execution_count": 150,
     "metadata": {},
     "output_type": "execute_result"
    }
   ],
   "source": [
    "rna_ss_validator('GCAUCUAUGU', '(((....)))', wobble=False)"
   ]
  },
  {
   "cell_type": "code",
   "execution_count": 151,
   "metadata": {},
   "outputs": [
    {
     "name": "stdout",
     "output_type": "stream",
     "text": [
      "A base pair is invalid.\n"
     ]
    },
    {
     "data": {
      "text/plain": [
       "False"
      ]
     },
     "execution_count": 151,
     "metadata": {},
     "output_type": "execute_result"
    }
   ],
   "source": [
    "rna_ss_validator('GCAUCUAUGU', '(.(....)).')"
   ]
  },
  {
   "cell_type": "code",
   "execution_count": 152,
   "metadata": {},
   "outputs": [
    {
     "name": "stdout",
     "output_type": "stream",
     "text": [
      "A hairpin is too short.\n"
     ]
    },
    {
     "data": {
      "text/plain": [
       "False"
      ]
     },
     "execution_count": 152,
     "metadata": {},
     "output_type": "execute_result"
    }
   ],
   "source": [
    "rna_ss_validator('GCCCUUGGCA', '(.((..))).')"
   ]
  },
  {
   "cell_type": "code",
   "execution_count": 153,
   "metadata": {},
   "outputs": [
    {
     "name": "stdout",
     "output_type": "stream",
     "text": [
      "A base pair is invalid.\n"
     ]
    },
    {
     "data": {
      "text/plain": [
       "False"
      ]
     },
     "execution_count": 153,
     "metadata": {},
     "output_type": "execute_result"
    }
   ],
   "source": [
    "rna_ss_validator('AUUGAUGCACGUGCAUCCCCAGCGGGUCCCGCGAGCCCACCCCCUUCCAAAAGCACCACGUGCCAGGCCUCGCCCCCGGAAGUAUACCUGUGAGCCAGA',\n",
    "                    '...(((((....)))))....((((...))))..((((((...(((((....((((...))))..(((...)))...))))).......))))))....')"
   ]
  },
  {
   "cell_type": "code",
   "execution_count": 62,
   "metadata": {},
   "outputs": [
    {
     "name": "stdout",
     "output_type": "stream",
     "text": [
      "CPython 3.7.7\n",
      "IPython 7.13.0\n",
      "\n",
      "jupyterlab 1.2.6\n"
     ]
    }
   ],
   "source": [
    "%load_ext watermark\n",
    "%watermark -v -p jupyterlab"
   ]
  }
 ],
 "metadata": {
  "kernelspec": {
   "display_name": "Python 3",
   "language": "python",
   "name": "python3"
  },
  "language_info": {
   "codemirror_mode": {
    "name": "ipython",
    "version": 3
   },
   "file_extension": ".py",
   "mimetype": "text/x-python",
   "name": "python",
   "nbconvert_exporter": "python",
   "pygments_lexer": "ipython3",
   "version": "3.7.7"
  }
 },
 "nbformat": 4,
 "nbformat_minor": 4
}

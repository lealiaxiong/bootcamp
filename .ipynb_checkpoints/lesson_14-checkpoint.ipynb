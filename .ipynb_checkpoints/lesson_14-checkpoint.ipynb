{
 "cells": [
  {
   "cell_type": "markdown",
   "metadata": {},
   "source": [
    "# Test-driven development\n",
    "Building the design specification for your software through the tests you write."
   ]
  },
  {
   "cell_type": "code",
   "execution_count": 2,
   "metadata": {},
   "outputs": [],
   "source": [
    "def number_negatives(seq):\n",
    "    \"\"\"Number of negative residues in a protein sequence.\n",
    "    'E' and 'D' are negatively charged at physiological pH.\"\"\"\n",
    "    pass"
   ]
  },
  {
   "cell_type": "code",
   "execution_count": 3,
   "metadata": {},
   "outputs": [
    {
     "data": {
      "text/plain": [
       "False"
      ]
     },
     "execution_count": 3,
     "metadata": {},
     "output_type": "execute_result"
    }
   ],
   "source": [
    "number_negatives('E') == 1"
   ]
  },
  {
   "cell_type": "code",
   "execution_count": 4,
   "metadata": {},
   "outputs": [],
   "source": [
    "def number_negatives(seq):\n",
    "    \"\"\"Number of negative residues in a protein sequence.\n",
    "    'E' and 'D' are negatively charged at physiological pH.\"\"\"\n",
    "    return seq.count('E') + seq.count('D')"
   ]
  },
  {
   "cell_type": "code",
   "execution_count": 5,
   "metadata": {},
   "outputs": [
    {
     "data": {
      "text/plain": [
       "True"
      ]
     },
     "execution_count": 5,
     "metadata": {},
     "output_type": "execute_result"
    }
   ],
   "source": [
    "number_negatives('E') == 1"
   ]
  },
  {
   "cell_type": "code",
   "execution_count": 6,
   "metadata": {},
   "outputs": [
    {
     "name": "stdout",
     "output_type": "stream",
     "text": [
      "True\n",
      "True\n",
      "True\n",
      "True\n",
      "True\n",
      "True\n"
     ]
    }
   ],
   "source": [
    "print(number_negatives('E') == 1)\n",
    "print(number_negatives('D') == 1)\n",
    "print(number_negatives('A') == 0)\n",
    "print(number_negatives('ACKLWTTAE') == 1)\n",
    "print(number_negatives('DDDDEEEE') == 8)\n",
    "print(number_negatives('') == 0)"
   ]
  },
  {
   "cell_type": "code",
   "execution_count": 7,
   "metadata": {},
   "outputs": [
    {
     "name": "stdout",
     "output_type": "stream",
     "text": [
      "False\n"
     ]
    }
   ],
   "source": [
    "print(number_negatives('acklwttae') == 1) # This is a design decision: we want to accept lowercase aa abbreviations."
   ]
  },
  {
   "cell_type": "code",
   "execution_count": 8,
   "metadata": {},
   "outputs": [],
   "source": [
    "def number_negatives(seq):\n",
    "    \"\"\"Number of negative residues in a protein sequence.\n",
    "    'E' and 'D' are negatively charged at physiological pH.\"\"\"\n",
    "    seq = seq.upper()\n",
    "    return seq.count('E') + seq.count('D')"
   ]
  },
  {
   "cell_type": "code",
   "execution_count": 9,
   "metadata": {},
   "outputs": [
    {
     "name": "stdout",
     "output_type": "stream",
     "text": [
      "True\n",
      "True\n",
      "True\n",
      "True\n",
      "True\n",
      "True\n",
      "True\n"
     ]
    }
   ],
   "source": [
    "print(number_negatives('E') == 1)\n",
    "print(number_negatives('D') == 1)\n",
    "print(number_negatives('A') == 0)\n",
    "print(number_negatives('ACKLWTTAE') == 1)\n",
    "print(number_negatives('DDDDEEEE') == 8)\n",
    "print(number_negatives('') == 0)\n",
    "print(number_negatives('acklwttae') == 1)"
   ]
  },
  {
   "cell_type": "markdown",
   "metadata": {},
   "source": [
    "We can use the `assert` keyword to make this testing process less cumbersome. If the assertion is `True`, nothing is returned. Otherwise, the intepreter will throw an exception."
   ]
  },
  {
   "cell_type": "code",
   "execution_count": 14,
   "metadata": {},
   "outputs": [],
   "source": [
    "def test_number_negatives():\n",
    "    assert number_negatives('E') == 1\n",
    "    assert number_negatives('D') == 1\n",
    "    assert number_negatives('A') == 0\n",
    "    assert number_negatives('ACKLWTTAE') == 1\n",
    "    assert number_negatives('DDDDEEEE') == 8\n",
    "    assert number_negatives('') == 0\n",
    "    assert number_negatives('acklwttae') == 1\n",
    "    \n",
    "test_number_negatives()"
   ]
  },
  {
   "cell_type": "markdown",
   "metadata": {},
   "source": [
    "Even better is to use the PyTest package. It looks in your test file and runs any functions that start with "
   ]
  },
  {
   "cell_type": "code",
   "execution_count": 15,
   "metadata": {},
   "outputs": [
    {
     "name": "stdout",
     "output_type": "stream",
     "text": [
      "CPython 3.7.7\n",
      "IPython 7.13.0\n",
      "\n",
      "bootcamp_utils 0.0.5\n",
      "pytest 5.4.2\n",
      "jupyterlab 1.2.6\n"
     ]
    }
   ],
   "source": [
    "%load_ext watermark\n",
    "%watermark -v -p bootcamp_utils,pytest,jupyterlab"
   ]
  }
 ],
 "metadata": {
  "kernelspec": {
   "display_name": "Python 3",
   "language": "python",
   "name": "python3"
  },
  "language_info": {
   "codemirror_mode": {
    "name": "ipython",
    "version": 3
   },
   "file_extension": ".py",
   "mimetype": "text/x-python",
   "name": "python",
   "nbconvert_exporter": "python",
   "pygments_lexer": "ipython3",
   "version": "3.7.7"
  }
 },
 "nbformat": 4,
 "nbformat_minor": 4
}

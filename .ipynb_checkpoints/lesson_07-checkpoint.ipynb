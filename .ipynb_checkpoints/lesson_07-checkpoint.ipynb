{
 "cells": [
  {
   "cell_type": "code",
   "execution_count": 1,
   "metadata": {},
   "outputs": [],
   "source": [
    "def ratio(x, y):\n",
    "    \"\"\"The ratio of 'x' to 'y'\"\"\"\n",
    "    return x / y"
   ]
  },
  {
   "cell_type": "code",
   "execution_count": 3,
   "metadata": {},
   "outputs": [
    {
     "name": "stdout",
     "output_type": "stream",
     "text": [
      "Help on function ratio in module __main__:\n",
      "\n",
      "ratio(x, y)\n",
      "    The ratio of 'x' to 'y'\n",
      "\n"
     ]
    }
   ],
   "source": [
    "help(ratio)"
   ]
  },
  {
   "cell_type": "code",
   "execution_count": 4,
   "metadata": {},
   "outputs": [
    {
     "data": {
      "text/plain": [
       "\u001b[0;31mSignature:\u001b[0m \u001b[0mratio\u001b[0m\u001b[0;34m(\u001b[0m\u001b[0mx\u001b[0m\u001b[0;34m,\u001b[0m \u001b[0my\u001b[0m\u001b[0;34m)\u001b[0m\u001b[0;34m\u001b[0m\u001b[0;34m\u001b[0m\u001b[0m\n",
       "\u001b[0;31mDocstring:\u001b[0m The ratio of 'x' to 'y'\n",
       "\u001b[0;31mFile:\u001b[0m      ~/git/bootcamp/<ipython-input-1-e5d1b9d10fc2>\n",
       "\u001b[0;31mType:\u001b[0m      function\n"
      ]
     },
     "metadata": {},
     "output_type": "display_data"
    }
   ],
   "source": [
    "ratio?"
   ]
  },
  {
   "cell_type": "code",
   "execution_count": 5,
   "metadata": {},
   "outputs": [
    {
     "data": {
      "text/plain": [
       "1.25"
      ]
     },
     "execution_count": 5,
     "metadata": {},
     "output_type": "execute_result"
    }
   ],
   "source": [
    "ratio(5, 4)"
   ]
  },
  {
   "cell_type": "code",
   "execution_count": 6,
   "metadata": {},
   "outputs": [
    {
     "data": {
      "text/plain": [
       "30.0"
      ]
     },
     "execution_count": 6,
     "metadata": {},
     "output_type": "execute_result"
    }
   ],
   "source": [
    "ratio(90, 3)"
   ]
  },
  {
   "cell_type": "code",
   "execution_count": 9,
   "metadata": {},
   "outputs": [],
   "source": [
    "def answer_to_the_ultimate_question_of_life_the_universe_and_everything():\n",
    "    \"\"\"Simpler than Deep Thought's, probably.\"\"\"\n",
    "    return 42"
   ]
  },
  {
   "cell_type": "code",
   "execution_count": 10,
   "metadata": {},
   "outputs": [
    {
     "data": {
      "text/plain": [
       "42"
      ]
     },
     "execution_count": 10,
     "metadata": {},
     "output_type": "execute_result"
    }
   ],
   "source": [
    "answer_to_the_ultimate_question_of_life_the_universe_and_everything()"
   ]
  },
  {
   "cell_type": "code",
   "execution_count": 16,
   "metadata": {},
   "outputs": [],
   "source": [
    "def think_too_much():\n",
    "    \"\"\"Express Caesar's skepticism about Cassius\"\"\"\n",
    "    print(\"\"\"Yond Cassius has a lean and hungry look,\n",
    "He thinks too much; such men are dangerous.\"\"\")\n",
    "    \n",
    "# Note that this doesn't actually return anything, although it does print something.\n",
    "# When you return something, you can use it for something else, assign a variable, etc."
   ]
  },
  {
   "cell_type": "code",
   "execution_count": 14,
   "metadata": {},
   "outputs": [
    {
     "name": "stdout",
     "output_type": "stream",
     "text": [
      "Yond Cassius has a lean and hungry look,\n",
      "He thinks too much; such men are dangerous.\n"
     ]
    }
   ],
   "source": [
    "think_too_much()"
   ]
  },
  {
   "cell_type": "code",
   "execution_count": 19,
   "metadata": {},
   "outputs": [],
   "source": [
    "def complement_base(base):\n",
    "    \"\"\"Returns the Watson-Crick complement of a base.\"\"\"\n",
    "    if base == 'A':\n",
    "        ret_val = 'T'\n",
    "    elif base == 'T':\n",
    "        ret_val = 'A'\n",
    "    elif base == 'G':\n",
    "        ret_val = 'C'\n",
    "    else:\n",
    "        ret_val = 'G'\n",
    "\n",
    "    return ret_val\n",
    "\n",
    "def reverse_complement(seq):\n",
    "    \"\"\"Return reverse complement of a DNA sequence.\"\"\"\n",
    "    # Initialize the reverse complement\n",
    "    rev_seq = ''\n",
    "    \n",
    "    # Loop through seq and populate reverse complement\n",
    "    for base in reversed(seq):\n",
    "        rev_seq += complement_base(base)\n",
    "        \n",
    "    return rev_seq"
   ]
  },
  {
   "cell_type": "code",
   "execution_count": 20,
   "metadata": {},
   "outputs": [
    {
     "data": {
      "text/plain": [
       "'GTGTACTGTGTACAGTC'"
      ]
     },
     "execution_count": 20,
     "metadata": {},
     "output_type": "execute_result"
    }
   ],
   "source": [
    "reverse_complement('GACTGTACACAGTACAC')"
   ]
  },
  {
   "cell_type": "code",
   "execution_count": 21,
   "metadata": {},
   "outputs": [
    {
     "data": {
      "text/plain": [
       "'GTGTACTGGTGTACAGTC'"
      ]
     },
     "execution_count": 21,
     "metadata": {},
     "output_type": "execute_result"
    }
   ],
   "source": [
    "reverse_complement('GACTGTACAXCAGTACAC')"
   ]
  },
  {
   "cell_type": "markdown",
   "metadata": {},
   "source": [
    "Uh oh, we need error checking."
   ]
  },
  {
   "cell_type": "markdown",
   "metadata": {},
   "source": [
    "We need to do test-driven development. If your function is not thoroughly tested, life won't be fun."
   ]
  },
  {
   "cell_type": "code",
   "execution_count": 26,
   "metadata": {},
   "outputs": [],
   "source": [
    "def complement_base(base, material = 'DNA'): # keyword argument sets default to 'DNA'\n",
    "    \"\"\"Returns the Watson-Crick complement of a base.\"\"\"\n",
    "    if base == 'A':\n",
    "        if material == 'DNA':\n",
    "            ret_val = 'T'\n",
    "        elif material == 'RNA':\n",
    "            ret_val = 'U'\n",
    "    elif base in 'TU':\n",
    "        ret_val = 'A'\n",
    "    elif base == 'G':\n",
    "        ret_val = 'C'\n",
    "    else:\n",
    "        ret_val = 'G'\n",
    "\n",
    "    return ret_val\n",
    "\n",
    "def reverse_complement(seq, material = 'DNA'):\n",
    "    \"\"\"Return reverse complement of a sequence.\"\"\" # Add in ability for the sequence to be any nucleic acid\n",
    "    # Initialize the reverse complement\n",
    "    rev_seq = ''\n",
    "    \n",
    "    # Loop through seq and populate reverse complement\n",
    "    for base in reversed(seq):\n",
    "        rev_seq += complement_base(base, material = material)\n",
    "        \n",
    "    return rev_seq"
   ]
  },
  {
   "cell_type": "code",
   "execution_count": 28,
   "metadata": {},
   "outputs": [
    {
     "data": {
      "text/plain": [
       "'GUGUACUGUGUACAGUC'"
      ]
     },
     "execution_count": 28,
     "metadata": {},
     "output_type": "execute_result"
    }
   ],
   "source": [
    "reverse_complement('GACTGTACACAGTACAC', material = 'RNA')"
   ]
  },
  {
   "cell_type": "code",
   "execution_count": 29,
   "metadata": {},
   "outputs": [],
   "source": [
    "def mult_numbers(a, b, c):\n",
    "    return a * b * c"
   ]
  },
  {
   "cell_type": "code",
   "execution_count": 30,
   "metadata": {},
   "outputs": [
    {
     "data": {
      "text/plain": [
       "120"
      ]
     },
     "execution_count": 30,
     "metadata": {},
     "output_type": "execute_result"
    }
   ],
   "source": [
    "mult_numbers(4, 5, 6)"
   ]
  },
  {
   "cell_type": "code",
   "execution_count": 31,
   "metadata": {},
   "outputs": [],
   "source": [
    "my_numbers = (4, 5, 6)"
   ]
  },
  {
   "cell_type": "code",
   "execution_count": 34,
   "metadata": {},
   "outputs": [
    {
     "data": {
      "text/plain": [
       "120"
      ]
     },
     "execution_count": 34,
     "metadata": {},
     "output_type": "execute_result"
    }
   ],
   "source": [
    "mult_numbers(*my_numbers) # * is the unpacking operator, aka splat"
   ]
  },
  {
   "cell_type": "code",
   "execution_count": 55,
   "metadata": {},
   "outputs": [
    {
     "name": "stdout",
     "output_type": "stream",
     "text": [
      "The watermark extension is already loaded. To reload it, use:\n",
      "  %reload_ext watermark\n",
      "CPython 3.7.7\n",
      "IPython 7.13.0\n",
      "\n",
      "jupyterlab 1.2.6\n"
     ]
    }
   ],
   "source": [
    "%load_ext watermark\n",
    "%watermark -v -p jupyterlab"
   ]
  }
 ],
 "metadata": {
  "kernelspec": {
   "display_name": "Python 3",
   "language": "python",
   "name": "python3"
  },
  "language_info": {
   "codemirror_mode": {
    "name": "ipython",
    "version": 3
   },
   "file_extension": ".py",
   "mimetype": "text/x-python",
   "name": "python",
   "nbconvert_exporter": "python",
   "pygments_lexer": "ipython3",
   "version": "3.7.7"
  }
 },
 "nbformat": 4,
 "nbformat_minor": 4
}

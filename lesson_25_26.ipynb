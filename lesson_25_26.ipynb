{
 "cells": [
  {
   "cell_type": "code",
   "execution_count": 3,
   "metadata": {},
   "outputs": [
    {
     "data": {
      "text/html": [
       "\n",
       "    <div class=\"bk-root\">\n",
       "        <a href=\"https://bokeh.org\" target=\"_blank\" class=\"bk-logo bk-logo-small bk-logo-notebook\"></a>\n",
       "        <span id=\"1002\">Loading BokehJS ...</span>\n",
       "    </div>"
      ]
     },
     "metadata": {},
     "output_type": "display_data"
    },
    {
     "data": {
      "application/javascript": [
       "\n",
       "(function(root) {\n",
       "  function now() {\n",
       "    return new Date();\n",
       "  }\n",
       "\n",
       "  var force = true;\n",
       "\n",
       "  if (typeof root._bokeh_onload_callbacks === \"undefined\" || force === true) {\n",
       "    root._bokeh_onload_callbacks = [];\n",
       "    root._bokeh_is_loading = undefined;\n",
       "  }\n",
       "\n",
       "  var JS_MIME_TYPE = 'application/javascript';\n",
       "  var HTML_MIME_TYPE = 'text/html';\n",
       "  var EXEC_MIME_TYPE = 'application/vnd.bokehjs_exec.v0+json';\n",
       "  var CLASS_NAME = 'output_bokeh rendered_html';\n",
       "\n",
       "  /**\n",
       "   * Render data to the DOM node\n",
       "   */\n",
       "  function render(props, node) {\n",
       "    var script = document.createElement(\"script\");\n",
       "    node.appendChild(script);\n",
       "  }\n",
       "\n",
       "  /**\n",
       "   * Handle when an output is cleared or removed\n",
       "   */\n",
       "  function handleClearOutput(event, handle) {\n",
       "    var cell = handle.cell;\n",
       "\n",
       "    var id = cell.output_area._bokeh_element_id;\n",
       "    var server_id = cell.output_area._bokeh_server_id;\n",
       "    // Clean up Bokeh references\n",
       "    if (id != null && id in Bokeh.index) {\n",
       "      Bokeh.index[id].model.document.clear();\n",
       "      delete Bokeh.index[id];\n",
       "    }\n",
       "\n",
       "    if (server_id !== undefined) {\n",
       "      // Clean up Bokeh references\n",
       "      var cmd = \"from bokeh.io.state import curstate; print(curstate().uuid_to_server['\" + server_id + \"'].get_sessions()[0].document.roots[0]._id)\";\n",
       "      cell.notebook.kernel.execute(cmd, {\n",
       "        iopub: {\n",
       "          output: function(msg) {\n",
       "            var id = msg.content.text.trim();\n",
       "            if (id in Bokeh.index) {\n",
       "              Bokeh.index[id].model.document.clear();\n",
       "              delete Bokeh.index[id];\n",
       "            }\n",
       "          }\n",
       "        }\n",
       "      });\n",
       "      // Destroy server and session\n",
       "      var cmd = \"import bokeh.io.notebook as ion; ion.destroy_server('\" + server_id + \"')\";\n",
       "      cell.notebook.kernel.execute(cmd);\n",
       "    }\n",
       "  }\n",
       "\n",
       "  /**\n",
       "   * Handle when a new output is added\n",
       "   */\n",
       "  function handleAddOutput(event, handle) {\n",
       "    var output_area = handle.output_area;\n",
       "    var output = handle.output;\n",
       "\n",
       "    // limit handleAddOutput to display_data with EXEC_MIME_TYPE content only\n",
       "    if ((output.output_type != \"display_data\") || (!output.data.hasOwnProperty(EXEC_MIME_TYPE))) {\n",
       "      return\n",
       "    }\n",
       "\n",
       "    var toinsert = output_area.element.find(\".\" + CLASS_NAME.split(' ')[0]);\n",
       "\n",
       "    if (output.metadata[EXEC_MIME_TYPE][\"id\"] !== undefined) {\n",
       "      toinsert[toinsert.length - 1].firstChild.textContent = output.data[JS_MIME_TYPE];\n",
       "      // store reference to embed id on output_area\n",
       "      output_area._bokeh_element_id = output.metadata[EXEC_MIME_TYPE][\"id\"];\n",
       "    }\n",
       "    if (output.metadata[EXEC_MIME_TYPE][\"server_id\"] !== undefined) {\n",
       "      var bk_div = document.createElement(\"div\");\n",
       "      bk_div.innerHTML = output.data[HTML_MIME_TYPE];\n",
       "      var script_attrs = bk_div.children[0].attributes;\n",
       "      for (var i = 0; i < script_attrs.length; i++) {\n",
       "        toinsert[toinsert.length - 1].firstChild.setAttribute(script_attrs[i].name, script_attrs[i].value);\n",
       "        toinsert[toinsert.length - 1].firstChild.textContent = bk_div.children[0].textContent\n",
       "      }\n",
       "      // store reference to server id on output_area\n",
       "      output_area._bokeh_server_id = output.metadata[EXEC_MIME_TYPE][\"server_id\"];\n",
       "    }\n",
       "  }\n",
       "\n",
       "  function register_renderer(events, OutputArea) {\n",
       "\n",
       "    function append_mime(data, metadata, element) {\n",
       "      // create a DOM node to render to\n",
       "      var toinsert = this.create_output_subarea(\n",
       "        metadata,\n",
       "        CLASS_NAME,\n",
       "        EXEC_MIME_TYPE\n",
       "      );\n",
       "      this.keyboard_manager.register_events(toinsert);\n",
       "      // Render to node\n",
       "      var props = {data: data, metadata: metadata[EXEC_MIME_TYPE]};\n",
       "      render(props, toinsert[toinsert.length - 1]);\n",
       "      element.append(toinsert);\n",
       "      return toinsert\n",
       "    }\n",
       "\n",
       "    /* Handle when an output is cleared or removed */\n",
       "    events.on('clear_output.CodeCell', handleClearOutput);\n",
       "    events.on('delete.Cell', handleClearOutput);\n",
       "\n",
       "    /* Handle when a new output is added */\n",
       "    events.on('output_added.OutputArea', handleAddOutput);\n",
       "\n",
       "    /**\n",
       "     * Register the mime type and append_mime function with output_area\n",
       "     */\n",
       "    OutputArea.prototype.register_mime_type(EXEC_MIME_TYPE, append_mime, {\n",
       "      /* Is output safe? */\n",
       "      safe: true,\n",
       "      /* Index of renderer in `output_area.display_order` */\n",
       "      index: 0\n",
       "    });\n",
       "  }\n",
       "\n",
       "  // register the mime type if in Jupyter Notebook environment and previously unregistered\n",
       "  if (root.Jupyter !== undefined) {\n",
       "    var events = require('base/js/events');\n",
       "    var OutputArea = require('notebook/js/outputarea').OutputArea;\n",
       "\n",
       "    if (OutputArea.prototype.mime_types().indexOf(EXEC_MIME_TYPE) == -1) {\n",
       "      register_renderer(events, OutputArea);\n",
       "    }\n",
       "  }\n",
       "\n",
       "  \n",
       "  if (typeof (root._bokeh_timeout) === \"undefined\" || force === true) {\n",
       "    root._bokeh_timeout = Date.now() + 5000;\n",
       "    root._bokeh_failed_load = false;\n",
       "  }\n",
       "\n",
       "  var NB_LOAD_WARNING = {'data': {'text/html':\n",
       "     \"<div style='background-color: #fdd'>\\n\"+\n",
       "     \"<p>\\n\"+\n",
       "     \"BokehJS does not appear to have successfully loaded. If loading BokehJS from CDN, this \\n\"+\n",
       "     \"may be due to a slow or bad network connection. Possible fixes:\\n\"+\n",
       "     \"</p>\\n\"+\n",
       "     \"<ul>\\n\"+\n",
       "     \"<li>re-rerun `output_notebook()` to attempt to load from CDN again, or</li>\\n\"+\n",
       "     \"<li>use INLINE resources instead, as so:</li>\\n\"+\n",
       "     \"</ul>\\n\"+\n",
       "     \"<code>\\n\"+\n",
       "     \"from bokeh.resources import INLINE\\n\"+\n",
       "     \"output_notebook(resources=INLINE)\\n\"+\n",
       "     \"</code>\\n\"+\n",
       "     \"</div>\"}};\n",
       "\n",
       "  function display_loaded() {\n",
       "    var el = document.getElementById(\"1002\");\n",
       "    if (el != null) {\n",
       "      el.textContent = \"BokehJS is loading...\";\n",
       "    }\n",
       "    if (root.Bokeh !== undefined) {\n",
       "      if (el != null) {\n",
       "        el.textContent = \"BokehJS \" + root.Bokeh.version + \" successfully loaded.\";\n",
       "      }\n",
       "    } else if (Date.now() < root._bokeh_timeout) {\n",
       "      setTimeout(display_loaded, 100)\n",
       "    }\n",
       "  }\n",
       "\n",
       "\n",
       "  function run_callbacks() {\n",
       "    try {\n",
       "      root._bokeh_onload_callbacks.forEach(function(callback) {\n",
       "        if (callback != null)\n",
       "          callback();\n",
       "      });\n",
       "    } finally {\n",
       "      delete root._bokeh_onload_callbacks\n",
       "    }\n",
       "    console.debug(\"Bokeh: all callbacks have finished\");\n",
       "  }\n",
       "\n",
       "  function load_libs(css_urls, js_urls, callback) {\n",
       "    if (css_urls == null) css_urls = [];\n",
       "    if (js_urls == null) js_urls = [];\n",
       "\n",
       "    root._bokeh_onload_callbacks.push(callback);\n",
       "    if (root._bokeh_is_loading > 0) {\n",
       "      console.debug(\"Bokeh: BokehJS is being loaded, scheduling callback at\", now());\n",
       "      return null;\n",
       "    }\n",
       "    if (js_urls == null || js_urls.length === 0) {\n",
       "      run_callbacks();\n",
       "      return null;\n",
       "    }\n",
       "    console.debug(\"Bokeh: BokehJS not loaded, scheduling load and callback at\", now());\n",
       "    root._bokeh_is_loading = css_urls.length + js_urls.length;\n",
       "\n",
       "    function on_load() {\n",
       "      root._bokeh_is_loading--;\n",
       "      if (root._bokeh_is_loading === 0) {\n",
       "        console.debug(\"Bokeh: all BokehJS libraries/stylesheets loaded\");\n",
       "        run_callbacks()\n",
       "      }\n",
       "    }\n",
       "\n",
       "    function on_error() {\n",
       "      console.error(\"failed to load \" + url);\n",
       "    }\n",
       "\n",
       "    for (var i = 0; i < css_urls.length; i++) {\n",
       "      var url = css_urls[i];\n",
       "      const element = document.createElement(\"link\");\n",
       "      element.onload = on_load;\n",
       "      element.onerror = on_error;\n",
       "      element.rel = \"stylesheet\";\n",
       "      element.type = \"text/css\";\n",
       "      element.href = url;\n",
       "      console.debug(\"Bokeh: injecting link tag for BokehJS stylesheet: \", url);\n",
       "      document.body.appendChild(element);\n",
       "    }\n",
       "\n",
       "    const hashes = {\"https://cdn.bokeh.org/bokeh/release/bokeh-2.0.2.min.js\": \"ufR9RFnRs6lniiaFvtJziE0YeidtAgBRH6ux2oUItHw5WTvE1zuk9uzhUU/FJXDp\", \"https://cdn.bokeh.org/bokeh/release/bokeh-widgets-2.0.2.min.js\": \"8QM/PGWBT+IssZuRcDcjzwIh1mkOmJSoNMmyYDZbCfXJg3Ap1lEvdVgFuSAwhb/J\", \"https://cdn.bokeh.org/bokeh/release/bokeh-tables-2.0.2.min.js\": \"Jm8cH3Rg0P6UeZhVY5cLy1WzKajUT9KImCY+76hEqrcJt59/d8GPvFHjCkYgnSIn\", \"https://cdn.bokeh.org/bokeh/release/bokeh-gl-2.0.2.min.js\": \"Ozhzj+SI7ywm74aOI/UajcWz+C0NjsPunEVyVIrxzYkB+jA+2tUw8x5xJCbVtK5I\"};\n",
       "\n",
       "    for (var i = 0; i < js_urls.length; i++) {\n",
       "      var url = js_urls[i];\n",
       "      var element = document.createElement('script');\n",
       "      element.onload = on_load;\n",
       "      element.onerror = on_error;\n",
       "      element.async = false;\n",
       "      element.src = url;\n",
       "      if (url in hashes) {\n",
       "        element.crossOrigin = \"anonymous\";\n",
       "        element.integrity = \"sha384-\" + hashes[url];\n",
       "      }\n",
       "      console.debug(\"Bokeh: injecting script tag for BokehJS library: \", url);\n",
       "      document.head.appendChild(element);\n",
       "    }\n",
       "  };\n",
       "\n",
       "  function inject_raw_css(css) {\n",
       "    const element = document.createElement(\"style\");\n",
       "    element.appendChild(document.createTextNode(css));\n",
       "    document.body.appendChild(element);\n",
       "  }\n",
       "\n",
       "  \n",
       "  var js_urls = [\"https://cdn.bokeh.org/bokeh/release/bokeh-2.0.2.min.js\", \"https://cdn.bokeh.org/bokeh/release/bokeh-widgets-2.0.2.min.js\", \"https://cdn.bokeh.org/bokeh/release/bokeh-tables-2.0.2.min.js\", \"https://cdn.bokeh.org/bokeh/release/bokeh-gl-2.0.2.min.js\"];\n",
       "  var css_urls = [];\n",
       "  \n",
       "\n",
       "  var inline_js = [\n",
       "    function(Bokeh) {\n",
       "      Bokeh.set_log_level(\"info\");\n",
       "    },\n",
       "    function(Bokeh) {\n",
       "    \n",
       "    \n",
       "    }\n",
       "  ];\n",
       "\n",
       "  function run_inline_js() {\n",
       "    \n",
       "    if (root.Bokeh !== undefined || force === true) {\n",
       "      \n",
       "    for (var i = 0; i < inline_js.length; i++) {\n",
       "      inline_js[i].call(root, root.Bokeh);\n",
       "    }\n",
       "    if (force === true) {\n",
       "        display_loaded();\n",
       "      }} else if (Date.now() < root._bokeh_timeout) {\n",
       "      setTimeout(run_inline_js, 100);\n",
       "    } else if (!root._bokeh_failed_load) {\n",
       "      console.log(\"Bokeh: BokehJS failed to load within specified timeout.\");\n",
       "      root._bokeh_failed_load = true;\n",
       "    } else if (force !== true) {\n",
       "      var cell = $(document.getElementById(\"1002\")).parents('.cell').data().cell;\n",
       "      cell.output_area.append_execute_result(NB_LOAD_WARNING)\n",
       "    }\n",
       "\n",
       "  }\n",
       "\n",
       "  if (root._bokeh_is_loading === 0) {\n",
       "    console.debug(\"Bokeh: BokehJS loaded, going straight to plotting\");\n",
       "    run_inline_js();\n",
       "  } else {\n",
       "    load_libs(css_urls, js_urls, function() {\n",
       "      console.debug(\"Bokeh: BokehJS plotting callback run at\", now());\n",
       "      run_inline_js();\n",
       "    });\n",
       "  }\n",
       "}(window));"
      ],
      "application/vnd.bokehjs_load.v0+json": "\n(function(root) {\n  function now() {\n    return new Date();\n  }\n\n  var force = true;\n\n  if (typeof root._bokeh_onload_callbacks === \"undefined\" || force === true) {\n    root._bokeh_onload_callbacks = [];\n    root._bokeh_is_loading = undefined;\n  }\n\n  \n\n  \n  if (typeof (root._bokeh_timeout) === \"undefined\" || force === true) {\n    root._bokeh_timeout = Date.now() + 5000;\n    root._bokeh_failed_load = false;\n  }\n\n  var NB_LOAD_WARNING = {'data': {'text/html':\n     \"<div style='background-color: #fdd'>\\n\"+\n     \"<p>\\n\"+\n     \"BokehJS does not appear to have successfully loaded. If loading BokehJS from CDN, this \\n\"+\n     \"may be due to a slow or bad network connection. Possible fixes:\\n\"+\n     \"</p>\\n\"+\n     \"<ul>\\n\"+\n     \"<li>re-rerun `output_notebook()` to attempt to load from CDN again, or</li>\\n\"+\n     \"<li>use INLINE resources instead, as so:</li>\\n\"+\n     \"</ul>\\n\"+\n     \"<code>\\n\"+\n     \"from bokeh.resources import INLINE\\n\"+\n     \"output_notebook(resources=INLINE)\\n\"+\n     \"</code>\\n\"+\n     \"</div>\"}};\n\n  function display_loaded() {\n    var el = document.getElementById(\"1002\");\n    if (el != null) {\n      el.textContent = \"BokehJS is loading...\";\n    }\n    if (root.Bokeh !== undefined) {\n      if (el != null) {\n        el.textContent = \"BokehJS \" + root.Bokeh.version + \" successfully loaded.\";\n      }\n    } else if (Date.now() < root._bokeh_timeout) {\n      setTimeout(display_loaded, 100)\n    }\n  }\n\n\n  function run_callbacks() {\n    try {\n      root._bokeh_onload_callbacks.forEach(function(callback) {\n        if (callback != null)\n          callback();\n      });\n    } finally {\n      delete root._bokeh_onload_callbacks\n    }\n    console.debug(\"Bokeh: all callbacks have finished\");\n  }\n\n  function load_libs(css_urls, js_urls, callback) {\n    if (css_urls == null) css_urls = [];\n    if (js_urls == null) js_urls = [];\n\n    root._bokeh_onload_callbacks.push(callback);\n    if (root._bokeh_is_loading > 0) {\n      console.debug(\"Bokeh: BokehJS is being loaded, scheduling callback at\", now());\n      return null;\n    }\n    if (js_urls == null || js_urls.length === 0) {\n      run_callbacks();\n      return null;\n    }\n    console.debug(\"Bokeh: BokehJS not loaded, scheduling load and callback at\", now());\n    root._bokeh_is_loading = css_urls.length + js_urls.length;\n\n    function on_load() {\n      root._bokeh_is_loading--;\n      if (root._bokeh_is_loading === 0) {\n        console.debug(\"Bokeh: all BokehJS libraries/stylesheets loaded\");\n        run_callbacks()\n      }\n    }\n\n    function on_error() {\n      console.error(\"failed to load \" + url);\n    }\n\n    for (var i = 0; i < css_urls.length; i++) {\n      var url = css_urls[i];\n      const element = document.createElement(\"link\");\n      element.onload = on_load;\n      element.onerror = on_error;\n      element.rel = \"stylesheet\";\n      element.type = \"text/css\";\n      element.href = url;\n      console.debug(\"Bokeh: injecting link tag for BokehJS stylesheet: \", url);\n      document.body.appendChild(element);\n    }\n\n    const hashes = {\"https://cdn.bokeh.org/bokeh/release/bokeh-2.0.2.min.js\": \"ufR9RFnRs6lniiaFvtJziE0YeidtAgBRH6ux2oUItHw5WTvE1zuk9uzhUU/FJXDp\", \"https://cdn.bokeh.org/bokeh/release/bokeh-widgets-2.0.2.min.js\": \"8QM/PGWBT+IssZuRcDcjzwIh1mkOmJSoNMmyYDZbCfXJg3Ap1lEvdVgFuSAwhb/J\", \"https://cdn.bokeh.org/bokeh/release/bokeh-tables-2.0.2.min.js\": \"Jm8cH3Rg0P6UeZhVY5cLy1WzKajUT9KImCY+76hEqrcJt59/d8GPvFHjCkYgnSIn\", \"https://cdn.bokeh.org/bokeh/release/bokeh-gl-2.0.2.min.js\": \"Ozhzj+SI7ywm74aOI/UajcWz+C0NjsPunEVyVIrxzYkB+jA+2tUw8x5xJCbVtK5I\"};\n\n    for (var i = 0; i < js_urls.length; i++) {\n      var url = js_urls[i];\n      var element = document.createElement('script');\n      element.onload = on_load;\n      element.onerror = on_error;\n      element.async = false;\n      element.src = url;\n      if (url in hashes) {\n        element.crossOrigin = \"anonymous\";\n        element.integrity = \"sha384-\" + hashes[url];\n      }\n      console.debug(\"Bokeh: injecting script tag for BokehJS library: \", url);\n      document.head.appendChild(element);\n    }\n  };\n\n  function inject_raw_css(css) {\n    const element = document.createElement(\"style\");\n    element.appendChild(document.createTextNode(css));\n    document.body.appendChild(element);\n  }\n\n  \n  var js_urls = [\"https://cdn.bokeh.org/bokeh/release/bokeh-2.0.2.min.js\", \"https://cdn.bokeh.org/bokeh/release/bokeh-widgets-2.0.2.min.js\", \"https://cdn.bokeh.org/bokeh/release/bokeh-tables-2.0.2.min.js\", \"https://cdn.bokeh.org/bokeh/release/bokeh-gl-2.0.2.min.js\"];\n  var css_urls = [];\n  \n\n  var inline_js = [\n    function(Bokeh) {\n      Bokeh.set_log_level(\"info\");\n    },\n    function(Bokeh) {\n    \n    \n    }\n  ];\n\n  function run_inline_js() {\n    \n    if (root.Bokeh !== undefined || force === true) {\n      \n    for (var i = 0; i < inline_js.length; i++) {\n      inline_js[i].call(root, root.Bokeh);\n    }\n    if (force === true) {\n        display_loaded();\n      }} else if (Date.now() < root._bokeh_timeout) {\n      setTimeout(run_inline_js, 100);\n    } else if (!root._bokeh_failed_load) {\n      console.log(\"Bokeh: BokehJS failed to load within specified timeout.\");\n      root._bokeh_failed_load = true;\n    } else if (force !== true) {\n      var cell = $(document.getElementById(\"1002\")).parents('.cell').data().cell;\n      cell.output_area.append_execute_result(NB_LOAD_WARNING)\n    }\n\n  }\n\n  if (root._bokeh_is_loading === 0) {\n    console.debug(\"Bokeh: BokehJS loaded, going straight to plotting\");\n    run_inline_js();\n  } else {\n    load_libs(css_urls, js_urls, function() {\n      console.debug(\"Bokeh: BokehJS plotting callback run at\", now());\n      run_inline_js();\n    });\n  }\n}(window));"
     },
     "metadata": {},
     "output_type": "display_data"
    }
   ],
   "source": [
    "import numpy as np\n",
    "import pandas as pd\n",
    "\n",
    "import bokeh_catplot\n",
    "\n",
    "import bokeh.io\n",
    "import bokeh.plotting\n",
    "\n",
    "%load_ext blackcellmagic\n",
    "\n",
    "bokeh.io.output_notebook()"
   ]
  },
  {
   "cell_type": "markdown",
   "metadata": {},
   "source": [
    "# Hacker stats"
   ]
  },
  {
   "cell_type": "code",
   "execution_count": 9,
   "metadata": {},
   "outputs": [
    {
     "data": {
      "text/html": [
       "<div>\n",
       "<style scoped>\n",
       "    .dataframe tbody tr th:only-of-type {\n",
       "        vertical-align: middle;\n",
       "    }\n",
       "\n",
       "    .dataframe tbody tr th {\n",
       "        vertical-align: top;\n",
       "    }\n",
       "\n",
       "    .dataframe thead th {\n",
       "        text-align: right;\n",
       "    }\n",
       "</style>\n",
       "<table border=\"1\" class=\"dataframe\">\n",
       "  <thead>\n",
       "    <tr style=\"text-align: right;\">\n",
       "      <th></th>\n",
       "      <th>band</th>\n",
       "      <th>beak depth (mm)</th>\n",
       "      <th>beak length (mm)</th>\n",
       "      <th>species</th>\n",
       "      <th>year</th>\n",
       "    </tr>\n",
       "  </thead>\n",
       "  <tbody>\n",
       "    <tr>\n",
       "      <th>0</th>\n",
       "      <td>20123</td>\n",
       "      <td>8.05</td>\n",
       "      <td>9.25</td>\n",
       "      <td>fortis</td>\n",
       "      <td>1973</td>\n",
       "    </tr>\n",
       "    <tr>\n",
       "      <th>1</th>\n",
       "      <td>20126</td>\n",
       "      <td>10.45</td>\n",
       "      <td>11.35</td>\n",
       "      <td>fortis</td>\n",
       "      <td>1973</td>\n",
       "    </tr>\n",
       "    <tr>\n",
       "      <th>2</th>\n",
       "      <td>20128</td>\n",
       "      <td>9.55</td>\n",
       "      <td>10.15</td>\n",
       "      <td>fortis</td>\n",
       "      <td>1973</td>\n",
       "    </tr>\n",
       "    <tr>\n",
       "      <th>3</th>\n",
       "      <td>20129</td>\n",
       "      <td>8.75</td>\n",
       "      <td>9.95</td>\n",
       "      <td>fortis</td>\n",
       "      <td>1973</td>\n",
       "    </tr>\n",
       "    <tr>\n",
       "      <th>4</th>\n",
       "      <td>20133</td>\n",
       "      <td>10.15</td>\n",
       "      <td>11.55</td>\n",
       "      <td>fortis</td>\n",
       "      <td>1973</td>\n",
       "    </tr>\n",
       "  </tbody>\n",
       "</table>\n",
       "</div>"
      ],
      "text/plain": [
       "    band  beak depth (mm)  beak length (mm) species  year\n",
       "0  20123             8.05              9.25  fortis  1973\n",
       "1  20126            10.45             11.35  fortis  1973\n",
       "2  20128             9.55             10.15  fortis  1973\n",
       "3  20129             8.75              9.95  fortis  1973\n",
       "4  20133            10.15             11.55  fortis  1973"
      ]
     },
     "execution_count": 9,
     "metadata": {},
     "output_type": "execute_result"
    }
   ],
   "source": [
    "df = pd.read_csv('data/grant_complete.csv', comment='#')\n",
    "\n",
    "df.head()"
   ]
  },
  {
   "cell_type": "code",
   "execution_count": 10,
   "metadata": {},
   "outputs": [],
   "source": [
    "df = df.loc[(df['species']=='scandens') & (df['year'].isin([1975, 2012]))].copy()"
   ]
  },
  {
   "cell_type": "code",
   "execution_count": 11,
   "metadata": {},
   "outputs": [
    {
     "data": {
      "text/html": [
       "\n",
       "\n",
       "\n",
       "\n",
       "\n",
       "\n",
       "  <div class=\"bk-root\" id=\"2c6a11cb-04eb-4323-a707-f662e497a9db\" data-root-id=\"1003\"></div>\n"
      ]
     },
     "metadata": {},
     "output_type": "display_data"
    },
    {
     "data": {
      "application/javascript": [
       "(function(root) {\n",
       "  function embed_document(root) {\n",
       "    \n",
       "  var docs_json = {\"3e006c23-71bb-42c9-bc9c-f84c3ef25363\":{\"roots\":{\"references\":[{\"attributes\":{\"below\":[{\"id\":\"1012\"}],\"center\":[{\"id\":\"1015\"},{\"id\":\"1019\"},{\"id\":\"1047\"}],\"left\":[{\"id\":\"1016\"}],\"plot_height\":300,\"plot_width\":400,\"renderers\":[{\"id\":\"1038\"},{\"id\":\"1053\"}],\"title\":{\"id\":\"1040\"},\"toolbar\":{\"id\":\"1027\"},\"x_range\":{\"id\":\"1004\"},\"x_scale\":{\"id\":\"1008\"},\"y_range\":{\"id\":\"1006\"},\"y_scale\":{\"id\":\"1010\"}},\"id\":\"1003\",\"subtype\":\"Figure\",\"type\":\"Plot\"},{\"attributes\":{\"overlay\":{\"id\":\"1026\"}},\"id\":\"1022\",\"type\":\"BoxZoomTool\"},{\"attributes\":{\"fill_color\":{\"value\":\"#ff7e0e\"},\"line_color\":{\"value\":\"#ff7e0e\"},\"x\":{\"field\":\"beak depth (mm)\"},\"y\":{\"field\":\"__ECDF\"}},\"id\":\"1051\",\"type\":\"Circle\"},{\"attributes\":{},\"id\":\"1008\",\"type\":\"LinearScale\"},{\"attributes\":{\"fill_color\":{\"value\":\"#1f77b3\"},\"line_color\":{\"value\":\"#1f77b3\"},\"x\":{\"field\":\"beak depth (mm)\"},\"y\":{\"field\":\"__ECDF\"}},\"id\":\"1036\",\"type\":\"Circle\"},{\"attributes\":{},\"id\":\"1023\",\"type\":\"SaveTool\"},{\"attributes\":{},\"id\":\"1004\",\"type\":\"DataRange1d\"},{\"attributes\":{},\"id\":\"1024\",\"type\":\"ResetTool\"},{\"attributes\":{\"text\":\"\"},\"id\":\"1040\",\"type\":\"Title\"},{\"attributes\":{\"source\":{\"id\":\"1034\"}},\"id\":\"1039\",\"type\":\"CDSView\"},{\"attributes\":{},\"id\":\"1025\",\"type\":\"HelpTool\"},{\"attributes\":{},\"id\":\"1044\",\"type\":\"BasicTickFormatter\"},{\"attributes\":{\"fill_alpha\":{\"value\":0.1},\"fill_color\":{\"value\":\"#1f77b3\"},\"line_alpha\":{\"value\":0.1},\"line_color\":{\"value\":\"#1f77b3\"},\"x\":{\"field\":\"beak depth (mm)\"},\"y\":{\"field\":\"__ECDF\"}},\"id\":\"1037\",\"type\":\"Circle\"},{\"attributes\":{\"source\":{\"id\":\"1049\"}},\"id\":\"1054\",\"type\":\"CDSView\"},{\"attributes\":{\"data_source\":{\"id\":\"1049\"},\"glyph\":{\"id\":\"1051\"},\"hover_glyph\":null,\"muted_glyph\":null,\"nonselection_glyph\":{\"id\":\"1052\"},\"selection_glyph\":null,\"view\":{\"id\":\"1054\"}},\"id\":\"1053\",\"type\":\"GlyphRenderer\"},{\"attributes\":{\"axis\":{\"id\":\"1012\"},\"ticker\":null},\"id\":\"1015\",\"type\":\"Grid\"},{\"attributes\":{},\"id\":\"1017\",\"type\":\"BasicTicker\"},{\"attributes\":{},\"id\":\"1042\",\"type\":\"BasicTickFormatter\"},{\"attributes\":{\"label\":{\"value\":\"1975\"},\"renderers\":[{\"id\":\"1038\"}]},\"id\":\"1048\",\"type\":\"LegendItem\"},{\"attributes\":{\"axis\":{\"id\":\"1016\"},\"dimension\":1,\"ticker\":null},\"id\":\"1019\",\"type\":\"Grid\"},{\"attributes\":{\"axis_label\":\"ECDF\",\"formatter\":{\"id\":\"1042\"},\"ticker\":{\"id\":\"1017\"}},\"id\":\"1016\",\"type\":\"LinearAxis\"},{\"attributes\":{\"click_policy\":\"hide\",\"items\":[{\"id\":\"1048\"},{\"id\":\"1064\"}],\"location\":\"bottom_right\"},\"id\":\"1047\",\"type\":\"Legend\"},{\"attributes\":{},\"id\":\"1074\",\"type\":\"UnionRenderers\"},{\"attributes\":{},\"id\":\"1010\",\"type\":\"LinearScale\"},{\"attributes\":{},\"id\":\"1075\",\"type\":\"Selection\"},{\"attributes\":{\"fill_alpha\":{\"value\":0.1},\"fill_color\":{\"value\":\"#ff7e0e\"},\"line_alpha\":{\"value\":0.1},\"line_color\":{\"value\":\"#ff7e0e\"},\"x\":{\"field\":\"beak depth (mm)\"},\"y\":{\"field\":\"__ECDF\"}},\"id\":\"1052\",\"type\":\"Circle\"},{\"attributes\":{\"data\":{\"__ECDF\":{\"__ndarray__\":\"wzAMwzAM4z9FURRFURTlPwAAAAAAAPA/mqZpmqZpyj8cx3Ecx3G8P/y+7/u+79s/27Zt27Ztyz9d13Vd13XtP/h93/d93+c/kiRJkiRJ0j/f933f933PP1VVVVVVVeU/3/d93/d93z8YhmEYhmHYP2qapmmapuk/MQzDMAzD4D85juM4juPYP27btm3btu0/EARBEARBgD9ZlmVZlmXZP2ZZlmVZluU/0zRN0zRN4z8URVEURVGkP7Msy7Isy9I/5DiO4ziO4z92Xdd1XdflPxiGYRiGYag/DMMwDMMw7D/4fd/3fd/XPxRFURRFUbQ/EARBEARB0D8AAAAAAADgP/Q8z/M8z+M/hmEYhmEY5j8QBEEQBEGwP5ZlWZZlWeY/nud5nud5vj9BEARBEAThP1EURVEUReE/CIIgCIIg6D8QBEEQBEHgPxzHcRzHcew/0zRN0zRN0z+v67qu67ruP/Q8z/M8z9M/GIZhGIZhyD8xDMMwDMPQP7/v+77v+94/p2mapmma5j8cx3Ecx3HcP37f933f9+0/EARBEARBwD8ty7Isy7LsP47jOI7jOO4/YhiGYRiG4T/w+77v+77vPxiGYRiGYbg/GIZhGIZhmD96nud5nufpPxAEQRAEQaA/FEVRFEVR1D8QBEEQBEGQPzVN0zRN09Q/BEEQBEEQ5D8URVEURVHkPxRFURRFUcQ/VVVVVVVVxT8YhmEYhmHoP57neZ7nee4/URRFURRF0T+3bdu2bdvmP3Icx3Ecx+E/ep7neZ7n2T8hCIIgCILgPxzHcRzHccw/mqZpmqZp2j89z/M8z/PcP13XdV3Xdc0/JUmSJEmS5D+KoiiKoijqP1mWZVmWZck/z/M8z/M87z+7ruu6ruvaP8dxHMdxHOc/kiRJkiRJsj+CIAiCIAjiPymKoiiKoug/lmVZlmVZxj+WZVmWZVm2PxzHcRzHcaw/13Vd13Vd5z9JkiRJkiTpP+y6ruu6rus/Xdd1Xdd13T/oeZ7neZ7nP5qmaZqmaeo/URRFURRFwT+apmmapmm6PzmO4ziO4+g/NU3TNE3T5D89z/M8z/PsP1VVVVVVVdU/ft/3fd/33T+rqqqqqqrqP5IkSZIkSeI//L7v+77v6z92Xdd1XdfVP9d1Xdd1Xcc/3/d93/d97z+jKIqiKIriP5ZlWZZlWdY/t23btm3b1j9ZlmVZlmXpP7uu67qu6+o/v+/7vu/77j+SJEmSJEnCP03TNE3TNO0/27Zt27Zt2z+e53me53nOP3Icx3Ecx9E/0zRN0zRNwz+zLMuyLMviP8uyLMuyLOs/13Vd13Vd1z/btm3btm3rP57neZ7ned4/\",\"dtype\":\"float64\",\"shape\":[126]},\"__label\":[\"2012\",\"2012\",\"2012\",\"2012\",\"2012\",\"2012\",\"2012\",\"2012\",\"2012\",\"2012\",\"2012\",\"2012\",\"2012\",\"2012\",\"2012\",\"2012\",\"2012\",\"2012\",\"2012\",\"2012\",\"2012\",\"2012\",\"2012\",\"2012\",\"2012\",\"2012\",\"2012\",\"2012\",\"2012\",\"2012\",\"2012\",\"2012\",\"2012\",\"2012\",\"2012\",\"2012\",\"2012\",\"2012\",\"2012\",\"2012\",\"2012\",\"2012\",\"2012\",\"2012\",\"2012\",\"2012\",\"2012\",\"2012\",\"2012\",\"2012\",\"2012\",\"2012\",\"2012\",\"2012\",\"2012\",\"2012\",\"2012\",\"2012\",\"2012\",\"2012\",\"2012\",\"2012\",\"2012\",\"2012\",\"2012\",\"2012\",\"2012\",\"2012\",\"2012\",\"2012\",\"2012\",\"2012\",\"2012\",\"2012\",\"2012\",\"2012\",\"2012\",\"2012\",\"2012\",\"2012\",\"2012\",\"2012\",\"2012\",\"2012\",\"2012\",\"2012\",\"2012\",\"2012\",\"2012\",\"2012\",\"2012\",\"2012\",\"2012\",\"2012\",\"2012\",\"2012\",\"2012\",\"2012\",\"2012\",\"2012\",\"2012\",\"2012\",\"2012\",\"2012\",\"2012\",\"2012\",\"2012\",\"2012\",\"2012\",\"2012\",\"2012\",\"2012\",\"2012\",\"2012\",\"2012\",\"2012\",\"2012\",\"2012\",\"2012\",\"2012\",\"2012\",\"2012\",\"2012\",\"2012\",\"2012\",\"2012\"],\"band\":[19026,19029,19094,19122,19125,19129,19172,19182,19212,19214,19244,19251,19260,19270,19278,19289,19299,19312,19326,19343,19374,19401,19406,19408,19426,19430,19433,19438,19452,19466,19469,19486,19492,19493,19494,19495,19496,19497,19510,19513,19518,19526,19527,19528,19543,19553,19554,19573,19592,19594,19597,19598,19599,19619,19622,19652,19653,19664,19692,19720,19740,19747,19766,19783,19844,19848,19852,19854,19855,19868,19882,19900,19910,19936,19940,19941,19951,19955,19956,21040,21041,21045,21047,21053,21057,21070,21081,21092,21093,21106,21109,21111,21113,21131,21135,21136,21159,21167,21176,21248,21253,21255,21256,21257,21260,21263,21267,21268,21270,21271,21278,21279,21280,21281,21285,21286,21288,21289,21290,21291,21292,21295,21297,21340,21342,21347],\"beak depth (mm)\":{\"__ndarray__\":\"zczMzMzMIkAAAAAAAAAjQAAAAAAAACZAZmZmZmZmIUDNzMzMzMwgQDMzMzMzMyJAZmZmZmZmIUBmZmZmZmYkQDMzMzMzMyNAMzMzMzOzIUCamZmZmZkhQAAAAAAAACNAZmZmZmZmIkAAAAAAAAAiQJqZmZmZmSNAmpmZmZmZIkAAAAAAAAAiQGZmZmZmZiRAzczMzMzMHkAAAAAAAAAiQAAAAAAAACNAzczMzMzMIkAAAAAAAAAgQM3MzMzMzCFAzczMzMzMIkAAAAAAAAAjQAAAAAAAACBAAAAAAAAAJEBmZmZmZuYhQGZmZmZmZiBAmpmZmZmZIUBmZmZmZmYiQM3MzMzMzCJAAAAAAAAAI0AzMzMzMzMgQAAAAAAAACNAzczMzMzMIECamZmZmZkiQJqZmZmZmSJAMzMzMzMzI0BmZmZmZmYiQAAAAAAAACRAzczMzMzMIUAAAAAAAAAlQM3MzMzMzCFAMzMzMzMzIUCamZmZmZkhQM3MzMzMTCJAAAAAAAAAI0AzMzMzMzMiQGZmZmZmZiRAzczMzMzMIEAAAAAAAAAkQGZmZmZmZiRAmpmZmZmZIkCamZmZmZklQJqZmZmZmSBAMzMzMzMzH0CamZmZmZkjQJqZmZmZmR9AzczMzMzMIUDNzMzMzMweQM3MzMzMzCFAzczMzMzMIkDNzMzMzMwiQAAAAAAAACFAAAAAAAAAIUAzMzMzMzMjQGZmZmZmZiRAmpmZmZmZIUAAAAAAAAAjQJqZmZmZmSJAAAAAAAAAIkBmZmZmZmYiQGZmZmZmZiFAAAAAAAAAIkAzMzMzMzMiQGZmZmZmZiFAzczMzMzMIkCamZmZmZkjQDMzMzMzMyFAMzMzMzMzJUAAAAAAAAAiQAAAAAAAACNAMzMzMzMzIECamZmZmZkiQDMzMzMzMyNAAAAAAAAAIUBmZmZmZmYgQAAAAAAAACBAAAAAAAAAI0BmZmZmZmYjQM3MzMzMzCNAMzMzMzMzIkAAAAAAAAAjQJqZmZmZmSNAzczMzMzMIECamZmZmZkgQDMzMzMzMyNAzczMzMzMIkAAAAAAAAAkQM3MzMzMzCFAMzMzMzMzIkCamZmZmZkjQJqZmZmZmSJAzczMzMzMI0DNzMzMzMwhQAAAAAAAACFAMzMzMzMzJUCamZmZmZkiQM3MzMzMzCFAzczMzMzMIUBmZmZmZmYjQJqZmZmZmSNAAAAAAAAAJUDNzMzMzMwgQAAAAAAAACRAAAAAAAAAIkBmZmZmZmYhQJqZmZmZmSFAzczMzMzMIECamZmZmZkiQJqZmZmZmSNAzczMzMzMIUCamZmZmZkjQDMzMzMzMyJA\",\"dtype\":\"float64\",\"shape\":[126]},\"beak length (mm)\":{\"__ndarray__\":\"mpmZmZmZLEBmZmZmZmYrQJqZmZmZmStAAAAAAAAAKEAAAAAAAAAqQAAAAAAAACpAMzMzMzMzK0CamZmZmZkpQDMzMzMzMytAZmZmZmbmKUAzMzMzMzMqQM3MzMzMzCpAzczMzMzMK0CamZmZmZkoQAAAAAAAACxAAAAAAAAAKUCamZmZmZkoQM3MzMzMzCtAMzMzMzMzKkAAAAAAAAApQM3MzMzMzCtAZmZmZmZmK0AAAAAAAAAoQM3MzMzMzCxAAAAAAAAAK0CamZmZmZkrQAAAAAAAACpAzczMzMzMLUAAAAAAAAApQJqZmZmZmShAmpmZmZmZKUDNzMzMzMwqQJqZmZmZmStAAAAAAAAAK0AAAAAAAAArQM3MzMzMzCpAmpmZmZmZKEAzMzMzM7MsQGZmZmZmZipAmpmZmZmZK0AzMzMzMzMtQJqZmZmZmSxAmpmZmZmZK0AzMzMzMzMrQM3MzMzMzClAAAAAAAAAKkAAAAAAAAArQGZmZmZmZipAZmZmZmZmK0AzMzMzMzMqQGZmZmZmZipAMzMzMzMzKUAAAAAAAAAqQM3MzMzMzCtAZmZmZmZmKkAAAAAAAAAuQD0K16NwvSpAzczMzMzMJkCamZmZmZkrQAAAAAAAACpAAAAAAAAAKkAzMzMzMzMqQJqZmZmZmSlAmpmZmZmZKkAAAAAAAAArQM3MzMzMzChAMzMzMzMzKkAAAAAAAAAsQAAAAAAAACtAmpmZmZmZJ0BmZmZmZmYrQGZmZmZmZipAZmZmZmZmKEAAAAAAAAAqQDMzMzMzMypAZmZmZmZmLUBmZmZmZmYrQAAAAAAAACtAmpmZmZmZKkAzMzMzMzMsQAAAAAAAAClAZmZmZmZmK0AzMzMzMzMtQDMzMzMzMyxAzczMzMzMKUDNzMzMzMwrQM3MzMzMzCpAAAAAAAAAKkBmZmZmZmYpQDMzMzMzMyhAAAAAAAAALEDNzMzMzMwtQM3MzMzMzCtAzczMzMzMKUAzMzMzMzMtQAAAAAAAACxAAAAAAAAAKkBmZmZmZmYpQAAAAAAAACxAMzMzMzMzLEAzMzMzMzMsQAAAAAAAACpAAAAAAAAAK0DNzMzMzMwqQM3MzMzMzCtAMzMzMzMzKkDNzMzMzMwpQAAAAAAAACxAAAAAAAAALEAzMzMzMzMsQGZmZmZmZi1AzczMzMzMKkCamZmZmZkrQM3MzMzMzCpAmpmZmZmZK0DNzMzMzMwoQDMzMzMzMyxAzczMzMzMKUDNzMzMzMwrQJqZmZmZmSxAZmZmZmZmKkBmZmZmZmYsQAAAAAAAACpAMzMzMzMzLUAzMzMzMzMqQGZmZmZmZi5A\",\"dtype\":\"float64\",\"shape\":[126]},\"index\":[2173,2174,2175,2176,2177,2178,2179,2180,2181,2182,2183,2184,2185,2186,2187,2188,2189,2190,2191,2192,2193,2194,2195,2196,2197,2198,2199,2200,2201,2202,2203,2204,2205,2206,2207,2208,2209,2210,2211,2212,2213,2214,2215,2216,2217,2218,2219,2220,2221,2222,2223,2224,2225,2226,2227,2228,2229,2230,2231,2232,2233,2234,2235,2236,2237,2238,2239,2240,2241,2242,2243,2244,2245,2246,2247,2248,2249,2250,2251,2252,2253,2254,2255,2256,2257,2258,2259,2260,2261,2262,2263,2264,2265,2266,2267,2268,2269,2270,2271,2272,2273,2274,2275,2276,2277,2278,2279,2280,2281,2282,2283,2284,2285,2286,2287,2288,2289,2290,2291,2292,2293,2294,2295,2296,2297,2298],\"species\":[\"scandens\",\"scandens\",\"scandens\",\"scandens\",\"scandens\",\"scandens\",\"scandens\",\"scandens\",\"scandens\",\"scandens\",\"scandens\",\"scandens\",\"scandens\",\"scandens\",\"scandens\",\"scandens\",\"scandens\",\"scandens\",\"scandens\",\"scandens\",\"scandens\",\"scandens\",\"scandens\",\"scandens\",\"scandens\",\"scandens\",\"scandens\",\"scandens\",\"scandens\",\"scandens\",\"scandens\",\"scandens\",\"scandens\",\"scandens\",\"scandens\",\"scandens\",\"scandens\",\"scandens\",\"scandens\",\"scandens\",\"scandens\",\"scandens\",\"scandens\",\"scandens\",\"scandens\",\"scandens\",\"scandens\",\"scandens\",\"scandens\",\"scandens\",\"scandens\",\"scandens\",\"scandens\",\"scandens\",\"scandens\",\"scandens\",\"scandens\",\"scandens\",\"scandens\",\"scandens\",\"scandens\",\"scandens\",\"scandens\",\"scandens\",\"scandens\",\"scandens\",\"scandens\",\"scandens\",\"scandens\",\"scandens\",\"scandens\",\"scandens\",\"scandens\",\"scandens\",\"scandens\",\"scandens\",\"scandens\",\"scandens\",\"scandens\",\"scandens\",\"scandens\",\"scandens\",\"scandens\",\"scandens\",\"scandens\",\"scandens\",\"scandens\",\"scandens\",\"scandens\",\"scandens\",\"scandens\",\"scandens\",\"scandens\",\"scandens\",\"scandens\",\"scandens\",\"scandens\",\"scandens\",\"scandens\",\"scandens\",\"scandens\",\"scandens\",\"scandens\",\"scandens\",\"scandens\",\"scandens\",\"scandens\",\"scandens\",\"scandens\",\"scandens\",\"scandens\",\"scandens\",\"scandens\",\"scandens\",\"scandens\",\"scandens\",\"scandens\",\"scandens\",\"scandens\",\"scandens\",\"scandens\",\"scandens\",\"scandens\",\"scandens\",\"scandens\",\"scandens\"],\"year\":[2012,2012,2012,2012,2012,2012,2012,2012,2012,2012,2012,2012,2012,2012,2012,2012,2012,2012,2012,2012,2012,2012,2012,2012,2012,2012,2012,2012,2012,2012,2012,2012,2012,2012,2012,2012,2012,2012,2012,2012,2012,2012,2012,2012,2012,2012,2012,2012,2012,2012,2012,2012,2012,2012,2012,2012,2012,2012,2012,2012,2012,2012,2012,2012,2012,2012,2012,2012,2012,2012,2012,2012,2012,2012,2012,2012,2012,2012,2012,2012,2012,2012,2012,2012,2012,2012,2012,2012,2012,2012,2012,2012,2012,2012,2012,2012,2012,2012,2012,2012,2012,2012,2012,2012,2012,2012,2012,2012,2012,2012,2012,2012,2012,2012,2012,2012,2012,2012,2012,2012,2012,2012,2012,2012,2012,2012]},\"selected\":{\"id\":\"1075\"},\"selection_policy\":{\"id\":\"1074\"}},\"id\":\"1049\",\"type\":\"ColumnDataSource\"},{\"attributes\":{},\"id\":\"1062\",\"type\":\"UnionRenderers\"},{\"attributes\":{},\"id\":\"1006\",\"type\":\"DataRange1d\"},{\"attributes\":{\"label\":{\"value\":\"2012\"},\"renderers\":[{\"id\":\"1053\"}]},\"id\":\"1064\",\"type\":\"LegendItem\"},{\"attributes\":{\"bottom_units\":\"screen\",\"fill_alpha\":0.5,\"fill_color\":\"lightgrey\",\"left_units\":\"screen\",\"level\":\"overlay\",\"line_alpha\":1.0,\"line_color\":\"black\",\"line_dash\":[4,4],\"line_width\":2,\"render_mode\":\"css\",\"right_units\":\"screen\",\"top_units\":\"screen\"},\"id\":\"1026\",\"type\":\"BoxAnnotation\"},{\"attributes\":{},\"id\":\"1063\",\"type\":\"Selection\"},{\"attributes\":{\"data_source\":{\"id\":\"1034\"},\"glyph\":{\"id\":\"1036\"},\"hover_glyph\":null,\"muted_glyph\":null,\"nonselection_glyph\":{\"id\":\"1037\"},\"selection_glyph\":null,\"view\":{\"id\":\"1039\"}},\"id\":\"1038\",\"type\":\"GlyphRenderer\"},{\"attributes\":{\"data\":{\"__ECDF\":{\"__ndarray__\":\"L5BJ8QKZxD8VL5BJ8QLZP3waYbmnEcY/yKR4gUyKlz/IpHiBTIqHP9QIyz2NsNw/cLYO/Wbr0D9huacRlnvKP/rN1qHfbN0/dug3W4d+4z+WexphuafRP/rN1qHfbO0/lnsaYbmnsT9K8QKZFC/gP0EmxQtkUuw/vEAmxQtk0j8vkEnxApm0P93TCMs9jeA/yKR4gUyKxz/jBTIpXiDTPyCT4gUyKd4/Ccs9jbDc4z9huacRlnu6P3waYbmnEdY/h36zdeg36z+uQ7/ZOvTLP5ytQ7/ZOuQ/cLYO/Wbr4D+i32wd+s3mPyCT4gUyKe4/Ccs9jbDc0z81wnJPIyznPxUvkEnxAsk/R1juaYTl3j/6zdah32zNP20d+s3Woe8/GmG5pxGW6z8vkEnxApnkP+5phOWeRug/gUyKF8ik6D879JutQ7/ZP/rN1qHfbL0/YbmnEZZ72j/Cck8jLPfkP7N16Ddbh+4/bR36zdah3z/IpHiBTIrnP0dY7mmE5c4/2jr0m61D7z9HWO5phOXuP1uHfrN16Oc/1AjLPY2w7D9VVVVVVVXlP0rxApkUL9A/yKR4gUyKtz8DmRQvkEnhPxUvkEnxAuk/lnsaYbmnoT/oN1uHfrPlP/rN1qHfbK0/SvECmRQvwD+i32wd+s3WP4d+s3XoN9s/L5BJ8QKZ1D/IpHiBTIrXP8ikeIFMiqc/rkO/2Tr02z+WexphuafhP3waYbmnEeY/Z+vQb7YO7T8P/Wbr0G/mP42w3NMIy+0/AAAAAAAA8D+WexphuafBP6gRlnsaYek/vEAmxQtk4j8pXiCT4gXiP08jLPc0wuI/rkO/2Tr06z879JutQ7/pP1VVVVVVVdU/ztah32wd6j9huacRlnvqP+MFMileIOM/7mmE5Z5G2D/0m61Dv9nqP+MFMileIMM/\",\"dtype\":\"float64\",\"shape\":[87]},\"__label\":[\"1975\",\"1975\",\"1975\",\"1975\",\"1975\",\"1975\",\"1975\",\"1975\",\"1975\",\"1975\",\"1975\",\"1975\",\"1975\",\"1975\",\"1975\",\"1975\",\"1975\",\"1975\",\"1975\",\"1975\",\"1975\",\"1975\",\"1975\",\"1975\",\"1975\",\"1975\",\"1975\",\"1975\",\"1975\",\"1975\",\"1975\",\"1975\",\"1975\",\"1975\",\"1975\",\"1975\",\"1975\",\"1975\",\"1975\",\"1975\",\"1975\",\"1975\",\"1975\",\"1975\",\"1975\",\"1975\",\"1975\",\"1975\",\"1975\",\"1975\",\"1975\",\"1975\",\"1975\",\"1975\",\"1975\",\"1975\",\"1975\",\"1975\",\"1975\",\"1975\",\"1975\",\"1975\",\"1975\",\"1975\",\"1975\",\"1975\",\"1975\",\"1975\",\"1975\",\"1975\",\"1975\",\"1975\",\"1975\",\"1975\",\"1975\",\"1975\",\"1975\",\"1975\",\"1975\",\"1975\",\"1975\",\"1975\",\"1975\",\"1975\",\"1975\",\"1975\",\"1975\"],\"band\":[302,304,306,310,317,318,319,322,325,327,351,353,357,358,359,361,362,363,364,365,367,404,406,407,408,409,412,421,429,460,464,467,469,470,471,472,478,508,523,525,562,568,569,570,571,573,575,577,612,613,614,718,722,724,727,728,729,782,783,784,806,816,890,901,916,918,920,935,953,1014,1642,1748,1841,1842,2084,2397,8110,20122,20151,20188,20210,20223,20225,20252,20255,20266,20279],\"beak depth (mm)\":{\"__ndarray__\":\"zczMzMzMIECamZmZmZkhQM3MzMzMzCBAAAAAAAAAIECamZmZmZkfQM3MzMzMzCFAMzMzMzMzIUAAAAAAAAAhQM3MzMzMzCFAMzMzMzMzIkAzMzMzMzMhQJqZmZmZmSNAZmZmZmZmIEAAAAAAAAAiQGZmZmZmZiNAMzMzMzMzIUBmZmZmZmYgQAAAAAAAACJAzczMzMzMIEAzMzMzMzMhQM3MzMzMzCFAMzMzMzMzIkCamZmZmZkgQGZmZmZmZiFAMzMzMzMzI0AAAAAAAAAhQDMzMzMzMyJAAAAAAAAAIkBmZmZmZmYiQM3MzMzMzCNAMzMzMzMzIUBmZmZmZmYiQM3MzMzMzCBAzczMzMzMIUAAAAAAAAAhQM3MzMzMzCRAMzMzMzMzI0AzMzMzMzMiQJqZmZmZmSJAmpmZmZmZIkCamZmZmZkhQJqZmZmZmSBAmpmZmZmZIUAzMzMzMzMiQDMzMzMzMyRAzczMzMzMIUBmZmZmZmYiQAAAAAAAACFAZmZmZmZmJEAzMzMzMzMkQGZmZmZmZiJAZmZmZmZmI0AzMzMzMzMiQAAAAAAAACFAZmZmZmZmIEAAAAAAAAAiQJqZmZmZmSJAAAAAAAAAIEAzMzMzMzMiQDMzMzMzMyBAmpmZmZmZIEBmZmZmZmYhQJqZmZmZmSFAMzMzMzMzIUBmZmZmZmYhQAAAAAAAACBAmpmZmZmZIUAAAAAAAAAiQDMzMzMzMyJAexSuR+F6I0AzMzMzMzMiQJqZmZmZmSNAzczMzMzMJECamZmZmZkgQOF6FK5H4SJAFK5H4XoUIkAAAAAAAAAiQJqZmZmZGSJAzczMzMxMI0BmZmZmZuYiQM3MzMzMTCFAZmZmZmbmIkBmZmZmZuYiQJqZmZmZGSJAAAAAAACAIUBmZmZmZuYiQDMzMzMzsyBA\",\"dtype\":\"float64\",\"shape\":[87]},\"beak length (mm)\":{\"__ndarray__\":\"zczMzMzMK0AAAAAAAAAsQM3MzMzMzClAAAAAAAAAK0DNzMzMzMwpQDMzMzMzMy1AAAAAAAAAKkBmZmZmZmYsQAAAAAAAACxAZmZmZmZmLEAzMzMzMzMqQDMzMzMzMy5AAAAAAAAAK0DNzMzMzMwsQM3MzMzMzC1AzczMzMzMKUAAAAAAAAAqQM3MzMzMzC1AAAAAAAAALECamZmZmZkrQAAAAAAAACpAAAAAAACALUBmZmZmZmYrQJqZmZmZmStAAAAAAAAALEAzMzMzMzMtQGZmZmZmZi5AAAAAAAAAK0AzMzMzMzMuQAAAAAAAAC5AmpmZmZmZKUDNzMzMzMwtQJqZmZmZmS5AzczMzMzMKkBmZmZmZmYsQDMzMzMzMy5AMzMzMzMzLkAAAAAAAAAsQDMzMzMzMytAAAAAAAAALEAAAAAAAAAsQM3MzMzMzCtAAAAAAAAALEDNzMzMzMwtQDMzMzMzMy9AmpmZmZmZK0DNzMzMzMwsQJqZmZmZmSlAZmZmZmZmLEDNzMzMzMwqQAAAAAAAACxAmpmZmZmZLUBmZmZmZmYsQAAAAAAAACtAzczMzMzMKkAzMzMzMzMtQAAAAAAAACtAZmZmZmZmK0DNzMzMzMwrQDMzMzMzMypAzczMzMzMKkCamZmZmZkrQDMzMzMzMytAAAAAAAAALEAAAAAAAAArQJqZmZmZmSlAAAAAAAAALEDNzMzMzMwqQM3MzMzMzC1AFK5H4XoUL0DD9Shcj0ItQPYoXI/CdS1A9ihcj8J1L0ApXI/C9agtQOF6FK5H4S9ASOF6FK5HLkD2KFyPwnUsQM3MzMzMTCxAMzMzMzOzLEBmZmZmZuYtQGZmZmZm5itAmpmZmZkZLECamZmZmRktQJqZmZmZGSxAZmZmZmbmLECamZmZmRkuQAAAAAAAgCpA\",\"dtype\":\"float64\",\"shape\":[87]},\"index\":[401,402,403,404,405,406,407,408,409,410,411,412,413,414,415,416,417,418,419,420,421,422,423,424,425,426,427,428,429,430,431,432,433,434,435,436,437,438,439,440,441,442,443,444,445,446,447,448,449,450,451,452,453,454,455,456,457,458,459,460,461,462,463,464,465,466,467,468,469,470,471,472,473,474,475,476,477,478,479,480,481,482,483,484,485,486,487],\"species\":[\"scandens\",\"scandens\",\"scandens\",\"scandens\",\"scandens\",\"scandens\",\"scandens\",\"scandens\",\"scandens\",\"scandens\",\"scandens\",\"scandens\",\"scandens\",\"scandens\",\"scandens\",\"scandens\",\"scandens\",\"scandens\",\"scandens\",\"scandens\",\"scandens\",\"scandens\",\"scandens\",\"scandens\",\"scandens\",\"scandens\",\"scandens\",\"scandens\",\"scandens\",\"scandens\",\"scandens\",\"scandens\",\"scandens\",\"scandens\",\"scandens\",\"scandens\",\"scandens\",\"scandens\",\"scandens\",\"scandens\",\"scandens\",\"scandens\",\"scandens\",\"scandens\",\"scandens\",\"scandens\",\"scandens\",\"scandens\",\"scandens\",\"scandens\",\"scandens\",\"scandens\",\"scandens\",\"scandens\",\"scandens\",\"scandens\",\"scandens\",\"scandens\",\"scandens\",\"scandens\",\"scandens\",\"scandens\",\"scandens\",\"scandens\",\"scandens\",\"scandens\",\"scandens\",\"scandens\",\"scandens\",\"scandens\",\"scandens\",\"scandens\",\"scandens\",\"scandens\",\"scandens\",\"scandens\",\"scandens\",\"scandens\",\"scandens\",\"scandens\",\"scandens\",\"scandens\",\"scandens\",\"scandens\",\"scandens\",\"scandens\",\"scandens\"],\"year\":[1975,1975,1975,1975,1975,1975,1975,1975,1975,1975,1975,1975,1975,1975,1975,1975,1975,1975,1975,1975,1975,1975,1975,1975,1975,1975,1975,1975,1975,1975,1975,1975,1975,1975,1975,1975,1975,1975,1975,1975,1975,1975,1975,1975,1975,1975,1975,1975,1975,1975,1975,1975,1975,1975,1975,1975,1975,1975,1975,1975,1975,1975,1975,1975,1975,1975,1975,1975,1975,1975,1975,1975,1975,1975,1975,1975,1975,1975,1975,1975,1975,1975,1975,1975,1975,1975,1975]},\"selected\":{\"id\":\"1063\"},\"selection_policy\":{\"id\":\"1062\"}},\"id\":\"1034\",\"type\":\"ColumnDataSource\"},{\"attributes\":{\"active_drag\":\"auto\",\"active_inspect\":\"auto\",\"active_multi\":null,\"active_scroll\":\"auto\",\"active_tap\":\"auto\",\"tools\":[{\"id\":\"1020\"},{\"id\":\"1021\"},{\"id\":\"1022\"},{\"id\":\"1023\"},{\"id\":\"1024\"},{\"id\":\"1025\"}]},\"id\":\"1027\",\"type\":\"Toolbar\"},{\"attributes\":{},\"id\":\"1020\",\"type\":\"PanTool\"},{\"attributes\":{},\"id\":\"1013\",\"type\":\"BasicTicker\"},{\"attributes\":{},\"id\":\"1021\",\"type\":\"WheelZoomTool\"},{\"attributes\":{\"axis_label\":\"beak depth (mm)\",\"formatter\":{\"id\":\"1044\"},\"ticker\":{\"id\":\"1013\"}},\"id\":\"1012\",\"type\":\"LinearAxis\"}],\"root_ids\":[\"1003\"]},\"title\":\"Bokeh Application\",\"version\":\"2.0.2\"}};\n",
       "  var render_items = [{\"docid\":\"3e006c23-71bb-42c9-bc9c-f84c3ef25363\",\"root_ids\":[\"1003\"],\"roots\":{\"1003\":\"2c6a11cb-04eb-4323-a707-f662e497a9db\"}}];\n",
       "  root.Bokeh.embed.embed_items_notebook(docs_json, render_items);\n",
       "\n",
       "  }\n",
       "  if (root.Bokeh !== undefined) {\n",
       "    embed_document(root);\n",
       "  } else {\n",
       "    var attempts = 0;\n",
       "    var timer = setInterval(function(root) {\n",
       "      if (root.Bokeh !== undefined) {\n",
       "        clearInterval(timer);\n",
       "        embed_document(root);\n",
       "      } else {\n",
       "        attempts++;\n",
       "        if (attempts > 100) {\n",
       "          clearInterval(timer);\n",
       "          console.log(\"Bokeh: ERROR: Unable to run BokehJS code because BokehJS library is missing\");\n",
       "        }\n",
       "      }\n",
       "    }, 10, root)\n",
       "  }\n",
       "})(window);"
      ],
      "application/vnd.bokehjs_exec.v0+json": ""
     },
     "metadata": {
      "application/vnd.bokehjs_exec.v0+json": {
       "id": "1003"
      }
     },
     "output_type": "display_data"
    }
   ],
   "source": [
    "p = bokeh_catplot.ecdf(\n",
    "    data=df,\n",
    "    cats='year',\n",
    "    val='beak depth (mm)'\n",
    ")\n",
    "\n",
    "bokeh.io.show(p)"
   ]
  },
  {
   "cell_type": "code",
   "execution_count": 13,
   "metadata": {},
   "outputs": [],
   "source": [
    "bd_1975 = df.loc[df['year']==1975, 'beak depth (mm)'].values\n",
    "bd_2012 = df.loc[df['year']==2012, 'beak depth (mm)'].values"
   ]
  },
  {
   "cell_type": "code",
   "execution_count": 14,
   "metadata": {},
   "outputs": [
    {
     "data": {
      "text/plain": [
       "(8.959999999999999, 9.188492063492063)"
      ]
     },
     "execution_count": 14,
     "metadata": {},
     "output_type": "execute_result"
    }
   ],
   "source": [
    "np.mean(bd_1975), np.mean(bd_2012)"
   ]
  },
  {
   "cell_type": "code",
   "execution_count": 15,
   "metadata": {},
   "outputs": [
    {
     "data": {
      "text/plain": [
       "87"
      ]
     },
     "execution_count": 15,
     "metadata": {},
     "output_type": "execute_result"
    }
   ],
   "source": [
    "len(bd_1975)"
   ]
  },
  {
   "cell_type": "markdown",
   "metadata": {},
   "source": [
    "## What is a confidence interval?\n",
    "\n",
    "What is a 95% confidence interval? It can be thought of as follows. If we were to repeat the experiment over and over and over again, 95% of the time, the observed mean would lie in the 95% confidence interval. So, if the confidence intervals of the means of measurements from 1975 and from 2012 overlapped, we might not be so sure that the beaks got deeper due to some underlying selective pressure, but that we just happened to observe deeper beaks as a result of natural variability."
   ]
  },
  {
   "cell_type": "markdown",
   "metadata": {},
   "source": [
    "## Bootstrap confidence intervals\n",
    "\n",
    "We can't repeat the experiment over and over again. Instead, we will have our computer simulate doing the experiment over and over again. Hacker statistics! We have one set of measurements. We “repeat” the experiment by drawing measurements out of the ones we have again and again. Here’s what we do to compute a bootstrap estimate of the mean of a set of $n$ data points.\n",
    "\n",
    "1. Draw n data points out of the original data set **with replacement**. This set of data points is called a **bootstrap sample**.\n",
    "1. Compute the mean of the bootstrap sample. This is called a **bootstrap replicate** of the mean.\n",
    "1. Do this over and over again, storing the results.\n",
    "\n",
    "Bootstrapping works well if you have $n > 15$, without extreme outliers.\n"
   ]
  },
  {
   "cell_type": "code",
   "execution_count": 22,
   "metadata": {},
   "outputs": [],
   "source": [
    "# Seed the RNG for discussion purposes; normally do not seed\n",
    "\n",
    "rg = np.random.default_rng(3252)"
   ]
  },
  {
   "cell_type": "code",
   "execution_count": 23,
   "metadata": {},
   "outputs": [],
   "source": [
    "# Get a bootstrap sample\n",
    "\n",
    "bs_sample = rg.choice(bd_1975, replace=True, size=len(bd_1975))"
   ]
  },
  {
   "cell_type": "code",
   "execution_count": 24,
   "metadata": {},
   "outputs": [
    {
     "data": {
      "text/html": [
       "\n",
       "\n",
       "\n",
       "\n",
       "\n",
       "\n",
       "  <div class=\"bk-root\" id=\"62c1b86e-a26a-48df-85f7-48fd2f874d2a\" data-root-id=\"1420\"></div>\n"
      ]
     },
     "metadata": {},
     "output_type": "display_data"
    },
    {
     "data": {
      "application/javascript": [
       "(function(root) {\n",
       "  function embed_document(root) {\n",
       "    \n",
       "  var docs_json = {\"985affe9-494d-4349-90f4-50d062b6e038\":{\"roots\":{\"references\":[{\"attributes\":{\"below\":[{\"id\":\"1429\"}],\"center\":[{\"id\":\"1432\"},{\"id\":\"1436\"},{\"id\":\"1464\"}],\"left\":[{\"id\":\"1433\"}],\"plot_height\":300,\"plot_width\":400,\"renderers\":[{\"id\":\"1455\"},{\"id\":\"1470\"}],\"title\":{\"id\":\"1457\"},\"toolbar\":{\"id\":\"1444\"},\"x_range\":{\"id\":\"1421\"},\"x_scale\":{\"id\":\"1425\"},\"y_range\":{\"id\":\"1423\"},\"y_scale\":{\"id\":\"1427\"}},\"id\":\"1420\",\"subtype\":\"Figure\",\"type\":\"Plot\"},{\"attributes\":{},\"id\":\"1521\",\"type\":\"UnionRenderers\"},{\"attributes\":{\"text\":\"\"},\"id\":\"1457\",\"type\":\"Title\"},{\"attributes\":{},\"id\":\"1434\",\"type\":\"BasicTicker\"},{\"attributes\":{\"axis_label\":\"ECDF\",\"formatter\":{\"id\":\"1459\"},\"ticker\":{\"id\":\"1434\"}},\"id\":\"1433\",\"type\":\"LinearAxis\"},{\"attributes\":{\"source\":{\"id\":\"1466\"}},\"id\":\"1471\",\"type\":\"CDSView\"},{\"attributes\":{},\"id\":\"1522\",\"type\":\"Selection\"},{\"attributes\":{\"axis\":{\"id\":\"1429\"},\"ticker\":null},\"id\":\"1432\",\"type\":\"Grid\"},{\"attributes\":{\"items\":[{\"id\":\"1465\"}],\"visible\":false},\"id\":\"1464\",\"type\":\"Legend\"},{\"attributes\":{\"axis\":{\"id\":\"1433\"},\"dimension\":1,\"ticker\":null},\"id\":\"1436\",\"type\":\"Grid\"},{\"attributes\":{},\"id\":\"1442\",\"type\":\"HelpTool\"},{\"attributes\":{\"axis_label\":\"beak depth (mm)\",\"formatter\":{\"id\":\"1461\"},\"ticker\":{\"id\":\"1430\"}},\"id\":\"1429\",\"type\":\"LinearAxis\"},{\"attributes\":{},\"id\":\"1479\",\"type\":\"UnionRenderers\"},{\"attributes\":{\"source\":{\"id\":\"1451\"}},\"id\":\"1456\",\"type\":\"CDSView\"},{\"attributes\":{},\"id\":\"1480\",\"type\":\"Selection\"},{\"attributes\":{\"fill_alpha\":{\"value\":0.1},\"fill_color\":{\"value\":\"#1f77b3\"},\"line_alpha\":{\"value\":0.1},\"line_color\":{\"value\":\"#1f77b3\"},\"x\":{\"field\":\"x\"},\"y\":{\"field\":\"__ECDF\"}},\"id\":\"1454\",\"type\":\"Circle\"},{\"attributes\":{},\"id\":\"1425\",\"type\":\"LinearScale\"},{\"attributes\":{\"fill_color\":{\"value\":\"#1f77b3\"},\"line_color\":{\"value\":\"#1f77b3\"},\"x\":{\"field\":\"x\"},\"y\":{\"field\":\"__ECDF\"}},\"id\":\"1453\",\"type\":\"Circle\"},{\"attributes\":{\"bottom_units\":\"screen\",\"fill_alpha\":0.5,\"fill_color\":\"lightgrey\",\"left_units\":\"screen\",\"level\":\"overlay\",\"line_alpha\":1.0,\"line_color\":\"black\",\"line_dash\":[4,4],\"line_width\":2,\"render_mode\":\"css\",\"right_units\":\"screen\",\"top_units\":\"screen\"},\"id\":\"1443\",\"type\":\"BoxAnnotation\"},{\"attributes\":{\"active_drag\":\"auto\",\"active_inspect\":\"auto\",\"active_multi\":null,\"active_scroll\":\"auto\",\"active_tap\":\"auto\",\"tools\":[{\"id\":\"1437\"},{\"id\":\"1438\"},{\"id\":\"1439\"},{\"id\":\"1440\"},{\"id\":\"1441\"},{\"id\":\"1442\"}]},\"id\":\"1444\",\"type\":\"Toolbar\"},{\"attributes\":{},\"id\":\"1423\",\"type\":\"DataRange1d\"},{\"attributes\":{},\"id\":\"1461\",\"type\":\"BasicTickFormatter\"},{\"attributes\":{\"fill_alpha\":{\"value\":0.1},\"fill_color\":{\"value\":null},\"line_alpha\":{\"value\":0.1},\"line_color\":{\"value\":\"gray\"},\"x\":{\"field\":\"x\"},\"y\":{\"field\":\"__ECDF\"}},\"id\":\"1469\",\"type\":\"Circle\"},{\"attributes\":{\"fill_color\":{\"value\":null},\"line_color\":{\"value\":\"gray\"},\"x\":{\"field\":\"x\"},\"y\":{\"field\":\"__ECDF\"}},\"id\":\"1468\",\"type\":\"Circle\"},{\"attributes\":{},\"id\":\"1421\",\"type\":\"DataRange1d\"},{\"attributes\":{},\"id\":\"1437\",\"type\":\"PanTool\"},{\"attributes\":{\"data\":{\"__ECDF\":{\"__ndarray__\":\"L5BJ8QKZxD8VL5BJ8QLZP3waYbmnEcY/yKR4gUyKlz/IpHiBTIqHP9QIyz2NsNw/cLYO/Wbr0D9huacRlnvKP/rN1qHfbN0/dug3W4d+4z+WexphuafRP/rN1qHfbO0/lnsaYbmnsT9K8QKZFC/gP0EmxQtkUuw/vEAmxQtk0j8vkEnxApm0P93TCMs9jeA/yKR4gUyKxz/jBTIpXiDTPyCT4gUyKd4/Ccs9jbDc4z9huacRlnu6P3waYbmnEdY/h36zdeg36z+uQ7/ZOvTLP5ytQ7/ZOuQ/cLYO/Wbr4D+i32wd+s3mPyCT4gUyKe4/Ccs9jbDc0z81wnJPIyznPxUvkEnxAsk/R1juaYTl3j/6zdah32zNP20d+s3Woe8/GmG5pxGW6z8vkEnxApnkP+5phOWeRug/gUyKF8ik6D879JutQ7/ZP/rN1qHfbL0/YbmnEZZ72j/Cck8jLPfkP7N16Ddbh+4/bR36zdah3z/IpHiBTIrnP0dY7mmE5c4/2jr0m61D7z9HWO5phOXuP1uHfrN16Oc/1AjLPY2w7D9VVVVVVVXlP0rxApkUL9A/yKR4gUyKtz8DmRQvkEnhPxUvkEnxAuk/lnsaYbmnoT/oN1uHfrPlP/rN1qHfbK0/SvECmRQvwD+i32wd+s3WP4d+s3XoN9s/L5BJ8QKZ1D/IpHiBTIrXP8ikeIFMiqc/rkO/2Tr02z+WexphuafhP3waYbmnEeY/Z+vQb7YO7T8P/Wbr0G/mP42w3NMIy+0/AAAAAAAA8D+WexphuafBP6gRlnsaYek/vEAmxQtk4j8pXiCT4gXiP08jLPc0wuI/rkO/2Tr06z879JutQ7/pP1VVVVVVVdU/ztah32wd6j9huacRlnvqP+MFMileIOM/7mmE5Z5G2D/0m61Dv9nqP+MFMileIMM/\",\"dtype\":\"float64\",\"shape\":[87]},\"__dummy_cat\":[\" \",\" \",\" \",\" \",\" \",\" \",\" \",\" \",\" \",\" \",\" \",\" \",\" \",\" \",\" \",\" \",\" \",\" \",\" \",\" \",\" \",\" \",\" \",\" \",\" \",\" \",\" \",\" \",\" \",\" \",\" \",\" \",\" \",\" \",\" \",\" \",\" \",\" \",\" \",\" \",\" \",\" \",\" \",\" \",\" \",\" \",\" \",\" \",\" \",\" \",\" \",\" \",\" \",\" \",\" \",\" \",\" \",\" \",\" \",\" \",\" \",\" \",\" \",\" \",\" \",\" \",\" \",\" \",\" \",\" \",\" \",\" \",\" \",\" \",\" \",\" \",\" \",\" \",\" \",\" \",\" \",\" \",\" \",\" \",\" \",\" \",\" \"],\"__label\":[\" \",\" \",\" \",\" \",\" \",\" \",\" \",\" \",\" \",\" \",\" \",\" \",\" \",\" \",\" \",\" \",\" \",\" \",\" \",\" \",\" \",\" \",\" \",\" \",\" \",\" \",\" \",\" \",\" \",\" \",\" \",\" \",\" \",\" \",\" \",\" \",\" \",\" \",\" \",\" \",\" \",\" \",\" \",\" \",\" \",\" \",\" \",\" \",\" \",\" \",\" \",\" \",\" \",\" \",\" \",\" \",\" \",\" \",\" \",\" \",\" \",\" \",\" \",\" \",\" \",\" \",\" \",\" \",\" \",\" \",\" \",\" \",\" \",\" \",\" \",\" \",\" \",\" \",\" \",\" \",\" \",\" \",\" \",\" \",\" \",\" \",\" \"],\"index\":[0,1,2,3,4,5,6,7,8,9,10,11,12,13,14,15,16,17,18,19,20,21,22,23,24,25,26,27,28,29,30,31,32,33,34,35,36,37,38,39,40,41,42,43,44,45,46,47,48,49,50,51,52,53,54,55,56,57,58,59,60,61,62,63,64,65,66,67,68,69,70,71,72,73,74,75,76,77,78,79,80,81,82,83,84,85,86],\"x\":{\"__ndarray__\":\"zczMzMzMIECamZmZmZkhQM3MzMzMzCBAAAAAAAAAIECamZmZmZkfQM3MzMzMzCFAMzMzMzMzIUAAAAAAAAAhQM3MzMzMzCFAMzMzMzMzIkAzMzMzMzMhQJqZmZmZmSNAZmZmZmZmIEAAAAAAAAAiQGZmZmZmZiNAMzMzMzMzIUBmZmZmZmYgQAAAAAAAACJAzczMzMzMIEAzMzMzMzMhQM3MzMzMzCFAMzMzMzMzIkCamZmZmZkgQGZmZmZmZiFAMzMzMzMzI0AAAAAAAAAhQDMzMzMzMyJAAAAAAAAAIkBmZmZmZmYiQM3MzMzMzCNAMzMzMzMzIUBmZmZmZmYiQM3MzMzMzCBAzczMzMzMIUAAAAAAAAAhQM3MzMzMzCRAMzMzMzMzI0AzMzMzMzMiQJqZmZmZmSJAmpmZmZmZIkCamZmZmZkhQJqZmZmZmSBAmpmZmZmZIUAzMzMzMzMiQDMzMzMzMyRAzczMzMzMIUBmZmZmZmYiQAAAAAAAACFAZmZmZmZmJEAzMzMzMzMkQGZmZmZmZiJAZmZmZmZmI0AzMzMzMzMiQAAAAAAAACFAZmZmZmZmIEAAAAAAAAAiQJqZmZmZmSJAAAAAAAAAIEAzMzMzMzMiQDMzMzMzMyBAmpmZmZmZIEBmZmZmZmYhQJqZmZmZmSFAMzMzMzMzIUBmZmZmZmYhQAAAAAAAACBAmpmZmZmZIUAAAAAAAAAiQDMzMzMzMyJAexSuR+F6I0AzMzMzMzMiQJqZmZmZmSNAzczMzMzMJECamZmZmZkgQOF6FK5H4SJAFK5H4XoUIkAAAAAAAAAiQJqZmZmZGSJAzczMzMxMI0BmZmZmZuYiQM3MzMzMTCFAZmZmZmbmIkBmZmZmZuYiQJqZmZmZGSJAAAAAAACAIUBmZmZmZuYiQDMzMzMzsyBA\",\"dtype\":\"float64\",\"shape\":[87]}},\"selected\":{\"id\":\"1480\"},\"selection_policy\":{\"id\":\"1479\"}},\"id\":\"1451\",\"type\":\"ColumnDataSource\"},{\"attributes\":{},\"id\":\"1438\",\"type\":\"WheelZoomTool\"},{\"attributes\":{},\"id\":\"1427\",\"type\":\"LinearScale\"},{\"attributes\":{\"label\":{\"value\":\" \"},\"renderers\":[{\"id\":\"1455\"},{\"id\":\"1470\"}]},\"id\":\"1465\",\"type\":\"LegendItem\"},{\"attributes\":{\"overlay\":{\"id\":\"1443\"}},\"id\":\"1439\",\"type\":\"BoxZoomTool\"},{\"attributes\":{\"data\":{\"__ECDF\":{\"__ndarray__\":\"1AjLPY2w3D9huacRlnu6P8ikeIFMioc/lnsaYbmnoT98GmG5pxHWP8ikeIFMisc/yKR4gUyKpz+i32wd+s3WP0rxApkUL+A/4wUyKV4g4z/6zdah32zdP9o69JutQ+8/YbmnEZZ72j+NsNzTCMvtPxUvkEnxAsk/dug3W4d+4z9huacRlnvKP0rxApkUL9A/yKR4gUyK1z8Jyz2NsNzjP65Dv9k69Ms/3dMIyz2N4D+crUO/2TrkPy+QSfECmeQ/cLYO/Wbr4D8aYbmnEZbrP/rN1qHfbK0/cLYO/Wbr0D/0m61Dv9nqPwOZFC+QSeE/lnsaYbmnsT+WexphuafRP8ikeIFMiuc/rkO/2Tr06z/Cck8jLPfkP/rN1qHfbL0/VVVVVVVV5T/oN1uHfrPlP7xAJsULZOI/+s3Wod9szT+8QCbFC2TSP3waYbmnEeY/lnsaYbmn4T9bh36zdejnPyCT4gUyKe4/QSbFC2RS7D/jBTIpXiDTPy+QSfECmbQ/TyMs9zTC4j/uaYTlnkbYP+5phOWeRug/1AjLPY2w7D9n69Bvtg7tP4FMihfIpOg/h36zdeg36z8VL5BJ8QLpPwnLPY2w3NM/L5BJ8QKZ1D9tHfrN1qHvP0rxApkUL8A/D/1m69Bv5j+HfrN16DfbPyCT4gUyKd4/yKR4gUyKlz+WexphuafBP6gRlnsaYek/R1juaYTl7j9VVVVVVVXVPwAAAAAAAPA/4wUyKV4gwz9HWO5phOXePyleIJPiBeI/L5BJ8QKZxD9tHfrN1qHfP0dY7mmE5c4/yKR4gUyKtz+i32wd+s3mP/rN1qHfbO0/NcJyTyMs5z8VL5BJ8QLZPzv0m61Dv+k/ztah32wd6j9huacRlnvqP7N16Ddbh+4/rkO/2Tr02z879JutQ7/ZP3waYbmnEcY/\",\"dtype\":\"float64\",\"shape\":[87]},\"__dummy_cat\":[\" \",\" \",\" \",\" \",\" \",\" \",\" \",\" \",\" \",\" \",\" \",\" \",\" \",\" \",\" \",\" \",\" \",\" \",\" \",\" \",\" \",\" \",\" \",\" \",\" \",\" \",\" \",\" \",\" \",\" \",\" \",\" \",\" \",\" \",\" \",\" \",\" \",\" \",\" \",\" \",\" \",\" \",\" \",\" \",\" \",\" \",\" \",\" \",\" \",\" \",\" \",\" \",\" \",\" \",\" \",\" \",\" \",\" \",\" \",\" \",\" \",\" \",\" \",\" \",\" \",\" \",\" \",\" \",\" \",\" \",\" \",\" \",\" \",\" \",\" \",\" \",\" \",\" \",\" \",\" \",\" \",\" \",\" \",\" \",\" \",\" \",\" \"],\"__label\":[\" \",\" \",\" \",\" \",\" \",\" \",\" \",\" \",\" \",\" \",\" \",\" \",\" \",\" \",\" \",\" \",\" \",\" \",\" \",\" \",\" \",\" \",\" \",\" \",\" \",\" \",\" \",\" \",\" \",\" \",\" \",\" \",\" \",\" \",\" \",\" \",\" \",\" \",\" \",\" \",\" \",\" \",\" \",\" \",\" \",\" \",\" \",\" \",\" \",\" \",\" \",\" \",\" \",\" \",\" \",\" \",\" \",\" \",\" \",\" \",\" \",\" \",\" \",\" \",\" \",\" \",\" \",\" \",\" \",\" \",\" \",\" \",\" \",\" \",\" \",\" \",\" \",\" \",\" \",\" \",\" \",\" \",\" \",\" \",\" \",\" \",\" \"],\"index\":[0,1,2,3,4,5,6,7,8,9,10,11,12,13,14,15,16,17,18,19,20,21,22,23,24,25,26,27,28,29,30,31,32,33,34,35,36,37,38,39,40,41,42,43,44,45,46,47,48,49,50,51,52,53,54,55,56,57,58,59,60,61,62,63,64,65,66,67,68,69,70,71,72,73,74,75,76,77,78,79,80,81,82,83,84,85,86],\"x\":{\"__ndarray__\":\"mpmZmZmZIUBmZmZmZmYgQJqZmZmZmR9AAAAAAAAAIEAzMzMzMzMhQM3MzMzMzCBAAAAAAAAAIEAzMzMzMzMhQAAAAAAAACJAMzMzMzMzIkCamZmZmZkhQJqZmZmZmSNAZmZmZmZmIUAzMzMzMzMjQM3MzMzMzCBAMzMzMzMzIkDNzMzMzMwgQAAAAAAAACFAMzMzMzMzIUAzMzMzMzMiQM3MzMzMzCBAAAAAAAAAIkAzMzMzMzMiQDMzMzMzMyJAAAAAAAAAIkBmZmZmZuYiQAAAAAAAACBAAAAAAAAAIUCamZmZmZkiQAAAAAAAACJAAAAAAAAAIEAAAAAAAAAhQGZmZmZmZiJAZmZmZmbmIkAzMzMzMzMiQGZmZmZmZiBAMzMzMzMzIkAzMzMzMzMiQBSuR+F6FCJAzczMzMzMIEAAAAAAAAAhQDMzMzMzMyJAAAAAAAAAIkBmZmZmZmYiQDMzMzMzMyNAZmZmZmbmIkAAAAAAAAAhQAAAAAAAACBAFK5H4XoUIkAzMzMzMzMhQGZmZmZmZiJAZmZmZmbmIkBmZmZmZuYiQGZmZmZmZiJAmpmZmZmZIkBmZmZmZmYiQAAAAAAAACFAAAAAAAAAIUCamZmZmZkjQJqZmZmZmSBAMzMzMzMzIkBmZmZmZmYhQM3MzMzMzCFAmpmZmZmZH0CamZmZmZkgQGZmZmZmZiJAzczMzMxMI0AAAAAAAAAhQM3MzMzMzCRAmpmZmZmZIEDNzMzMzMwhQAAAAAAAACJAmpmZmZmZIEDNzMzMzMwhQM3MzMzMzCBAAAAAAAAAIEAzMzMzMzMiQGZmZmZm5iJAMzMzMzMzIkAzMzMzMzMhQGZmZmZmZiJAZmZmZmZmIkBmZmZmZmYiQDMzMzMzMyNAZmZmZmZmIUAzMzMzMzMhQJqZmZmZmSBA\",\"dtype\":\"float64\",\"shape\":[87]}},\"selected\":{\"id\":\"1522\"},\"selection_policy\":{\"id\":\"1521\"}},\"id\":\"1466\",\"type\":\"ColumnDataSource\"},{\"attributes\":{},\"id\":\"1440\",\"type\":\"SaveTool\"},{\"attributes\":{},\"id\":\"1430\",\"type\":\"BasicTicker\"},{\"attributes\":{\"data_source\":{\"id\":\"1466\"},\"glyph\":{\"id\":\"1468\"},\"hover_glyph\":null,\"muted_glyph\":null,\"nonselection_glyph\":{\"id\":\"1469\"},\"selection_glyph\":null,\"view\":{\"id\":\"1471\"}},\"id\":\"1470\",\"type\":\"GlyphRenderer\"},{\"attributes\":{},\"id\":\"1441\",\"type\":\"ResetTool\"},{\"attributes\":{\"data_source\":{\"id\":\"1451\"},\"glyph\":{\"id\":\"1453\"},\"hover_glyph\":null,\"muted_glyph\":null,\"nonselection_glyph\":{\"id\":\"1454\"},\"selection_glyph\":null,\"view\":{\"id\":\"1456\"}},\"id\":\"1455\",\"type\":\"GlyphRenderer\"},{\"attributes\":{},\"id\":\"1459\",\"type\":\"BasicTickFormatter\"}],\"root_ids\":[\"1420\"]},\"title\":\"Bokeh Application\",\"version\":\"2.0.2\"}};\n",
       "  var render_items = [{\"docid\":\"985affe9-494d-4349-90f4-50d062b6e038\",\"root_ids\":[\"1420\"],\"roots\":{\"1420\":\"62c1b86e-a26a-48df-85f7-48fd2f874d2a\"}}];\n",
       "  root.Bokeh.embed.embed_items_notebook(docs_json, render_items);\n",
       "\n",
       "  }\n",
       "  if (root.Bokeh !== undefined) {\n",
       "    embed_document(root);\n",
       "  } else {\n",
       "    var attempts = 0;\n",
       "    var timer = setInterval(function(root) {\n",
       "      if (root.Bokeh !== undefined) {\n",
       "        clearInterval(timer);\n",
       "        embed_document(root);\n",
       "      } else {\n",
       "        attempts++;\n",
       "        if (attempts > 100) {\n",
       "          clearInterval(timer);\n",
       "          console.log(\"Bokeh: ERROR: Unable to run BokehJS code because BokehJS library is missing\");\n",
       "        }\n",
       "      }\n",
       "    }, 10, root)\n",
       "  }\n",
       "})(window);"
      ],
      "application/vnd.bokehjs_exec.v0+json": ""
     },
     "metadata": {
      "application/vnd.bokehjs_exec.v0+json": {
       "id": "1420"
      }
     },
     "output_type": "display_data"
    }
   ],
   "source": [
    "p = bokeh_catplot.ecdf(\n",
    "    bd_1975,\n",
    "    x_axis_label='beak depth (mm)'\n",
    ")\n",
    "\n",
    "p = bokeh_catplot.ecdf(\n",
    "    bs_sample,\n",
    "    marker_kwargs=dict(\n",
    "        fill_color=None,\n",
    "        line_color='gray'\n",
    "    ),\n",
    "    p=p\n",
    ")\n",
    "\n",
    "bokeh.io.show(p)"
   ]
  },
  {
   "cell_type": "code",
   "execution_count": 25,
   "metadata": {},
   "outputs": [
    {
     "data": {
      "text/plain": [
       "(8.959999999999999, 8.849770114942531)"
      ]
     },
     "execution_count": 25,
     "metadata": {},
     "output_type": "execute_result"
    }
   ],
   "source": [
    "np.mean(bd_1975), np.mean(bs_sample)"
   ]
  },
  {
   "cell_type": "code",
   "execution_count": 27,
   "metadata": {},
   "outputs": [
    {
     "data": {
      "text/plain": [
       "8.849770114942531"
      ]
     },
     "execution_count": 27,
     "metadata": {},
     "output_type": "execute_result"
    }
   ],
   "source": [
    "# Get the bootstrap replicate of the mean\n",
    "\n",
    "bs_replicate = np.mean(bs_sample)\n",
    "\n",
    "bs_replicate"
   ]
  },
  {
   "cell_type": "markdown",
   "metadata": {},
   "source": [
    "Now we have 1 bootstrap replicate. We need to get a lot. A good number is about 2000."
   ]
  },
  {
   "cell_type": "code",
   "execution_count": 28,
   "metadata": {},
   "outputs": [],
   "source": [
    "n_reps = 2000\n",
    "\n",
    "bs_reps_1975 = np.empty(n_reps)\n",
    "\n",
    "for i in range(n_reps):\n",
    "    bs_sample = rg.choice(bd_1975, replace=True, size=len(bd_1975))\n",
    "    bs_reps_1975[i] = np.mean(bs_sample)"
   ]
  },
  {
   "cell_type": "code",
   "execution_count": 29,
   "metadata": {},
   "outputs": [
    {
     "data": {
      "text/plain": [
       "array([8.97034483, 8.95344828, 8.97758621, ..., 8.97609195, 8.93425287,\n",
       "       8.95781609])"
      ]
     },
     "execution_count": 29,
     "metadata": {},
     "output_type": "execute_result"
    }
   ],
   "source": [
    "bs_reps_1975"
   ]
  },
  {
   "cell_type": "code",
   "execution_count": 30,
   "metadata": {},
   "outputs": [
    {
     "data": {
      "text/plain": [
       "array([8.8466523 , 9.07979023])"
      ]
     },
     "execution_count": 30,
     "metadata": {},
     "output_type": "execute_result"
    }
   ],
   "source": [
    "# Get the confidence interval\n",
    "\n",
    "np.percentile(bs_reps_1975, [2.5, 97.5])"
   ]
  },
  {
   "cell_type": "code",
   "execution_count": 31,
   "metadata": {},
   "outputs": [
    {
     "data": {
      "text/html": [
       "\n",
       "\n",
       "\n",
       "\n",
       "\n",
       "\n",
       "  <div class=\"bk-root\" id=\"9f7de68e-4719-4c20-91fc-68df6a29a877\" data-root-id=\"1589\"></div>\n"
      ]
     },
     "metadata": {},
     "output_type": "display_data"
    },
    {
     "data": {
      "application/javascript": [
       "(function(root) {\n",
       "  function embed_document(root) {\n",
       "    \n",
       "  var docs_json = {\"a3b059a7-7dc3-46ef-be8e-69f852260adf\":{\"roots\":{\"references\":[{\"attributes\":{\"below\":[{\"id\":\"1598\"}],\"center\":[{\"id\":\"1601\"},{\"id\":\"1605\"},{\"id\":\"1633\"}],\"left\":[{\"id\":\"1602\"}],\"plot_height\":300,\"plot_width\":400,\"renderers\":[{\"id\":\"1624\"}],\"title\":{\"id\":\"1626\"},\"toolbar\":{\"id\":\"1613\"},\"x_range\":{\"id\":\"1590\"},\"x_scale\":{\"id\":\"1594\"},\"y_range\":{\"id\":\"1592\"},\"y_scale\":{\"id\":\"1596\"}},\"id\":\"1589\",\"subtype\":\"Figure\",\"type\":\"Plot\"},{\"attributes\":{\"bottom_units\":\"screen\",\"fill_alpha\":0.5,\"fill_color\":\"lightgrey\",\"left_units\":\"screen\",\"level\":\"overlay\",\"line_alpha\":1.0,\"line_color\":\"black\",\"line_dash\":[4,4],\"line_width\":2,\"render_mode\":\"css\",\"right_units\":\"screen\",\"top_units\":\"screen\"},\"id\":\"1612\",\"type\":\"BoxAnnotation\"},{\"attributes\":{},\"id\":\"1685\",\"type\":\"Selection\"},{\"attributes\":{\"data\":{\"__ECDF\":{\"__ndarray__\":\"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\",\"dtype\":\"float64\",\"shape\":[2000]},\"__dummy_cat\":[\" \",\" \",\" \",\" \",\" \",\" \",\" \",\" \",\" \",\" \",\" \",\" \",\" \",\" \",\" \",\" \",\" \",\" \",\" \",\" \",\" \",\" \",\" \",\" \",\" \",\" \",\" \",\" \",\" \",\" \",\" \",\" \",\" \",\" \",\" \",\" \",\" \",\" \",\" \",\" \",\" \",\" \",\" \",\" \",\" \",\" \",\" \",\" \",\" \",\" \",\" \",\" \",\" \",\" \",\" \",\" \",\" \",\" \",\" \",\" \",\" \",\" \",\" \",\" \",\" \",\" \",\" \",\" \",\" \",\" \",\" \",\" \",\" \",\" \",\" \",\" \",\" \",\" \",\" \",\" \",\" \",\" \",\" \",\" \",\" \",\" \",\" \",\" \",\" \",\" \",\" \",\" \",\" \",\" \",\" \",\" \",\" \",\" \",\" \",\" \",\" \",\" \",\" \",\" \",\" \",\" \",\" \",\" \",\" \",\" \",\" \",\" \",\" \",\" \",\" \",\" \",\" \",\" \",\" \",\" \",\" \",\" \",\" \",\" \",\" \",\" \",\" \",\" \",\" \",\" \",\" \",\" \",\" \",\" \",\" \",\" \",\" \",\" \",\" \",\" \",\" \",\" \",\" \",\" \",\" \",\" \",\" \",\" \",\" \",\" \",\" \",\" \",\" \",\" \",\" \",\" \",\" \",\" \",\" \",\" \",\" \",\" \",\" \",\" \",\" \",\" \",\" \",\" \",\" \",\" \",\" \",\" \",\" \",\" \",\" \",\" \",\" \",\" \",\" \",\" \",\" \",\" \",\" \",\" \",\" \",\" \",\" \",\" \",\" \",\" \",\" \",\" \",\" \",\" \",\" \",\" \",\" \",\" \",\" \",\" \",\" \",\" \",\" \",\" \",\" \",\" \",\" \",\" \",\" \",\" \",\" \",\" \",\" \",\" \",\" \",\" \",\" \",\" \",\" \",\" \",\" \",\" \",\" \",\" \",\" \",\" \",\" \",\" \",\" \",\" \",\" \",\" \",\" \",\" \",\" \",\" \",\" \",\" \",\" \",\" \",\" \",\" \",\" \",\" \",\" \",\" \",\" \",\" \",\" \",\" \",\" \",\" \",\" \",\" \",\" \",\" \",\" \",\" \",\" \",\" \",\" \",\" \",\" \",\" \",\" \",\" \",\" \",\" \",\" \",\" \",\" \",\" \",\" \",\" \",\" \",\" \",\" \",\" \",\" \",\" \",\" \",\" \",\" \",\" \",\" \",\" \",\" \",\" \",\" \",\" \",\" \",\" \",\" \",\" \",\" \",\" \",\" \",\" \",\" \",\" \",\" \",\" \",\" \",\" \",\" \",\" \",\" \",\" \",\" \",\" \",\" \",\" \",\" \",\" \",\" \",\" \",\" \",\" \",\" \",\" \",\" \",\" \",\" \",\" \",\" \",\" \",\" \",\" \",\" \",\" \",\" \",\" \",\" \",\" \",\" \",\" \",\" \",\" \",\" \",\" \",\" \",\" \",\" \",\" \",\" \",\" \",\" \",\" \",\" \",\" \",\" \",\" \",\" \",\" \",\" \",\" \",\" \",\" \",\" \",\" \",\" \",\" \",\" \",\" \",\" \",\" \",\" \",\" \",\" \",\" \",\" \",\" \",\" \",\" \",\" \",\" \",\" \",\" \",\" \",\" \",\" \",\" \",\" \",\" \",\" \",\" \",\" \",\" \",\" \",\" \",\" \",\" \",\" \",\" \",\" \",\" \",\" \",\" \",\" \",\" \",\" \",\" \",\" \",\" \",\" \",\" \",\" \",\" \",\" \",\" \",\" \",\" \",\" \",\" \",\" \",\" \",\" \",\" \",\" \",\" \",\" \",\" \",\" \",\" \",\" \",\" \",\" \",\" \",\" \",\" \",\" \",\" \",\" \",\" \",\" \",\" \",\" \",\" \",\" \",\" \",\" \",\" \",\" \",\" \",\" \",\" \",\" \",\" \",\" \",\" \",\" \",\" \",\" \",\" \",\" \",\" \",\" \",\" \",\" \",\" \",\" \",\" \",\" \",\" \",\" \",\" \",\" \",\" \",\" \",\" \",\" \",\" \",\" \",\" \",\" \",\" \",\" \",\" \",\" \",\" \",\" \",\" \",\" \",\" \",\" \",\" \",\" \",\" \",\" \",\" \",\" \",\" \",\" \",\" \",\" \",\" \",\" \",\" \",\" \",\" \",\" \",\" \",\" \",\" \",\" \",\" \",\" \",\" \",\" \",\" \",\" \",\" \",\" \",\" \",\" \",\" \",\" \",\" \",\" \",\" \",\" \",\" \",\" \",\" \",\" \",\" \",\" \",\" \",\" \",\" \",\" \",\" \",\" \",\" \",\" \",\" \",\" \",\" \",\" \",\" \",\" \",\" \",\" \",\" \",\" \",\" \",\" \",\" \",\" \",\" \",\" \",\" \",\" \",\" \",\" \",\" \",\" \",\" \",\" \",\" \",\" \",\" \",\" \",\" \",\" \",\" \",\" \",\" \",\" \",\" \",\" \",\" \",\" \",\" \",\" \",\" \",\" \",\" \",\" \",\" \",\" \",\" \",\" \",\" \",\" \",\" \",\" \",\" \",\" \",\" \",\" \",\" \",\" \",\" \",\" \",\" \",\" \",\" \",\" \",\" \",\" \",\" \",\" \",\" \",\" \",\" \",\" \",\" \",\" \",\" \",\" \",\" \",\" \",\" \",\" \",\" \",\" \",\" \",\" \",\" \",\" \",\" \",\" \",\" \",\" \",\" \",\" \",\" \",\" \",\" \",\" \",\" \",\" \",\" \",\" \",\" \",\" \",\" \",\" \",\" \",\" \",\" \",\" \",\" \",\" \",\" \",\" \",\" \",\" \",\" \",\" \",\" \",\" \",\" \",\" \",\" \",\" \",\" \",\" \",\" \",\" \",\" \",\" \",\" \",\" \",\" \",\" \",\" \",\" \",\" \",\" \",\" \",\" \",\" \",\" \",\" \",\" \",\" \",\" \",\" \",\" \",\" \",\" \",\" \",\" \",\" \",\" \",\" \",\" \",\" \",\" \",\" \",\" \",\" \",\" \",\" \",\" \",\" \",\" \",\" \",\" \",\" \",\" \",\" \",\" \",\" \",\" \",\" \",\" \",\" \",\" \",\" \",\" \",\" \",\" \",\" \",\" \",\" \",\" \",\" \",\" \",\" \",\" \",\" \",\" \",\" \",\" \",\" \",\" \",\" \",\" \",\" \",\" \",\" \",\" \",\" \",\" \",\" \",\" \",\" \",\" \",\" \",\" \",\" \",\" \",\" \",\" \",\" \",\" \",\" \",\" \",\" \",\" \",\" \",\" \",\" \",\" \",\" \",\" \",\" \",\" \",\" \",\" \",\" \",\" \",\" \",\" \",\" \",\" \",\" \",\" \",\" \",\" \",\" \",\" \",\" \",\" \",\" \",\" \",\" \",\" \",\" \",\" \",\" \",\" \",\" \",\" \",\" \",\" \",\" \",\" \",\" \",\" \",\" \",\" \",\" \",\" \",\" \",\" \",\" \",\" \",\" \",\" \",\" \",\" \",\" \",\" \",\" \",\" \",\" \",\" \",\" \",\" \",\" \",\" \",\" \",\" \",\" \",\" \",\" \",\" \",\" \",\" \",\" \",\" \",\" \",\" \",\" \",\" \",\" \",\" \",\" \",\" \",\" \",\" \",\" \",\" \",\" \",\" \",\" \",\" \",\" \",\" \",\" \",\" \",\" \",\" \",\" \",\" \",\" \",\" \",\" \",\" \",\" \",\" \",\" \",\" \",\" \",\" \",\" \",\" \",\" \",\" \",\" \",\" \",\" \",\" \",\" \",\" \",\" \",\" \",\" \",\" \",\" \",\" \",\" \",\" \",\" \",\" \",\" \",\" \",\" \",\" \",\" \",\" \",\" \",\" \",\" \",\" \",\" \",\" \",\" \",\" \",\" \",\" \",\" \",\" \",\" \",\" \",\" \",\" \",\" \",\" \",\" \",\" \",\" \",\" \",\" \",\" \",\" \",\" \",\" \",\" \",\" \",\" \",\" \",\" \",\" \",\" \",\" \",\" \",\" \",\" \",\" \",\" \",\" \",\" \",\" \",\" \",\" \",\" \",\" \",\" \",\" \",\" \",\" \",\" \",\" \",\" \",\" \",\" \",\" \",\" \",\" \",\" \",\" \",\" \",\" \",\" \",\" \",\" \",\" \",\" \",\" \",\" \",\" \",\" \",\" \",\" \",\" \",\" \",\" \",\" \",\" \",\" \",\" \",\" \",\" \",\" \",\" \",\" \",\" \",\" \",\" \",\" \",\" \",\" \",\" \",\" \",\" \",\" \",\" \",\" \",\" \",\" \",\" \",\" \",\" \",\" \",\" \",\" \",\" \",\" \",\" \",\" \",\" \",\" \",\" \",\" \",\" \",\" \",\" \",\" \",\" \",\" \",\" \",\" \",\" \",\" \",\" \",\" \",\" \",\" \",\" \",\" \",\" \",\" \",\" \",\" \",\" \",\" \",\" \",\" \",\" \",\" \",\" \",\" \",\" \",\" \",\" \",\" \",\" \",\" \",\" \",\" \",\" \",\" \",\" \",\" \",\" \",\" \",\" \",\" \",\" \",\" \",\" \",\" \",\" \",\" \",\" \",\" \",\" \",\" \",\" \",\" \",\" \",\" \",\" \",\" \",\" \",\" \",\" \",\" \",\" \",\" \",\" \",\" \",\" \",\" \",\" \",\" \",\" \",\" \",\" \",\" \",\" \",\" \",\" \",\" \",\" \",\" \",\" \",\" \",\" \",\" \",\" \",\" \",\" \",\" \",\" \",\" \",\" \",\" \",\" \",\" \",\" \",\" \",\" \",\" \",\" \",\" \",\" \",\" \",\" \",\" \",\" \",\" \",\" \",\" \",\" \",\" \",\" \",\" \",\" \",\" \",\" \",\" \",\" \",\" \",\" \",\" \",\" \",\" \",\" \",\" \",\" \",\" \",\" \",\" \",\" \",\" \",\" \",\" \",\" \",\" \",\" \",\" \",\" \",\" \",\" \",\" \",\" \",\" \",\" \",\" \",\" \",\" \",\" \",\" \",\" \",\" \",\" \",\" \",\" \",\" \",\" \",\" \",\" \",\" \",\" \",\" \",\" \",\" \",\" \",\" \",\" \",\" \",\" \",\" \",\" \",\" \",\" \",\" \",\" \",\" \",\" \",\" \",\" \",\" \",\" \",\" \",\" \",\" \",\" \",\" \",\" \",\" \",\" \",\" \",\" \",\" \",\" \",\" \",\" \",\" \",\" \",\" \",\" \",\" \",\" \",\" \",\" \",\" \",\" \",\" \",\" \",\" \",\" \",\" \",\" \",\" \",\" \",\" \",\" \",\" \",\" \",\" \",\" \",\" \",\" \",\" \",\" \",\" \",\" \",\" \",\" \",\" \",\" \",\" \",\" \",\" \",\" \",\" \",\" \",\" \",\" \",\" \",\" \",\" \",\" \",\" \",\" \",\" \",\" \",\" \",\" \",\" \",\" \",\" \",\" \",\" \",\" \",\" \",\" \",\" \",\" \",\" \",\" \",\" \",\" \",\" \",\" \",\" \",\" \",\" \",\" \",\" \",\" \",\" \",\" \",\" \",\" \",\" \",\" \",\" \",\" \",\" \",\" \",\" \",\" \",\" \",\" \",\" \",\" \",\" \",\" \",\" \",\" \",\" \",\" \",\" \",\" \",\" \",\" \",\" \",\" \",\" \",\" \",\" \",\" \",\" \",\" \",\" \",\" \",\" \",\" \",\" \",\" \",\" \",\" \",\" \",\" \",\" \",\" \",\" \",\" \",\" \",\" \",\" \",\" \",\" \",\" \",\" \",\" \",\" \",\" \",\" \",\" \",\" \",\" \",\" \",\" \",\" \",\" \",\" \",\" \",\" \",\" \",\" \",\" \",\" \",\" \",\" \",\" \",\" \",\" \",\" \",\" \",\" \",\" \",\" \",\" \",\" \",\" \",\" \",\" \",\" \",\" \",\" \",\" \",\" \",\" \",\" \",\" \",\" \",\" \",\" \",\" \",\" \",\" \",\" \",\" \",\" \",\" \",\" \",\" \",\" \",\" \",\" \",\" \",\" \",\" \",\" \",\" \",\" \",\" \",\" \",\" \",\" \",\" \",\" \",\" \",\" \",\" \",\" \",\" \",\" \",\" \",\" \",\" \",\" \",\" \",\" \",\" \",\" \",\" \",\" \",\" \",\" \",\" \",\" \",\" \",\" \",\" \",\" \",\" \",\" \",\" \",\" \",\" \",\" \",\" \",\" \",\" \",\" \",\" \",\" \",\" \",\" \",\" \",\" \",\" \",\" \",\" \",\" \",\" \",\" \",\" \",\" \",\" \",\" \",\" \",\" \",\" \",\" \",\" \",\" \",\" \",\" \",\" \",\" \",\" \",\" \",\" \",\" \",\" \",\" \",\" \",\" \",\" \",\" \",\" \",\" \",\" \",\" \",\" \",\" \",\" \",\" \",\" \",\" \",\" \",\" \",\" \",\" \",\" \",\" \",\" \",\" \",\" \",\" \",\" \",\" \",\" \",\" \",\" \",\" \",\" \",\" \",\" \",\" \",\" \",\" \",\" \",\" \",\" \",\" \",\" \",\" \",\" \",\" \",\" \",\" \",\" \",\" \",\" \",\" \",\" \",\" \",\" \",\" \",\" \",\" \",\" \",\" \",\" \",\" \",\" \",\" \",\" \",\" \",\" \",\" \",\" \",\" \",\" \",\" \",\" \",\" \",\" \",\" \",\" \",\" \",\" \",\" \",\" \",\" \",\" \",\" \",\" \",\" \",\" \",\" \",\" \",\" \",\" \",\" \",\" \",\" \",\" \",\" \",\" \",\" \",\" \",\" \",\" \",\" \",\" \",\" \",\" \",\" \",\" \",\" \",\" \",\" \",\" \",\" \",\" \",\" \",\" \",\" \",\" \",\" \",\" \",\" \",\" \",\" \",\" \",\" \",\" \",\" \",\" \",\" \",\" \",\" \",\" \",\" \",\" \",\" \",\" \",\" \",\" \",\" \",\" \",\" \",\" \",\" \",\" \",\" \",\" \",\" \",\" \",\" \",\" \",\" \",\" \",\" \",\" \",\" \",\" \",\" \",\" \",\" \",\" \",\" \",\" \",\" \",\" \",\" \",\" \",\" \",\" \",\" \",\" \",\" \",\" \",\" \",\" \",\" \",\" \",\" \",\" \",\" \",\" \",\" \",\" \",\" \",\" \",\" \",\" \",\" \",\" \",\" \",\" \",\" \",\" \",\" \",\" \",\" \",\" \",\" \",\" \",\" \",\" \",\" \",\" \",\" \",\" \",\" \",\" \",\" \",\" \",\" \",\" \",\" \",\" \",\" \",\" \",\" \",\" \",\" \",\" \",\" \",\" \",\" \",\" \",\" \",\" \",\" \",\" \",\" \",\" \",\" \",\" \",\" \",\" \",\" \",\" \",\" \",\" \",\" \",\" \",\" \",\" \",\" \",\" \",\" \",\" \",\" \",\" \",\" \",\" \",\" \",\" \",\" \",\" \",\" \",\" \",\" \",\" \",\" \",\" \",\" \",\" \",\" \",\" \",\" \",\" \",\" \",\" \",\" \",\" \",\" \",\" \",\" \",\" \",\" \",\" \",\" \",\" \",\" \",\" \",\" \",\" \",\" \",\" \",\" \",\" \",\" \",\" \",\" \",\" \",\" \",\" \",\" \",\" \",\" \",\" \",\" \",\" \",\" \",\" \",\" \",\" \",\" \",\" \",\" \",\" \",\" \",\" \",\" \",\" \",\" \",\" \",\" \",\" \",\" \",\" \",\" \",\" \",\" \",\" \",\" \",\" \",\" \",\" \",\" \",\" \",\" \",\" \",\" \",\" \",\" \",\" \",\" \",\" \",\" \",\" \",\" \",\" \",\" \",\" \",\" \",\" \",\" \",\" \",\" \",\" \",\" \",\" \",\" \",\" \",\" \",\" \",\" \",\" \",\" \",\" \",\" \",\" \",\" \",\" \",\" \",\" \",\" \",\" \",\" \",\" \",\" \",\" \",\" \",\" \",\" \",\" \",\" \",\" \",\" \",\" \",\" \",\" \",\" \",\" \",\" \",\" \",\" \",\" \",\" \",\" \",\" \",\" \",\" \",\" \",\" \",\" \",\" \",\" \",\" \",\" \",\" \",\" \",\" \",\" \",\" \",\" \",\" \",\" \",\" \",\" \",\" \",\" \",\" \",\" \",\" \",\" \",\" \",\" \",\" \",\" \",\" \",\" \",\" \",\" \",\" \",\" \",\" \",\" \",\" \",\" \",\" \",\" \",\" \",\" \",\" \",\" \",\" \",\" \",\" \",\" \",\" \",\" \",\" \",\" \",\" \",\" \",\" \",\" \",\" \",\" \",\" \",\" \",\" \",\" \",\" \",\" \",\" \",\" \",\" \",\" \",\" \",\" \",\" \",\" \",\" \",\" \",\" \",\" \",\" \",\" \",\" \",\" \",\" \",\" \",\" \",\" \",\" \",\" \",\" \",\" \",\" \",\" \",\" \",\" \",\" \",\" \",\" \",\" \",\" \",\" \",\" \",\" \",\" \",\" \",\" \",\" \",\" \",\" \",\" \",\" \",\" \",\" \",\" \",\" \",\" \",\" \",\" \",\" \",\" \",\" \",\" \",\" \",\" \",\" \",\" \",\" \",\" \",\" \",\" \",\" \",\" \",\" \",\" \",\" \",\" \",\" \",\" \",\" \",\" \",\" \",\" \",\" \",\" \",\" \",\" \",\" \",\" \",\" \",\" \",\" \",\" \",\" \",\" \",\" \",\" \",\" \",\" \",\" \",\" \",\" \",\" \",\" \"],\"__label\":[\" \",\" \",\" \",\" \",\" \",\" \",\" \",\" \",\" \",\" \",\" \",\" \",\" \",\" \",\" \",\" \",\" \",\" \",\" \",\" \",\" \",\" \",\" \",\" \",\" \",\" \",\" \",\" \",\" \",\" \",\" \",\" \",\" \",\" \",\" \",\" \",\" \",\" \",\" \",\" \",\" \",\" \",\" \",\" \",\" \",\" \",\" \",\" \",\" \",\" \",\" \",\" \",\" \",\" \",\" \",\" \",\" \",\" \",\" \",\" \",\" \",\" \",\" \",\" \",\" \",\" \",\" \",\" \",\" \",\" \",\" \",\" \",\" \",\" \",\" \",\" \",\" \",\" \",\" \",\" \",\" \",\" \",\" \",\" \",\" \",\" \",\" \",\" \",\" \",\" \",\" \",\" \",\" \",\" \",\" \",\" \",\" \",\" \",\" \",\" \",\" \",\" \",\" \",\" \",\" \",\" \",\" \",\" \",\" \",\" \",\" \",\" \",\" \",\" \",\" \",\" \",\" \",\" \",\" \",\" \",\" \",\" \",\" \",\" \",\" \",\" \",\" \",\" \",\" \",\" \",\" \",\" \",\" \",\" \",\" \",\" \",\" \",\" \",\" \",\" \",\" \",\" \",\" \",\" \",\" \",\" \",\" \",\" \",\" \",\" \",\" \",\" \",\" \",\" \",\" \",\" \",\" \",\" \",\" \",\" \",\" \",\" \",\" \",\" \",\" \",\" \",\" \",\" \",\" \",\" \",\" \",\" \",\" \",\" \",\" \",\" \",\" \",\" \",\" \",\" \",\" \",\" \",\" \",\" \",\" \",\" \",\" \",\" \",\" \",\" \",\" \",\" \",\" \",\" \",\" \",\" \",\" \",\" \",\" \",\" \",\" \",\" \",\" \",\" \",\" \",\" \",\" \",\" \",\" \",\" \",\" \",\" \",\" \",\" \",\" \",\" \",\" \",\" \",\" \",\" \",\" \",\" \",\" \",\" \",\" \",\" \",\" \",\" \",\" \",\" \",\" \",\" \",\" \",\" \",\" \",\" \",\" \",\" \",\" \",\" \",\" \",\" \",\" \",\" \",\" \",\" \",\" \",\" \",\" \",\" \",\" \",\" \",\" \",\" \",\" \",\" \",\" \",\" \",\" \",\" \",\" \",\" \",\" \",\" \",\" \",\" \",\" \",\" \",\" \",\" \",\" \",\" \",\" \",\" \",\" \",\" \",\" \",\" \",\" \",\" \",\" \",\" \",\" \",\" \",\" \",\" \",\" \",\" \",\" \",\" \",\" \",\" \",\" \",\" \",\" \",\" \",\" \",\" \",\" \",\" \",\" \",\" \",\" \",\" \",\" \",\" \",\" \",\" \",\" \",\" \",\" \",\" \",\" \",\" \",\" \",\" \",\" \",\" \",\" \",\" \",\" \",\" \",\" \",\" \",\" \",\" \",\" \",\" \",\" \",\" \",\" \",\" \",\" \",\" \",\" \",\" \",\" \",\" \",\" \",\" \",\" \",\" \",\" \",\" \",\" \",\" \",\" \",\" \",\" \",\" \",\" \",\" \",\" \",\" \",\" \",\" \",\" \",\" \",\" \",\" \",\" \",\" \",\" \",\" \",\" \",\" \",\" \",\" \",\" \",\" \",\" \",\" \",\" \",\" \",\" \",\" \",\" \",\" \",\" \",\" \",\" \",\" \",\" \",\" \",\" \",\" \",\" \",\" \",\" \",\" \",\" \",\" \",\" \",\" \",\" \",\" \",\" \",\" \",\" \",\" \",\" \",\" \",\" \",\" \",\" \",\" \",\" \",\" \",\" \",\" \",\" \",\" \",\" \",\" \",\" \",\" \",\" \",\" \",\" \",\" \",\" \",\" \",\" \",\" \",\" \",\" \",\" \",\" \",\" \",\" \",\" \",\" \",\" \",\" \",\" \",\" \",\" \",\" \",\" \",\" \",\" \",\" \",\" \",\" \",\" \",\" \",\" \",\" \",\" \",\" \",\" \",\" \",\" \",\" \",\" \",\" \",\" \",\" \",\" \",\" \",\" \",\" \",\" \",\" \",\" \",\" \",\" \",\" \",\" \",\" \",\" \",\" \",\" \",\" \",\" \",\" \",\" \",\" \",\" \",\" \",\" \",\" \",\" \",\" \",\" \",\" \",\" \",\" \",\" \",\" \",\" \",\" \",\" \",\" \",\" \",\" \",\" \",\" \",\" \",\" \",\" \",\" \",\" \",\" \",\" \",\" \",\" \",\" \",\" \",\" \",\" \",\" \",\" \",\" \",\" \",\" \",\" \",\" \",\" \",\" \",\" \",\" \",\" \",\" \",\" \",\" \",\" \",\" \",\" \",\" \",\" \",\" \",\" \",\" \",\" \",\" \",\" \",\" \",\" \",\" \",\" \",\" \",\" \",\" \",\" \",\" \",\" \",\" \",\" \",\" \",\" \",\" \",\" \",\" \",\" \",\" \",\" \",\" \",\" \",\" \",\" \",\" \",\" \",\" \",\" \",\" \",\" \",\" \",\" \",\" \",\" \",\" \",\" \",\" \",\" \",\" \",\" \",\" \",\" \",\" \",\" \",\" \",\" \",\" \",\" \",\" \",\" \",\" \",\" \",\" \",\" \",\" \",\" \",\" \",\" \",\" \",\" \",\" \",\" \",\" \",\" \",\" \",\" \",\" \",\" \",\" \",\" \",\" \",\" \",\" \",\" \",\" \",\" \",\" \",\" \",\" \",\" \",\" \",\" \",\" \",\" \",\" \",\" \",\" \",\" \",\" \",\" \",\" \",\" \",\" \",\" \",\" \",\" \",\" \",\" \",\" \",\" \",\" \",\" \",\" \",\" \",\" \",\" \",\" \",\" \",\" \",\" \",\" \",\" \",\" \",\" \",\" \",\" \",\" \",\" \",\" \",\" \",\" \",\" \",\" \",\" \",\" \",\" \",\" \",\" \",\" \",\" \",\" \",\" \",\" \",\" \",\" \",\" \",\" \",\" \",\" \",\" \",\" \",\" \",\" \",\" \",\" \",\" \",\" \",\" \",\" \",\" \",\" \",\" \",\" \",\" \",\" \",\" \",\" \",\" \",\" \",\" \",\" \",\" \",\" \",\" \",\" \",\" \",\" \",\" \",\" \",\" \",\" \",\" \",\" \",\" \",\" \",\" \",\" \",\" \",\" \",\" \",\" \",\" \",\" \",\" \",\" \",\" \",\" \",\" \",\" \",\" \",\" \",\" \",\" \",\" \",\" \",\" \",\" \",\" \",\" \",\" \",\" \",\" \",\" \",\" \",\" \",\" \",\" \",\" \",\" \",\" \",\" \",\" \",\" \",\" \",\" \",\" \",\" \",\" \",\" \",\" \",\" \",\" \",\" \",\" \",\" \",\" \",\" \",\" \",\" \",\" \",\" \",\" \",\" \",\" \",\" \",\" \",\" \",\" \",\" \",\" \",\" \",\" \",\" \",\" \",\" \",\" \",\" \",\" \",\" \",\" \",\" \",\" \",\" \",\" \",\" \",\" \",\" \",\" \",\" \",\" \",\" \",\" \",\" \",\" \",\" \",\" \",\" \",\" \",\" \",\" \",\" \",\" \",\" \",\" \",\" \",\" \",\" \",\" \",\" \",\" \",\" \",\" \",\" \",\" \",\" \",\" \",\" \",\" \",\" \",\" \",\" \",\" \",\" \",\" \",\" \",\" \",\" \",\" \",\" \",\" \",\" \",\" \",\" \",\" \",\" \",\" \",\" \",\" \",\" \",\" \",\" \",\" \",\" \",\" \",\" \",\" \",\" \",\" \",\" \",\" \",\" \",\" \",\" \",\" \",\" \",\" \",\" \",\" \",\" \",\" \",\" \",\" \",\" \",\" \",\" \",\" \",\" \",\" \",\" \",\" \",\" \",\" \",\" \",\" \",\" \",\" \",\" \",\" \",\" \",\" \",\" \",\" \",\" \",\" \",\" \",\" \",\" \",\" \",\" \",\" \",\" \",\" \",\" \",\" \",\" \",\" \",\" \",\" \",\" \",\" \",\" \",\" \",\" \",\" \",\" \",\" \",\" \",\" \",\" \",\" \",\" \",\" \",\" \",\" \",\" \",\" \",\" \",\" \",\" \",\" \",\" \",\" \",\" \",\" \",\" \",\" \",\" \",\" \",\" \",\" \",\" \",\" \",\" \",\" \",\" \",\" \",\" \",\" \",\" \",\" \",\" \",\" \",\" \",\" \",\" \",\" \",\" \",\" \",\" \",\" \",\" \",\" \",\" \",\" \",\" \",\" \",\" \",\" \",\" \",\" \",\" \",\" \",\" \",\" \",\" \",\" \",\" \",\" \",\" \",\" \",\" \",\" \",\" \",\" \",\" \",\" \",\" \",\" \",\" \",\" \",\" \",\" \",\" \",\" \",\" \",\" \",\" \",\" \",\" \",\" \",\" \",\" \",\" \",\" \",\" \",\" \",\" \",\" \",\" \",\" \",\" \",\" \",\" \",\" \",\" \",\" \",\" \",\" \",\" \",\" \",\" \",\" \",\" \",\" \",\" \",\" \",\" \",\" \",\" \",\" \",\" \",\" \",\" \",\" \",\" \",\" \",\" \",\" \",\" \",\" \",\" \",\" \",\" \",\" \",\" \",\" \",\" \",\" \",\" \",\" \",\" \",\" \",\" \",\" \",\" \",\" \",\" \",\" \",\" \",\" \",\" \",\" \",\" \",\" \",\" \",\" \",\" \",\" \",\" \",\" \",\" \",\" \",\" \",\" \",\" \",\" \",\" \",\" \",\" \",\" \",\" \",\" \",\" \",\" \",\" \",\" \",\" \",\" \",\" \",\" \",\" \",\" \",\" \",\" \",\" \",\" \",\" \",\" \",\" \",\" \",\" \",\" \",\" \",\" \",\" \",\" \",\" \",\" \",\" \",\" \",\" \",\" \",\" \",\" \",\" \",\" \",\" \",\" \",\" \",\" \",\" \",\" \",\" \",\" \",\" \",\" \",\" \",\" \",\" \",\" \",\" \",\" \",\" \",\" \",\" \",\" \",\" \",\" \",\" \",\" \",\" \",\" \",\" \",\" \",\" \",\" \",\" \",\" \",\" \",\" \",\" \",\" \",\" \",\" \",\" \",\" \",\" \",\" \",\" \",\" \",\" \",\" \",\" \",\" \",\" \",\" \",\" \",\" \",\" \",\" \",\" \",\" \",\" \",\" \",\" \",\" \",\" \",\" \",\" \",\" \",\" \",\" \",\" \",\" \",\" \",\" \",\" \",\" \",\" \",\" \",\" \",\" \",\" \",\" \",\" \",\" \",\" \",\" \",\" \",\" \",\" \",\" \",\" \",\" \",\" \",\" \",\" \",\" \",\" \",\" \",\" \",\" \",\" \",\" \",\" \",\" \",\" \",\" \",\" \",\" \",\" \",\" \",\" \",\" \",\" \",\" \",\" \",\" \",\" \",\" \",\" \",\" \",\" \",\" \",\" \",\" \",\" \",\" \",\" \",\" \",\" \",\" \",\" \",\" \",\" \",\" \",\" \",\" \",\" \",\" \",\" \",\" \",\" \",\" \",\" \",\" \",\" \",\" \",\" \",\" \",\" \",\" \",\" \",\" \",\" \",\" \",\" \",\" \",\" \",\" \",\" \",\" \",\" \",\" \",\" \",\" \",\" \",\" \",\" \",\" \",\" \",\" \",\" \",\" \",\" \",\" \",\" \",\" \",\" \",\" \",\" \",\" \",\" \",\" \",\" \",\" \",\" \",\" \",\" \",\" \",\" \",\" \",\" \",\" \",\" \",\" \",\" \",\" \",\" \",\" \",\" \",\" \",\" \",\" \",\" \",\" \",\" \",\" \",\" \",\" \",\" \",\" \",\" \",\" \",\" \",\" \",\" \",\" \",\" \",\" \",\" \",\" \",\" \",\" \",\" \",\" \",\" \",\" \",\" \",\" \",\" \",\" \",\" \",\" \",\" \",\" \",\" \",\" \",\" \",\" \",\" \",\" \",\" \",\" \",\" \",\" \",\" \",\" \",\" \",\" \",\" \",\" \",\" \",\" \",\" \",\" \",\" \",\" \",\" \",\" \",\" \",\" \",\" \",\" \",\" \",\" \",\" \",\" \",\" \",\" \",\" \",\" \",\" \",\" \",\" \",\" \",\" \",\" \",\" \",\" \",\" \",\" \",\" \",\" \",\" \",\" \",\" \",\" \",\" \",\" \",\" \",\" \",\" \",\" \",\" \",\" \",\" \",\" \",\" \",\" \",\" \",\" \",\" \",\" \",\" \",\" \",\" \",\" \",\" \",\" \",\" \",\" \",\" \",\" \",\" \",\" \",\" \",\" \",\" \",\" \",\" \",\" \",\" \",\" \",\" \",\" \",\" \",\" \",\" \",\" \",\" \",\" \",\" \",\" \",\" \",\" \",\" \",\" \",\" \",\" \",\" \",\" \",\" \",\" \",\" \",\" \",\" \",\" \",\" \",\" \",\" \",\" \",\" \",\" \",\" \",\" \",\" \",\" \",\" \",\" \",\" \",\" \",\" \",\" \",\" \",\" \",\" \",\" \",\" \",\" \",\" \",\" \",\" \",\" \",\" \",\" \",\" \",\" \",\" \",\" \",\" \",\" \",\" \",\" \",\" \",\" \",\" \",\" \",\" \",\" \",\" \",\" \",\" \",\" \",\" \",\" \",\" \",\" \",\" \",\" \",\" \",\" \",\" \",\" \",\" \",\" \",\" \",\" \",\" \",\" \",\" \",\" \",\" \",\" \",\" \",\" \",\" \",\" \",\" \",\" \",\" \",\" \",\" \",\" \",\" \",\" \",\" \",\" \",\" \",\" \",\" \",\" \",\" \",\" \",\" \",\" \",\" \",\" \",\" \",\" \",\" \",\" \",\" \",\" \",\" \",\" \",\" \",\" \",\" \",\" \",\" \",\" \",\" \",\" \",\" \",\" \",\" \",\" \",\" \",\" \",\" \",\" \",\" \",\" \",\" \",\" \",\" \",\" \",\" \",\" \",\" \",\" \",\" \",\" \",\" \",\" \",\" \",\" \",\" \",\" \",\" \",\" \",\" \",\" \",\" \",\" \",\" \",\" \",\" \",\" \",\" \",\" \",\" \",\" \",\" \",\" \",\" \",\" \",\" \",\" \",\" \",\" \",\" \",\" \",\" \",\" \",\" \",\" \",\" \",\" \",\" \",\" \",\" \",\" \",\" \",\" \",\" \",\" \",\" \",\" \",\" \",\" \",\" \",\" \",\" \",\" \",\" \",\" \",\" \",\" \",\" \",\" \",\" \",\" \",\" \",\" \",\" \",\" \",\" \",\" \",\" \",\" \",\" \",\" \",\" \",\" \",\" \",\" \",\" \",\" \",\" \",\" \",\" \",\" \",\" \",\" \",\" \",\" \",\" \",\" \",\" \",\" \",\" \",\" \",\" \",\" \",\" \",\" \",\" \",\" \",\" \",\" \",\" \",\" \",\" \",\" \",\" \",\" \",\" \",\" \",\" \",\" \",\" \",\" \",\" \",\" \",\" \",\" \",\" \",\" \",\" \",\" \",\" \",\" \",\" \",\" \",\" \",\" \",\" \",\" \",\" \",\" \",\" \",\" \",\" \",\" \",\" \",\" \",\" \",\" \",\" \",\" \",\" \",\" \",\" \",\" \",\" \",\" \",\" \",\" \",\" \",\" \",\" \",\" \",\" \",\" \",\" \",\" \",\" \",\" \",\" \",\" \",\" \",\" \",\" \",\" \",\" \",\" \",\" \",\" \",\" \",\" \",\" \",\" \",\" \",\" \",\" \",\" \",\" \",\" \",\" \",\" \",\" \",\" \",\" \",\" \",\" \",\" \",\" \",\" \",\" \",\" \",\" \",\" \",\" \",\" \",\" \",\" \",\" \",\" \",\" \",\" \",\" \",\" \",\" \",\" \",\" \",\" \",\" \",\" \",\" \",\" \",\" \",\" \",\" \",\" \",\" \",\" \",\" \",\" \",\" \",\" \",\" \",\" \",\" \",\" \",\" \",\" \",\" \",\" \",\" \",\" \",\" \",\" \",\" \",\" \",\" \",\" \",\" \",\" \",\" \",\" \",\" \",\" \",\" \",\" \",\" \",\" \",\" \",\" \",\" \",\" \",\" \",\" \",\" \",\" \",\" \",\" \",\" \",\" \",\" \",\" \",\" \",\" \",\" \",\" \",\" \",\" \",\" \",\" \",\" \",\" \",\" \",\" \",\" \",\" \",\" \",\" \",\" \",\" \",\" \",\" \",\" \",\" \",\" \",\" \",\" \",\" \",\" \",\" \",\" \",\" \",\" \",\" \",\" \",\" \",\" \",\" \",\" \",\" \",\" \",\" \",\" \",\" \",\" \",\" \",\" \",\" \",\" \",\" \",\" \",\" \",\" \",\" \",\" \",\" \",\" \",\" \",\" \",\" \",\" \",\" \",\" \",\" \",\" \",\" \",\" \",\" \",\" \",\" \",\" \",\" \",\" \",\" \",\" \",\" \",\" \",\" \",\" \",\" \",\" \",\" \",\" \",\" \",\" \",\" \",\" \",\" \",\" \",\" \",\" \",\" \",\" \",\" \",\" \",\" \",\" \",\" \",\" \",\" \",\" \",\" \",\" \",\" \",\" \",\" \",\" \",\" \",\" \",\" \",\" \",\" \",\" \",\" \",\" \",\" \",\" \",\" \",\" \",\" \",\" \",\" \",\" \",\" \",\" \",\" \",\" \",\" \",\" \",\" \",\" \",\" \",\" \",\" \",\" \",\" \",\" \",\" \",\" \",\" \",\" \",\" \",\" \",\" \",\" \",\" \",\" \",\" \",\" \",\" \",\" \",\" \",\" \",\" \",\" \",\" \",\" \",\" \",\" \",\" \",\" \",\" \",\" \"],\"index\":[0,1,2,3,4,5,6,7,8,9,10,11,12,13,14,15,16,17,18,19,20,21,22,23,24,25,26,27,28,29,30,31,32,33,34,35,36,37,38,39,40,41,42,43,44,45,46,47,48,49,50,51,52,53,54,55,56,57,58,59,60,61,62,63,64,65,66,67,68,69,70,71,72,73,74,75,76,77,78,79,80,81,82,83,84,85,86,87,88,89,90,91,92,93,94,95,96,97,98,99,100,101,102,103,104,105,106,107,108,109,110,111,112,113,114,115,116,117,118,119,120,121,122,123,124,125,126,127,128,129,130,131,132,133,134,135,136,137,138,139,140,141,142,143,144,145,146,147,148,149,150,151,152,153,154,155,156,157,158,159,160,161,162,163,164,165,166,167,168,169,170,171,172,173,174,175,176,177,178,179,180,181,182,183,184,185,186,187,188,189,190,191,192,193,194,195,196,197,198,199,200,201,202,203,204,205,206,207,208,209,210,211,212,213,214,215,216,217,218,219,220,221,222,223,224,225,226,227,228,229,230,231,232,233,234,235,236,237,238,239,240,241,242,243,244,245,246,247,248,249,250,251,252,253,254,255,256,257,258,259,260,261,262,263,264,265,266,267,268,269,270,271,272,273,274,275,276,277,278,279,280,281,282,283,284,285,286,287,288,289,290,291,292,293,294,295,296,297,298,299,300,301,302,303,304,305,306,307,308,309,310,311,312,313,314,315,316,317,318,319,320,321,322,323,324,325,326,327,328,329,330,331,332,333,334,335,336,337,338,339,340,341,342,343,344,345,346,347,348,349,350,351,352,353,354,355,356,357,358,359,360,361,362,363,364,365,366,367,368,369,370,371,372,373,374,375,376,377,378,379,380,381,382,383,384,385,386,387,388,389,390,391,392,393,394,395,396,397,398,399,400,401,402,403,404,405,406,407,408,409,410,411,412,413,414,415,416,417,418,419,420,421,422,423,424,425,426,427,428,429,430,431,432,433,434,435,436,437,438,439,440,441,442,443,444,445,446,447,448,449,450,451,452,453,454,455,456,457,458,459,460,461,462,463,464,465,466,467,468,469,470,471,472,473,474,475,476,477,478,479,480,481,482,483,484,485,486,487,488,489,490,491,492,493,494,495,496,497,498,499,500,501,502,503,504,505,506,507,508,509,510,511,512,513,514,515,516,517,518,519,520,521,522,523,524,525,526,527,528,529,530,531,532,533,534,535,536,537,538,539,540,541,542,543,544,545,546,547,548,549,550,551,552,553,554,555,556,557,558,559,560,561,562,563,564,565,566,567,568,569,570,571,572,573,574,575,576,577,578,579,580,581,582,583,584,585,586,587,588,589,590,591,592,593,594,595,596,597,598,599,600,601,602,603,604,605,606,607,608,609,610,611,612,613,614,615,616,617,618,619,620,621,622,623,624,625,626,627,628,629,630,631,632,633,634,635,636,637,638,639,640,641,642,643,644,645,646,647,648,649,650,651,652,653,654,655,656,657,658,659,660,661,662,663,664,665,666,667,668,669,670,671,672,673,674,675,676,677,678,679,680,681,682,683,684,685,686,687,688,689,690,691,692,693,694,695,696,697,698,699,700,701,702,703,704,705,706,707,708,709,710,711,712,713,714,715,716,717,718,719,720,721,722,723,724,725,726,727,728,729,730,731,732,733,734,735,736,737,738,739,740,741,742,743,744,745,746,747,748,749,750,751,752,753,754,755,756,757,758,759,760,761,762,763,764,765,766,767,768,769,770,771,772,773,774,775,776,777,778,779,780,781,782,783,784,785,786,787,788,789,790,791,792,793,794,795,796,797,798,799,800,801,802,803,804,805,806,807,808,809,810,811,812,813,814,815,816,817,818,819,820,821,822,823,824,825,826,827,828,829,830,831,832,833,834,835,836,837,838,839,840,841,842,843,844,845,846,847,848,849,850,851,852,853,854,855,856,857,858,859,860,861,862,863,864,865,866,867,868,869,870,871,872,873,874,875,876,877,878,879,880,881,882,883,884,885,886,887,888,889,890,891,892,893,894,895,896,897,898,899,900,901,902,903,904,905,906,907,908,909,910,911,912,913,914,915,916,917,918,919,920,921,922,923,924,925,926,927,928,929,930,931,932,933,934,935,936,937,938,939,940,941,942,943,944,945,946,947,948,949,950,951,952,953,954,955,956,957,958,959,960,961,962,963,964,965,966,967,968,969,970,971,972,973,974,975,976,977,978,979,980,981,982,983,984,985,986,987,988,989,990,991,992,993,994,995,996,997,998,999,1000,1001,1002,1003,1004,1005,1006,1007,1008,1009,1010,1011,1012,1013,1014,1015,1016,1017,1018,1019,1020,1021,1022,1023,1024,1025,1026,1027,1028,1029,1030,1031,1032,1033,1034,1035,1036,1037,1038,1039,1040,1041,1042,1043,1044,1045,1046,1047,1048,1049,1050,1051,1052,1053,1054,1055,1056,1057,1058,1059,1060,1061,1062,1063,1064,1065,1066,1067,1068,1069,1070,1071,1072,1073,1074,1075,1076,1077,1078,1079,1080,1081,1082,1083,1084,1085,1086,1087,1088,1089,1090,1091,1092,1093,1094,1095,1096,1097,1098,1099,1100,1101,1102,1103,1104,1105,1106,1107,1108,1109,1110,1111,1112,1113,1114,1115,1116,1117,1118,1119,1120,1121,1122,1123,1124,1125,1126,1127,1128,1129,1130,1131,1132,1133,1134,1135,1136,1137,1138,1139,1140,1141,1142,1143,1144,1145,1146,1147,1148,1149,1150,1151,1152,1153,1154,1155,1156,1157,1158,1159,1160,1161,1162,1163,1164,1165,1166,1167,1168,1169,1170,1171,1172,1173,1174,1175,1176,1177,1178,1179,1180,1181,1182,1183,1184,1185,1186,1187,1188,1189,1190,1191,1192,1193,1194,1195,1196,1197,1198,1199,1200,1201,1202,1203,1204,1205,1206,1207,1208,1209,1210,1211,1212,1213,1214,1215,1216,1217,1218,1219,1220,1221,1222,1223,1224,1225,1226,1227,1228,1229,1230,1231,1232,1233,1234,1235,1236,1237,1238,1239,1240,1241,1242,1243,1244,1245,1246,1247,1248,1249,1250,1251,1252,1253,1254,1255,1256,1257,1258,1259,1260,1261,1262,1263,1264,1265,1266,1267,1268,1269,1270,1271,1272,1273,1274,1275,1276,1277,1278,1279,1280,1281,1282,1283,1284,1285,1286,1287,1288,1289,1290,1291,1292,1293,1294,1295,1296,1297,1298,1299,1300,1301,1302,1303,1304,1305,1306,1307,1308,1309,1310,1311,1312,1313,1314,1315,1316,1317,1318,1319,1320,1321,1322,1323,1324,1325,1326,1327,1328,1329,1330,1331,1332,1333,1334,1335,1336,1337,1338,1339,1340,1341,1342,1343,1344,1345,1346,1347,1348,1349,1350,1351,1352,1353,1354,1355,1356,1357,1358,1359,1360,1361,1362,1363,1364,1365,1366,1367,1368,1369,1370,1371,1372,1373,1374,1375,1376,1377,1378,1379,1380,1381,1382,1383,1384,1385,1386,1387,1388,1389,1390,1391,1392,1393,1394,1395,1396,1397,1398,1399,1400,1401,1402,1403,1404,1405,1406,1407,1408,1409,1410,1411,1412,1413,1414,1415,1416,1417,1418,1419,1420,1421,1422,1423,1424,1425,1426,1427,1428,1429,1430,1431,1432,1433,1434,1435,1436,1437,1438,1439,1440,1441,1442,1443,1444,1445,1446,1447,1448,1449,1450,1451,1452,1453,1454,1455,1456,1457,1458,1459,1460,1461,1462,1463,1464,1465,1466,1467,1468,1469,1470,1471,1472,1473,1474,1475,1476,1477,1478,1479,1480,1481,1482,1483,1484,1485,1486,1487,1488,1489,1490,1491,1492,1493,1494,1495,1496,1497,1498,1499,1500,1501,1502,1503,1504,1505,1506,1507,1508,1509,1510,1511,1512,1513,1514,1515,1516,1517,1518,1519,1520,1521,1522,1523,1524,1525,1526,1527,1528,1529,1530,1531,1532,1533,1534,1535,1536,1537,1538,1539,1540,1541,1542,1543,1544,1545,1546,1547,1548,1549,1550,1551,1552,1553,1554,1555,1556,1557,1558,1559,1560,1561,1562,1563,1564,1565,1566,1567,1568,1569,1570,1571,1572,1573,1574,1575,1576,1577,1578,1579,1580,1581,1582,1583,1584,1585,1586,1587,1588,1589,1590,1591,1592,1593,1594,1595,1596,1597,1598,1599,1600,1601,1602,1603,1604,1605,1606,1607,1608,1609,1610,1611,1612,1613,1614,1615,1616,1617,1618,1619,1620,1621,1622,1623,1624,1625,1626,1627,1628,1629,1630,1631,1632,1633,1634,1635,1636,1637,1638,1639,1640,1641,1642,1643,1644,1645,1646,1647,1648,1649,1650,1651,1652,1653,1654,1655,1656,1657,1658,1659,1660,1661,1662,1663,1664,1665,1666,1667,1668,1669,1670,1671,1672,1673,1674,1675,1676,1677,1678,1679,1680,1681,1682,1683,1684,1685,1686,1687,1688,1689,1690,1691,1692,1693,1694,1695,1696,1697,1698,1699,1700,1701,1702,1703,1704,1705,1706,1707,1708,1709,1710,1711,1712,1713,1714,1715,1716,1717,1718,1719,1720,1721,1722,1723,1724,1725,1726,1727,1728,1729,1730,1731,1732,1733,1734,1735,1736,1737,1738,1739,1740,1741,1742,1743,1744,1745,1746,1747,1748,1749,1750,1751,1752,1753,1754,1755,1756,1757,1758,1759,1760,1761,1762,1763,1764,1765,1766,1767,1768,1769,1770,1771,1772,1773,1774,1775,1776,1777,1778,1779,1780,1781,1782,1783,1784,1785,1786,1787,1788,1789,1790,1791,1792,1793,1794,1795,1796,1797,1798,1799,1800,1801,1802,1803,1804,1805,1806,1807,1808,1809,1810,1811,1812,1813,1814,1815,1816,1817,1818,1819,1820,1821,1822,1823,1824,1825,1826,1827,1828,1829,1830,1831,1832,1833,1834,1835,1836,1837,1838,1839,1840,1841,1842,1843,1844,1845,1846,1847,1848,1849,1850,1851,1852,1853,1854,1855,1856,1857,1858,1859,1860,1861,1862,1863,1864,1865,1866,1867,1868,1869,1870,1871,1872,1873,1874,1875,1876,1877,1878,1879,1880,1881,1882,1883,1884,1885,1886,1887,1888,1889,1890,1891,1892,1893,1894,1895,1896,1897,1898,1899,1900,1901,1902,1903,1904,1905,1906,1907,1908,1909,1910,1911,1912,1913,1914,1915,1916,1917,1918,1919,1920,1921,1922,1923,1924,1925,1926,1927,1928,1929,1930,1931,1932,1933,1934,1935,1936,1937,1938,1939,1940,1941,1942,1943,1944,1945,1946,1947,1948,1949,1950,1951,1952,1953,1954,1955,1956,1957,1958,1959,1960,1961,1962,1963,1964,1965,1966,1967,1968,1969,1970,1971,1972,1973,1974,1975,1976,1977,1978,1979,1980,1981,1982,1983,1984,1985,1986,1987,1988,1989,1990,1991,1992,1993,1994,1995,1996,1997,1998,1999],\"x\":{\"__ndarray__\":\"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\",\"dtype\":\"float64\",\"shape\":[2000]}},\"selected\":{\"id\":\"1685\"},\"selection_policy\":{\"id\":\"1684\"}},\"id\":\"1620\",\"type\":\"ColumnDataSource\"},{\"attributes\":{\"fill_color\":{\"value\":\"#1f77b3\"},\"line_color\":{\"value\":\"#1f77b3\"},\"x\":{\"field\":\"x\"},\"y\":{\"field\":\"__ECDF\"}},\"id\":\"1622\",\"type\":\"Circle\"},{\"attributes\":{\"fill_alpha\":{\"value\":0.1},\"fill_color\":{\"value\":\"#1f77b3\"},\"line_alpha\":{\"value\":0.1},\"line_color\":{\"value\":\"#1f77b3\"},\"x\":{\"field\":\"x\"},\"y\":{\"field\":\"__ECDF\"}},\"id\":\"1623\",\"type\":\"Circle\"},{\"attributes\":{\"active_drag\":\"auto\",\"active_inspect\":\"auto\",\"active_multi\":null,\"active_scroll\":\"auto\",\"active_tap\":\"auto\",\"tools\":[{\"id\":\"1606\"},{\"id\":\"1607\"},{\"id\":\"1608\"},{\"id\":\"1609\"},{\"id\":\"1610\"},{\"id\":\"1611\"}]},\"id\":\"1613\",\"type\":\"Toolbar\"},{\"attributes\":{\"label\":{\"value\":\" \"},\"renderers\":[{\"id\":\"1624\"}]},\"id\":\"1634\",\"type\":\"LegendItem\"},{\"attributes\":{\"axis_label\":\"beak depth (mm)\",\"formatter\":{\"id\":\"1630\"},\"ticker\":{\"id\":\"1599\"}},\"id\":\"1598\",\"type\":\"LinearAxis\"},{\"attributes\":{},\"id\":\"1610\",\"type\":\"ResetTool\"},{\"attributes\":{\"data_source\":{\"id\":\"1620\"},\"glyph\":{\"id\":\"1622\"},\"hover_glyph\":null,\"muted_glyph\":null,\"nonselection_glyph\":{\"id\":\"1623\"},\"selection_glyph\":null,\"view\":{\"id\":\"1625\"}},\"id\":\"1624\",\"type\":\"GlyphRenderer\"},{\"attributes\":{},\"id\":\"1628\",\"type\":\"BasicTickFormatter\"},{\"attributes\":{},\"id\":\"1611\",\"type\":\"HelpTool\"},{\"attributes\":{\"overlay\":{\"id\":\"1612\"}},\"id\":\"1608\",\"type\":\"BoxZoomTool\"},{\"attributes\":{},\"id\":\"1590\",\"type\":\"DataRange1d\"},{\"attributes\":{},\"id\":\"1599\",\"type\":\"BasicTicker\"},{\"attributes\":{\"axis_label\":\"ECDF\",\"formatter\":{\"id\":\"1628\"},\"ticker\":{\"id\":\"1603\"}},\"id\":\"1602\",\"type\":\"LinearAxis\"},{\"attributes\":{\"text\":\"\"},\"id\":\"1626\",\"type\":\"Title\"},{\"attributes\":{\"axis\":{\"id\":\"1598\"},\"ticker\":null},\"id\":\"1601\",\"type\":\"Grid\"},{\"attributes\":{},\"id\":\"1592\",\"type\":\"DataRange1d\"},{\"attributes\":{\"source\":{\"id\":\"1620\"}},\"id\":\"1625\",\"type\":\"CDSView\"},{\"attributes\":{},\"id\":\"1603\",\"type\":\"BasicTicker\"},{\"attributes\":{},\"id\":\"1606\",\"type\":\"PanTool\"},{\"attributes\":{},\"id\":\"1594\",\"type\":\"LinearScale\"},{\"attributes\":{\"items\":[{\"id\":\"1634\"}],\"visible\":false},\"id\":\"1633\",\"type\":\"Legend\"},{\"attributes\":{},\"id\":\"1607\",\"type\":\"WheelZoomTool\"},{\"attributes\":{},\"id\":\"1609\",\"type\":\"SaveTool\"},{\"attributes\":{\"axis\":{\"id\":\"1602\"},\"dimension\":1,\"ticker\":null},\"id\":\"1605\",\"type\":\"Grid\"},{\"attributes\":{},\"id\":\"1630\",\"type\":\"BasicTickFormatter\"},{\"attributes\":{},\"id\":\"1596\",\"type\":\"LinearScale\"},{\"attributes\":{},\"id\":\"1684\",\"type\":\"UnionRenderers\"}],\"root_ids\":[\"1589\"]},\"title\":\"Bokeh Application\",\"version\":\"2.0.2\"}};\n",
       "  var render_items = [{\"docid\":\"a3b059a7-7dc3-46ef-be8e-69f852260adf\",\"root_ids\":[\"1589\"],\"roots\":{\"1589\":\"9f7de68e-4719-4c20-91fc-68df6a29a877\"}}];\n",
       "  root.Bokeh.embed.embed_items_notebook(docs_json, render_items);\n",
       "\n",
       "  }\n",
       "  if (root.Bokeh !== undefined) {\n",
       "    embed_document(root);\n",
       "  } else {\n",
       "    var attempts = 0;\n",
       "    var timer = setInterval(function(root) {\n",
       "      if (root.Bokeh !== undefined) {\n",
       "        clearInterval(timer);\n",
       "        embed_document(root);\n",
       "      } else {\n",
       "        attempts++;\n",
       "        if (attempts > 100) {\n",
       "          clearInterval(timer);\n",
       "          console.log(\"Bokeh: ERROR: Unable to run BokehJS code because BokehJS library is missing\");\n",
       "        }\n",
       "      }\n",
       "    }, 10, root)\n",
       "  }\n",
       "})(window);"
      ],
      "application/vnd.bokehjs_exec.v0+json": ""
     },
     "metadata": {
      "application/vnd.bokehjs_exec.v0+json": {
       "id": "1589"
      }
     },
     "output_type": "display_data"
    }
   ],
   "source": [
    "# Plot the bootstrap replicates\n",
    "\n",
    "p = bokeh_catplot.ecdf(\n",
    "    bs_reps_1975,\n",
    "    x_axis_label='beak depth (mm)'\n",
    ")\n",
    "\n",
    "bokeh.io.show(p)"
   ]
  },
  {
   "cell_type": "markdown",
   "metadata": {},
   "source": [
    "We can make this a bit more elegant."
   ]
  },
  {
   "cell_type": "code",
   "execution_count": 32,
   "metadata": {},
   "outputs": [],
   "source": [
    "def draw_bs_rep(data, func, rg):\n",
    "    \"\"\"Compute a bootstrap replicate from an array of data.\"\"\"\n",
    "    \n",
    "    bs_sample = rg.choice(data, size=len(data), replace=True)\n",
    "    return func(bs_sample)"
   ]
  },
  {
   "cell_type": "code",
   "execution_count": 34,
   "metadata": {},
   "outputs": [],
   "source": [
    "# Use list comprehension to make the bootstrap replicates\n",
    "\n",
    "bs_reps_1975 = np.array(\n",
    "    [draw_bs_rep(bd_1975, np.mean, rg) for _ in range(n_reps)]\n",
    ")\n",
    "\n",
    "bs_reps_2012 = np.array(\n",
    "    [draw_bs_rep(bd_2012, np.mean, rg) for _ in range(n_reps)]\n",
    ")"
   ]
  },
  {
   "cell_type": "code",
   "execution_count": 35,
   "metadata": {},
   "outputs": [
    {
     "data": {
      "text/plain": [
       "(array([8.83929023, 9.08116954]), array([9.07537698, 9.30914683]))"
      ]
     },
     "execution_count": 35,
     "metadata": {},
     "output_type": "execute_result"
    }
   ],
   "source": [
    "conf_int_1975 = np.percentile(bs_reps_1975, [2.5, 97.5])\n",
    "conf_int_2012 = np.percentile(bs_reps_2012, [2.5, 97.5])\n",
    "\n",
    "conf_int_1975, conf_int_2012"
   ]
  },
  {
   "cell_type": "markdown",
   "metadata": {},
   "source": [
    "These barely overlap, so there is probably a real difference in the mean beak depth from 1975 to 2012."
   ]
  },
  {
   "cell_type": "code",
   "execution_count": 36,
   "metadata": {},
   "outputs": [],
   "source": [
    "def coeff_var(data):\n",
    "    return np.std(data) / np.mean(data)\n",
    "\n",
    "bs_reps_1975 = np.array(\n",
    "    [draw_bs_rep(bd_1975, coeff_var, rg) for _ in range(n_reps)]\n",
    ")\n",
    "\n",
    "bs_reps_2012 = np.array(\n",
    "    [draw_bs_rep(bd_2012, coeff_var, rg) for _ in range(n_reps)]\n",
    ")"
   ]
  },
  {
   "cell_type": "code",
   "execution_count": 37,
   "metadata": {},
   "outputs": [
    {
     "data": {
      "text/plain": [
       "(array([0.05373038, 0.07136381]), array([0.06368108, 0.0809896 ]))"
      ]
     },
     "execution_count": 37,
     "metadata": {},
     "output_type": "execute_result"
    }
   ],
   "source": [
    "conf_int_1975 = np.percentile(bs_reps_1975, [2.5, 97.5])\n",
    "conf_int_2012 = np.percentile(bs_reps_2012, [2.5, 97.5])\n",
    "\n",
    "conf_int_1975, conf_int_2012"
   ]
  },
  {
   "cell_type": "code",
   "execution_count": 42,
   "metadata": {},
   "outputs": [
    {
     "data": {
      "text/html": [
       "\n",
       "\n",
       "\n",
       "\n",
       "\n",
       "\n",
       "  <div class=\"bk-root\" id=\"965b5a3c-4f28-4227-9956-216f899e65dc\" data-root-id=\"2244\"></div>\n"
      ]
     },
     "metadata": {},
     "output_type": "display_data"
    },
    {
     "data": {
      "application/javascript": [
       "(function(root) {\n",
       "  function embed_document(root) {\n",
       "    \n",
       "  var docs_json = {\"2078e959-e6fc-4fc9-9406-701d5e76e120\":{\"roots\":{\"references\":[{\"attributes\":{\"below\":[{\"id\":\"2253\"}],\"center\":[{\"id\":\"2256\"},{\"id\":\"2259\"}],\"frame_height\":100,\"frame_width\":250,\"left\":[{\"id\":\"2257\"}],\"renderers\":[{\"id\":\"2277\"},{\"id\":\"2282\"},{\"id\":\"2287\"}],\"title\":{\"id\":\"2369\"},\"toolbar\":{\"id\":\"2267\"},\"x_range\":{\"id\":\"2245\"},\"x_scale\":{\"id\":\"2249\"},\"y_range\":{\"id\":\"2247\"},\"y_scale\":{\"id\":\"2251\"}},\"id\":\"2244\",\"subtype\":\"Figure\",\"type\":\"Plot\"},{\"attributes\":{\"formatter\":{\"id\":\"2371\"},\"ticker\":{\"id\":\"2258\"}},\"id\":\"2257\",\"type\":\"CategoricalAxis\"},{\"attributes\":{},\"id\":\"2376\",\"type\":\"UnionRenderers\"},{\"attributes\":{},\"id\":\"2249\",\"type\":\"LinearScale\"},{\"attributes\":{\"axis_label\":\"coeff. of var. of beak depth\",\"formatter\":{\"id\":\"2373\"},\"ticker\":{\"id\":\"2254\"}},\"id\":\"2253\",\"type\":\"LinearAxis\"},{\"attributes\":{\"line_color\":\"#1f77b4\",\"line_width\":3,\"x\":{\"field\":\"x\"},\"y\":{\"field\":\"y\"}},\"id\":\"2285\",\"type\":\"Line\"},{\"attributes\":{},\"id\":\"2378\",\"type\":\"UnionRenderers\"},{\"attributes\":{\"line_alpha\":0.1,\"line_color\":\"#1f77b4\",\"line_width\":3,\"x\":{\"field\":\"x\"},\"y\":{\"field\":\"y\"}},\"id\":\"2281\",\"type\":\"Line\"},{\"attributes\":{\"factors\":[\"2012\",\"1975\"]},\"id\":\"2247\",\"type\":\"FactorRange\"},{\"attributes\":{\"fill_color\":{\"value\":\"#1f77b4\"},\"line_color\":{\"value\":\"#1f77b4\"},\"size\":{\"units\":\"screen\",\"value\":5},\"x\":{\"field\":\"x\"},\"y\":{\"field\":\"y\"}},\"id\":\"2275\",\"type\":\"Circle\"},{\"attributes\":{},\"id\":\"2251\",\"type\":\"CategoricalScale\"},{\"attributes\":{\"source\":{\"id\":\"2284\"}},\"id\":\"2288\",\"type\":\"CDSView\"},{\"attributes\":{\"data\":{\"x\":{\"__ndarray__\":\"EuzLLWdNsD+gxCUJvLu0Pw==\",\"dtype\":\"float64\",\"shape\":[2]},\"y\":[\"2012\",\"2012\"]},\"selected\":{\"id\":\"2381\"},\"selection_policy\":{\"id\":\"2380\"}},\"id\":\"2284\",\"type\":\"ColumnDataSource\"},{\"attributes\":{\"line_alpha\":0.1,\"line_color\":\"#1f77b4\",\"line_width\":3,\"x\":{\"field\":\"x\"},\"y\":{\"field\":\"y\"}},\"id\":\"2286\",\"type\":\"Line\"},{\"attributes\":{},\"id\":\"2377\",\"type\":\"Selection\"},{\"attributes\":{},\"id\":\"2373\",\"type\":\"BasicTickFormatter\"},{\"attributes\":{},\"id\":\"2261\",\"type\":\"WheelZoomTool\"},{\"attributes\":{\"active_drag\":\"auto\",\"active_inspect\":\"auto\",\"active_multi\":null,\"active_scroll\":\"auto\",\"active_tap\":\"auto\",\"tools\":[{\"id\":\"2260\"},{\"id\":\"2261\"},{\"id\":\"2262\"},{\"id\":\"2263\"},{\"id\":\"2264\"},{\"id\":\"2265\"}]},\"id\":\"2267\",\"type\":\"Toolbar\"},{\"attributes\":{},\"id\":\"2258\",\"type\":\"CategoricalTicker\"},{\"attributes\":{},\"id\":\"2265\",\"type\":\"HelpTool\"},{\"attributes\":{\"source\":{\"id\":\"2279\"}},\"id\":\"2283\",\"type\":\"CDSView\"},{\"attributes\":{\"fill_alpha\":{\"value\":0.1},\"fill_color\":{\"value\":\"#1f77b4\"},\"line_alpha\":{\"value\":0.1},\"line_color\":{\"value\":\"#1f77b4\"},\"size\":{\"units\":\"screen\",\"value\":5},\"x\":{\"field\":\"x\"},\"y\":{\"field\":\"y\"}},\"id\":\"2276\",\"type\":\"Circle\"},{\"attributes\":{\"axis\":{\"id\":\"2257\"},\"dimension\":1,\"ticker\":null},\"id\":\"2259\",\"type\":\"Grid\"},{\"attributes\":{\"bottom_units\":\"screen\",\"fill_alpha\":0.5,\"fill_color\":\"lightgrey\",\"left_units\":\"screen\",\"level\":\"overlay\",\"line_alpha\":1.0,\"line_color\":\"black\",\"line_dash\":[4,4],\"line_width\":2,\"render_mode\":\"css\",\"right_units\":\"screen\",\"top_units\":\"screen\"},\"id\":\"2266\",\"type\":\"BoxAnnotation\"},{\"attributes\":{},\"id\":\"2379\",\"type\":\"Selection\"},{\"attributes\":{\"data_source\":{\"id\":\"2279\"},\"glyph\":{\"id\":\"2280\"},\"hover_glyph\":null,\"muted_glyph\":null,\"nonselection_glyph\":{\"id\":\"2281\"},\"selection_glyph\":null,\"view\":{\"id\":\"2283\"}},\"id\":\"2282\",\"type\":\"GlyphRenderer\"},{\"attributes\":{\"data_source\":{\"id\":\"2284\"},\"glyph\":{\"id\":\"2285\"},\"hover_glyph\":null,\"muted_glyph\":null,\"nonselection_glyph\":{\"id\":\"2286\"},\"selection_glyph\":null,\"view\":{\"id\":\"2288\"}},\"id\":\"2287\",\"type\":\"GlyphRenderer\"},{\"attributes\":{},\"id\":\"2371\",\"type\":\"CategoricalTickFormatter\"},{\"attributes\":{\"line_color\":\"#1f77b4\",\"line_width\":3,\"x\":{\"field\":\"x\"},\"y\":{\"field\":\"y\"}},\"id\":\"2280\",\"type\":\"Line\"},{\"attributes\":{},\"id\":\"2245\",\"type\":\"DataRange1d\"},{\"attributes\":{},\"id\":\"2381\",\"type\":\"Selection\"},{\"attributes\":{\"text\":\"\"},\"id\":\"2369\",\"type\":\"Title\"},{\"attributes\":{\"axis\":{\"id\":\"2253\"},\"ticker\":null},\"id\":\"2256\",\"type\":\"Grid\"},{\"attributes\":{\"source\":{\"id\":\"2274\"}},\"id\":\"2278\",\"type\":\"CDSView\"},{\"attributes\":{},\"id\":\"2254\",\"type\":\"BasicTicker\"},{\"attributes\":{},\"id\":\"2264\",\"type\":\"ResetTool\"},{\"attributes\":{\"data\":{\"x\":[0.07278142892647356,0.06287160631559484],\"y\":[\"2012\",\"1975\"]},\"selected\":{\"id\":\"2377\"},\"selection_policy\":{\"id\":\"2376\"}},\"id\":\"2274\",\"type\":\"ColumnDataSource\"},{\"attributes\":{\"overlay\":{\"id\":\"2266\"}},\"id\":\"2262\",\"type\":\"BoxZoomTool\"},{\"attributes\":{},\"id\":\"2260\",\"type\":\"PanTool\"},{\"attributes\":{\"data\":{\"x\":{\"__ndarray__\":\"OOPGSoyCqz/xSQ8V5kSyPw==\",\"dtype\":\"float64\",\"shape\":[2]},\"y\":[\"1975\",\"1975\"]},\"selected\":{\"id\":\"2379\"},\"selection_policy\":{\"id\":\"2378\"}},\"id\":\"2279\",\"type\":\"ColumnDataSource\"},{\"attributes\":{},\"id\":\"2263\",\"type\":\"SaveTool\"},{\"attributes\":{},\"id\":\"2380\",\"type\":\"UnionRenderers\"},{\"attributes\":{\"data_source\":{\"id\":\"2274\"},\"glyph\":{\"id\":\"2275\"},\"hover_glyph\":null,\"muted_glyph\":null,\"nonselection_glyph\":{\"id\":\"2276\"},\"selection_glyph\":null,\"view\":{\"id\":\"2278\"}},\"id\":\"2277\",\"type\":\"GlyphRenderer\"}],\"root_ids\":[\"2244\"]},\"title\":\"Bokeh Application\",\"version\":\"2.0.2\"}};\n",
       "  var render_items = [{\"docid\":\"2078e959-e6fc-4fc9-9406-701d5e76e120\",\"root_ids\":[\"2244\"],\"roots\":{\"2244\":\"965b5a3c-4f28-4227-9956-216f899e65dc\"}}];\n",
       "  root.Bokeh.embed.embed_items_notebook(docs_json, render_items);\n",
       "\n",
       "  }\n",
       "  if (root.Bokeh !== undefined) {\n",
       "    embed_document(root);\n",
       "  } else {\n",
       "    var attempts = 0;\n",
       "    var timer = setInterval(function(root) {\n",
       "      if (root.Bokeh !== undefined) {\n",
       "        clearInterval(timer);\n",
       "        embed_document(root);\n",
       "      } else {\n",
       "        attempts++;\n",
       "        if (attempts > 100) {\n",
       "          clearInterval(timer);\n",
       "          console.log(\"Bokeh: ERROR: Unable to run BokehJS code because BokehJS library is missing\");\n",
       "        }\n",
       "      }\n",
       "    }, 10, root)\n",
       "  }\n",
       "})(window);"
      ],
      "application/vnd.bokehjs_exec.v0+json": ""
     },
     "metadata": {
      "application/vnd.bokehjs_exec.v0+json": {
       "id": "2244"
      }
     },
     "output_type": "display_data"
    }
   ],
   "source": [
    "# Plot the confidence intervals\n",
    "\n",
    "years = ['2012', '1975']\n",
    "p = bokeh.plotting.figure(\n",
    "    frame_height=100,\n",
    "    frame_width=250,\n",
    "    x_axis_label='coeff. of var. of beak depth',\n",
    "    y_range=years,\n",
    ")\n",
    "\n",
    "p.circle(\n",
    "    [coeff_var(bd_2012), coeff_var(bd_1975)],\n",
    "    years,\n",
    "    size=5\n",
    ")\n",
    "p.line(\n",
    "    conf_int_1975,\n",
    "    ['1975']*2,\n",
    "    line_width=3\n",
    ")\n",
    "p.line(\n",
    "    conf_int_2012,\n",
    "    ['2012']*2,\n",
    "    line_width=3\n",
    ")\n",
    "\n",
    "bokeh.io.show(p)"
   ]
  },
  {
   "cell_type": "markdown",
   "metadata": {},
   "source": [
    "*Notice that this confidence interval is **not** symmetric.* If you report $1.4 \\pm 0.3$, it implies symmetry and requires that you had assumed a Gaussian distribution and calculated the maximum likelihood estimation."
   ]
  },
  {
   "cell_type": "markdown",
   "metadata": {},
   "source": [
    "## More complex summaries of data sets"
   ]
  },
  {
   "cell_type": "code",
   "execution_count": 43,
   "metadata": {},
   "outputs": [
    {
     "data": {
      "text/plain": [
       "0.2284920634920642"
      ]
     },
     "execution_count": 43,
     "metadata": {},
     "output_type": "execute_result"
    }
   ],
   "source": [
    "# Difference of means\n",
    "\n",
    "np.mean(bd_2012) - np.mean(bd_1975)"
   ]
  },
  {
   "cell_type": "code",
   "execution_count": 44,
   "metadata": {},
   "outputs": [
    {
     "data": {
      "text/plain": [
       "array([0.05526834, 0.39176731])"
      ]
     },
     "execution_count": 44,
     "metadata": {},
     "output_type": "execute_result"
    }
   ],
   "source": [
    "bs_reps_1975 = np.array(\n",
    "    [draw_bs_rep(bd_1975, np.mean, rg) for _ in range(n_reps)]\n",
    ")\n",
    "\n",
    "bs_reps_2012 = np.array(\n",
    "    [draw_bs_rep(bd_2012, np.mean, rg) for _ in range(n_reps)]\n",
    ")\n",
    "\n",
    "bd_reps_diff = bs_reps_2012 - bs_reps_1975\n",
    "\n",
    "np.percentile(bd_reps_diff, [2.5, 97.5])"
   ]
  },
  {
   "cell_type": "code",
   "execution_count": 45,
   "metadata": {},
   "outputs": [
    {
     "data": {
      "text/html": [
       "\n",
       "\n",
       "\n",
       "\n",
       "\n",
       "\n",
       "  <div class=\"bk-root\" id=\"c91fc4c3-1e5a-4b61-9cf7-c5515bdeb553\" data-root-id=\"2460\"></div>\n"
      ]
     },
     "metadata": {},
     "output_type": "display_data"
    },
    {
     "data": {
      "application/javascript": [
       "(function(root) {\n",
       "  function embed_document(root) {\n",
       "    \n",
       "  var docs_json = {\"b1acd05c-3069-4a72-8aac-d287b2114c4a\":{\"roots\":{\"references\":[{\"attributes\":{\"below\":[{\"id\":\"2469\"}],\"center\":[{\"id\":\"2472\"},{\"id\":\"2476\"},{\"id\":\"2503\"}],\"left\":[{\"id\":\"2473\"}],\"plot_height\":300,\"plot_width\":400,\"renderers\":[{\"id\":\"2494\"},{\"id\":\"2508\"},{\"id\":\"2522\"},{\"id\":\"2538\"},{\"id\":\"2556\"},{\"id\":\"2577\"},{\"id\":\"2599\"},{\"id\":\"2623\"}],\"title\":{\"id\":\"2496\"},\"toolbar\":{\"id\":\"2484\"},\"x_range\":{\"id\":\"2461\"},\"x_scale\":{\"id\":\"2465\"},\"y_range\":{\"id\":\"2463\"},\"y_scale\":{\"id\":\"2467\"}},\"id\":\"2460\",\"subtype\":\"Figure\",\"type\":\"Plot\"},{\"attributes\":{},\"id\":\"2474\",\"type\":\"BasicTicker\"},{\"attributes\":{},\"id\":\"2463\",\"type\":\"DataRange1d\"},{\"attributes\":{},\"id\":\"2760\",\"type\":\"UnionRenderers\"},{\"attributes\":{\"axis_label\":\"ECDF\",\"formatter\":{\"id\":\"2498\"},\"ticker\":{\"id\":\"2474\"}},\"id\":\"2473\",\"type\":\"LinearAxis\"},{\"attributes\":{\"data\":{},\"selected\":{\"id\":\"2645\"},\"selection_policy\":{\"id\":\"2644\"}},\"id\":\"2596\",\"type\":\"ColumnDataSource\"},{\"attributes\":{\"data\":{},\"selected\":{\"id\":\"2572\"},\"selection_policy\":{\"id\":\"2571\"}},\"id\":\"2535\",\"type\":\"ColumnDataSource\"},{\"attributes\":{\"data\":{},\"selected\":{\"id\":\"2761\"},\"selection_policy\":{\"id\":\"2760\"}},\"id\":\"2620\",\"type\":\"ColumnDataSource\"},{\"attributes\":{},\"id\":\"2551\",\"type\":\"UnionRenderers\"},{\"attributes\":{},\"id\":\"2572\",\"type\":\"Selection\"},{\"attributes\":{\"source\":{\"id\":\"2519\"}},\"id\":\"2523\",\"type\":\"CDSView\"},{\"attributes\":{\"source\":{\"id\":\"2620\"}},\"id\":\"2624\",\"type\":\"CDSView\"},{\"attributes\":{\"bottom_units\":\"screen\",\"fill_alpha\":0.5,\"fill_color\":\"lightgrey\",\"left_units\":\"screen\",\"level\":\"overlay\",\"line_alpha\":1.0,\"line_color\":\"black\",\"line_dash\":[4,4],\"line_width\":2,\"render_mode\":\"css\",\"right_units\":\"screen\",\"top_units\":\"screen\"},\"id\":\"2483\",\"type\":\"BoxAnnotation\"},{\"attributes\":{},\"id\":\"2594\",\"type\":\"UnionRenderers\"},{\"attributes\":{},\"id\":\"2595\",\"type\":\"Selection\"},{\"attributes\":{},\"id\":\"2534\",\"type\":\"Selection\"},{\"attributes\":{\"data_source\":{\"id\":\"2574\"},\"glyph\":{\"id\":\"2575\"},\"hover_glyph\":null,\"muted_glyph\":null,\"nonselection_glyph\":{\"id\":\"2576\"},\"selection_glyph\":null,\"view\":{\"id\":\"2578\"}},\"id\":\"2577\",\"type\":\"GlyphRenderer\"},{\"attributes\":{\"data_source\":{\"id\":\"2491\"},\"glyph\":{\"id\":\"2492\"},\"hover_glyph\":null,\"muted_glyph\":null,\"nonselection_glyph\":{\"id\":\"2493\"},\"selection_glyph\":null,\"view\":{\"id\":\"2495\"}},\"id\":\"2494\",\"type\":\"GlyphRenderer\"},{\"attributes\":{\"source\":{\"id\":\"2553\"}},\"id\":\"2557\",\"type\":\"CDSView\"},{\"attributes\":{\"data\":{\"x\":{\"__ndarray__\":\"mpmZmZmZH0CamZmZmZkfQAAAAAAAACBAAAAAAAAAIEAzMzMzMzMgQDMzMzMzMyBAZmZmZmZmIEBmZmZmZmYgQJqZmZmZmSBAmpmZmZmZIEAzMzMzM7MgQDMzMzMzsyBAzczMzMzMIEDNzMzMzMwgQAAAAAAAACFAAAAAAAAAIUAzMzMzMzMhQDMzMzMzMyFAzczMzMxMIUDNzMzMzEwhQGZmZmZmZiFAZmZmZmZmIUAAAAAAAIAhQAAAAAAAgCFAmpmZmZmZIUCamZmZmZkhQM3MzMzMzCFAzczMzMzMIUAAAAAAAAAiQAAAAAAAACJAFK5H4XoUIkAUrkfhehQiQJqZmZmZGSJAmpmZmZkZIkAzMzMzMzMiQDMzMzMzMyJAZmZmZmZmIkBmZmZmZmYiQJqZmZmZmSJAmpmZmZmZIkDhehSuR+EiQOF6FK5H4SJAZmZmZmbmIkBmZmZmZuYiQDMzMzMzMyNAMzMzMzMzI0DNzMzMzEwjQM3MzMzMTCNAZmZmZmZmI0BmZmZmZmYjQHsUrkfheiNAexSuR+F6I0CamZmZmZkjQJqZmZmZmSNAzczMzMzMI0DNzMzMzMwjQDMzMzMzMyRAMzMzMzMzJEBmZmZmZmYkQGZmZmZmZiRAzczMzMzMJEDNzMzMzMwkQM3MzMzMzCRAzczMzMzMJEBmZmZmZmYkQGZmZmZmZiRAMzMzMzMzJEAzMzMzMzMkQM3MzMzMzCNAzczMzMzMI0CamZmZmZkjQJqZmZmZmSNAexSuR+F6I0B7FK5H4XojQGZmZmZmZiNAZmZmZmZmI0DNzMzMzEwjQM3MzMzMTCNAMzMzMzMzI0AzMzMzMzMjQGZmZmZm5iJAZmZmZmbmIkDhehSuR+EiQOF6FK5H4SJAmpmZmZmZIkCamZmZmZkiQGZmZmZmZiJAZmZmZmZmIkAzMzMzMzMiQDMzMzMzMyJAmpmZmZkZIkCamZmZmRkiQBSuR+F6FCJAFK5H4XoUIkAAAAAAAAAiQAAAAAAAACJAzczMzMzMIUDNzMzMzMwhQJqZmZmZmSFAmpmZmZmZIUAAAAAAAIAhQAAAAAAAgCFAZmZmZmZmIUBmZmZmZmYhQM3MzMzMTCFAzczMzMxMIUAzMzMzMzMhQDMzMzMzMyFAAAAAAAAAIUAAAAAAAAAhQM3MzMzMzCBAzczMzMzMIEAzMzMzM7MgQDMzMzMzsyBAmpmZmZmZIECamZmZmZkgQGZmZmZmZiBAZmZmZmZmIEAzMzMzMzMgQDMzMzMzMyBAAAAAAAAAIEAAAAAAAAAgQJqZmZmZmR9AmpmZmZmZH0A=\",\"dtype\":\"float64\",\"shape\":[124]},\"y\":{\"__ndarray__\":\"AAAAAAAAAAAAAAAAAAAAAAAAAAAAAAAAyKR4gUyKhz/IpHiBTIqHP8ikeIFMioc/yKR4gUyKhz+WexphuaehP5Z7GmG5p6E/lnsaYbmnsT+WexphuaexP5Z7GmG5p7E/lnsaYbmnsT/6zdah32y9P/rN1qHfbL0/1INgND0Ixj/Ug2A0PQjGP/rN1qHfbM0/+s3Wod9szT9HWO5phOXOP0dY7mmE5c4/QjCaHgSj0T9CMJoeBKPRP5Z7GmG5p9E/lnsaYbmn0T9VVVVVVVXVP1VVVVVVVdU/weMPBzz+2D/B4w8HPP7YP/rN1qHfbN0/+s3Wod9s3T8gk+IFMinePyCT4gUyKd4/bR36zdah3z9tHfrN1qHfP3boN1uHfuM/dug3W4d+4z/Cck8jLPfkP8JyTyMs9+Q/D/1m69Bv5j8P/Wbr0G/mP6LfbB36zeY/ot9sHfrN5j/uaYTlnkboP+5phOWeRug/qBGWexph6T+oEZZ7GmHpPzv0m61Dv+k/O/SbrUO/6T9huacRlnvqP2G5pxGWe+o/9JutQ7/Z6j/0m61Dv9nqP65Dv9k69Os/rkO/2Tr06z9BJsULZFLsP0EmxQtkUuw/+s3Wod9s7T/6zdah32ztPyCT4gUyKe4/IJPiBTIp7j8AAAAAAADwPwAAAAAAAPA/AAAAAAAA8D8AAAAAAADwPwAAAAAAAPA/AAAAAAAA8D9tHfrN1qHvP20d+s3Woe8/2jr0m61D7z/aOvSbrUPvP0dY7mmE5e4/R1juaYTl7j+zdeg3W4fuP7N16Ddbh+4/IJPiBTIp7j8gk+IFMinuP42w3NMIy+0/jbDc0wjL7T9n69Bvtg7tP2fr0G+2Du0/rkO/2Tr06z+uQ7/ZOvTrPxphuacRlus/GmG5pxGW6z9huacRlnvqP2G5pxGWe+o/FS+QSfEC6T8VL5BJ8QLpP3waYbmnEeY/fBphuacR5j9VVVVVVVXlP1VVVVVVVeU/wnJPIyz35D/Cck8jLPfkP+MFMileIOM/4wUyKV4g4z8Y3E6ewe3gPxjcTp7B7eA/IJPiBTIp3j8gk+IFMineP/rN1qHfbN0/+s3Wod9s3T+uQ7/ZOvTbP65Dv9k69Ns/h36zdeg32z+HfrN16DfbP3waYbmnEdY/fBphuacR1j/lxpqjbqzRP+XGmqNurNE/rkO/2Tr0yz+uQ7/ZOvTLP65Dv9k69Ms/rkO/2Tr0yz/jBTIpXiDDP+MFMileIMM/YbmnEZZ7uj9huacRlnu6P8ikeIFMirc/yKR4gUyKtz+WexphuaehP5Z7GmG5p6E/AAAAAAAAAAA=\",\"dtype\":\"float64\",\"shape\":[124]}},\"selected\":{\"id\":\"2518\"},\"selection_policy\":{\"id\":\"2517\"}},\"id\":\"2491\",\"type\":\"ColumnDataSource\"},{\"attributes\":{\"text\":\"\"},\"id\":\"2496\",\"type\":\"Title\"},{\"attributes\":{\"angle\":{\"units\":\"rad\",\"value\":0},\"line_color\":{\"value\":\"#1f77b3\"},\"line_width\":{\"value\":2},\"x\":{\"value\":10.4},\"y\":{\"value\":1}},\"id\":\"2536\",\"type\":\"Ray\"},{\"attributes\":{\"angle\":{\"units\":\"rad\",\"value\":0},\"line_alpha\":{\"value\":0.1},\"line_color\":{\"value\":\"#1f77b3\"},\"line_width\":{\"value\":2},\"x\":{\"value\":10.4},\"y\":{\"value\":1}},\"id\":\"2537\",\"type\":\"Ray\"},{\"attributes\":{\"fill_alpha\":0.1,\"fill_color\":\"#1f77b3\",\"line_alpha\":0.1,\"line_color\":\"#1f77b4\",\"x\":{\"field\":\"x\"},\"y\":{\"field\":\"y\"}},\"id\":\"2493\",\"type\":\"Patch\"},{\"attributes\":{\"source\":{\"id\":\"2535\"}},\"id\":\"2539\",\"type\":\"CDSView\"},{\"attributes\":{\"line_alpha\":0.1,\"line_color\":\"#ff7e0e\",\"line_width\":2,\"x\":{\"field\":\"x\"},\"y\":{\"field\":\"y\"}},\"id\":\"2576\",\"type\":\"Line\"},{\"attributes\":{\"data_source\":{\"id\":\"2535\"},\"glyph\":{\"id\":\"2536\"},\"hover_glyph\":null,\"muted_glyph\":null,\"nonselection_glyph\":{\"id\":\"2537\"},\"selection_glyph\":null,\"view\":{\"id\":\"2539\"}},\"id\":\"2538\",\"type\":\"GlyphRenderer\"},{\"attributes\":{\"source\":{\"id\":\"2491\"}},\"id\":\"2495\",\"type\":\"CDSView\"},{\"attributes\":{},\"id\":\"2618\",\"type\":\"UnionRenderers\"},{\"attributes\":{},\"id\":\"2465\",\"type\":\"LinearScale\"},{\"attributes\":{},\"id\":\"2761\",\"type\":\"Selection\"},{\"attributes\":{},\"id\":\"2552\",\"type\":\"Selection\"},{\"attributes\":{\"fill_alpha\":0.1,\"fill_color\":\"#ff7e0e\",\"line_alpha\":0.1,\"line_color\":\"#1f77b4\",\"x\":{\"field\":\"x\"},\"y\":{\"field\":\"y\"}},\"id\":\"2555\",\"type\":\"Patch\"},{\"attributes\":{},\"id\":\"2619\",\"type\":\"Selection\"},{\"attributes\":{\"angle\":{\"units\":\"rad\",\"value\":3.141592653589793},\"line_color\":{\"value\":\"#ff7e0e\"},\"line_width\":{\"value\":2},\"x\":{\"value\":7.7},\"y\":{\"value\":0}},\"id\":\"2597\",\"type\":\"Ray\"},{\"attributes\":{},\"id\":\"2518\",\"type\":\"Selection\"},{\"attributes\":{},\"id\":\"2461\",\"type\":\"DataRange1d\"},{\"attributes\":{\"data_source\":{\"id\":\"2620\"},\"glyph\":{\"id\":\"2621\"},\"hover_glyph\":null,\"muted_glyph\":null,\"nonselection_glyph\":{\"id\":\"2622\"},\"selection_glyph\":null,\"view\":{\"id\":\"2624\"}},\"id\":\"2623\",\"type\":\"GlyphRenderer\"},{\"attributes\":{},\"id\":\"2467\",\"type\":\"LinearScale\"},{\"attributes\":{\"angle\":{\"units\":\"rad\",\"value\":0},\"line_alpha\":{\"value\":0.1},\"line_color\":{\"value\":\"#ff7e0e\"},\"line_width\":{\"value\":2},\"x\":{\"value\":11.0},\"y\":{\"value\":1}},\"id\":\"2622\",\"type\":\"Ray\"},{\"attributes\":{\"angle\":{\"units\":\"rad\",\"value\":3.141592653589793},\"line_alpha\":{\"value\":0.1},\"line_color\":{\"value\":\"#1f77b3\"},\"line_width\":{\"value\":2},\"x\":{\"value\":7.9},\"y\":{\"value\":0}},\"id\":\"2521\",\"type\":\"Ray\"},{\"attributes\":{\"line_color\":\"#ff7e0e\",\"line_width\":2,\"x\":{\"field\":\"x\"},\"y\":{\"field\":\"y\"}},\"id\":\"2575\",\"type\":\"Line\"},{\"attributes\":{\"axis_label\":\"beak depth (mm)\",\"formatter\":{\"id\":\"2500\"},\"ticker\":{\"id\":\"2470\"}},\"id\":\"2469\",\"type\":\"LinearAxis\"},{\"attributes\":{},\"id\":\"2470\",\"type\":\"BasicTicker\"},{\"attributes\":{\"fill_alpha\":0.5,\"fill_color\":\"#1f77b3\",\"line_alpha\":0,\"line_color\":\"#1f77b4\",\"x\":{\"field\":\"x\"},\"y\":{\"field\":\"y\"}},\"id\":\"2492\",\"type\":\"Patch\"},{\"attributes\":{\"data_source\":{\"id\":\"2519\"},\"glyph\":{\"id\":\"2520\"},\"hover_glyph\":null,\"muted_glyph\":null,\"nonselection_glyph\":{\"id\":\"2521\"},\"selection_glyph\":null,\"view\":{\"id\":\"2523\"}},\"id\":\"2522\",\"type\":\"GlyphRenderer\"},{\"attributes\":{},\"id\":\"2645\",\"type\":\"Selection\"},{\"attributes\":{\"axis\":{\"id\":\"2469\"},\"ticker\":null},\"id\":\"2472\",\"type\":\"Grid\"},{\"attributes\":{},\"id\":\"2517\",\"type\":\"UnionRenderers\"},{\"attributes\":{},\"id\":\"2644\",\"type\":\"UnionRenderers\"},{\"attributes\":{\"axis\":{\"id\":\"2473\"},\"dimension\":1,\"ticker\":null},\"id\":\"2476\",\"type\":\"Grid\"},{\"attributes\":{},\"id\":\"2571\",\"type\":\"UnionRenderers\"},{\"attributes\":{\"data\":{\"x\":{\"__ndarray__\":\"mpmZmZmZH0CamZmZmZkfQAAAAAAAACBAAAAAAAAAIEAAAAAAAAAgQAAAAAAAACBAAAAAAAAAIEAAAAAAAAAgQDMzMzMzMyBAMzMzMzMzIEBmZmZmZmYgQGZmZmZmZiBAZmZmZmZmIEBmZmZmZmYgQGZmZmZmZiBAZmZmZmZmIECamZmZmZkgQJqZmZmZmSBAmpmZmZmZIECamZmZmZkgQJqZmZmZmSBAmpmZmZmZIECamZmZmZkgQJqZmZmZmSBAMzMzMzOzIEAzMzMzM7MgQM3MzMzMzCBAzczMzMzMIEDNzMzMzMwgQM3MzMzMzCBAzczMzMzMIEDNzMzMzMwgQM3MzMzMzCBAzczMzMzMIEAAAAAAAAAhQAAAAAAAACFAAAAAAAAAIUAAAAAAAAAhQAAAAAAAACFAAAAAAAAAIUAAAAAAAAAhQAAAAAAAACFAAAAAAAAAIUAAAAAAAAAhQDMzMzMzMyFAMzMzMzMzIUAzMzMzMzMhQDMzMzMzMyFAMzMzMzMzIUAzMzMzMzMhQDMzMzMzMyFAMzMzMzMzIUAzMzMzMzMhQDMzMzMzMyFAMzMzMzMzIUAzMzMzMzMhQM3MzMzMTCFAzczMzMxMIUBmZmZmZmYhQGZmZmZmZiFAZmZmZmZmIUBmZmZmZmYhQGZmZmZmZiFAZmZmZmZmIUAAAAAAAIAhQAAAAAAAgCFAmpmZmZmZIUCamZmZmZkhQJqZmZmZmSFAmpmZmZmZIUCamZmZmZkhQJqZmZmZmSFAmpmZmZmZIUCamZmZmZkhQJqZmZmZmSFAmpmZmZmZIUDNzMzMzMwhQM3MzMzMzCFAzczMzMzMIUDNzMzMzMwhQM3MzMzMzCFAzczMzMzMIUDNzMzMzMwhQM3MzMzMzCFAzczMzMzMIUDNzMzMzMwhQAAAAAAAACJAAAAAAAAAIkAAAAAAAAAiQAAAAAAAACJAAAAAAAAAIkAAAAAAAAAiQAAAAAAAACJAAAAAAAAAIkAAAAAAAAAiQAAAAAAAACJAAAAAAAAAIkAAAAAAAAAiQBSuR+F6FCJAFK5H4XoUIkCamZmZmRkiQJqZmZmZGSJAmpmZmZkZIkCamZmZmRkiQDMzMzMzMyJAMzMzMzMzIkAzMzMzMzMiQDMzMzMzMyJAMzMzMzMzIkAzMzMzMzMiQDMzMzMzMyJAMzMzMzMzIkAzMzMzMzMiQDMzMzMzMyJAMzMzMzMzIkAzMzMzMzMiQDMzMzMzMyJAMzMzMzMzIkAzMzMzMzMiQDMzMzMzMyJAMzMzMzMzIkAzMzMzMzMiQGZmZmZmZiJAZmZmZmZmIkBmZmZmZmYiQGZmZmZmZiJAZmZmZmZmIkBmZmZmZmYiQGZmZmZmZiJAZmZmZmZmIkCamZmZmZkiQJqZmZmZmSJAmpmZmZmZIkCamZmZmZkiQJqZmZmZmSJAmpmZmZmZIkDhehSuR+EiQOF6FK5H4SJAZmZmZmbmIkBmZmZmZuYiQGZmZmZm5iJAZmZmZmbmIkBmZmZmZuYiQGZmZmZm5iJAZmZmZmbmIkBmZmZmZuYiQDMzMzMzMyNAMzMzMzMzI0AzMzMzMzMjQDMzMzMzMyNAzczMzMxMI0DNzMzMzEwjQGZmZmZmZiNAZmZmZmZmI0BmZmZmZmYjQGZmZmZmZiNAexSuR+F6I0B7FK5H4XojQJqZmZmZmSNAmpmZmZmZI0CamZmZmZkjQJqZmZmZmSNAzczMzMzMI0DNzMzMzMwjQDMzMzMzMyRAMzMzMzMzJEAzMzMzMzMkQDMzMzMzMyRAZmZmZmZmJEBmZmZmZmYkQM3MzMzMzCRAzczMzMzMJEDNzMzMzMwkQM3MzMzMzCRA\",\"dtype\":\"float64\",\"shape\":[174]},\"y\":{\"__ndarray__\":\"AAAAAAAAAADIpHiBTIqHP8ikeIFMioc/yKR4gUyKlz/IpHiBTIqXP5Z7GmG5p6E/lnsaYbmnoT/IpHiBTIqnP8ikeIFMiqc/+s3Wod9srT/6zdah32ytP5Z7GmG5p7E/lnsaYbmnsT8vkEnxApm0Py+QSfECmbQ/yKR4gUyKtz/IpHiBTIq3P2G5pxGWe7o/YbmnEZZ7uj/6zdah32y9P/rN1qHfbL0/SvECmRQvwD9K8QKZFC/AP5Z7GmG5p8E/lnsaYbmnwT/jBTIpXiDDP+MFMileIMM/L5BJ8QKZxD8vkEnxApnEP3waYbmnEcY/fBphuacRxj/IpHiBTIrHP8ikeIFMisc/FS+QSfECyT8VL5BJ8QLJP2G5pxGWe8o/YbmnEZZ7yj+uQ7/ZOvTLP65Dv9k69Ms/+s3Wod9szT/6zdah32zNP0dY7mmE5c4/R1juaYTlzj9K8QKZFC/QP0rxApkUL9A/cLYO/Wbr0D9wtg79ZuvQP5Z7GmG5p9E/lnsaYbmn0T+8QCbFC2TSP7xAJsULZNI/4wUyKV4g0z/jBTIpXiDTPwnLPY2w3NM/Ccs9jbDc0z8vkEnxApnUPy+QSfECmdQ/VVVVVVVV1T9VVVVVVVXVP3waYbmnEdY/fBphuacR1j+i32wd+s3WP6LfbB36zdY/yKR4gUyK1z/IpHiBTIrXP+5phOWeRtg/7mmE5Z5G2D8VL5BJ8QLZPxUvkEnxAtk/O/SbrUO/2T879JutQ7/ZP2G5pxGWe9o/YbmnEZZ72j+HfrN16DfbP4d+s3XoN9s/rkO/2Tr02z+uQ7/ZOvTbP9QIyz2NsNw/1AjLPY2w3D/6zdah32zdP/rN1qHfbN0/IJPiBTIp3j8gk+IFMineP0dY7mmE5d4/R1juaYTl3j9tHfrN1qHfP20d+s3Wod8/SvECmRQv4D9K8QKZFC/gP93TCMs9jeA/3dMIyz2N4D9wtg79ZuvgP3C2Dv1m6+A/A5kUL5BJ4T8DmRQvkEnhP5Z7GmG5p+E/lnsaYbmn4T8pXiCT4gXiPyleIJPiBeI/vEAmxQtk4j+8QCbFC2TiP08jLPc0wuI/TyMs9zTC4j/jBTIpXiDjP+MFMileIOM/dug3W4d+4z926Ddbh37jPwnLPY2w3OM/Ccs9jbDc4z+crUO/2TrkP5ytQ7/ZOuQ/L5BJ8QKZ5D8vkEnxApnkP8JyTyMs9+Q/wnJPIyz35D9VVVVVVVXlP1VVVVVVVeU/6Ddbh36z5T/oN1uHfrPlP3waYbmnEeY/fBphuacR5j8P/Wbr0G/mPw/9ZuvQb+Y/ot9sHfrN5j+i32wd+s3mPzXCck8jLOc/NcJyTyMs5z/IpHiBTIrnP8ikeIFMiuc/W4d+s3Xo5z9bh36zdejnP+5phOWeRug/7mmE5Z5G6D+BTIoXyKToP4FMihfIpOg/FS+QSfEC6T8VL5BJ8QLpP6gRlnsaYek/qBGWexph6T879JutQ7/pPzv0m61Dv+k/ztah32wd6j/O1qHfbB3qP2G5pxGWe+o/YbmnEZZ76j/0m61Dv9nqP/SbrUO/2eo/h36zdeg36z+HfrN16DfrPxphuacRlus/GmG5pxGW6z+uQ7/ZOvTrP65Dv9k69Os/QSbFC2RS7D9BJsULZFLsP9QIyz2NsOw/1AjLPY2w7D9n69Bvtg7tP2fr0G+2Du0/+s3Wod9s7T/6zdah32ztP42w3NMIy+0/jbDc0wjL7T8gk+IFMinuPyCT4gUyKe4/s3XoN1uH7j+zdeg3W4fuP0dY7mmE5e4/R1juaYTl7j/aOvSbrUPvP9o69JutQ+8/bR36zdah7z9tHfrN1qHvPwAAAAAAAPA/\",\"dtype\":\"float64\",\"shape\":[174]}},\"selected\":{\"id\":\"2534\"},\"selection_policy\":{\"id\":\"2533\"}},\"id\":\"2505\",\"type\":\"ColumnDataSource\"},{\"attributes\":{\"angle\":{\"units\":\"rad\",\"value\":3.141592653589793},\"line_color\":{\"value\":\"#1f77b3\"},\"line_width\":{\"value\":2},\"x\":{\"value\":7.9},\"y\":{\"value\":0}},\"id\":\"2520\",\"type\":\"Ray\"},{\"attributes\":{\"data\":{\"x\":{\"__ndarray__\":\"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\",\"dtype\":\"float64\",\"shape\":[252]},\"y\":{\"__ndarray__\":\"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\",\"dtype\":\"float64\",\"shape\":[252]}},\"selected\":{\"id\":\"2619\"},\"selection_policy\":{\"id\":\"2618\"}},\"id\":\"2574\",\"type\":\"ColumnDataSource\"},{\"attributes\":{\"data\":{\"x\":{\"__ndarray__\":\"zczMzMzMHkDNzMzMzMweQDMzMzMzMx9AMzMzMzMzH0CamZmZmZkfQJqZmZmZmR9AAAAAAAAAIEAAAAAAAAAgQDMzMzMzMyBAMzMzMzMzIEBmZmZmZmYgQGZmZmZmZiBAmpmZmZmZIECamZmZmZkgQM3MzMzMzCBAzczMzMzMIEAAAAAAAAAhQAAAAAAAACFAMzMzMzMzIUAzMzMzMzMhQGZmZmZmZiFAZmZmZmZmIUCamZmZmZkhQJqZmZmZmSFAMzMzMzOzIUAzMzMzM7MhQM3MzMzMzCFAzczMzMzMIUBmZmZmZuYhQGZmZmZm5iFAAAAAAAAAIkAAAAAAAAAiQDMzMzMzMyJAMzMzMzMzIkDNzMzMzEwiQM3MzMzMTCJAZmZmZmZmIkBmZmZmZmYiQJqZmZmZmSJAmpmZmZmZIkDNzMzMzMwiQM3MzMzMzCJAAAAAAAAAI0AAAAAAAAAjQDMzMzMzMyNAMzMzMzMzI0BmZmZmZmYjQGZmZmZmZiNAmpmZmZmZI0CamZmZmZkjQM3MzMzMzCNAzczMzMzMI0AAAAAAAAAkQAAAAAAAACRAZmZmZmZmJEBmZmZmZmYkQAAAAAAAACVAAAAAAAAAJUAzMzMzMzMlQDMzMzMzMyVAmpmZmZmZJUCamZmZmZklQAAAAAAAACZAAAAAAAAAJkAAAAAAAAAmQAAAAAAAACZAmpmZmZmZJUCamZmZmZklQDMzMzMzMyVAMzMzMzMzJUAAAAAAAAAlQAAAAAAAACVAZmZmZmZmJEBmZmZmZmYkQAAAAAAAACRAAAAAAAAAJEDNzMzMzMwjQM3MzMzMzCNAmpmZmZmZI0CamZmZmZkjQGZmZmZmZiNAZmZmZmZmI0AzMzMzMzMjQDMzMzMzMyNAAAAAAAAAI0AAAAAAAAAjQM3MzMzMzCJAzczMzMzMIkCamZmZmZkiQJqZmZmZmSJAZmZmZmZmIkBmZmZmZmYiQM3MzMzMTCJAzczMzMxMIkAzMzMzMzMiQDMzMzMzMyJAAAAAAAAAIkAAAAAAAAAiQGZmZmZm5iFAZmZmZmbmIUDNzMzMzMwhQM3MzMzMzCFAMzMzMzOzIUAzMzMzM7MhQJqZmZmZmSFAmpmZmZmZIUBmZmZmZmYhQGZmZmZmZiFAMzMzMzMzIUAzMzMzMzMhQAAAAAAAACFAAAAAAAAAIUDNzMzMzMwgQM3MzMzMzCBAmpmZmZmZIECamZmZmZkgQGZmZmZmZiBAZmZmZmZmIEAzMzMzMzMgQDMzMzMzMyBAAAAAAAAAIEAAAAAAAAAgQJqZmZmZmR9AmpmZmZmZH0AzMzMzMzMfQDMzMzMzMx9AzczMzMzMHkDNzMzMzMweQA==\",\"dtype\":\"float64\",\"shape\":[128]},\"y\":{\"__ndarray__\":\"AAAAAAAAAAAAAAAAAAAAAAAAAAAAAAAAAAAAAAAAAAAAAAAAAAAAABAEQRAEQYA/EARBEARBgD8QBEEQBEGQPxAEQRAEQZA/EARBEARBoD8QBEEQBEGgPxRFURRFUaQ/FEVRFEVRpD8cx3Ecx3GsPxzHcRzHcaw/lmVZlmVZtj+WZVmWZVm2P57neZ7neb4/nud5nud5vj8QBEEQBEHAPxAEQRAEQcA/VVVVVVVVxT9VVVVVVVXFP1mWZVmWZck/WZZlWZZlyT+apmmapmnKP5qmaZqmaco/kiRJkiRJ0j+SJEmSJEnSP7Msy7Isy9I/syzLsizL0j92Xdd1XdfVP3Zd13Vd19U/OY7jOI7j2D85juM4juPYP1mWZVmWZdk/WZZlWZZl2T/8vu/7vu/bP/y+7/u+79s/EARBEARB4D8QBEEQBEHgP5IkSZIkSeI/kiRJkiRJ4j87tVM7tVPlPzu1Uzu1U+U/t23btm3b5j+3bdu2bdvmP8dxHMdxHOc/x3Ecx3Ec5z9ZlmVZlmXpP1mWZVmWZek/iqIoiqIo6j+KoiiKoijqP9u2bdu2bes/27Zt27Zt6z9N0zRN0zTtP03TNE3TNO0/ft/3fd/37T9+3/d93/ftP6/ruq7ruu4/r+u6ruu67j/P8zzP8zzvP8/zPM/zPO8/AAAAAAAA8D8AAAAAAADwPwAAAAAAAPA/AAAAAAAA8D8AAAAAAADwPwAAAAAAAPA/8Pu+7/u+7z/w+77v+77vP9/3fd/3fe8/3/d93/d97z+e53me53nuP57neZ7nee4/Xdd1Xdd17T9d13Vd13XtP03TNE3TNO0/TdM0TdM07T/btm3btm3rP9u2bdu2bes/y7Isy7Is6z/LsizLsizrP3qe53me5+k/ep7neZ7n6T/HcRzHcRznP8dxHMdxHOc/ZlmWZVmW5T9mWZZlWZblP9M0TdM0TeM/0zRN0zRN4z+SJEmSJEniP5IkSZIkSeI/irzIi7zI4T+KvMiLvMjhPyEIgiAIguA/IQiCIAiC4D9d13Vd13XdP13XdV3Xdd0/Pc/zPM/z3D89z/M8z/PcP9d1Xdd1Xdc/13Vd13Vd1z+3bdu2bdvWP7dt27Zt29Y/9DzP8zzP0z/0PM/zPM/TP1EURVEURdE/URRFURRF0T8QBEEQBEHQPxAEQRAEQdA/27Zt27Ztyz/btm3btm3LPxRFURRFUcQ/FEVRFEVRxD+SJEmSJEnCP5IkSZIkScI/nud5nud5vj+e53me53m+PxiGYRiGYbg/GIZhGIZhuD8QBEEQBEGwPxAEQRAEQbA/HMdxHMdxrD8cx3Ecx3GsPxRFURRFUaQ/FEVRFEVRpD8AAAAAAAAAAA==\",\"dtype\":\"float64\",\"shape\":[128]}},\"selected\":{\"id\":\"2595\"},\"selection_policy\":{\"id\":\"2594\"}},\"id\":\"2553\",\"type\":\"ColumnDataSource\"},{\"attributes\":{\"line_color\":\"#1f77b3\",\"line_width\":2,\"x\":{\"field\":\"x\"},\"y\":{\"field\":\"y\"}},\"id\":\"2506\",\"type\":\"Line\"},{\"attributes\":{\"line_alpha\":0.1,\"line_color\":\"#1f77b3\",\"line_width\":2,\"x\":{\"field\":\"x\"},\"y\":{\"field\":\"y\"}},\"id\":\"2507\",\"type\":\"Line\"},{\"attributes\":{\"fill_alpha\":0.5,\"fill_color\":\"#ff7e0e\",\"line_alpha\":0,\"line_color\":\"#1f77b4\",\"x\":{\"field\":\"x\"},\"y\":{\"field\":\"y\"}},\"id\":\"2554\",\"type\":\"Patch\"},{\"attributes\":{},\"id\":\"2477\",\"type\":\"PanTool\"},{\"attributes\":{\"click_policy\":\"hide\",\"items\":[{\"id\":\"2504\"},{\"id\":\"2573\"}],\"location\":\"bottom_right\"},\"id\":\"2503\",\"type\":\"Legend\"},{\"attributes\":{},\"id\":\"2533\",\"type\":\"UnionRenderers\"},{\"attributes\":{},\"id\":\"2478\",\"type\":\"WheelZoomTool\"},{\"attributes\":{\"overlay\":{\"id\":\"2483\"}},\"id\":\"2479\",\"type\":\"BoxZoomTool\"},{\"attributes\":{\"source\":{\"id\":\"2574\"}},\"id\":\"2578\",\"type\":\"CDSView\"},{\"attributes\":{},\"id\":\"2480\",\"type\":\"SaveTool\"},{\"attributes\":{\"angle\":{\"units\":\"rad\",\"value\":0},\"line_color\":{\"value\":\"#ff7e0e\"},\"line_width\":{\"value\":2},\"x\":{\"value\":11.0},\"y\":{\"value\":1}},\"id\":\"2621\",\"type\":\"Ray\"},{\"attributes\":{},\"id\":\"2481\",\"type\":\"ResetTool\"},{\"attributes\":{\"source\":{\"id\":\"2596\"}},\"id\":\"2600\",\"type\":\"CDSView\"},{\"attributes\":{\"label\":{\"value\":\"2012\"},\"renderers\":[{\"id\":\"2556\"},{\"id\":\"2577\"},{\"id\":\"2599\"},{\"id\":\"2623\"}]},\"id\":\"2573\",\"type\":\"LegendItem\"},{\"attributes\":{},\"id\":\"2498\",\"type\":\"BasicTickFormatter\"},{\"attributes\":{},\"id\":\"2482\",\"type\":\"HelpTool\"},{\"attributes\":{\"data_source\":{\"id\":\"2553\"},\"glyph\":{\"id\":\"2554\"},\"hover_glyph\":null,\"muted_glyph\":null,\"nonselection_glyph\":{\"id\":\"2555\"},\"selection_glyph\":null,\"view\":{\"id\":\"2557\"}},\"id\":\"2556\",\"type\":\"GlyphRenderer\"},{\"attributes\":{\"active_drag\":\"auto\",\"active_inspect\":\"auto\",\"active_multi\":null,\"active_scroll\":\"auto\",\"active_tap\":\"auto\",\"tools\":[{\"id\":\"2477\"},{\"id\":\"2478\"},{\"id\":\"2479\"},{\"id\":\"2480\"},{\"id\":\"2481\"},{\"id\":\"2482\"}]},\"id\":\"2484\",\"type\":\"Toolbar\"},{\"attributes\":{\"angle\":{\"units\":\"rad\",\"value\":3.141592653589793},\"line_alpha\":{\"value\":0.1},\"line_color\":{\"value\":\"#ff7e0e\"},\"line_width\":{\"value\":2},\"x\":{\"value\":7.7},\"y\":{\"value\":0}},\"id\":\"2598\",\"type\":\"Ray\"},{\"attributes\":{\"data_source\":{\"id\":\"2505\"},\"glyph\":{\"id\":\"2506\"},\"hover_glyph\":null,\"muted_glyph\":null,\"nonselection_glyph\":{\"id\":\"2507\"},\"selection_glyph\":null,\"view\":{\"id\":\"2509\"}},\"id\":\"2508\",\"type\":\"GlyphRenderer\"},{\"attributes\":{\"data_source\":{\"id\":\"2596\"},\"glyph\":{\"id\":\"2597\"},\"hover_glyph\":null,\"muted_glyph\":null,\"nonselection_glyph\":{\"id\":\"2598\"},\"selection_glyph\":null,\"view\":{\"id\":\"2600\"}},\"id\":\"2599\",\"type\":\"GlyphRenderer\"},{\"attributes\":{\"label\":{\"value\":\"1975\"},\"renderers\":[{\"id\":\"2494\"},{\"id\":\"2508\"},{\"id\":\"2522\"},{\"id\":\"2538\"}]},\"id\":\"2504\",\"type\":\"LegendItem\"},{\"attributes\":{\"data\":{},\"selected\":{\"id\":\"2552\"},\"selection_policy\":{\"id\":\"2551\"}},\"id\":\"2519\",\"type\":\"ColumnDataSource\"},{\"attributes\":{\"source\":{\"id\":\"2505\"}},\"id\":\"2509\",\"type\":\"CDSView\"},{\"attributes\":{},\"id\":\"2500\",\"type\":\"BasicTickFormatter\"}],\"root_ids\":[\"2460\"]},\"title\":\"Bokeh Application\",\"version\":\"2.0.2\"}};\n",
       "  var render_items = [{\"docid\":\"b1acd05c-3069-4a72-8aac-d287b2114c4a\",\"root_ids\":[\"2460\"],\"roots\":{\"2460\":\"c91fc4c3-1e5a-4b61-9cf7-c5515bdeb553\"}}];\n",
       "  root.Bokeh.embed.embed_items_notebook(docs_json, render_items);\n",
       "\n",
       "  }\n",
       "  if (root.Bokeh !== undefined) {\n",
       "    embed_document(root);\n",
       "  } else {\n",
       "    var attempts = 0;\n",
       "    var timer = setInterval(function(root) {\n",
       "      if (root.Bokeh !== undefined) {\n",
       "        clearInterval(timer);\n",
       "        embed_document(root);\n",
       "      } else {\n",
       "        attempts++;\n",
       "        if (attempts > 100) {\n",
       "          clearInterval(timer);\n",
       "          console.log(\"Bokeh: ERROR: Unable to run BokehJS code because BokehJS library is missing\");\n",
       "        }\n",
       "      }\n",
       "    }, 10, root)\n",
       "  }\n",
       "})(window);"
      ],
      "application/vnd.bokehjs_exec.v0+json": ""
     },
     "metadata": {
      "application/vnd.bokehjs_exec.v0+json": {
       "id": "2460"
      }
     },
     "output_type": "display_data"
    }
   ],
   "source": [
    "# Getting the CI on the ECDF itself--built into bokeh_catplot.ecdf()\n",
    "\n",
    "p = bokeh_catplot.ecdf(\n",
    "    data=df,\n",
    "    cats='year',\n",
    "    val='beak depth (mm)',\n",
    "    style='staircase',\n",
    "    conf_int=True,\n",
    ")\n",
    "\n",
    "bokeh.io.show(p)"
   ]
  },
  {
   "cell_type": "code",
   "execution_count": 46,
   "metadata": {},
   "outputs": [
    {
     "data": {
      "text/html": [
       "\n",
       "\n",
       "\n",
       "\n",
       "\n",
       "\n",
       "  <div class=\"bk-root\" id=\"aedb1ade-646b-4514-88da-590b94e78ac9\" data-root-id=\"2900\"></div>\n"
      ]
     },
     "metadata": {},
     "output_type": "display_data"
    },
    {
     "data": {
      "application/javascript": [
       "(function(root) {\n",
       "  function embed_document(root) {\n",
       "    \n",
       "  var docs_json = {\"3828ae69-8940-42ec-8370-7b9abdb632ef\":{\"roots\":{\"references\":[{\"attributes\":{\"below\":[{\"id\":\"2909\"}],\"center\":[{\"id\":\"2912\"},{\"id\":\"2916\"}],\"frame_height\":250,\"frame_width\":250,\"left\":[{\"id\":\"2913\"}],\"renderers\":[{\"id\":\"2934\"}],\"title\":{\"id\":\"3052\"},\"toolbar\":{\"id\":\"2924\"},\"x_range\":{\"id\":\"2901\"},\"x_scale\":{\"id\":\"2905\"},\"y_range\":{\"id\":\"2903\"},\"y_scale\":{\"id\":\"2907\"}},\"id\":\"2900\",\"subtype\":\"Figure\",\"type\":\"Plot\"},{\"attributes\":{},\"id\":\"2922\",\"type\":\"HelpTool\"},{\"attributes\":{\"data_source\":{\"id\":\"2931\"},\"glyph\":{\"id\":\"2932\"},\"hover_glyph\":null,\"muted_glyph\":null,\"nonselection_glyph\":{\"id\":\"2933\"},\"selection_glyph\":null,\"view\":{\"id\":\"2935\"}},\"id\":\"2934\",\"type\":\"GlyphRenderer\"},{\"attributes\":{},\"id\":\"2905\",\"type\":\"LinearScale\"},{\"attributes\":{},\"id\":\"2914\",\"type\":\"BasicTicker\"},{\"attributes\":{\"axis\":{\"id\":\"2913\"},\"dimension\":1,\"ticker\":null},\"id\":\"2916\",\"type\":\"Grid\"},{\"attributes\":{\"axis_label\":\"beak length (mm)\",\"formatter\":{\"id\":\"3054\"},\"ticker\":{\"id\":\"2914\"}},\"id\":\"2913\",\"type\":\"LinearAxis\"},{\"attributes\":{\"overlay\":{\"id\":\"2923\"}},\"id\":\"2919\",\"type\":\"BoxZoomTool\"},{\"attributes\":{\"active_drag\":\"auto\",\"active_inspect\":\"auto\",\"active_multi\":null,\"active_scroll\":\"auto\",\"active_tap\":\"auto\",\"tools\":[{\"id\":\"2917\"},{\"id\":\"2918\"},{\"id\":\"2919\"},{\"id\":\"2920\"},{\"id\":\"2921\"},{\"id\":\"2922\"}]},\"id\":\"2924\",\"type\":\"Toolbar\"},{\"attributes\":{},\"id\":\"3054\",\"type\":\"BasicTickFormatter\"},{\"attributes\":{},\"id\":\"2920\",\"type\":\"SaveTool\"},{\"attributes\":{},\"id\":\"3060\",\"type\":\"Selection\"},{\"attributes\":{\"text\":\"\"},\"id\":\"3052\",\"type\":\"Title\"},{\"attributes\":{},\"id\":\"2910\",\"type\":\"BasicTicker\"},{\"attributes\":{},\"id\":\"2901\",\"type\":\"DataRange1d\"},{\"attributes\":{\"axis_label\":\"beak depth (mm)\",\"formatter\":{\"id\":\"3056\"},\"ticker\":{\"id\":\"2910\"}},\"id\":\"2909\",\"type\":\"LinearAxis\"},{\"attributes\":{},\"id\":\"2921\",\"type\":\"ResetTool\"},{\"attributes\":{},\"id\":\"3056\",\"type\":\"BasicTickFormatter\"},{\"attributes\":{\"data\":{\"x\":{\"__ndarray__\":\"zczMzMzMIECamZmZmZkhQM3MzMzMzCBAAAAAAAAAIECamZmZmZkfQM3MzMzMzCFAMzMzMzMzIUAAAAAAAAAhQM3MzMzMzCFAMzMzMzMzIkAzMzMzMzMhQJqZmZmZmSNAZmZmZmZmIEAAAAAAAAAiQGZmZmZmZiNAMzMzMzMzIUBmZmZmZmYgQAAAAAAAACJAzczMzMzMIEAzMzMzMzMhQM3MzMzMzCFAMzMzMzMzIkCamZmZmZkgQGZmZmZmZiFAMzMzMzMzI0AAAAAAAAAhQDMzMzMzMyJAAAAAAAAAIkBmZmZmZmYiQM3MzMzMzCNAMzMzMzMzIUBmZmZmZmYiQM3MzMzMzCBAzczMzMzMIUAAAAAAAAAhQM3MzMzMzCRAMzMzMzMzI0AzMzMzMzMiQJqZmZmZmSJAmpmZmZmZIkCamZmZmZkhQJqZmZmZmSBAmpmZmZmZIUAzMzMzMzMiQDMzMzMzMyRAzczMzMzMIUBmZmZmZmYiQAAAAAAAACFAZmZmZmZmJEAzMzMzMzMkQGZmZmZmZiJAZmZmZmZmI0AzMzMzMzMiQAAAAAAAACFAZmZmZmZmIEAAAAAAAAAiQJqZmZmZmSJAAAAAAAAAIEAzMzMzMzMiQDMzMzMzMyBAmpmZmZmZIEBmZmZmZmYhQJqZmZmZmSFAMzMzMzMzIUBmZmZmZmYhQAAAAAAAACBAmpmZmZmZIUAAAAAAAAAiQDMzMzMzMyJAexSuR+F6I0AzMzMzMzMiQJqZmZmZmSNAzczMzMzMJECamZmZmZkgQOF6FK5H4SJAFK5H4XoUIkAAAAAAAAAiQJqZmZmZGSJAzczMzMxMI0BmZmZmZuYiQM3MzMzMTCFAZmZmZmbmIkBmZmZmZuYiQJqZmZmZGSJAAAAAAACAIUBmZmZmZuYiQDMzMzMzsyBA\",\"dtype\":\"float64\",\"shape\":[87]},\"y\":{\"__ndarray__\":\"zczMzMzMK0AAAAAAAAAsQM3MzMzMzClAAAAAAAAAK0DNzMzMzMwpQDMzMzMzMy1AAAAAAAAAKkBmZmZmZmYsQAAAAAAAACxAZmZmZmZmLEAzMzMzMzMqQDMzMzMzMy5AAAAAAAAAK0DNzMzMzMwsQM3MzMzMzC1AzczMzMzMKUAAAAAAAAAqQM3MzMzMzC1AAAAAAAAALECamZmZmZkrQAAAAAAAACpAAAAAAACALUBmZmZmZmYrQJqZmZmZmStAAAAAAAAALEAzMzMzMzMtQGZmZmZmZi5AAAAAAAAAK0AzMzMzMzMuQAAAAAAAAC5AmpmZmZmZKUDNzMzMzMwtQJqZmZmZmS5AzczMzMzMKkBmZmZmZmYsQDMzMzMzMy5AMzMzMzMzLkAAAAAAAAAsQDMzMzMzMytAAAAAAAAALEAAAAAAAAAsQM3MzMzMzCtAAAAAAAAALEDNzMzMzMwtQDMzMzMzMy9AmpmZmZmZK0DNzMzMzMwsQJqZmZmZmSlAZmZmZmZmLEDNzMzMzMwqQAAAAAAAACxAmpmZmZmZLUBmZmZmZmYsQAAAAAAAACtAzczMzMzMKkAzMzMzMzMtQAAAAAAAACtAZmZmZmZmK0DNzMzMzMwrQDMzMzMzMypAzczMzMzMKkCamZmZmZkrQDMzMzMzMytAAAAAAAAALEAAAAAAAAArQJqZmZmZmSlAAAAAAAAALEDNzMzMzMwqQM3MzMzMzC1AFK5H4XoUL0DD9Shcj0ItQPYoXI/CdS1A9ihcj8J1L0ApXI/C9agtQOF6FK5H4S9ASOF6FK5HLkD2KFyPwnUsQM3MzMzMTCxAMzMzMzOzLEBmZmZmZuYtQGZmZmZm5itAmpmZmZkZLECamZmZmRktQJqZmZmZGSxAZmZmZmbmLECamZmZmRkuQAAAAAAAgCpA\",\"dtype\":\"float64\",\"shape\":[87]}},\"selected\":{\"id\":\"3060\"},\"selection_policy\":{\"id\":\"3059\"}},\"id\":\"2931\",\"type\":\"ColumnDataSource\"},{\"attributes\":{\"axis\":{\"id\":\"2909\"},\"ticker\":null},\"id\":\"2912\",\"type\":\"Grid\"},{\"attributes\":{\"fill_color\":{\"value\":\"#1f77b4\"},\"line_color\":{\"value\":\"#1f77b4\"},\"x\":{\"field\":\"x\"},\"y\":{\"field\":\"y\"}},\"id\":\"2932\",\"type\":\"Circle\"},{\"attributes\":{\"bottom_units\":\"screen\",\"fill_alpha\":0.5,\"fill_color\":\"lightgrey\",\"left_units\":\"screen\",\"level\":\"overlay\",\"line_alpha\":1.0,\"line_color\":\"black\",\"line_dash\":[4,4],\"line_width\":2,\"render_mode\":\"css\",\"right_units\":\"screen\",\"top_units\":\"screen\"},\"id\":\"2923\",\"type\":\"BoxAnnotation\"},{\"attributes\":{},\"id\":\"2907\",\"type\":\"LinearScale\"},{\"attributes\":{},\"id\":\"3059\",\"type\":\"UnionRenderers\"},{\"attributes\":{},\"id\":\"2903\",\"type\":\"DataRange1d\"},{\"attributes\":{},\"id\":\"2917\",\"type\":\"PanTool\"},{\"attributes\":{\"source\":{\"id\":\"2931\"}},\"id\":\"2935\",\"type\":\"CDSView\"},{\"attributes\":{\"fill_alpha\":{\"value\":0.1},\"fill_color\":{\"value\":\"#1f77b4\"},\"line_alpha\":{\"value\":0.1},\"line_color\":{\"value\":\"#1f77b4\"},\"x\":{\"field\":\"x\"},\"y\":{\"field\":\"y\"}},\"id\":\"2933\",\"type\":\"Circle\"},{\"attributes\":{},\"id\":\"2918\",\"type\":\"WheelZoomTool\"}],\"root_ids\":[\"2900\"]},\"title\":\"Bokeh Application\",\"version\":\"2.0.2\"}};\n",
       "  var render_items = [{\"docid\":\"3828ae69-8940-42ec-8370-7b9abdb632ef\",\"root_ids\":[\"2900\"],\"roots\":{\"2900\":\"aedb1ade-646b-4514-88da-590b94e78ac9\"}}];\n",
       "  root.Bokeh.embed.embed_items_notebook(docs_json, render_items);\n",
       "\n",
       "  }\n",
       "  if (root.Bokeh !== undefined) {\n",
       "    embed_document(root);\n",
       "  } else {\n",
       "    var attempts = 0;\n",
       "    var timer = setInterval(function(root) {\n",
       "      if (root.Bokeh !== undefined) {\n",
       "        clearInterval(timer);\n",
       "        embed_document(root);\n",
       "      } else {\n",
       "        attempts++;\n",
       "        if (attempts > 100) {\n",
       "          clearInterval(timer);\n",
       "          console.log(\"Bokeh: ERROR: Unable to run BokehJS code because BokehJS library is missing\");\n",
       "        }\n",
       "      }\n",
       "    }, 10, root)\n",
       "  }\n",
       "})(window);"
      ],
      "application/vnd.bokehjs_exec.v0+json": ""
     },
     "metadata": {
      "application/vnd.bokehjs_exec.v0+json": {
       "id": "2900"
      }
     },
     "output_type": "display_data"
    }
   ],
   "source": [
    "bl_1975 = df.loc[df['year']==1975, 'beak length (mm)'].values\n",
    "\n",
    "p = bokeh.plotting.figure(\n",
    "    frame_width=250,\n",
    "    frame_height=250,\n",
    "    x_axis_label='beak depth (mm)',\n",
    "    y_axis_label='beak length (mm)',\n",
    ")\n",
    "\n",
    "p.circle(bd_1975, bl_1975)\n",
    "\n",
    "bokeh.io.show(p)"
   ]
  },
  {
   "cell_type": "code",
   "execution_count": 47,
   "metadata": {},
   "outputs": [
    {
     "data": {
      "text/html": [
       "\n",
       "\n",
       "\n",
       "\n",
       "\n",
       "\n",
       "  <div class=\"bk-root\" id=\"5e6bbe81-000d-4ea6-bbd2-162ea1358aef\" data-root-id=\"3115\"></div>\n"
      ]
     },
     "metadata": {},
     "output_type": "display_data"
    },
    {
     "data": {
      "application/javascript": [
       "(function(root) {\n",
       "  function embed_document(root) {\n",
       "    \n",
       "  var docs_json = {\"81cd1d69-3837-4773-a2fd-3ee3384eb959\":{\"roots\":{\"references\":[{\"attributes\":{\"below\":[{\"id\":\"3124\"}],\"center\":[{\"id\":\"3127\"},{\"id\":\"3131\"},{\"id\":\"3159\"}],\"left\":[{\"id\":\"3128\"}],\"plot_height\":300,\"plot_width\":400,\"renderers\":[{\"id\":\"3150\"}],\"title\":{\"id\":\"3152\"},\"toolbar\":{\"id\":\"3139\"},\"x_range\":{\"id\":\"3116\"},\"x_scale\":{\"id\":\"3120\"},\"y_range\":{\"id\":\"3118\"},\"y_scale\":{\"id\":\"3122\"}},\"id\":\"3115\",\"subtype\":\"Figure\",\"type\":\"Plot\"},{\"attributes\":{\"active_drag\":\"auto\",\"active_inspect\":\"auto\",\"active_multi\":null,\"active_scroll\":\"auto\",\"active_tap\":\"auto\",\"tools\":[{\"id\":\"3132\"},{\"id\":\"3133\"},{\"id\":\"3134\"},{\"id\":\"3135\"},{\"id\":\"3136\"},{\"id\":\"3137\"}]},\"id\":\"3139\",\"type\":\"Toolbar\"},{\"attributes\":{\"axis\":{\"id\":\"3124\"},\"ticker\":null},\"id\":\"3127\",\"type\":\"Grid\"},{\"attributes\":{\"data_source\":{\"id\":\"3146\"},\"glyph\":{\"id\":\"3148\"},\"hover_glyph\":null,\"muted_glyph\":null,\"nonselection_glyph\":{\"id\":\"3149\"},\"selection_glyph\":null,\"view\":{\"id\":\"3151\"}},\"id\":\"3150\",\"type\":\"GlyphRenderer\"},{\"attributes\":{\"axis_label\":\"length/depth\",\"formatter\":{\"id\":\"3156\"},\"ticker\":{\"id\":\"3125\"}},\"id\":\"3124\",\"type\":\"LinearAxis\"},{\"attributes\":{},\"id\":\"3137\",\"type\":\"HelpTool\"},{\"attributes\":{\"data\":{\"__ECDF\":{\"__ndarray__\":\"h36zdeg36z+WexphuafhP7xAJsULZNI/IJPiBTIp7j9bh36zdejnP6gRlnsaYek/YbmnEZZ7yj/UCMs9jbDsP/rN1qHfbN0/O/SbrUO/2T9K8QKZFC/QP1VVVVVVVdU/ztah32wd6j8Jyz2NsNzjP+MFMileINM/lnsaYbmnwT9tHfrN1qHfPxphuacRlus/rkO/2Tr06z8vkEnxApnkP5Z7GmG5p7E/ot9sHfrN5j9huacRlnvqP0rxApkUL+A/+s3Wod9srT/aOvSbrUPvP0EmxQtkUuw/4wUyKV4gwz879JutQ7/pP/rN1qHfbM0/+s3Wod9svT8P/Wbr0G/mPwAAAAAAAPA/yKR4gUyKxz9n69Bvtg7tP8ikeIFMiqc/1AjLPY2w3D8Jyz2NsNzTPy+QSfECmbQ/fBphuacRxj8pXiCT4gXiP/rN1qHfbO0/vEAmxQtk4j+BTIoXyKToP3waYbmnEdY/yKR4gUyK1z+uQ7/ZOvTbPxUvkEnxAsk/yKR4gUyKlz/IpHiBTIqHP0dY7mmE5c4/cLYO/Wbr0D9huacRlnvaPwOZFC+QSeE/7mmE5Z5G6D81wnJPIyznP5Z7GmG5p6E/R1juaYTl7j+WexphuafRP3waYbmnEeY/6Ddbh36z5T/d0wjLPY3gP6LfbB36zdY/yKR4gUyK5z/uaYTlnkbYP5ytQ7/ZOuQ/TyMs9zTC4j9K8QKZFC/APxUvkEnxAuk/dug3W4d+4z/Cck8jLPfkPy+QSfECmcQ/rkO/2Tr0yz9tHfrN1qHvP7N16Ddbh+4/jbDc0wjL7T8gk+IFMineP4d+s3XoN9s/YbmnEZZ7uj9HWO5phOXeP1VVVVVVVeU/yKR4gUyKtz8vkEnxApnUPxUvkEnxAtk/9JutQ7/Z6j/jBTIpXiDjP3C2Dv1m6+A/\",\"dtype\":\"float64\",\"shape\":[87]},\"__dummy_cat\":[\" \",\" \",\" \",\" \",\" \",\" \",\" \",\" \",\" \",\" \",\" \",\" \",\" \",\" \",\" \",\" \",\" \",\" \",\" \",\" \",\" \",\" \",\" \",\" \",\" \",\" \",\" \",\" \",\" \",\" \",\" \",\" \",\" \",\" \",\" \",\" \",\" \",\" \",\" \",\" \",\" \",\" \",\" \",\" \",\" \",\" \",\" \",\" \",\" \",\" \",\" \",\" \",\" \",\" \",\" \",\" \",\" \",\" \",\" \",\" \",\" \",\" \",\" \",\" \",\" \",\" \",\" \",\" \",\" \",\" \",\" \",\" \",\" \",\" \",\" \",\" \",\" \",\" \",\" \",\" \",\" \",\" \",\" \",\" \",\" \",\" \",\" \"],\"__label\":[\" \",\" \",\" \",\" \",\" \",\" \",\" \",\" \",\" \",\" \",\" \",\" \",\" \",\" \",\" \",\" \",\" \",\" \",\" \",\" \",\" \",\" \",\" \",\" \",\" \",\" \",\" \",\" \",\" \",\" \",\" \",\" \",\" \",\" \",\" \",\" \",\" \",\" \",\" \",\" \",\" \",\" \",\" \",\" \",\" \",\" \",\" \",\" \",\" \",\" \",\" \",\" \",\" \",\" \",\" \",\" \",\" \",\" \",\" \",\" \",\" \",\" \",\" \",\" \",\" \",\" \",\" \",\" \",\" \",\" \",\" \",\" \",\" \",\" \",\" \",\" \",\" \",\" \",\" \",\" \",\" \",\" \",\" \",\" \",\" \",\" \",\" \"],\"index\":[0,1,2,3,4,5,6,7,8,9,10,11,12,13,14,15,16,17,18,19,20,21,22,23,24,25,26,27,28,29,30,31,32,33,34,35,36,37,38,39,40,41,42,43,44,45,46,47,48,49,50,51,52,53,54,55,56,57,58,59,60,61,62,63,64,65,66,67,68,69,70,71,72,73,74,75,76,77,78,79,80,81,82,83,84,85,86],\"x\":{\"__ndarray__\":\"nud5nud5+j900UUXXXT5PyRJkiRJkvg/AAAAAAAA+z9BVDqyZyD6P6Mf/ehHP/o/DPqCvqAv+D+6urq6urr6P5KVrGQlK/k/eY/3eI/3+D8Y9AV9QV/4Pyl4OQUvp/g/WKJ2JWpX+j+amZmZmZn5P8k0bDfLk/g/AAAAAAAA+D9eidqVqF35P9MnfdInffo/qqqqqqqq+j9sypqypqz5P3ave93rXvc/8h7v8R7v+T/LioES3mj6P6kRlnsaYfk/VlVVVVVV9z97e3t7e3v7P5uruZqrufo/AAAAAAAA+D9lIQtZyEL6Pz744IMPPvg/9QV9QV/Q9z/f9KY3ven5P0mSJEmSJP0/gQtc4AIX+D+6urq6urr6P7ETO7ETO/c/q6qqqqoq+T/ZiZ3YiZ34P2WXXXbZZfc/FlhggQUW+D900UUXXXT5P5o6v/aQy/o/dNFFF110+T8rozIqozL6P6p5kLt+tvg/jWc84xnP+D+RhSxkIQv5PxgYGBgYGPg/RkZGRkZG9j8zfCMKTDr1P4YsZCELWfg/2W6WJ5Fp+D95j/d4j/f4P2lpaWlpafk/JmpXonYl+j9Kn/RJn/T5PznnnHPOOfc/ZmZmZmZm+z8Jh3AIh3D4P1zzwyJl4Pk/FQMlvNHU+T+pEZZ7GmH5P7nooosuuvg/g76gL+gL+j/MPY2w3NP4P5qZmZmZmfk/dNFFF110+T8ofdInfdL3PyujMiqjMvo/nl7UtBiH+T+SG7mRG7n5PzYcMe2JDPg/MzMzMzMz+D8arHcChJb8P0rdl8dWBPs/Tr5s0OTL+j/3BxkqO0z5P6U/Zzs+BPk/2J3JaPHK9z//lPpT6k/5PwgirRewzfk/nnx08tHJ9z8piqIoiqL4P8CYxMH71vg/kHOfXUBs+j+1l9BeQnv5P3y5IQakY/k/\",\"dtype\":\"float64\",\"shape\":[87]}},\"selected\":{\"id\":\"3294\"},\"selection_policy\":{\"id\":\"3293\"}},\"id\":\"3146\",\"type\":\"ColumnDataSource\"},{\"attributes\":{},\"id\":\"3136\",\"type\":\"ResetTool\"},{\"attributes\":{\"axis_label\":\"ECDF\",\"formatter\":{\"id\":\"3154\"},\"ticker\":{\"id\":\"3129\"}},\"id\":\"3128\",\"type\":\"LinearAxis\"},{\"attributes\":{\"items\":[{\"id\":\"3160\"}],\"visible\":false},\"id\":\"3159\",\"type\":\"Legend\"},{\"attributes\":{\"label\":{\"value\":\" \"},\"renderers\":[{\"id\":\"3150\"}]},\"id\":\"3160\",\"type\":\"LegendItem\"},{\"attributes\":{\"fill_color\":{\"value\":\"#1f77b3\"},\"line_color\":{\"value\":\"#1f77b3\"},\"x\":{\"field\":\"x\"},\"y\":{\"field\":\"__ECDF\"}},\"id\":\"3148\",\"type\":\"Circle\"},{\"attributes\":{},\"id\":\"3122\",\"type\":\"LinearScale\"},{\"attributes\":{},\"id\":\"3125\",\"type\":\"BasicTicker\"},{\"attributes\":{\"bottom_units\":\"screen\",\"fill_alpha\":0.5,\"fill_color\":\"lightgrey\",\"left_units\":\"screen\",\"level\":\"overlay\",\"line_alpha\":1.0,\"line_color\":\"black\",\"line_dash\":[4,4],\"line_width\":2,\"render_mode\":\"css\",\"right_units\":\"screen\",\"top_units\":\"screen\"},\"id\":\"3138\",\"type\":\"BoxAnnotation\"},{\"attributes\":{},\"id\":\"3129\",\"type\":\"BasicTicker\"},{\"attributes\":{\"axis\":{\"id\":\"3128\"},\"dimension\":1,\"ticker\":null},\"id\":\"3131\",\"type\":\"Grid\"},{\"attributes\":{},\"id\":\"3120\",\"type\":\"LinearScale\"},{\"attributes\":{},\"id\":\"3116\",\"type\":\"DataRange1d\"},{\"attributes\":{},\"id\":\"3135\",\"type\":\"SaveTool\"},{\"attributes\":{},\"id\":\"3118\",\"type\":\"DataRange1d\"},{\"attributes\":{\"source\":{\"id\":\"3146\"}},\"id\":\"3151\",\"type\":\"CDSView\"},{\"attributes\":{},\"id\":\"3133\",\"type\":\"WheelZoomTool\"},{\"attributes\":{\"fill_alpha\":{\"value\":0.1},\"fill_color\":{\"value\":\"#1f77b3\"},\"line_alpha\":{\"value\":0.1},\"line_color\":{\"value\":\"#1f77b3\"},\"x\":{\"field\":\"x\"},\"y\":{\"field\":\"__ECDF\"}},\"id\":\"3149\",\"type\":\"Circle\"},{\"attributes\":{},\"id\":\"3156\",\"type\":\"BasicTickFormatter\"},{\"attributes\":{\"overlay\":{\"id\":\"3138\"}},\"id\":\"3134\",\"type\":\"BoxZoomTool\"},{\"attributes\":{},\"id\":\"3154\",\"type\":\"BasicTickFormatter\"},{\"attributes\":{},\"id\":\"3294\",\"type\":\"Selection\"},{\"attributes\":{\"text\":\"\"},\"id\":\"3152\",\"type\":\"Title\"},{\"attributes\":{},\"id\":\"3132\",\"type\":\"PanTool\"},{\"attributes\":{},\"id\":\"3293\",\"type\":\"UnionRenderers\"}],\"root_ids\":[\"3115\"]},\"title\":\"Bokeh Application\",\"version\":\"2.0.2\"}};\n",
       "  var render_items = [{\"docid\":\"81cd1d69-3837-4773-a2fd-3ee3384eb959\",\"root_ids\":[\"3115\"],\"roots\":{\"3115\":\"5e6bbe81-000d-4ea6-bbd2-162ea1358aef\"}}];\n",
       "  root.Bokeh.embed.embed_items_notebook(docs_json, render_items);\n",
       "\n",
       "  }\n",
       "  if (root.Bokeh !== undefined) {\n",
       "    embed_document(root);\n",
       "  } else {\n",
       "    var attempts = 0;\n",
       "    var timer = setInterval(function(root) {\n",
       "      if (root.Bokeh !== undefined) {\n",
       "        clearInterval(timer);\n",
       "        embed_document(root);\n",
       "      } else {\n",
       "        attempts++;\n",
       "        if (attempts > 100) {\n",
       "          clearInterval(timer);\n",
       "          console.log(\"Bokeh: ERROR: Unable to run BokehJS code because BokehJS library is missing\");\n",
       "        }\n",
       "      }\n",
       "    }, 10, root)\n",
       "  }\n",
       "})(window);"
      ],
      "application/vnd.bokehjs_exec.v0+json": ""
     },
     "metadata": {
      "application/vnd.bokehjs_exec.v0+json": {
       "id": "3115"
      }
     },
     "output_type": "display_data"
    }
   ],
   "source": [
    "p = bokeh_catplot.ecdf(\n",
    "    bl_1975 / bd_1975,\n",
    "    x_axis_label='length/depth'\n",
    ")\n",
    "\n",
    "bokeh.io.show(p)"
   ]
  },
  {
   "cell_type": "markdown",
   "metadata": {},
   "source": [
    "How do we get the mean and bootstrap CI for this ratio?"
   ]
  },
  {
   "cell_type": "code",
   "execution_count": 49,
   "metadata": {},
   "outputs": [],
   "source": [
    "# Straightforward way: make a list of the ratios, go from there\n",
    "\n",
    "ratio = bl_1975 / bd_1975\n",
    "\n",
    "bs_reps_ratio = [draw_bs_rep(ratio, np.mean, rg) for _ in range(n_reps)]"
   ]
  },
  {
   "cell_type": "code",
   "execution_count": 50,
   "metadata": {},
   "outputs": [],
   "source": [
    "# Another way: pairs bootstrap\n",
    "\n",
    "def draw_bs_pairs(x, y, rg):\n",
    "    \"\"\"Draws pairs of points out of `x` and `y`.\"\"\"\n",
    "    bs_inds = rg.choice(np.arange(len(x)), len(x), replace=True)\n",
    "    \n",
    "    return x[bs_inds], y[bs_inds]"
   ]
  },
  {
   "cell_type": "code",
   "execution_count": 51,
   "metadata": {},
   "outputs": [],
   "source": [
    "ratio_bs_reps = np.empty(n_reps)\n",
    "\n",
    "for i in range(n_reps):\n",
    "    bd, bl = draw_bs_pairs(bd_1975, bl_1975, rg)\n",
    "    ratio_bs_reps[i] = np.mean(bl / bd)"
   ]
  },
  {
   "cell_type": "code",
   "execution_count": 53,
   "metadata": {},
   "outputs": [
    {
     "data": {
      "text/plain": [
       "array([1.5627399 , 1.59492332])"
      ]
     },
     "execution_count": 53,
     "metadata": {},
     "output_type": "execute_result"
    }
   ],
   "source": [
    "np.percentile(ratio_bs_reps, [2.5, 97.5])"
   ]
  },
  {
   "cell_type": "markdown",
   "metadata": {},
   "source": [
    "This is kind of dumb because we saw we can make the list of ratios first, but this same method is more useful for more complicated things, like the correlation."
   ]
  },
  {
   "cell_type": "code",
   "execution_count": 56,
   "metadata": {},
   "outputs": [],
   "source": [
    "def corr(x, y):\n",
    "    cov = np.cov(x, y)\n",
    "    return cov[0, 1] / np.sqrt(cov[0, 0] * cov[1, 1])\n",
    "\n",
    "correlation_bs_reps = [corr(*draw_bs_pairs(bd_1975, bl_1975, rg)) for _ in range(n_reps)]"
   ]
  },
  {
   "cell_type": "code",
   "execution_count": 57,
   "metadata": {},
   "outputs": [
    {
     "data": {
      "text/plain": [
       "array([0.45326638, 0.75054959])"
      ]
     },
     "execution_count": 57,
     "metadata": {},
     "output_type": "execute_result"
    }
   ],
   "source": [
    "np.percentile(correlation_bs_reps, [2.5, 97.5])"
   ]
  },
  {
   "cell_type": "code",
   "execution_count": 58,
   "metadata": {},
   "outputs": [
    {
     "name": "stdout",
     "output_type": "stream",
     "text": [
      "CPython 3.7.7\n",
      "IPython 7.13.0\n",
      "\n",
      "numpy 1.18.1\n",
      "pandas 0.24.2\n",
      "bokeh 2.0.2\n",
      "bokeh_catplot 0.1.7\n",
      "jupyterlab 1.2.6\n"
     ]
    }
   ],
   "source": [
    "%load_ext watermark\n",
    "%watermark -v -p numpy,pandas,bokeh,bokeh_catplot,jupyterlab"
   ]
  }
 ],
 "metadata": {
  "kernelspec": {
   "display_name": "Python 3",
   "language": "python",
   "name": "python3"
  },
  "language_info": {
   "codemirror_mode": {
    "name": "ipython",
    "version": 3
   },
   "file_extension": ".py",
   "mimetype": "text/x-python",
   "name": "python",
   "nbconvert_exporter": "python",
   "pygments_lexer": "ipython3",
   "version": "3.7.7"
  }
 },
 "nbformat": 4,
 "nbformat_minor": 4
}
